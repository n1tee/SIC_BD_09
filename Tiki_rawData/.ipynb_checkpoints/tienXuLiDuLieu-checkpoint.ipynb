{
 "cells": [
  {
   "cell_type": "code",
   "execution_count": 11,
   "id": "63edef20-582f-48c4-bba3-f850ec84688a",
   "metadata": {},
   "outputs": [
    {
     "name": "stdout",
     "output_type": "stream",
     "text": [
      "(2000, 14) price                        int64\n",
      "list_price                   int64\n",
      "discount                     int64\n",
      "discount_rate                int64\n",
      "original_price               int64\n",
      "review_count                 int64\n",
      "rating_average             float64\n",
      "inventory_status            object\n",
      "stock_item_qty             float64\n",
      "stock_item_max_sale_qty    float64\n",
      "quantity_sold_value        float64\n",
      "category_id                float64\n",
      "category_is_leaf            object\n",
      "category_name               object\n",
      "dtype: object\n",
      "(2000, 7) id                      int64\n",
      "sku                   float64\n",
      "short_description      object\n",
      "authors                object\n",
      "quantity_sold_text     object\n",
      "price                   int64\n",
      "category_name          object\n",
      "dtype: object\n"
     ]
    }
   ],
   "source": [
    "#import thư viện pandas và numpy\n",
    "import pandas as pd\n",
    "import numpy as np\n",
    "\n",
    "#đọc 2 file train_csv và test_csv\n",
    "train = pd.read_csv('train.csv')\n",
    "test  = pd.read_csv('test.csv')\n",
    "\n",
    "#kiểm tra shape, kiểu dữ liệu, thống kê mô tả của 2 file\n",
    "print(train.shape, train.dtypes)\n",
    "print(test.shape, test.dtypes)"
   ]
  },
  {
   "cell_type": "code",
   "execution_count": 13,
   "id": "2d8883ed-5921-4598-bb3f-014b90c0c14f",
   "metadata": {
    "scrolled": true
   },
   "outputs": [
    {
     "data": {
      "text/plain": [
       "id                     0\n",
       "sku                    0\n",
       "short_description      0\n",
       "authors                0\n",
       "quantity_sold_text    74\n",
       "price                  0\n",
       "category_name          2\n",
       "dtype: int64"
      ]
     },
     "execution_count": 13,
     "metadata": {},
     "output_type": "execute_result"
    }
   ],
   "source": [
    "#liệt kê số dòng bị thiếu của mỗi cột\n",
    "train.isna().sum()\n",
    "test.isna().sum()"
   ]
  },
  {
   "cell_type": "code",
   "execution_count": 15,
   "id": "39f48284-7d7e-44f0-a384-c9c3e5944edb",
   "metadata": {
    "scrolled": true
   },
   "outputs": [
    {
     "name": "stdout",
     "output_type": "stream",
     "text": [
      "74\n"
     ]
    }
   ],
   "source": [
    "#ta thấy cột quantity_sold_text ở file test.csv có 74 dòng bị thiếu ta sẽ gán chuỗi rỗng để giữ tính nhất quán khi xử lý\n",
    "test['quantity_sold_text'] = test['quantity_sold_text'].fillna(\"\")\n",
    "#kiểm tra số dòng có chuỗi rỗng\n",
    "print((test['quantity_sold_text'] == \"\").sum())"
   ]
  },
  {
   "cell_type": "code",
   "execution_count": 17,
   "id": "b826eb55-7d9c-4115-be33-43d8dc5caed1",
   "metadata": {},
   "outputs": [],
   "source": [
    "#chuyển discount_rate thành số thập phân\n",
    "train['discount_rate'] = train['discount_rate'].astype(float) / 100"
   ]
  },
  {
   "cell_type": "code",
   "execution_count": 9,
   "id": "06893aef-5ffa-4258-8107-b935b84406c6",
   "metadata": {},
   "outputs": [],
   "source": []
  }
 ],
 "metadata": {
  "kernelspec": {
   "display_name": "Python [conda env:base] *",
   "language": "python",
   "name": "conda-base-py"
  },
  "language_info": {
   "codemirror_mode": {
    "name": "ipython",
    "version": 3
   },
   "file_extension": ".py",
   "mimetype": "text/x-python",
   "name": "python",
   "nbconvert_exporter": "python",
   "pygments_lexer": "ipython3",
   "version": "3.12.7"
  }
 },
 "nbformat": 4,
 "nbformat_minor": 5
}
