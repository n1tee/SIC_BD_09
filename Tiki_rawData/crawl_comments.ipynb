{
 "cells": [
  {
   "cell_type": "code",
   "execution_count": 15,
   "id": "64f5ef0f-cc70-4be5-b4d3-7a6e23c99a93",
   "metadata": {},
   "outputs": [
    {
     "name": "stderr",
     "output_type": "stream",
     "text": [
      "  0%|                                                                                         | 0/2000 [00:00<?, ?it/s]"
     ]
    },
    {
     "name": "stdout",
     "output_type": "stream",
     "text": [
      "Crawl comment for product 277997247\n"
     ]
    },
    {
     "name": "stderr",
     "output_type": "stream",
     "text": [
      "  0%|                                                                                 | 1/2000 [00:01<43:59,  1.32s/it]"
     ]
    },
    {
     "name": "stdout",
     "output_type": "stream",
     "text": [
      "Crawl comment page 0 success!!!\n",
      "Crawl comment page 1 success!!!\n",
      "Crawl comment for product 277891027\n",
      "Crawl comment page 0 success!!!\n"
     ]
    },
    {
     "name": "stderr",
     "output_type": "stream",
     "text": [
      "  0%|                                                                                 | 3/2000 [00:02<19:13,  1.73it/s]"
     ]
    },
    {
     "name": "stdout",
     "output_type": "stream",
     "text": [
      "Crawl comment page 1 success!!!\n",
      "Crawl comment for product 277837550\n",
      "Crawl comment page 0 success!!!\n",
      "Crawl comment page 1 success!!!\n",
      "Crawl comment for product 277809376\n",
      "Crawl comment page 0 success!!!\n"
     ]
    },
    {
     "name": "stderr",
     "output_type": "stream",
     "text": [
      "  0%|▏                                                                                | 4/2000 [00:02<20:05,  1.66it/s]"
     ]
    },
    {
     "name": "stdout",
     "output_type": "stream",
     "text": [
      "Crawl comment page 1 success!!!\n",
      "Crawl comment for product 277728224\n",
      "Crawl comment page 0 success!!!\n"
     ]
    },
    {
     "name": "stderr",
     "output_type": "stream",
     "text": [
      "  0%|▏                                                                                | 5/2000 [00:04<31:27,  1.06it/s]"
     ]
    },
    {
     "name": "stdout",
     "output_type": "stream",
     "text": [
      "Crawl comment page 1 success!!!\n",
      "Crawl comment for product 276968693\n",
      "Crawl comment page 0 success!!!\n"
     ]
    },
    {
     "name": "stderr",
     "output_type": "stream",
     "text": [
      "  0%|▏                                                                                | 6/2000 [00:04<27:47,  1.20it/s]"
     ]
    },
    {
     "name": "stdout",
     "output_type": "stream",
     "text": [
      "Crawl comment page 1 success!!!\n",
      "Crawl comment for product 276960030\n",
      "Crawl comment page 0 success!!!\n"
     ]
    },
    {
     "name": "stderr",
     "output_type": "stream",
     "text": [
      "  0%|▎                                                                                | 7/2000 [00:06<38:11,  1.15s/it]"
     ]
    },
    {
     "name": "stdout",
     "output_type": "stream",
     "text": [
      "Crawl comment page 1 success!!!\n",
      "Crawl comment for product 276948798\n",
      "Crawl comment page 0 success!!!\n"
     ]
    },
    {
     "name": "stderr",
     "output_type": "stream",
     "text": [
      "  0%|▎                                                                                | 8/2000 [00:08<49:35,  1.49s/it]"
     ]
    },
    {
     "name": "stdout",
     "output_type": "stream",
     "text": [
      "Crawl comment page 1 success!!!\n",
      "Crawl comment for product 276659602\n",
      "Crawl comment page 0 success!!!\n"
     ]
    },
    {
     "name": "stderr",
     "output_type": "stream",
     "text": [
      "  0%|▎                                                                                | 9/2000 [00:09<41:38,  1.25s/it]"
     ]
    },
    {
     "name": "stdout",
     "output_type": "stream",
     "text": [
      "Crawl comment page 1 success!!!\n",
      "Crawl comment for product 276436427\n",
      "Crawl comment page 0 success!!!\n"
     ]
    },
    {
     "name": "stderr",
     "output_type": "stream",
     "text": [
      "  0%|▍                                                                               | 10/2000 [00:10<33:36,  1.01s/it]"
     ]
    },
    {
     "name": "stdout",
     "output_type": "stream",
     "text": [
      "Crawl comment page 1 success!!!\n",
      "Crawl comment for product 275948240\n",
      "Crawl comment page 0 success!!!\n"
     ]
    },
    {
     "name": "stderr",
     "output_type": "stream",
     "text": [
      "  1%|▍                                                                               | 11/2000 [00:11<35:44,  1.08s/it]"
     ]
    },
    {
     "name": "stdout",
     "output_type": "stream",
     "text": [
      "Crawl comment page 1 success!!!\n",
      "Crawl comment for product 275702538\n",
      "Crawl comment page 0 success!!!\n"
     ]
    },
    {
     "name": "stderr",
     "output_type": "stream",
     "text": [
      "  1%|▍                                                                               | 12/2000 [00:13<50:31,  1.52s/it]"
     ]
    },
    {
     "name": "stdout",
     "output_type": "stream",
     "text": [
      "Crawl comment page 1 success!!!\n",
      "Crawl comment for product 275599939\n",
      "Crawl comment page 0 success!!!\n"
     ]
    },
    {
     "name": "stderr",
     "output_type": "stream",
     "text": [
      "  1%|▌                                                                               | 13/2000 [00:16<58:47,  1.78s/it]"
     ]
    },
    {
     "name": "stdout",
     "output_type": "stream",
     "text": [
      "Crawl comment page 1 success!!!\n",
      "Crawl comment for product 275406600\n",
      "Crawl comment page 0 success!!!\n"
     ]
    },
    {
     "name": "stderr",
     "output_type": "stream",
     "text": [
      "  1%|▌                                                                             | 14/2000 [00:18<1:03:06,  1.91s/it]"
     ]
    },
    {
     "name": "stdout",
     "output_type": "stream",
     "text": [
      "Crawl comment page 1 success!!!\n",
      "Crawl comment for product 275243138\n",
      "Crawl comment page 0 success!!!\n"
     ]
    },
    {
     "name": "stderr",
     "output_type": "stream",
     "text": [
      "  1%|▌                                                                             | 15/2000 [00:21<1:11:43,  2.17s/it]"
     ]
    },
    {
     "name": "stdout",
     "output_type": "stream",
     "text": [
      "Crawl comment page 1 success!!!\n",
      "Crawl comment for product 274797526\n",
      "Crawl comment page 0 success!!!\n"
     ]
    },
    {
     "name": "stderr",
     "output_type": "stream",
     "text": [
      "  1%|▋                                                                               | 16/2000 [00:22<58:59,  1.78s/it]"
     ]
    },
    {
     "name": "stdout",
     "output_type": "stream",
     "text": [
      "Crawl comment page 1 success!!!\n",
      "Crawl comment for product 274363543\n",
      "Crawl comment page 0 success!!!\n"
     ]
    },
    {
     "name": "stderr",
     "output_type": "stream",
     "text": [
      "  1%|▋                                                                             | 17/2000 [00:25<1:11:46,  2.17s/it]"
     ]
    },
    {
     "name": "stdout",
     "output_type": "stream",
     "text": [
      "Crawl comment page 1 success!!!\n",
      "Crawl comment for product 273819808\n",
      "Crawl comment page 0 success!!!\n"
     ]
    },
    {
     "name": "stderr",
     "output_type": "stream",
     "text": [
      "  1%|▋                                                                             | 18/2000 [00:27<1:17:33,  2.35s/it]"
     ]
    },
    {
     "name": "stdout",
     "output_type": "stream",
     "text": [
      "Crawl comment page 1 success!!!\n",
      "Crawl comment for product 273717706\n",
      "Crawl comment page 0 success!!!\n"
     ]
    },
    {
     "name": "stderr",
     "output_type": "stream",
     "text": [
      "  1%|▋                                                                             | 19/2000 [00:30<1:17:29,  2.35s/it]"
     ]
    },
    {
     "name": "stdout",
     "output_type": "stream",
     "text": [
      "Crawl comment page 1 success!!!\n",
      "Crawl comment for product 271380890\n",
      "Crawl comment page 0 success!!!\n"
     ]
    },
    {
     "name": "stderr",
     "output_type": "stream",
     "text": [
      "  1%|▊                                                                             | 20/2000 [00:32<1:13:29,  2.23s/it]"
     ]
    },
    {
     "name": "stdout",
     "output_type": "stream",
     "text": [
      "Crawl comment page 1 success!!!\n",
      "Crawl comment for product 263070154\n",
      "Crawl comment page 0 success!!!\n"
     ]
    },
    {
     "name": "stderr",
     "output_type": "stream",
     "text": [
      "  1%|▊                                                                             | 21/2000 [00:34<1:14:15,  2.25s/it]"
     ]
    },
    {
     "name": "stdout",
     "output_type": "stream",
     "text": [
      "Crawl comment page 1 success!!!\n",
      "Crawl comment for product 262590428\n",
      "Crawl comment page 0 success!!!\n"
     ]
    },
    {
     "name": "stderr",
     "output_type": "stream",
     "text": [
      "  1%|▊                                                                             | 22/2000 [00:36<1:15:17,  2.28s/it]"
     ]
    },
    {
     "name": "stdout",
     "output_type": "stream",
     "text": [
      "Crawl comment page 1 success!!!\n",
      "Crawl comment for product 209389165\n",
      "Crawl comment page 0 success!!!\n"
     ]
    },
    {
     "name": "stderr",
     "output_type": "stream",
     "text": [
      "  1%|▉                                                                               | 23/2000 [00:37<55:09,  1.67s/it]"
     ]
    },
    {
     "name": "stdout",
     "output_type": "stream",
     "text": [
      "Crawl comment page 1 success!!!\n",
      "Crawl comment for product 207256575\n",
      "Crawl comment page 0 success!!!\n"
     ]
    },
    {
     "name": "stderr",
     "output_type": "stream",
     "text": [
      "  1%|▉                                                                               | 24/2000 [00:38<51:54,  1.58s/it]"
     ]
    },
    {
     "name": "stdout",
     "output_type": "stream",
     "text": [
      "Crawl comment page 1 success!!!\n",
      "Crawl comment for product 202879294\n",
      "Crawl comment page 0 success!!!\n"
     ]
    },
    {
     "name": "stderr",
     "output_type": "stream",
     "text": [
      "  1%|█                                                                               | 25/2000 [00:40<56:41,  1.72s/it]"
     ]
    },
    {
     "name": "stdout",
     "output_type": "stream",
     "text": [
      "Crawl comment page 1 success!!!\n",
      "Crawl comment for product 195545304\n",
      "Crawl comment page 0 success!!!\n"
     ]
    },
    {
     "name": "stderr",
     "output_type": "stream",
     "text": [
      "  1%|█                                                                               | 26/2000 [00:42<57:30,  1.75s/it]"
     ]
    },
    {
     "name": "stdout",
     "output_type": "stream",
     "text": [
      "Crawl comment page 1 success!!!\n",
      "Crawl comment for product 195291930\n",
      "Crawl comment page 0 success!!!\n"
     ]
    },
    {
     "name": "stderr",
     "output_type": "stream",
     "text": [
      "  1%|█                                                                             | 27/2000 [00:45<1:08:36,  2.09s/it]"
     ]
    },
    {
     "name": "stdout",
     "output_type": "stream",
     "text": [
      "Crawl comment page 1 success!!!\n",
      "Crawl comment for product 190335975\n",
      "Crawl comment page 0 success!!!\n"
     ]
    },
    {
     "name": "stderr",
     "output_type": "stream",
     "text": [
      "  1%|█                                                                             | 28/2000 [00:47<1:08:35,  2.09s/it]"
     ]
    },
    {
     "name": "stdout",
     "output_type": "stream",
     "text": [
      "Crawl comment page 1 success!!!\n",
      "Crawl comment for product 170708233\n",
      "Crawl comment page 0 success!!!\n"
     ]
    },
    {
     "name": "stderr",
     "output_type": "stream",
     "text": [
      "  1%|█▏                                                                            | 29/2000 [00:50<1:17:52,  2.37s/it]"
     ]
    },
    {
     "name": "stdout",
     "output_type": "stream",
     "text": [
      "Crawl comment page 1 success!!!\n",
      "Crawl comment for product 140416370\n",
      "Crawl comment page 0 success!!!\n"
     ]
    },
    {
     "name": "stderr",
     "output_type": "stream",
     "text": [
      "  2%|█▏                                                                            | 30/2000 [00:52<1:15:35,  2.30s/it]"
     ]
    },
    {
     "name": "stdout",
     "output_type": "stream",
     "text": [
      "Crawl comment page 1 success!!!\n",
      "Crawl comment for product 101782486\n",
      "Crawl comment page 0 success!!!\n"
     ]
    },
    {
     "name": "stderr",
     "output_type": "stream",
     "text": [
      "  2%|█▏                                                                            | 31/2000 [00:53<1:03:49,  1.94s/it]"
     ]
    },
    {
     "name": "stdout",
     "output_type": "stream",
     "text": [
      "Crawl comment page 1 success!!!\n",
      "Crawl comment for product 74021317\n",
      "Crawl comment page 0 success!!!\n"
     ]
    },
    {
     "name": "stderr",
     "output_type": "stream",
     "text": [
      "  2%|█▏                                                                            | 32/2000 [01:00<1:51:47,  3.41s/it]"
     ]
    },
    {
     "name": "stdout",
     "output_type": "stream",
     "text": [
      "Crawl comment page 1 success!!!\n",
      "Crawl comment for product 71345381\n",
      "Crawl comment page 0 success!!!\n"
     ]
    },
    {
     "name": "stderr",
     "output_type": "stream",
     "text": [
      "  2%|█▎                                                                            | 33/2000 [01:05<2:04:49,  3.81s/it]"
     ]
    },
    {
     "name": "stdout",
     "output_type": "stream",
     "text": [
      "Crawl comment page 1 success!!!\n",
      "Crawl comment for product 56609155\n",
      "Crawl comment page 0 success!!!\n"
     ]
    },
    {
     "name": "stderr",
     "output_type": "stream",
     "text": [
      "  2%|█▎                                                                            | 34/2000 [01:07<1:52:08,  3.42s/it]"
     ]
    },
    {
     "name": "stdout",
     "output_type": "stream",
     "text": [
      "Crawl comment page 1 success!!!\n",
      "Crawl comment for product 50322710\n",
      "Crawl comment page 0 success!!!\n"
     ]
    },
    {
     "name": "stderr",
     "output_type": "stream",
     "text": [
      "  2%|█▎                                                                            | 35/2000 [01:09<1:36:43,  2.95s/it]"
     ]
    },
    {
     "name": "stdout",
     "output_type": "stream",
     "text": [
      "Crawl comment page 1 success!!!\n",
      "Crawl comment for product 40933969\n",
      "Crawl comment page 0 success!!!\n"
     ]
    },
    {
     "name": "stderr",
     "output_type": "stream",
     "text": [
      "  2%|█▍                                                                            | 36/2000 [01:10<1:20:10,  2.45s/it]"
     ]
    },
    {
     "name": "stdout",
     "output_type": "stream",
     "text": [
      "Crawl comment page 1 success!!!\n",
      "Crawl comment for product 13419678\n",
      "Crawl comment page 0 success!!!\n"
     ]
    },
    {
     "name": "stderr",
     "output_type": "stream",
     "text": [
      "  2%|█▍                                                                            | 37/2000 [01:13<1:24:55,  2.60s/it]"
     ]
    },
    {
     "name": "stdout",
     "output_type": "stream",
     "text": [
      "Crawl comment page 1 success!!!\n",
      "Crawl comment for product 4780917\n",
      "Crawl comment page 0 success!!!\n"
     ]
    },
    {
     "name": "stderr",
     "output_type": "stream",
     "text": [
      "  2%|█▍                                                                            | 38/2000 [01:17<1:35:39,  2.93s/it]"
     ]
    },
    {
     "name": "stdout",
     "output_type": "stream",
     "text": [
      "Crawl comment page 1 success!!!\n",
      "Crawl comment for product 3954355\n",
      "Crawl comment page 0 success!!!\n"
     ]
    },
    {
     "name": "stderr",
     "output_type": "stream",
     "text": [
      "  2%|█▌                                                                            | 39/2000 [01:20<1:38:25,  3.01s/it]"
     ]
    },
    {
     "name": "stdout",
     "output_type": "stream",
     "text": [
      "Crawl comment page 1 success!!!\n",
      "Crawl comment for product 545049\n",
      "Crawl comment page 0 success!!!\n"
     ]
    },
    {
     "name": "stderr",
     "output_type": "stream",
     "text": [
      "  2%|█▋                                                                              | 41/2000 [01:21<51:27,  1.58s/it]"
     ]
    },
    {
     "name": "stdout",
     "output_type": "stream",
     "text": [
      "Crawl comment page 1 success!!!\n",
      "Crawl comment for product 278160072\n",
      "Crawl comment page 0 success!!!\n",
      "Crawl comment page 1 success!!!\n",
      "Crawl comment for product 278130366\n"
     ]
    },
    {
     "name": "stderr",
     "output_type": "stream",
     "text": [
      "  2%|█▋                                                                              | 42/2000 [01:21<37:46,  1.16s/it]"
     ]
    },
    {
     "name": "stdout",
     "output_type": "stream",
     "text": [
      "Crawl comment page 0 success!!!\n",
      "Crawl comment page 1 success!!!\n",
      "Crawl comment for product 278101824\n",
      "Crawl comment page 0 success!!!\n"
     ]
    },
    {
     "name": "stderr",
     "output_type": "stream",
     "text": [
      "  2%|█▋                                                                              | 43/2000 [01:22<34:14,  1.05s/it]"
     ]
    },
    {
     "name": "stdout",
     "output_type": "stream",
     "text": [
      "Crawl comment page 1 success!!!\n",
      "Crawl comment for product 278096129\n",
      "Crawl comment page 0 success!!!\n"
     ]
    },
    {
     "name": "stderr",
     "output_type": "stream",
     "text": [
      "  2%|█▊                                                                              | 44/2000 [01:22<25:58,  1.25it/s]"
     ]
    },
    {
     "name": "stdout",
     "output_type": "stream",
     "text": [
      "Crawl comment page 1 success!!!\n",
      "Crawl comment for product 278094952\n"
     ]
    },
    {
     "name": "stderr",
     "output_type": "stream",
     "text": [
      "  2%|█▊                                                                              | 45/2000 [01:22<21:39,  1.50it/s]"
     ]
    },
    {
     "name": "stdout",
     "output_type": "stream",
     "text": [
      "Crawl comment page 0 success!!!\n",
      "Crawl comment page 1 success!!!\n",
      "Crawl comment for product 278064377\n"
     ]
    },
    {
     "name": "stderr",
     "output_type": "stream",
     "text": [
      "  2%|█▊                                                                              | 46/2000 [01:22<17:04,  1.91it/s]"
     ]
    },
    {
     "name": "stdout",
     "output_type": "stream",
     "text": [
      "Crawl comment page 0 success!!!\n",
      "Crawl comment page 1 success!!!\n",
      "Crawl comment for product 278059479\n",
      "Crawl comment page 0 success!!!\n"
     ]
    },
    {
     "name": "stderr",
     "output_type": "stream",
     "text": [
      "  2%|█▉                                                                              | 47/2000 [01:23<16:46,  1.94it/s]"
     ]
    },
    {
     "name": "stdout",
     "output_type": "stream",
     "text": [
      "Crawl comment page 1 success!!!\n",
      "Crawl comment for product 278035545\n",
      "Crawl comment page 0 success!!!\n"
     ]
    },
    {
     "name": "stderr",
     "output_type": "stream",
     "text": [
      "  2%|█▉                                                                              | 48/2000 [01:23<14:13,  2.29it/s]"
     ]
    },
    {
     "name": "stdout",
     "output_type": "stream",
     "text": [
      "Crawl comment page 1 success!!!\n",
      "Crawl comment for product 278011249\n",
      "Crawl comment page 0 success!!!\n"
     ]
    },
    {
     "name": "stderr",
     "output_type": "stream",
     "text": [
      "  2%|█▉                                                                              | 49/2000 [01:24<17:27,  1.86it/s]"
     ]
    },
    {
     "name": "stdout",
     "output_type": "stream",
     "text": [
      "Crawl comment page 1 success!!!\n",
      "Crawl comment for product 277998254\n",
      "Crawl comment page 0 success!!!\n"
     ]
    },
    {
     "name": "stderr",
     "output_type": "stream",
     "text": [
      "  2%|██                                                                              | 50/2000 [01:24<15:57,  2.04it/s]"
     ]
    },
    {
     "name": "stdout",
     "output_type": "stream",
     "text": [
      "Crawl comment page 1 success!!!\n",
      "Crawl comment for product 277938216\n",
      "Crawl comment page 0 success!!!\n"
     ]
    },
    {
     "name": "stderr",
     "output_type": "stream",
     "text": [
      "  3%|██                                                                              | 51/2000 [01:25<14:22,  2.26it/s]"
     ]
    },
    {
     "name": "stdout",
     "output_type": "stream",
     "text": [
      "Crawl comment page 1 success!!!\n",
      "Crawl comment for product 277770425\n",
      "Crawl comment page 0 success!!!\n"
     ]
    },
    {
     "name": "stderr",
     "output_type": "stream",
     "text": [
      "  3%|██                                                                              | 52/2000 [01:26<20:54,  1.55it/s]"
     ]
    },
    {
     "name": "stdout",
     "output_type": "stream",
     "text": [
      "Crawl comment page 1 success!!!\n",
      "Crawl comment for product 276912755\n"
     ]
    },
    {
     "name": "stderr",
     "output_type": "stream",
     "text": [
      "  3%|██                                                                              | 53/2000 [01:26<18:46,  1.73it/s]"
     ]
    },
    {
     "name": "stdout",
     "output_type": "stream",
     "text": [
      "Crawl comment page 0 success!!!\n",
      "Crawl comment page 1 success!!!\n",
      "Crawl comment for product 276159943\n",
      "Crawl comment page 0 success!!!\n"
     ]
    },
    {
     "name": "stderr",
     "output_type": "stream",
     "text": [
      "  3%|██▏                                                                             | 54/2000 [01:29<39:53,  1.23s/it]"
     ]
    },
    {
     "name": "stdout",
     "output_type": "stream",
     "text": [
      "Crawl comment page 1 success!!!\n",
      "Crawl comment for product 276019606\n",
      "Crawl comment page 0 success!!!\n"
     ]
    },
    {
     "name": "stderr",
     "output_type": "stream",
     "text": [
      "  3%|██▏                                                                             | 55/2000 [01:32<55:53,  1.72s/it]"
     ]
    },
    {
     "name": "stdout",
     "output_type": "stream",
     "text": [
      "Crawl comment page 1 success!!!\n",
      "Crawl comment for product 274031576\n",
      "Crawl comment page 0 success!!!\n"
     ]
    },
    {
     "name": "stderr",
     "output_type": "stream",
     "text": [
      "  3%|██▏                                                                             | 56/2000 [01:32<45:20,  1.40s/it]"
     ]
    },
    {
     "name": "stdout",
     "output_type": "stream",
     "text": [
      "Crawl comment page 1 success!!!\n",
      "Crawl comment for product 272367381\n",
      "Crawl comment page 0 success!!!\n"
     ]
    },
    {
     "name": "stderr",
     "output_type": "stream",
     "text": [
      "  3%|██▎                                                                             | 57/2000 [01:35<55:16,  1.71s/it]"
     ]
    },
    {
     "name": "stdout",
     "output_type": "stream",
     "text": [
      "Crawl comment page 1 success!!!\n",
      "Crawl comment for product 272000024\n",
      "Crawl comment page 0 success!!!\n"
     ]
    },
    {
     "name": "stderr",
     "output_type": "stream",
     "text": [
      "  3%|██▎                                                                           | 58/2000 [01:38<1:05:21,  2.02s/it]"
     ]
    },
    {
     "name": "stdout",
     "output_type": "stream",
     "text": [
      "Crawl comment page 1 success!!!\n",
      "Crawl comment for product 271379451\n",
      "Crawl comment page 0 success!!!\n"
     ]
    },
    {
     "name": "stderr",
     "output_type": "stream",
     "text": [
      "  3%|██▎                                                                           | 59/2000 [01:39<1:02:31,  1.93s/it]"
     ]
    },
    {
     "name": "stdout",
     "output_type": "stream",
     "text": [
      "Crawl comment page 1 success!!!\n",
      "Crawl comment for product 270167976\n",
      "Crawl comment page 0 success!!!\n"
     ]
    },
    {
     "name": "stderr",
     "output_type": "stream",
     "text": [
      "  3%|██▍                                                                             | 60/2000 [01:40<54:39,  1.69s/it]"
     ]
    },
    {
     "name": "stdout",
     "output_type": "stream",
     "text": [
      "Crawl comment page 1 success!!!\n",
      "Crawl comment for product 249875170\n",
      "Crawl comment page 0 success!!!\n"
     ]
    },
    {
     "name": "stderr",
     "output_type": "stream",
     "text": [
      "  3%|██▍                                                                           | 61/2000 [01:44<1:13:33,  2.28s/it]"
     ]
    },
    {
     "name": "stdout",
     "output_type": "stream",
     "text": [
      "Crawl comment page 1 success!!!\n",
      "Crawl comment for product 229714486\n",
      "Crawl comment page 0 success!!!\n"
     ]
    },
    {
     "name": "stderr",
     "output_type": "stream",
     "text": [
      "  3%|██▍                                                                           | 62/2000 [01:46<1:08:04,  2.11s/it]"
     ]
    },
    {
     "name": "stdout",
     "output_type": "stream",
     "text": [
      "Crawl comment page 1 success!!!\n",
      "Crawl comment for product 220665663\n",
      "Crawl comment page 0 success!!!\n"
     ]
    },
    {
     "name": "stderr",
     "output_type": "stream",
     "text": [
      "  3%|██▌                                                                             | 64/2000 [01:48<49:49,  1.54s/it]"
     ]
    },
    {
     "name": "stdout",
     "output_type": "stream",
     "text": [
      "Crawl comment page 1 success!!!\n",
      "Crawl comment for product 207946236\n",
      "Crawl comment page 0 success!!!\n",
      "Crawl comment page 1 success!!!\n",
      "Crawl comment for product 207035097\n",
      "Crawl comment page 0 success!!!\n"
     ]
    },
    {
     "name": "stderr",
     "output_type": "stream",
     "text": [
      "  3%|██▌                                                                             | 65/2000 [01:50<54:26,  1.69s/it]"
     ]
    },
    {
     "name": "stdout",
     "output_type": "stream",
     "text": [
      "Crawl comment page 1 success!!!\n",
      "Crawl comment for product 194960730\n",
      "Crawl comment page 0 success!!!\n"
     ]
    },
    {
     "name": "stderr",
     "output_type": "stream",
     "text": [
      "  3%|██▌                                                                           | 66/2000 [01:54<1:11:46,  2.23s/it]"
     ]
    },
    {
     "name": "stdout",
     "output_type": "stream",
     "text": [
      "Crawl comment page 1 success!!!\n",
      "Crawl comment for product 170708219\n",
      "Crawl comment page 0 success!!!\n"
     ]
    },
    {
     "name": "stderr",
     "output_type": "stream",
     "text": [
      "  3%|██▌                                                                           | 67/2000 [01:56<1:10:56,  2.20s/it]"
     ]
    },
    {
     "name": "stdout",
     "output_type": "stream",
     "text": [
      "Crawl comment page 1 success!!!\n",
      "Crawl comment for product 155550591\n",
      "Crawl comment page 0 success!!!\n"
     ]
    },
    {
     "name": "stderr",
     "output_type": "stream",
     "text": [
      "  3%|██▋                                                                           | 68/2000 [01:58<1:07:49,  2.11s/it]"
     ]
    },
    {
     "name": "stdout",
     "output_type": "stream",
     "text": [
      "Crawl comment page 1 success!!!\n",
      "Crawl comment for product 139303869\n",
      "Crawl comment page 0 success!!!\n"
     ]
    },
    {
     "name": "stderr",
     "output_type": "stream",
     "text": [
      "  3%|██▋                                                                           | 69/2000 [02:00<1:11:18,  2.22s/it]"
     ]
    },
    {
     "name": "stdout",
     "output_type": "stream",
     "text": [
      "Crawl comment page 1 success!!!\n",
      "Crawl comment for product 113530805\n",
      "Crawl comment page 0 success!!!\n"
     ]
    },
    {
     "name": "stderr",
     "output_type": "stream",
     "text": [
      "  4%|██▋                                                                           | 70/2000 [02:02<1:03:25,  1.97s/it]"
     ]
    },
    {
     "name": "stdout",
     "output_type": "stream",
     "text": [
      "Crawl comment page 1 success!!!\n",
      "Crawl comment for product 107802183\n",
      "Crawl comment page 0 success!!!\n"
     ]
    },
    {
     "name": "stderr",
     "output_type": "stream",
     "text": [
      "  4%|██▊                                                                           | 71/2000 [02:04<1:06:02,  2.05s/it]"
     ]
    },
    {
     "name": "stdout",
     "output_type": "stream",
     "text": [
      "Crawl comment page 1 success!!!\n",
      "Crawl comment for product 95289208\n",
      "Crawl comment page 0 success!!!\n"
     ]
    },
    {
     "name": "stderr",
     "output_type": "stream",
     "text": [
      "  4%|██▊                                                                           | 72/2000 [02:06<1:02:52,  1.96s/it]"
     ]
    },
    {
     "name": "stdout",
     "output_type": "stream",
     "text": [
      "Crawl comment page 1 success!!!\n",
      "Crawl comment for product 53728878\n",
      "Crawl comment page 0 success!!!\n"
     ]
    },
    {
     "name": "stderr",
     "output_type": "stream",
     "text": [
      "  4%|██▉                                                                             | 73/2000 [02:07<53:41,  1.67s/it]"
     ]
    },
    {
     "name": "stdout",
     "output_type": "stream",
     "text": [
      "Crawl comment page 1 success!!!\n",
      "Crawl comment for product 52789367\n",
      "Crawl comment page 0 success!!!\n"
     ]
    },
    {
     "name": "stderr",
     "output_type": "stream",
     "text": [
      "  4%|██▉                                                                           | 74/2000 [02:11<1:15:42,  2.36s/it]"
     ]
    },
    {
     "name": "stdout",
     "output_type": "stream",
     "text": [
      "Crawl comment page 1 success!!!\n",
      "Crawl comment for product 52788072\n",
      "Crawl comment page 0 success!!!\n"
     ]
    },
    {
     "name": "stderr",
     "output_type": "stream",
     "text": [
      "  4%|██▉                                                                           | 75/2000 [02:14<1:27:15,  2.72s/it]"
     ]
    },
    {
     "name": "stdout",
     "output_type": "stream",
     "text": [
      "Crawl comment page 1 success!!!\n",
      "Crawl comment for product 10581200\n",
      "Crawl comment page 0 success!!!\n"
     ]
    },
    {
     "name": "stderr",
     "output_type": "stream",
     "text": [
      "  4%|██▉                                                                           | 76/2000 [02:17<1:28:49,  2.77s/it]"
     ]
    },
    {
     "name": "stdout",
     "output_type": "stream",
     "text": [
      "Crawl comment page 1 success!!!\n",
      "Crawl comment for product 10005245\n",
      "Crawl comment page 0 success!!!\n"
     ]
    },
    {
     "name": "stderr",
     "output_type": "stream",
     "text": [
      "  4%|███                                                                           | 77/2000 [02:20<1:32:38,  2.89s/it]"
     ]
    },
    {
     "name": "stdout",
     "output_type": "stream",
     "text": [
      "Crawl comment page 1 success!!!\n",
      "Crawl comment for product 9729890\n",
      "Crawl comment page 0 success!!!\n"
     ]
    },
    {
     "name": "stderr",
     "output_type": "stream",
     "text": [
      "  4%|███                                                                           | 78/2000 [02:22<1:21:53,  2.56s/it]"
     ]
    },
    {
     "name": "stdout",
     "output_type": "stream",
     "text": [
      "Crawl comment page 1 success!!!\n",
      "Crawl comment for product 7982628\n",
      "Crawl comment page 0 success!!!\n"
     ]
    },
    {
     "name": "stderr",
     "output_type": "stream",
     "text": [
      "  4%|███                                                                           | 79/2000 [02:24<1:15:44,  2.37s/it]"
     ]
    },
    {
     "name": "stdout",
     "output_type": "stream",
     "text": [
      "Crawl comment page 1 success!!!\n",
      "Crawl comment for product 540039\n",
      "Crawl comment page 0 success!!!\n"
     ]
    },
    {
     "name": "stderr",
     "output_type": "stream",
     "text": [
      "  4%|███                                                                           | 80/2000 [02:26<1:11:08,  2.22s/it]"
     ]
    },
    {
     "name": "stdout",
     "output_type": "stream",
     "text": [
      "Crawl comment page 1 success!!!\n",
      "Crawl comment for product 278155109\n",
      "Crawl comment page 0 success!!!\n"
     ]
    },
    {
     "name": "stderr",
     "output_type": "stream",
     "text": [
      "  4%|███▏                                                                            | 81/2000 [02:26<52:22,  1.64s/it]"
     ]
    },
    {
     "name": "stdout",
     "output_type": "stream",
     "text": [
      "Crawl comment page 1 success!!!\n",
      "Crawl comment for product 278123144\n",
      "Crawl comment page 0 success!!!\n"
     ]
    },
    {
     "name": "stderr",
     "output_type": "stream",
     "text": [
      "  4%|███▎                                                                            | 82/2000 [02:26<39:45,  1.24s/it]"
     ]
    },
    {
     "name": "stdout",
     "output_type": "stream",
     "text": [
      "Crawl comment page 1 success!!!\n",
      "Crawl comment for product 278106457\n",
      "Crawl comment page 0 success!!!\n"
     ]
    },
    {
     "name": "stderr",
     "output_type": "stream",
     "text": [
      "  4%|███▎                                                                            | 84/2000 [02:27<24:04,  1.33it/s]"
     ]
    },
    {
     "name": "stdout",
     "output_type": "stream",
     "text": [
      "Crawl comment page 1 success!!!\n",
      "Crawl comment for product 277992334\n",
      "Crawl comment page 0 success!!!\n",
      "Crawl comment page 1 success!!!\n",
      "Crawl comment for product 277967018\n",
      "Crawl comment page 0 success!!!\n"
     ]
    },
    {
     "name": "stderr",
     "output_type": "stream",
     "text": [
      "  4%|███▍                                                                            | 85/2000 [02:27<21:10,  1.51it/s]"
     ]
    },
    {
     "name": "stdout",
     "output_type": "stream",
     "text": [
      "Crawl comment page 1 success!!!\n",
      "Crawl comment for product 277827113\n",
      "Crawl comment page 0 success!!!\n"
     ]
    },
    {
     "name": "stderr",
     "output_type": "stream",
     "text": [
      "  4%|███▍                                                                            | 87/2000 [02:28<13:58,  2.28it/s]"
     ]
    },
    {
     "name": "stdout",
     "output_type": "stream",
     "text": [
      "Crawl comment page 1 success!!!\n",
      "Crawl comment for product 277742403\n",
      "Crawl comment page 0 success!!!\n",
      "Crawl comment page 1 success!!!\n",
      "Crawl comment for product 277543284\n",
      "Crawl comment page 0 success!!!\n"
     ]
    },
    {
     "name": "stderr",
     "output_type": "stream",
     "text": [
      "  4%|███▌                                                                            | 88/2000 [02:28<10:50,  2.94it/s]"
     ]
    },
    {
     "name": "stdout",
     "output_type": "stream",
     "text": [
      "Crawl comment page 1 success!!!\n",
      "Crawl comment for product 277412034\n",
      "Crawl comment page 0 success!!!\n"
     ]
    },
    {
     "name": "stderr",
     "output_type": "stream",
     "text": [
      "  4%|███▌                                                                            | 89/2000 [02:29<12:57,  2.46it/s]"
     ]
    },
    {
     "name": "stdout",
     "output_type": "stream",
     "text": [
      "Crawl comment page 1 success!!!\n",
      "Crawl comment for product 277381902\n",
      "Crawl comment page 0 success!!!\n"
     ]
    },
    {
     "name": "stderr",
     "output_type": "stream",
     "text": [
      "  4%|███▌                                                                            | 90/2000 [02:30<17:46,  1.79it/s]"
     ]
    },
    {
     "name": "stdout",
     "output_type": "stream",
     "text": [
      "Crawl comment page 1 success!!!\n",
      "Crawl comment for product 276833162\n",
      "Crawl comment page 0 success!!!\n"
     ]
    },
    {
     "name": "stderr",
     "output_type": "stream",
     "text": [
      "  5%|███▋                                                                            | 91/2000 [02:31<29:02,  1.10it/s]"
     ]
    },
    {
     "name": "stdout",
     "output_type": "stream",
     "text": [
      "Crawl comment page 1 success!!!\n",
      "Crawl comment for product 276823777\n",
      "Crawl comment page 0 success!!!\n"
     ]
    },
    {
     "name": "stderr",
     "output_type": "stream",
     "text": [
      "  5%|███▋                                                                            | 92/2000 [02:33<36:49,  1.16s/it]"
     ]
    },
    {
     "name": "stdout",
     "output_type": "stream",
     "text": [
      "Crawl comment page 1 success!!!\n",
      "Crawl comment for product 276641698\n",
      "Crawl comment page 0 success!!!\n"
     ]
    },
    {
     "name": "stderr",
     "output_type": "stream",
     "text": [
      "  5%|███▋                                                                            | 93/2000 [02:35<47:28,  1.49s/it]"
     ]
    },
    {
     "name": "stdout",
     "output_type": "stream",
     "text": [
      "Crawl comment page 1 success!!!\n",
      "Crawl comment for product 276471716\n",
      "Crawl comment page 0 success!!!\n"
     ]
    },
    {
     "name": "stderr",
     "output_type": "stream",
     "text": [
      "  5%|███▊                                                                            | 94/2000 [02:38<55:29,  1.75s/it]"
     ]
    },
    {
     "name": "stdout",
     "output_type": "stream",
     "text": [
      "Crawl comment page 1 success!!!\n",
      "Crawl comment for product 276388548\n",
      "Crawl comment page 0 success!!!\n"
     ]
    },
    {
     "name": "stderr",
     "output_type": "stream",
     "text": [
      "  5%|███▋                                                                          | 95/2000 [02:40<1:02:23,  1.96s/it]"
     ]
    },
    {
     "name": "stdout",
     "output_type": "stream",
     "text": [
      "Crawl comment page 1 success!!!\n",
      "Crawl comment for product 274933687\n",
      "Crawl comment page 0 success!!!\n"
     ]
    },
    {
     "name": "stderr",
     "output_type": "stream",
     "text": [
      "  5%|███▊                                                                            | 96/2000 [02:41<54:48,  1.73s/it]"
     ]
    },
    {
     "name": "stdout",
     "output_type": "stream",
     "text": [
      "Crawl comment page 1 success!!!\n",
      "Crawl comment for product 274844704\n",
      "Crawl comment page 0 success!!!\n"
     ]
    },
    {
     "name": "stderr",
     "output_type": "stream",
     "text": [
      "  5%|███▉                                                                            | 97/2000 [02:43<58:52,  1.86s/it]"
     ]
    },
    {
     "name": "stdout",
     "output_type": "stream",
     "text": [
      "Crawl comment page 1 success!!!\n",
      "Crawl comment for product 273586213\n",
      "Crawl comment page 0 success!!!\n"
     ]
    },
    {
     "name": "stderr",
     "output_type": "stream",
     "text": [
      "  5%|███▉                                                                            | 98/2000 [02:44<46:36,  1.47s/it]"
     ]
    },
    {
     "name": "stdout",
     "output_type": "stream",
     "text": [
      "Crawl comment page 1 success!!!\n",
      "Crawl comment for product 272449818\n",
      "Crawl comment page 0 success!!!\n"
     ]
    },
    {
     "name": "stderr",
     "output_type": "stream",
     "text": [
      "  5%|███▊                                                                          | 99/2000 [02:47<1:05:01,  2.05s/it]"
     ]
    },
    {
     "name": "stdout",
     "output_type": "stream",
     "text": [
      "Crawl comment page 1 success!!!\n",
      "Crawl comment for product 271429056\n",
      "Crawl comment page 0 success!!!\n"
     ]
    },
    {
     "name": "stderr",
     "output_type": "stream",
     "text": [
      "  5%|███▊                                                                         | 100/2000 [02:49<1:03:26,  2.00s/it]"
     ]
    },
    {
     "name": "stdout",
     "output_type": "stream",
     "text": [
      "Crawl comment page 1 success!!!\n",
      "Crawl comment for product 243006523\n",
      "Crawl comment page 0 success!!!\n"
     ]
    },
    {
     "name": "stderr",
     "output_type": "stream",
     "text": [
      "  5%|███▉                                                                         | 101/2000 [02:52<1:10:05,  2.21s/it]"
     ]
    },
    {
     "name": "stdout",
     "output_type": "stream",
     "text": [
      "Crawl comment page 1 success!!!\n",
      "Crawl comment for product 225912339\n",
      "Crawl comment page 0 success!!!\n"
     ]
    },
    {
     "name": "stderr",
     "output_type": "stream",
     "text": [
      "  5%|███▉                                                                         | 102/2000 [02:54<1:09:27,  2.20s/it]"
     ]
    },
    {
     "name": "stdout",
     "output_type": "stream",
     "text": [
      "Crawl comment page 1 success!!!\n",
      "Crawl comment for product 205942263\n",
      "Crawl comment page 0 success!!!\n"
     ]
    },
    {
     "name": "stderr",
     "output_type": "stream",
     "text": [
      "  5%|███▉                                                                         | 103/2000 [02:56<1:09:03,  2.18s/it]"
     ]
    },
    {
     "name": "stdout",
     "output_type": "stream",
     "text": [
      "Crawl comment page 1 success!!!\n",
      "Crawl comment for product 204810323\n",
      "Crawl comment page 0 success!!!\n"
     ]
    },
    {
     "name": "stderr",
     "output_type": "stream",
     "text": [
      "  5%|████                                                                           | 104/2000 [02:57<59:29,  1.88s/it]"
     ]
    },
    {
     "name": "stdout",
     "output_type": "stream",
     "text": [
      "Crawl comment page 1 success!!!\n",
      "Crawl comment for product 189940673\n",
      "Crawl comment page 0 success!!!\n"
     ]
    },
    {
     "name": "stderr",
     "output_type": "stream",
     "text": [
      "  5%|████▏                                                                          | 105/2000 [02:59<58:35,  1.85s/it]"
     ]
    },
    {
     "name": "stdout",
     "output_type": "stream",
     "text": [
      "Crawl comment page 1 success!!!\n",
      "Crawl comment for product 187827003\n",
      "Crawl comment page 0 success!!!\n"
     ]
    },
    {
     "name": "stderr",
     "output_type": "stream",
     "text": [
      "  5%|████▏                                                                          | 106/2000 [03:01<58:08,  1.84s/it]"
     ]
    },
    {
     "name": "stdout",
     "output_type": "stream",
     "text": [
      "Crawl comment page 1 success!!!\n",
      "Crawl comment for product 165030729\n",
      "Crawl comment page 0 success!!!\n"
     ]
    },
    {
     "name": "stderr",
     "output_type": "stream",
     "text": [
      "  5%|████                                                                         | 107/2000 [03:03<1:02:07,  1.97s/it]"
     ]
    },
    {
     "name": "stdout",
     "output_type": "stream",
     "text": [
      "Crawl comment page 1 success!!!\n",
      "Crawl comment for product 161008715\n",
      "Crawl comment page 0 success!!!\n"
     ]
    },
    {
     "name": "stderr",
     "output_type": "stream",
     "text": [
      "  5%|████▎                                                                          | 108/2000 [03:05<58:40,  1.86s/it]"
     ]
    },
    {
     "name": "stdout",
     "output_type": "stream",
     "text": [
      "Crawl comment page 1 success!!!\n",
      "Crawl comment for product 120219394\n",
      "Crawl comment page 0 success!!!\n"
     ]
    },
    {
     "name": "stderr",
     "output_type": "stream",
     "text": [
      "  5%|████▏                                                                        | 109/2000 [03:07<1:04:39,  2.05s/it]"
     ]
    },
    {
     "name": "stdout",
     "output_type": "stream",
     "text": [
      "Crawl comment page 1 success!!!\n",
      "Crawl comment for product 85923342\n",
      "Crawl comment page 0 success!!!\n"
     ]
    },
    {
     "name": "stderr",
     "output_type": "stream",
     "text": [
      "  6%|████▏                                                                        | 110/2000 [03:09<1:02:53,  2.00s/it]"
     ]
    },
    {
     "name": "stdout",
     "output_type": "stream",
     "text": [
      "Crawl comment page 1 success!!!\n",
      "Crawl comment for product 84565498\n",
      "Crawl comment page 0 success!!!\n"
     ]
    },
    {
     "name": "stderr",
     "output_type": "stream",
     "text": [
      "  6%|████▎                                                                        | 111/2000 [03:11<1:02:34,  1.99s/it]"
     ]
    },
    {
     "name": "stdout",
     "output_type": "stream",
     "text": [
      "Crawl comment page 1 success!!!\n",
      "Crawl comment for product 77982982\n",
      "Crawl comment page 0 success!!!\n"
     ]
    },
    {
     "name": "stderr",
     "output_type": "stream",
     "text": [
      "  6%|████▎                                                                        | 112/2000 [03:13<1:00:29,  1.92s/it]"
     ]
    },
    {
     "name": "stdout",
     "output_type": "stream",
     "text": [
      "Crawl comment page 1 success!!!\n",
      "Crawl comment for product 76013378\n",
      "Crawl comment page 0 success!!!\n"
     ]
    },
    {
     "name": "stderr",
     "output_type": "stream",
     "text": [
      "  6%|████▎                                                                        | 113/2000 [03:16<1:11:59,  2.29s/it]"
     ]
    },
    {
     "name": "stdout",
     "output_type": "stream",
     "text": [
      "Crawl comment page 1 success!!!\n",
      "Crawl comment for product 49910019\n",
      "Crawl comment page 0 success!!!\n"
     ]
    },
    {
     "name": "stderr",
     "output_type": "stream",
     "text": [
      "  6%|████▍                                                                        | 114/2000 [03:18<1:05:27,  2.08s/it]"
     ]
    },
    {
     "name": "stdout",
     "output_type": "stream",
     "text": [
      "Crawl comment page 1 success!!!\n",
      "Crawl comment for product 42230121\n",
      "Crawl comment page 0 success!!!\n"
     ]
    },
    {
     "name": "stderr",
     "output_type": "stream",
     "text": [
      "  6%|████▍                                                                        | 115/2000 [03:21<1:16:43,  2.44s/it]"
     ]
    },
    {
     "name": "stdout",
     "output_type": "stream",
     "text": [
      "Crawl comment page 1 success!!!\n",
      "Crawl comment for product 32490132\n",
      "Crawl comment page 0 success!!!\n"
     ]
    },
    {
     "name": "stderr",
     "output_type": "stream",
     "text": [
      "  6%|████▍                                                                        | 116/2000 [03:24<1:17:06,  2.46s/it]"
     ]
    },
    {
     "name": "stdout",
     "output_type": "stream",
     "text": [
      "Crawl comment page 1 success!!!\n",
      "Crawl comment for product 10920495\n",
      "Crawl comment page 0 success!!!\n"
     ]
    },
    {
     "name": "stderr",
     "output_type": "stream",
     "text": [
      "  6%|████▌                                                                        | 117/2000 [03:25<1:08:56,  2.20s/it]"
     ]
    },
    {
     "name": "stdout",
     "output_type": "stream",
     "text": [
      "Crawl comment page 1 success!!!\n",
      "Crawl comment for product 10383904\n",
      "Crawl comment page 0 success!!!\n"
     ]
    },
    {
     "name": "stderr",
     "output_type": "stream",
     "text": [
      "  6%|████▌                                                                        | 118/2000 [03:27<1:08:54,  2.20s/it]"
     ]
    },
    {
     "name": "stdout",
     "output_type": "stream",
     "text": [
      "Crawl comment page 1 success!!!\n",
      "Crawl comment for product 8886007\n",
      "Crawl comment page 0 success!!!\n"
     ]
    },
    {
     "name": "stderr",
     "output_type": "stream",
     "text": [
      "  6%|████▌                                                                        | 119/2000 [03:31<1:21:28,  2.60s/it]"
     ]
    },
    {
     "name": "stdout",
     "output_type": "stream",
     "text": [
      "Crawl comment page 1 success!!!\n",
      "Crawl comment for product 3304875\n",
      "Crawl comment page 0 success!!!\n"
     ]
    },
    {
     "name": "stderr",
     "output_type": "stream",
     "text": [
      "  6%|████▋                                                                        | 121/2000 [03:36<1:14:14,  2.37s/it]"
     ]
    },
    {
     "name": "stdout",
     "output_type": "stream",
     "text": [
      "Crawl comment page 1 success!!!\n",
      "Crawl comment for product 278095720\n",
      "Crawl comment page 0 success!!!\n",
      "Crawl comment page 1 success!!!\n",
      "Crawl comment for product 278055563\n"
     ]
    },
    {
     "name": "stderr",
     "output_type": "stream",
     "text": [
      "  6%|████▊                                                                          | 122/2000 [03:36<54:50,  1.75s/it]"
     ]
    },
    {
     "name": "stdout",
     "output_type": "stream",
     "text": [
      "Crawl comment page 0 success!!!\n",
      "Crawl comment page 1 success!!!\n",
      "Crawl comment for product 278017965\n"
     ]
    },
    {
     "name": "stderr",
     "output_type": "stream",
     "text": [
      "  6%|████▊                                                                          | 123/2000 [03:37<39:36,  1.27s/it]"
     ]
    },
    {
     "name": "stdout",
     "output_type": "stream",
     "text": [
      "Crawl comment page 0 success!!!\n",
      "Crawl comment page 1 success!!!\n",
      "Crawl comment for product 277962612\n"
     ]
    },
    {
     "name": "stderr",
     "output_type": "stream",
     "text": [
      "  6%|████▉                                                                          | 124/2000 [03:37<31:01,  1.01it/s]"
     ]
    },
    {
     "name": "stdout",
     "output_type": "stream",
     "text": [
      "Crawl comment page 0 success!!!\n",
      "Crawl comment page 1 success!!!\n",
      "Crawl comment for product 277857894\n",
      "Crawl comment page 0 success!!!\n"
     ]
    },
    {
     "name": "stderr",
     "output_type": "stream",
     "text": [
      "  6%|████▉                                                                          | 126/2000 [03:37<17:50,  1.75it/s]"
     ]
    },
    {
     "name": "stdout",
     "output_type": "stream",
     "text": [
      "Crawl comment page 1 success!!!\n",
      "Crawl comment for product 277857892\n",
      "Crawl comment page 0 success!!!\n",
      "Crawl comment page 1 success!!!\n",
      "Crawl comment for product 277816160\n"
     ]
    },
    {
     "name": "stderr",
     "output_type": "stream",
     "text": [
      "  6%|█████                                                                          | 127/2000 [03:38<15:36,  2.00it/s]"
     ]
    },
    {
     "name": "stdout",
     "output_type": "stream",
     "text": [
      "Crawl comment page 0 success!!!\n",
      "Crawl comment page 1 success!!!\n",
      "Crawl comment for product 277778452\n"
     ]
    },
    {
     "name": "stderr",
     "output_type": "stream",
     "text": [
      "  6%|█████                                                                          | 128/2000 [03:38<13:41,  2.28it/s]"
     ]
    },
    {
     "name": "stdout",
     "output_type": "stream",
     "text": [
      "Crawl comment page 0 success!!!\n",
      "Crawl comment page 1 success!!!\n",
      "Crawl comment for product 277599506\n",
      "Crawl comment page 0 success!!!\n"
     ]
    },
    {
     "name": "stderr",
     "output_type": "stream",
     "text": [
      "  6%|█████                                                                          | 129/2000 [03:39<16:14,  1.92it/s]"
     ]
    },
    {
     "name": "stdout",
     "output_type": "stream",
     "text": [
      "Crawl comment page 1 success!!!\n",
      "Crawl comment for product 277361862\n",
      "Crawl comment page 0 success!!!\n"
     ]
    },
    {
     "name": "stderr",
     "output_type": "stream",
     "text": [
      "  6%|█████▏                                                                         | 130/2000 [03:40<21:16,  1.47it/s]"
     ]
    },
    {
     "name": "stdout",
     "output_type": "stream",
     "text": [
      "Crawl comment page 1 success!!!\n",
      "Crawl comment for product 277175092\n",
      "Crawl comment page 0 success!!!\n"
     ]
    },
    {
     "name": "stderr",
     "output_type": "stream",
     "text": [
      "  7%|█████▏                                                                         | 131/2000 [03:40<19:21,  1.61it/s]"
     ]
    },
    {
     "name": "stdout",
     "output_type": "stream",
     "text": [
      "Crawl comment page 1 success!!!\n",
      "Crawl comment for product 277024165\n",
      "Crawl comment page 0 success!!!\n"
     ]
    },
    {
     "name": "stderr",
     "output_type": "stream",
     "text": [
      "  7%|█████▏                                                                         | 132/2000 [03:42<26:43,  1.16it/s]"
     ]
    },
    {
     "name": "stdout",
     "output_type": "stream",
     "text": [
      "Crawl comment page 1 success!!!\n",
      "Crawl comment for product 276777219\n",
      "Crawl comment page 0 success!!!\n"
     ]
    },
    {
     "name": "stderr",
     "output_type": "stream",
     "text": [
      "  7%|█████▎                                                                         | 133/2000 [03:43<34:18,  1.10s/it]"
     ]
    },
    {
     "name": "stdout",
     "output_type": "stream",
     "text": [
      "Crawl comment page 1 success!!!\n",
      "Crawl comment for product 275905148\n",
      "Crawl comment page 0 success!!!\n"
     ]
    },
    {
     "name": "stderr",
     "output_type": "stream",
     "text": [
      "  7%|█████▎                                                                         | 135/2000 [03:45<27:01,  1.15it/s]"
     ]
    },
    {
     "name": "stdout",
     "output_type": "stream",
     "text": [
      "Crawl comment page 1 success!!!\n",
      "Crawl comment for product 275630451\n",
      "Crawl comment page 0 success!!!\n",
      "Crawl comment page 1 success!!!\n",
      "Crawl comment for product 275264393\n",
      "Crawl comment page 0 success!!!\n"
     ]
    },
    {
     "name": "stderr",
     "output_type": "stream",
     "text": [
      "  7%|█████▎                                                                         | 136/2000 [03:47<43:13,  1.39s/it]"
     ]
    },
    {
     "name": "stdout",
     "output_type": "stream",
     "text": [
      "Crawl comment page 1 success!!!\n",
      "Crawl comment for product 273457566\n",
      "Crawl comment page 0 success!!!\n"
     ]
    },
    {
     "name": "stderr",
     "output_type": "stream",
     "text": [
      "  7%|█████▍                                                                         | 137/2000 [03:50<55:31,  1.79s/it]"
     ]
    },
    {
     "name": "stdout",
     "output_type": "stream",
     "text": [
      "Crawl comment page 1 success!!!\n",
      "Crawl comment for product 273114488\n",
      "Crawl comment page 0 success!!!\n"
     ]
    },
    {
     "name": "stderr",
     "output_type": "stream",
     "text": [
      "  7%|█████▍                                                                         | 138/2000 [03:51<52:10,  1.68s/it]"
     ]
    },
    {
     "name": "stdout",
     "output_type": "stream",
     "text": [
      "Crawl comment page 1 success!!!\n",
      "Crawl comment for product 271518926\n",
      "Crawl comment page 0 success!!!\n"
     ]
    },
    {
     "name": "stderr",
     "output_type": "stream",
     "text": [
      "  7%|█████▍                                                                         | 139/2000 [03:53<49:07,  1.58s/it]"
     ]
    },
    {
     "name": "stdout",
     "output_type": "stream",
     "text": [
      "Crawl comment page 1 success!!!\n",
      "Crawl comment for product 261982682\n",
      "Crawl comment page 0 success!!!\n"
     ]
    },
    {
     "name": "stderr",
     "output_type": "stream",
     "text": [
      "  7%|█████▌                                                                         | 140/2000 [03:55<59:17,  1.91s/it]"
     ]
    },
    {
     "name": "stdout",
     "output_type": "stream",
     "text": [
      "Crawl comment page 1 success!!!\n",
      "Crawl comment for product 249876840\n",
      "Crawl comment page 0 success!!!\n"
     ]
    },
    {
     "name": "stderr",
     "output_type": "stream",
     "text": [
      "  7%|█████▍                                                                       | 141/2000 [03:58<1:05:58,  2.13s/it]"
     ]
    },
    {
     "name": "stdout",
     "output_type": "stream",
     "text": [
      "Crawl comment page 1 success!!!\n",
      "Crawl comment for product 214186191\n",
      "Crawl comment page 0 success!!!\n"
     ]
    },
    {
     "name": "stderr",
     "output_type": "stream",
     "text": [
      "  7%|█████▍                                                                       | 142/2000 [04:00<1:07:43,  2.19s/it]"
     ]
    },
    {
     "name": "stdout",
     "output_type": "stream",
     "text": [
      "Crawl comment page 1 success!!!\n",
      "Crawl comment for product 210277880\n",
      "Crawl comment page 0 success!!!\n"
     ]
    },
    {
     "name": "stderr",
     "output_type": "stream",
     "text": [
      "  7%|█████▌                                                                       | 143/2000 [04:02<1:01:36,  1.99s/it]"
     ]
    },
    {
     "name": "stdout",
     "output_type": "stream",
     "text": [
      "Crawl comment page 1 success!!!\n",
      "Crawl comment for product 206784512\n",
      "Crawl comment page 0 success!!!\n"
     ]
    },
    {
     "name": "stderr",
     "output_type": "stream",
     "text": [
      "  7%|█████▋                                                                         | 144/2000 [04:04<59:27,  1.92s/it]"
     ]
    },
    {
     "name": "stdout",
     "output_type": "stream",
     "text": [
      "Crawl comment page 1 success!!!\n",
      "Crawl comment for product 195801321\n",
      "Crawl comment page 0 success!!!\n"
     ]
    },
    {
     "name": "stderr",
     "output_type": "stream",
     "text": [
      "  7%|█████▋                                                                         | 145/2000 [04:06<58:30,  1.89s/it]"
     ]
    },
    {
     "name": "stdout",
     "output_type": "stream",
     "text": [
      "Crawl comment page 1 success!!!\n",
      "Crawl comment for product 192475873\n",
      "Crawl comment page 0 success!!!\n"
     ]
    },
    {
     "name": "stderr",
     "output_type": "stream",
     "text": [
      "  7%|█████▊                                                                         | 146/2000 [04:07<58:33,  1.90s/it]"
     ]
    },
    {
     "name": "stdout",
     "output_type": "stream",
     "text": [
      "Crawl comment page 1 success!!!\n",
      "Crawl comment for product 187843291\n",
      "Crawl comment page 0 success!!!\n"
     ]
    },
    {
     "name": "stderr",
     "output_type": "stream",
     "text": [
      "  7%|█████▊                                                                         | 147/2000 [04:09<57:52,  1.87s/it]"
     ]
    },
    {
     "name": "stdout",
     "output_type": "stream",
     "text": [
      "Crawl comment page 1 success!!!\n",
      "Crawl comment for product 177487151\n",
      "Crawl comment page 0 success!!!\n"
     ]
    },
    {
     "name": "stderr",
     "output_type": "stream",
     "text": [
      "  7%|█████▊                                                                         | 148/2000 [04:11<55:17,  1.79s/it]"
     ]
    },
    {
     "name": "stdout",
     "output_type": "stream",
     "text": [
      "Crawl comment page 1 success!!!\n",
      "Crawl comment for product 117238177\n",
      "Crawl comment page 0 success!!!\n"
     ]
    },
    {
     "name": "stderr",
     "output_type": "stream",
     "text": [
      "  7%|█████▋                                                                       | 149/2000 [04:14<1:03:06,  2.05s/it]"
     ]
    },
    {
     "name": "stdout",
     "output_type": "stream",
     "text": [
      "Crawl comment page 1 success!!!\n",
      "Crawl comment for product 90056907\n",
      "Crawl comment page 0 success!!!\n"
     ]
    },
    {
     "name": "stderr",
     "output_type": "stream",
     "text": [
      "  8%|█████▉                                                                         | 150/2000 [04:15<57:53,  1.88s/it]"
     ]
    },
    {
     "name": "stdout",
     "output_type": "stream",
     "text": [
      "Crawl comment page 1 success!!!\n",
      "Crawl comment for product 73787185\n",
      "Crawl comment page 0 success!!!\n"
     ]
    },
    {
     "name": "stderr",
     "output_type": "stream",
     "text": [
      "  8%|█████▊                                                                       | 151/2000 [04:18<1:07:21,  2.19s/it]"
     ]
    },
    {
     "name": "stdout",
     "output_type": "stream",
     "text": [
      "Crawl comment page 1 success!!!\n",
      "Crawl comment for product 57110087\n",
      "Crawl comment page 0 success!!!\n"
     ]
    },
    {
     "name": "stderr",
     "output_type": "stream",
     "text": [
      "  8%|█████▊                                                                       | 152/2000 [04:21<1:12:20,  2.35s/it]"
     ]
    },
    {
     "name": "stdout",
     "output_type": "stream",
     "text": [
      "Crawl comment page 1 success!!!\n",
      "Crawl comment for product 56207383\n",
      "Crawl comment page 0 success!!!\n"
     ]
    },
    {
     "name": "stderr",
     "output_type": "stream",
     "text": [
      "  8%|█████▉                                                                       | 153/2000 [04:22<1:02:05,  2.02s/it]"
     ]
    },
    {
     "name": "stdout",
     "output_type": "stream",
     "text": [
      "Crawl comment page 1 success!!!\n",
      "Crawl comment for product 16284288\n",
      "Crawl comment page 0 success!!!\n"
     ]
    },
    {
     "name": "stderr",
     "output_type": "stream",
     "text": [
      "  8%|██████                                                                         | 154/2000 [04:23<54:44,  1.78s/it]"
     ]
    },
    {
     "name": "stdout",
     "output_type": "stream",
     "text": [
      "Crawl comment page 1 success!!!\n",
      "Crawl comment for product 7833728\n",
      "Crawl comment page 0 success!!!\n"
     ]
    },
    {
     "name": "stderr",
     "output_type": "stream",
     "text": [
      "  8%|█████▉                                                                       | 155/2000 [04:27<1:13:58,  2.41s/it]"
     ]
    },
    {
     "name": "stdout",
     "output_type": "stream",
     "text": [
      "Crawl comment page 1 success!!!\n",
      "Crawl comment for product 4080373\n",
      "Crawl comment page 0 success!!!\n"
     ]
    },
    {
     "name": "stderr",
     "output_type": "stream",
     "text": [
      "  8%|██████                                                                       | 156/2000 [04:29<1:10:51,  2.31s/it]"
     ]
    },
    {
     "name": "stdout",
     "output_type": "stream",
     "text": [
      "Crawl comment page 1 success!!!\n",
      "Crawl comment for product 1647103\n",
      "Crawl comment page 0 success!!!\n"
     ]
    },
    {
     "name": "stderr",
     "output_type": "stream",
     "text": [
      "  8%|██████                                                                       | 157/2000 [04:31<1:05:01,  2.12s/it]"
     ]
    },
    {
     "name": "stdout",
     "output_type": "stream",
     "text": [
      "Crawl comment page 1 success!!!\n",
      "Crawl comment for product 1080002\n",
      "Crawl comment page 0 success!!!\n"
     ]
    },
    {
     "name": "stderr",
     "output_type": "stream",
     "text": [
      "  8%|██████                                                                       | 158/2000 [04:34<1:11:05,  2.32s/it]"
     ]
    },
    {
     "name": "stdout",
     "output_type": "stream",
     "text": [
      "Crawl comment page 1 success!!!\n",
      "Crawl comment for product 750578\n",
      "Crawl comment page 0 success!!!\n"
     ]
    },
    {
     "name": "stderr",
     "output_type": "stream",
     "text": [
      "  8%|██████                                                                       | 159/2000 [04:37<1:18:29,  2.56s/it]"
     ]
    },
    {
     "name": "stdout",
     "output_type": "stream",
     "text": [
      "Crawl comment page 1 success!!!\n",
      "Crawl comment for product 583680\n",
      "Crawl comment page 0 success!!!\n"
     ]
    },
    {
     "name": "stderr",
     "output_type": "stream",
     "text": [
      "  8%|██████▎                                                                        | 161/2000 [04:39<53:02,  1.73s/it]"
     ]
    },
    {
     "name": "stdout",
     "output_type": "stream",
     "text": [
      "Crawl comment page 1 success!!!\n",
      "Crawl comment for product 278150175\n",
      "Crawl comment page 0 success!!!\n",
      "Crawl comment page 1 success!!!\n",
      "Crawl comment for product 278122197\n",
      "Crawl comment page 0 success!!!\n"
     ]
    },
    {
     "name": "stderr",
     "output_type": "stream",
     "text": [
      "  8%|██████▍                                                                        | 162/2000 [04:39<38:12,  1.25s/it]"
     ]
    },
    {
     "name": "stdout",
     "output_type": "stream",
     "text": [
      "Crawl comment page 1 success!!!\n",
      "Crawl comment for product 278109668\n",
      "Crawl comment page 0 success!!!\n"
     ]
    },
    {
     "name": "stderr",
     "output_type": "stream",
     "text": [
      "  8%|██████▍                                                                        | 163/2000 [04:39<31:34,  1.03s/it]"
     ]
    },
    {
     "name": "stdout",
     "output_type": "stream",
     "text": [
      "Crawl comment page 1 success!!!\n",
      "Crawl comment for product 278095717\n",
      "Crawl comment page 0 success!!!\n"
     ]
    },
    {
     "name": "stderr",
     "output_type": "stream",
     "text": [
      "  8%|██████▍                                                                        | 164/2000 [04:40<24:12,  1.26it/s]"
     ]
    },
    {
     "name": "stdout",
     "output_type": "stream",
     "text": [
      "Crawl comment page 1 success!!!\n",
      "Crawl comment for product 278089743\n",
      "Crawl comment page 0 success!!!\n"
     ]
    },
    {
     "name": "stderr",
     "output_type": "stream",
     "text": [
      "  8%|██████▌                                                                        | 165/2000 [04:40<19:08,  1.60it/s]"
     ]
    },
    {
     "name": "stdout",
     "output_type": "stream",
     "text": [
      "Crawl comment page 1 success!!!\n",
      "Crawl comment for product 278054852\n",
      "Crawl comment page 0 success!!!\n"
     ]
    },
    {
     "name": "stderr",
     "output_type": "stream",
     "text": [
      "  8%|██████▌                                                                        | 166/2000 [04:40<17:19,  1.76it/s]"
     ]
    },
    {
     "name": "stdout",
     "output_type": "stream",
     "text": [
      "Crawl comment page 1 success!!!\n",
      "Crawl comment for product 278052764\n"
     ]
    },
    {
     "name": "stderr",
     "output_type": "stream",
     "text": [
      "  8%|██████▌                                                                        | 167/2000 [04:41<16:15,  1.88it/s]"
     ]
    },
    {
     "name": "stdout",
     "output_type": "stream",
     "text": [
      "Crawl comment page 0 success!!!\n",
      "Crawl comment page 1 success!!!\n",
      "Crawl comment for product 278031017\n",
      "Crawl comment page 0 success!!!\n"
     ]
    },
    {
     "name": "stderr",
     "output_type": "stream",
     "text": [
      "  8%|██████▋                                                                        | 168/2000 [04:41<13:33,  2.25it/s]"
     ]
    },
    {
     "name": "stdout",
     "output_type": "stream",
     "text": [
      "Crawl comment page 1 success!!!\n",
      "Crawl comment for product 277992346\n",
      "Crawl comment page 0 success!!!\n"
     ]
    },
    {
     "name": "stderr",
     "output_type": "stream",
     "text": [
      "  8%|██████▋                                                                        | 169/2000 [04:41<11:41,  2.61it/s]"
     ]
    },
    {
     "name": "stdout",
     "output_type": "stream",
     "text": [
      "Crawl comment page 1 success!!!\n",
      "Crawl comment for product 277987901\n",
      "Crawl comment page 0 success!!!\n"
     ]
    },
    {
     "name": "stderr",
     "output_type": "stream",
     "text": [
      "  8%|██████▋                                                                        | 170/2000 [04:42<12:48,  2.38it/s]"
     ]
    },
    {
     "name": "stdout",
     "output_type": "stream",
     "text": [
      "Crawl comment page 1 success!!!\n",
      "Crawl comment for product 277827033\n",
      "Crawl comment page 0 success!!!\n"
     ]
    },
    {
     "name": "stderr",
     "output_type": "stream",
     "text": [
      "  9%|██████▊                                                                        | 172/2000 [04:43<16:25,  1.85it/s]"
     ]
    },
    {
     "name": "stdout",
     "output_type": "stream",
     "text": [
      "Crawl comment page 1 success!!!\n",
      "Crawl comment for product 277816006\n",
      "Crawl comment page 0 success!!!\n",
      "Crawl comment page 1 success!!!\n",
      "Crawl comment for product 277384364\n"
     ]
    },
    {
     "name": "stderr",
     "output_type": "stream",
     "text": [
      "  9%|██████▊                                                                        | 173/2000 [04:44<13:03,  2.33it/s]"
     ]
    },
    {
     "name": "stdout",
     "output_type": "stream",
     "text": [
      "Crawl comment page 0 success!!!\n",
      "Crawl comment page 1 success!!!\n",
      "Crawl comment for product 276886071\n",
      "Crawl comment page 0 success!!!\n"
     ]
    },
    {
     "name": "stderr",
     "output_type": "stream",
     "text": [
      "  9%|██████▉                                                                        | 175/2000 [04:45<16:08,  1.88it/s]"
     ]
    },
    {
     "name": "stdout",
     "output_type": "stream",
     "text": [
      "Crawl comment page 1 success!!!\n",
      "Crawl comment for product 276508349\n",
      "Crawl comment page 0 success!!!\n",
      "Crawl comment page 1 success!!!\n",
      "Crawl comment for product 276313958\n",
      "Crawl comment page 0 success!!!\n"
     ]
    },
    {
     "name": "stderr",
     "output_type": "stream",
     "text": [
      "  9%|██████▉                                                                        | 176/2000 [04:47<31:34,  1.04s/it]"
     ]
    },
    {
     "name": "stdout",
     "output_type": "stream",
     "text": [
      "Crawl comment page 1 success!!!\n",
      "Crawl comment for product 275044457\n",
      "Crawl comment page 0 success!!!\n"
     ]
    },
    {
     "name": "stderr",
     "output_type": "stream",
     "text": [
      "  9%|██████▉                                                                        | 177/2000 [04:49<39:35,  1.30s/it]"
     ]
    },
    {
     "name": "stdout",
     "output_type": "stream",
     "text": [
      "Crawl comment page 1 success!!!\n",
      "Crawl comment for product 274546151\n",
      "Crawl comment page 0 success!!!\n"
     ]
    },
    {
     "name": "stderr",
     "output_type": "stream",
     "text": [
      "  9%|███████                                                                        | 178/2000 [04:52<58:16,  1.92s/it]"
     ]
    },
    {
     "name": "stdout",
     "output_type": "stream",
     "text": [
      "Crawl comment page 1 success!!!\n",
      "Crawl comment for product 274411010\n",
      "Crawl comment page 0 success!!!\n"
     ]
    },
    {
     "name": "stderr",
     "output_type": "stream",
     "text": [
      "  9%|██████▉                                                                      | 179/2000 [04:55<1:05:29,  2.16s/it]"
     ]
    },
    {
     "name": "stdout",
     "output_type": "stream",
     "text": [
      "Crawl comment page 1 success!!!\n",
      "Crawl comment for product 274145959\n",
      "Crawl comment page 0 success!!!\n"
     ]
    },
    {
     "name": "stderr",
     "output_type": "stream",
     "text": [
      "  9%|██████▉                                                                      | 180/2000 [04:58<1:10:37,  2.33s/it]"
     ]
    },
    {
     "name": "stdout",
     "output_type": "stream",
     "text": [
      "Crawl comment page 1 success!!!\n",
      "Crawl comment for product 271118010\n",
      "Crawl comment page 0 success!!!\n"
     ]
    },
    {
     "name": "stderr",
     "output_type": "stream",
     "text": [
      "  9%|██████▉                                                                      | 181/2000 [05:01<1:13:21,  2.42s/it]"
     ]
    },
    {
     "name": "stdout",
     "output_type": "stream",
     "text": [
      "Crawl comment page 1 success!!!\n",
      "Crawl comment for product 270114030\n",
      "Crawl comment page 0 success!!!\n"
     ]
    },
    {
     "name": "stderr",
     "output_type": "stream",
     "text": [
      "  9%|███████                                                                      | 182/2000 [05:02<1:03:58,  2.11s/it]"
     ]
    },
    {
     "name": "stdout",
     "output_type": "stream",
     "text": [
      "Crawl comment page 1 success!!!\n",
      "Crawl comment for product 267208813\n",
      "Crawl comment page 0 success!!!\n"
     ]
    },
    {
     "name": "stderr",
     "output_type": "stream",
     "text": [
      "  9%|███████                                                                      | 183/2000 [05:04<1:02:59,  2.08s/it]"
     ]
    },
    {
     "name": "stdout",
     "output_type": "stream",
     "text": [
      "Crawl comment page 1 success!!!\n",
      "Crawl comment for product 262977989\n",
      "Crawl comment page 0 success!!!\n"
     ]
    },
    {
     "name": "stderr",
     "output_type": "stream",
     "text": [
      "  9%|███████                                                                      | 184/2000 [05:07<1:15:15,  2.49s/it]"
     ]
    },
    {
     "name": "stdout",
     "output_type": "stream",
     "text": [
      "Crawl comment page 1 success!!!\n",
      "Crawl comment for product 252857457\n",
      "Crawl comment page 0 success!!!\n"
     ]
    },
    {
     "name": "stderr",
     "output_type": "stream",
     "text": [
      "  9%|███████                                                                      | 185/2000 [05:11<1:24:40,  2.80s/it]"
     ]
    },
    {
     "name": "stdout",
     "output_type": "stream",
     "text": [
      "Crawl comment page 1 success!!!\n",
      "Crawl comment for product 249844452\n",
      "Crawl comment page 0 success!!!\n"
     ]
    },
    {
     "name": "stderr",
     "output_type": "stream",
     "text": [
      "  9%|███████▏                                                                     | 186/2000 [05:11<1:02:08,  2.06s/it]"
     ]
    },
    {
     "name": "stdout",
     "output_type": "stream",
     "text": [
      "Crawl comment page 1 success!!!\n",
      "Crawl comment for product 205148094\n",
      "Crawl comment page 0 success!!!\n"
     ]
    },
    {
     "name": "stderr",
     "output_type": "stream",
     "text": [
      "  9%|███████▍                                                                       | 187/2000 [05:12<54:10,  1.79s/it]"
     ]
    },
    {
     "name": "stdout",
     "output_type": "stream",
     "text": [
      "Crawl comment page 1 success!!!\n",
      "Crawl comment for product 198342220\n",
      "Crawl comment page 0 success!!!\n"
     ]
    },
    {
     "name": "stderr",
     "output_type": "stream",
     "text": [
      "  9%|███████▍                                                                       | 188/2000 [05:14<48:55,  1.62s/it]"
     ]
    },
    {
     "name": "stdout",
     "output_type": "stream",
     "text": [
      "Crawl comment page 1 success!!!\n",
      "Crawl comment for product 186286187\n",
      "Crawl comment page 0 success!!!\n"
     ]
    },
    {
     "name": "stderr",
     "output_type": "stream",
     "text": [
      "  9%|███████▍                                                                       | 189/2000 [05:15<48:25,  1.60s/it]"
     ]
    },
    {
     "name": "stdout",
     "output_type": "stream",
     "text": [
      "Crawl comment page 1 success!!!\n",
      "Crawl comment for product 176909221\n",
      "Crawl comment page 0 success!!!\n"
     ]
    },
    {
     "name": "stderr",
     "output_type": "stream",
     "text": [
      " 10%|███████▌                                                                       | 190/2000 [05:17<53:01,  1.76s/it]"
     ]
    },
    {
     "name": "stdout",
     "output_type": "stream",
     "text": [
      "Crawl comment page 1 success!!!\n",
      "Crawl comment for product 170708227\n",
      "Crawl comment page 0 success!!!\n"
     ]
    },
    {
     "name": "stderr",
     "output_type": "stream",
     "text": [
      " 10%|███████▌                                                                       | 191/2000 [05:19<54:34,  1.81s/it]"
     ]
    },
    {
     "name": "stdout",
     "output_type": "stream",
     "text": [
      "Crawl comment page 1 success!!!\n",
      "Crawl comment for product 111582638\n",
      "Crawl comment page 0 success!!!\n"
     ]
    },
    {
     "name": "stderr",
     "output_type": "stream",
     "text": [
      " 10%|███████▌                                                                       | 192/2000 [05:21<56:07,  1.86s/it]"
     ]
    },
    {
     "name": "stdout",
     "output_type": "stream",
     "text": [
      "Crawl comment page 1 success!!!\n",
      "Crawl comment for product 80628929\n",
      "Crawl comment page 0 success!!!\n"
     ]
    },
    {
     "name": "stderr",
     "output_type": "stream",
     "text": [
      " 10%|███████▌                                                                       | 193/2000 [05:22<50:34,  1.68s/it]"
     ]
    },
    {
     "name": "stdout",
     "output_type": "stream",
     "text": [
      "Crawl comment page 1 success!!!\n",
      "Crawl comment for product 76013370\n",
      "Crawl comment page 0 success!!!\n"
     ]
    },
    {
     "name": "stderr",
     "output_type": "stream",
     "text": [
      " 10%|███████▍                                                                     | 194/2000 [05:26<1:02:53,  2.09s/it]"
     ]
    },
    {
     "name": "stdout",
     "output_type": "stream",
     "text": [
      "Crawl comment page 1 success!!!\n",
      "Crawl comment for product 73207240\n",
      "Crawl comment page 0 success!!!\n"
     ]
    },
    {
     "name": "stderr",
     "output_type": "stream",
     "text": [
      " 10%|███████▌                                                                     | 195/2000 [05:28<1:04:40,  2.15s/it]"
     ]
    },
    {
     "name": "stdout",
     "output_type": "stream",
     "text": [
      "Crawl comment page 1 success!!!\n",
      "Crawl comment for product 72459686\n",
      "Crawl comment page 0 success!!!\n"
     ]
    },
    {
     "name": "stderr",
     "output_type": "stream",
     "text": [
      " 10%|███████▌                                                                     | 196/2000 [05:31<1:13:26,  2.44s/it]"
     ]
    },
    {
     "name": "stdout",
     "output_type": "stream",
     "text": [
      "Crawl comment page 1 success!!!\n",
      "Crawl comment for product 63187280\n",
      "Crawl comment page 0 success!!!\n"
     ]
    },
    {
     "name": "stderr",
     "output_type": "stream",
     "text": [
      " 10%|███████▌                                                                     | 197/2000 [05:32<1:04:19,  2.14s/it]"
     ]
    },
    {
     "name": "stdout",
     "output_type": "stream",
     "text": [
      "Crawl comment page 1 success!!!\n",
      "Crawl comment for product 16284286\n",
      "Crawl comment page 0 success!!!\n"
     ]
    },
    {
     "name": "stderr",
     "output_type": "stream",
     "text": [
      " 10%|███████▌                                                                     | 198/2000 [05:35<1:04:39,  2.15s/it]"
     ]
    },
    {
     "name": "stdout",
     "output_type": "stream",
     "text": [
      "Crawl comment page 1 success!!!\n",
      "Crawl comment for product 953883\n",
      "Crawl comment page 0 success!!!\n"
     ]
    },
    {
     "name": "stderr",
     "output_type": "stream",
     "text": [
      " 10%|███████▊                                                                       | 199/2000 [05:35<52:05,  1.74s/it]"
     ]
    },
    {
     "name": "stdout",
     "output_type": "stream",
     "text": [
      "Crawl comment page 1 success!!!\n",
      "Crawl comment for product 540040\n",
      "Crawl comment page 0 success!!!\n"
     ]
    },
    {
     "name": "stderr",
     "output_type": "stream",
     "text": [
      " 10%|███████▉                                                                       | 201/2000 [05:37<38:33,  1.29s/it]"
     ]
    },
    {
     "name": "stdout",
     "output_type": "stream",
     "text": [
      "Crawl comment page 1 success!!!\n",
      "Crawl comment for product 278160119\n",
      "Crawl comment page 0 success!!!\n",
      "Crawl comment page 1 success!!!\n",
      "Crawl comment for product 278160056\n"
     ]
    },
    {
     "name": "stderr",
     "output_type": "stream",
     "text": [
      " 10%|███████▉                                                                       | 202/2000 [05:37<28:24,  1.05it/s]"
     ]
    },
    {
     "name": "stdout",
     "output_type": "stream",
     "text": [
      "Crawl comment page 0 success!!!\n",
      "Crawl comment page 1 success!!!\n",
      "Crawl comment for product 278100335\n"
     ]
    },
    {
     "name": "stderr",
     "output_type": "stream",
     "text": [
      " 10%|████████                                                                       | 203/2000 [05:38<22:59,  1.30it/s]"
     ]
    },
    {
     "name": "stdout",
     "output_type": "stream",
     "text": [
      "Crawl comment page 0 success!!!\n",
      "Crawl comment page 1 success!!!\n",
      "Crawl comment for product 278094949\n"
     ]
    },
    {
     "name": "stderr",
     "output_type": "stream",
     "text": [
      " 10%|████████                                                                       | 204/2000 [05:38<18:08,  1.65it/s]"
     ]
    },
    {
     "name": "stdout",
     "output_type": "stream",
     "text": [
      "Crawl comment page 0 success!!!\n",
      "Crawl comment page 1 success!!!\n",
      "Crawl comment for product 278055612\n",
      "Crawl comment page 0 success!!!\n"
     ]
    },
    {
     "name": "stderr",
     "output_type": "stream",
     "text": [
      " 10%|████████▏                                                                      | 206/2000 [05:38<10:57,  2.73it/s]"
     ]
    },
    {
     "name": "stdout",
     "output_type": "stream",
     "text": [
      "Crawl comment page 1 success!!!\n",
      "Crawl comment for product 278052500\n",
      "Crawl comment page 0 success!!!\n",
      "Crawl comment page 1 success!!!\n",
      "Crawl comment for product 278029748\n",
      "Crawl comment page 0 success!!!\n"
     ]
    },
    {
     "name": "stderr",
     "output_type": "stream",
     "text": [
      " 10%|████████▏                                                                      | 207/2000 [05:41<33:00,  1.10s/it]"
     ]
    },
    {
     "name": "stdout",
     "output_type": "stream",
     "text": [
      "Crawl comment page 1 success!!!\n",
      "Crawl comment for product 277967040\n",
      "Crawl comment page 0 success!!!\n"
     ]
    },
    {
     "name": "stderr",
     "output_type": "stream",
     "text": [
      " 10%|████████▏                                                                      | 208/2000 [05:42<29:18,  1.02it/s]"
     ]
    },
    {
     "name": "stdout",
     "output_type": "stream",
     "text": [
      "Crawl comment page 1 success!!!\n",
      "Crawl comment for product 277933562\n",
      "Crawl comment page 0 success!!!\n"
     ]
    },
    {
     "name": "stderr",
     "output_type": "stream",
     "text": [
      " 10%|████████▎                                                                      | 209/2000 [05:42<22:59,  1.30it/s]"
     ]
    },
    {
     "name": "stdout",
     "output_type": "stream",
     "text": [
      "Crawl comment page 1 success!!!\n",
      "Crawl comment for product 277926258\n"
     ]
    },
    {
     "name": "stderr",
     "output_type": "stream",
     "text": [
      " 10%|████████▎                                                                      | 210/2000 [05:43<19:46,  1.51it/s]"
     ]
    },
    {
     "name": "stdout",
     "output_type": "stream",
     "text": [
      "Crawl comment page 0 success!!!\n",
      "Crawl comment page 1 success!!!\n",
      "Crawl comment for product 277842134\n"
     ]
    },
    {
     "name": "stderr",
     "output_type": "stream",
     "text": [
      " 11%|████████▎                                                                      | 211/2000 [05:43<16:23,  1.82it/s]"
     ]
    },
    {
     "name": "stdout",
     "output_type": "stream",
     "text": [
      "Crawl comment page 0 success!!!\n",
      "Crawl comment page 1 success!!!\n",
      "Crawl comment for product 277776208\n",
      "Crawl comment page 0 success!!!\n"
     ]
    },
    {
     "name": "stderr",
     "output_type": "stream",
     "text": [
      " 11%|████████▎                                                                      | 212/2000 [05:44<17:39,  1.69it/s]"
     ]
    },
    {
     "name": "stdout",
     "output_type": "stream",
     "text": [
      "Crawl comment page 1 success!!!\n",
      "Crawl comment for product 277591013\n",
      "Crawl comment page 0 success!!!\n"
     ]
    },
    {
     "name": "stderr",
     "output_type": "stream",
     "text": [
      " 11%|████████▍                                                                      | 213/2000 [05:45<21:20,  1.40it/s]"
     ]
    },
    {
     "name": "stdout",
     "output_type": "stream",
     "text": [
      "Crawl comment page 1 success!!!\n",
      "Crawl comment for product 277420883\n",
      "Crawl comment page 0 success!!!\n"
     ]
    },
    {
     "name": "stderr",
     "output_type": "stream",
     "text": [
      " 11%|████████▍                                                                      | 214/2000 [05:46<29:45,  1.00it/s]"
     ]
    },
    {
     "name": "stdout",
     "output_type": "stream",
     "text": [
      "Crawl comment page 1 success!!!\n",
      "Crawl comment for product 276928994\n",
      "Crawl comment page 0 success!!!\n"
     ]
    },
    {
     "name": "stderr",
     "output_type": "stream",
     "text": [
      " 11%|████████▍                                                                      | 215/2000 [05:48<35:15,  1.19s/it]"
     ]
    },
    {
     "name": "stdout",
     "output_type": "stream",
     "text": [
      "Crawl comment page 1 success!!!\n",
      "Crawl comment for product 276922095\n",
      "Crawl comment page 0 success!!!\n"
     ]
    },
    {
     "name": "stderr",
     "output_type": "stream",
     "text": [
      " 11%|████████▌                                                                      | 216/2000 [05:49<39:08,  1.32s/it]"
     ]
    },
    {
     "name": "stdout",
     "output_type": "stream",
     "text": [
      "Crawl comment page 1 success!!!\n",
      "Crawl comment for product 275821937\n",
      "Crawl comment page 0 success!!!\n"
     ]
    },
    {
     "name": "stderr",
     "output_type": "stream",
     "text": [
      " 11%|████████▌                                                                      | 217/2000 [05:50<32:38,  1.10s/it]"
     ]
    },
    {
     "name": "stdout",
     "output_type": "stream",
     "text": [
      "Crawl comment page 1 success!!!\n",
      "Crawl comment for product 274728364\n",
      "Crawl comment page 0 success!!!\n"
     ]
    },
    {
     "name": "stderr",
     "output_type": "stream",
     "text": [
      " 11%|████████▌                                                                      | 218/2000 [05:52<43:24,  1.46s/it]"
     ]
    },
    {
     "name": "stdout",
     "output_type": "stream",
     "text": [
      "Crawl comment page 1 success!!!\n",
      "Crawl comment for product 271219230\n",
      "Crawl comment page 0 success!!!\n"
     ]
    },
    {
     "name": "stderr",
     "output_type": "stream",
     "text": [
      " 11%|████████▋                                                                      | 219/2000 [05:54<48:54,  1.65s/it]"
     ]
    },
    {
     "name": "stdout",
     "output_type": "stream",
     "text": [
      "Crawl comment page 1 success!!!\n",
      "Crawl comment for product 270546273\n",
      "Crawl comment page 0 success!!!\n"
     ]
    },
    {
     "name": "stderr",
     "output_type": "stream",
     "text": [
      " 11%|████████▋                                                                      | 220/2000 [05:56<45:08,  1.52s/it]"
     ]
    },
    {
     "name": "stdout",
     "output_type": "stream",
     "text": [
      "Crawl comment page 1 success!!!\n",
      "Crawl comment for product 263513296\n",
      "Crawl comment page 0 success!!!\n"
     ]
    },
    {
     "name": "stderr",
     "output_type": "stream",
     "text": [
      " 11%|████████▌                                                                    | 221/2000 [06:00<1:06:03,  2.23s/it]"
     ]
    },
    {
     "name": "stdout",
     "output_type": "stream",
     "text": [
      "Crawl comment page 1 success!!!\n",
      "Crawl comment for product 250334911\n",
      "Crawl comment page 0 success!!!\n"
     ]
    },
    {
     "name": "stderr",
     "output_type": "stream",
     "text": [
      " 11%|████████▊                                                                      | 222/2000 [06:00<51:39,  1.74s/it]"
     ]
    },
    {
     "name": "stdout",
     "output_type": "stream",
     "text": [
      "Crawl comment page 1 success!!!\n",
      "Crawl comment for product 249875150\n",
      "Crawl comment page 0 success!!!\n"
     ]
    },
    {
     "name": "stderr",
     "output_type": "stream",
     "text": [
      " 11%|████████▊                                                                      | 223/2000 [06:03<59:48,  2.02s/it]"
     ]
    },
    {
     "name": "stdout",
     "output_type": "stream",
     "text": [
      "Crawl comment page 1 success!!!\n",
      "Crawl comment for product 204000450\n",
      "Crawl comment page 0 success!!!\n"
     ]
    },
    {
     "name": "stderr",
     "output_type": "stream",
     "text": [
      " 11%|████████▊                                                                      | 224/2000 [06:03<47:45,  1.61s/it]"
     ]
    },
    {
     "name": "stdout",
     "output_type": "stream",
     "text": [
      "Crawl comment page 1 success!!!\n",
      "Crawl comment for product 200852592\n",
      "Crawl comment page 0 success!!!\n"
     ]
    },
    {
     "name": "stderr",
     "output_type": "stream",
     "text": [
      " 11%|████████▉                                                                      | 225/2000 [06:06<52:49,  1.79s/it]"
     ]
    },
    {
     "name": "stdout",
     "output_type": "stream",
     "text": [
      "Crawl comment page 1 success!!!\n",
      "Crawl comment for product 192125798\n",
      "Crawl comment page 0 success!!!\n"
     ]
    },
    {
     "name": "stderr",
     "output_type": "stream",
     "text": [
      " 11%|████████▋                                                                    | 226/2000 [06:09<1:08:05,  2.30s/it]"
     ]
    },
    {
     "name": "stdout",
     "output_type": "stream",
     "text": [
      "Crawl comment page 1 success!!!\n",
      "Crawl comment for product 189643105\n",
      "Crawl comment page 0 success!!!\n"
     ]
    },
    {
     "name": "stderr",
     "output_type": "stream",
     "text": [
      " 11%|████████▋                                                                    | 227/2000 [06:11<1:05:31,  2.22s/it]"
     ]
    },
    {
     "name": "stdout",
     "output_type": "stream",
     "text": [
      "Crawl comment page 1 success!!!\n",
      "Crawl comment for product 173748415\n",
      "Crawl comment page 0 success!!!\n"
     ]
    },
    {
     "name": "stderr",
     "output_type": "stream",
     "text": [
      " 11%|█████████                                                                      | 228/2000 [06:13<59:59,  2.03s/it]"
     ]
    },
    {
     "name": "stdout",
     "output_type": "stream",
     "text": [
      "Crawl comment page 1 success!!!\n",
      "Crawl comment for product 129381400\n",
      "Crawl comment page 0 success!!!\n"
     ]
    },
    {
     "name": "stderr",
     "output_type": "stream",
     "text": [
      " 12%|█████████                                                                      | 230/2000 [06:13<34:24,  1.17s/it]"
     ]
    },
    {
     "name": "stdout",
     "output_type": "stream",
     "text": [
      "Crawl comment page 1 success!!!\n",
      "Crawl comment for product 87993231\n",
      "Crawl comment page 0 success!!!\n",
      "Crawl comment page 1 success!!!\n",
      "Crawl comment for product 73207098\n",
      "Crawl comment page 0 success!!!\n"
     ]
    },
    {
     "name": "stderr",
     "output_type": "stream",
     "text": [
      " 12%|█████████                                                                      | 231/2000 [06:15<38:41,  1.31s/it]"
     ]
    },
    {
     "name": "stdout",
     "output_type": "stream",
     "text": [
      "Crawl comment page 1 success!!!\n",
      "Crawl comment for product 66067655\n",
      "Crawl comment page 0 success!!!\n"
     ]
    },
    {
     "name": "stderr",
     "output_type": "stream",
     "text": [
      " 12%|█████████▏                                                                     | 232/2000 [06:17<43:21,  1.47s/it]"
     ]
    },
    {
     "name": "stdout",
     "output_type": "stream",
     "text": [
      "Crawl comment page 1 success!!!\n",
      "Crawl comment for product 55319105\n",
      "Crawl comment page 0 success!!!\n"
     ]
    },
    {
     "name": "stderr",
     "output_type": "stream",
     "text": [
      " 12%|█████████▏                                                                     | 233/2000 [06:19<49:02,  1.67s/it]"
     ]
    },
    {
     "name": "stdout",
     "output_type": "stream",
     "text": [
      "Crawl comment page 1 success!!!\n",
      "Crawl comment for product 53434623\n",
      "Crawl comment page 0 success!!!\n"
     ]
    },
    {
     "name": "stderr",
     "output_type": "stream",
     "text": [
      " 12%|█████████▏                                                                     | 234/2000 [06:20<39:22,  1.34s/it]"
     ]
    },
    {
     "name": "stdout",
     "output_type": "stream",
     "text": [
      "Crawl comment page 1 success!!!\n",
      "Crawl comment for product 49002009\n",
      "Crawl comment page 0 success!!!\n"
     ]
    },
    {
     "name": "stderr",
     "output_type": "stream",
     "text": [
      " 12%|█████████▎                                                                     | 235/2000 [06:21<39:38,  1.35s/it]"
     ]
    },
    {
     "name": "stdout",
     "output_type": "stream",
     "text": [
      "Crawl comment page 1 success!!!\n",
      "Crawl comment for product 35191892\n",
      "Crawl comment page 0 success!!!\n"
     ]
    },
    {
     "name": "stderr",
     "output_type": "stream",
     "text": [
      " 12%|█████████▎                                                                     | 236/2000 [06:24<55:57,  1.90s/it]"
     ]
    },
    {
     "name": "stdout",
     "output_type": "stream",
     "text": [
      "Crawl comment page 1 success!!!\n",
      "Crawl comment for product 15267827\n",
      "Crawl comment page 0 success!!!\n"
     ]
    },
    {
     "name": "stderr",
     "output_type": "stream",
     "text": [
      " 12%|█████████                                                                    | 237/2000 [06:27<1:06:46,  2.27s/it]"
     ]
    },
    {
     "name": "stdout",
     "output_type": "stream",
     "text": [
      "Crawl comment page 1 success!!!\n",
      "Crawl comment for product 11119019\n",
      "Crawl comment page 0 success!!!\n"
     ]
    },
    {
     "name": "stderr",
     "output_type": "stream",
     "text": [
      " 12%|█████████▍                                                                     | 238/2000 [06:29<56:35,  1.93s/it]"
     ]
    },
    {
     "name": "stdout",
     "output_type": "stream",
     "text": [
      "Crawl comment page 1 success!!!\n",
      "Crawl comment for product 8885999\n",
      "Crawl comment page 0 success!!!\n"
     ]
    },
    {
     "name": "stderr",
     "output_type": "stream",
     "text": [
      " 12%|█████████▏                                                                   | 239/2000 [06:31<1:02:29,  2.13s/it]"
     ]
    },
    {
     "name": "stdout",
     "output_type": "stream",
     "text": [
      "Crawl comment page 1 success!!!\n",
      "Crawl comment for product 1085104\n",
      "Crawl comment page 0 success!!!\n"
     ]
    },
    {
     "name": "stderr",
     "output_type": "stream",
     "text": [
      " 12%|█████████▌                                                                     | 241/2000 [06:32<38:25,  1.31s/it]"
     ]
    },
    {
     "name": "stdout",
     "output_type": "stream",
     "text": [
      "Crawl comment page 1 success!!!\n",
      "Crawl comment for product 278160058\n",
      "Crawl comment page 0 success!!!\n",
      "Crawl comment page 1 success!!!\n",
      "Crawl comment for product 278160053\n",
      "Crawl comment page 0 success!!!\n"
     ]
    },
    {
     "name": "stderr",
     "output_type": "stream",
     "text": [
      " 12%|█████████▌                                                                     | 243/2000 [06:33<21:12,  1.38it/s]"
     ]
    },
    {
     "name": "stdout",
     "output_type": "stream",
     "text": [
      "Crawl comment page 1 success!!!\n",
      "Crawl comment for product 278123453\n",
      "Crawl comment page 0 success!!!\n",
      "Crawl comment page 1 success!!!\n",
      "Crawl comment for product 278074011\n"
     ]
    },
    {
     "name": "stderr",
     "output_type": "stream",
     "text": [
      " 12%|█████████▋                                                                     | 244/2000 [06:33<15:46,  1.85it/s]"
     ]
    },
    {
     "name": "stdout",
     "output_type": "stream",
     "text": [
      "Crawl comment page 0 success!!!\n",
      "Crawl comment page 1 success!!!\n",
      "Crawl comment for product 278062000\n",
      "Crawl comment page 0 success!!!\n"
     ]
    },
    {
     "name": "stderr",
     "output_type": "stream",
     "text": [
      " 12%|█████████▋                                                                     | 245/2000 [06:33<12:30,  2.34it/s]"
     ]
    },
    {
     "name": "stdout",
     "output_type": "stream",
     "text": [
      "Crawl comment page 1 success!!!\n",
      "Crawl comment for product 278031021\n",
      "Crawl comment page 0 success!!!\n"
     ]
    },
    {
     "name": "stderr",
     "output_type": "stream",
     "text": [
      " 12%|█████████▋                                                                     | 246/2000 [06:33<11:21,  2.58it/s]"
     ]
    },
    {
     "name": "stdout",
     "output_type": "stream",
     "text": [
      "Crawl comment page 1 success!!!\n",
      "Crawl comment for product 277875592\n",
      "Crawl comment page 0 success!!!\n"
     ]
    },
    {
     "name": "stderr",
     "output_type": "stream",
     "text": [
      " 12%|█████████▊                                                                     | 247/2000 [06:34<16:42,  1.75it/s]"
     ]
    },
    {
     "name": "stdout",
     "output_type": "stream",
     "text": [
      "Crawl comment page 1 success!!!\n",
      "Crawl comment for product 277837116\n",
      "Crawl comment page 0 success!!!\n"
     ]
    },
    {
     "name": "stderr",
     "output_type": "stream",
     "text": [
      " 12%|█████████▊                                                                     | 249/2000 [06:35<13:20,  2.19it/s]"
     ]
    },
    {
     "name": "stdout",
     "output_type": "stream",
     "text": [
      "Crawl comment page 1 success!!!\n",
      "Crawl comment for product 277770734\n",
      "Crawl comment page 0 success!!!\n",
      "Crawl comment page 1 success!!!\n",
      "Crawl comment for product 277596870\n",
      "Crawl comment page 0 success!!!\n"
     ]
    },
    {
     "name": "stderr",
     "output_type": "stream",
     "text": [
      " 12%|█████████▉                                                                     | 250/2000 [06:36<20:41,  1.41it/s]"
     ]
    },
    {
     "name": "stdout",
     "output_type": "stream",
     "text": [
      "Crawl comment page 1 success!!!\n",
      "Crawl comment for product 277581147\n",
      "Crawl comment page 0 success!!!\n"
     ]
    },
    {
     "name": "stderr",
     "output_type": "stream",
     "text": [
      " 13%|█████████▉                                                                     | 252/2000 [06:37<14:53,  1.96it/s]"
     ]
    },
    {
     "name": "stdout",
     "output_type": "stream",
     "text": [
      "Crawl comment page 1 success!!!\n",
      "Crawl comment for product 277565631\n",
      "Crawl comment page 0 success!!!\n",
      "Crawl comment page 1 success!!!\n",
      "Crawl comment for product 276379811\n",
      "Crawl comment page 0 success!!!\n"
     ]
    },
    {
     "name": "stderr",
     "output_type": "stream",
     "text": [
      " 13%|█████████▉                                                                     | 253/2000 [06:38<18:53,  1.54it/s]"
     ]
    },
    {
     "name": "stdout",
     "output_type": "stream",
     "text": [
      "Crawl comment page 1 success!!!\n",
      "Crawl comment for product 276376962\n",
      "Crawl comment page 0 success!!!\n"
     ]
    },
    {
     "name": "stderr",
     "output_type": "stream",
     "text": [
      " 13%|██████████                                                                     | 254/2000 [06:41<39:04,  1.34s/it]"
     ]
    },
    {
     "name": "stdout",
     "output_type": "stream",
     "text": [
      "Crawl comment page 1 success!!!\n",
      "Crawl comment for product 275793457\n",
      "Crawl comment page 0 success!!!\n"
     ]
    },
    {
     "name": "stderr",
     "output_type": "stream",
     "text": [
      " 13%|██████████                                                                     | 255/2000 [06:43<42:11,  1.45s/it]"
     ]
    },
    {
     "name": "stdout",
     "output_type": "stream",
     "text": [
      "Crawl comment page 1 success!!!\n",
      "Crawl comment for product 275362670\n",
      "Crawl comment page 0 success!!!\n"
     ]
    },
    {
     "name": "stderr",
     "output_type": "stream",
     "text": [
      " 13%|██████████                                                                     | 256/2000 [06:44<44:18,  1.52s/it]"
     ]
    },
    {
     "name": "stdout",
     "output_type": "stream",
     "text": [
      "Crawl comment page 1 success!!!\n",
      "Crawl comment for product 275243125\n",
      "Crawl comment page 0 success!!!\n"
     ]
    },
    {
     "name": "stderr",
     "output_type": "stream",
     "text": [
      " 13%|██████████▏                                                                    | 257/2000 [06:46<46:20,  1.60s/it]"
     ]
    },
    {
     "name": "stdout",
     "output_type": "stream",
     "text": [
      "Crawl comment page 1 success!!!\n",
      "Crawl comment for product 275041762\n",
      "Crawl comment page 0 success!!!\n"
     ]
    },
    {
     "name": "stderr",
     "output_type": "stream",
     "text": [
      " 13%|█████████▉                                                                   | 258/2000 [06:49<1:00:00,  2.07s/it]"
     ]
    },
    {
     "name": "stdout",
     "output_type": "stream",
     "text": [
      "Crawl comment page 1 success!!!\n",
      "Crawl comment for product 274120615\n",
      "Crawl comment page 0 success!!!\n"
     ]
    },
    {
     "name": "stderr",
     "output_type": "stream",
     "text": [
      " 13%|██████████▏                                                                    | 259/2000 [06:50<48:47,  1.68s/it]"
     ]
    },
    {
     "name": "stdout",
     "output_type": "stream",
     "text": [
      "Crawl comment page 1 success!!!\n",
      "Crawl comment for product 273355903\n",
      "Crawl comment page 0 success!!!\n"
     ]
    },
    {
     "name": "stderr",
     "output_type": "stream",
     "text": [
      " 13%|██████████▎                                                                    | 260/2000 [06:51<46:05,  1.59s/it]"
     ]
    },
    {
     "name": "stdout",
     "output_type": "stream",
     "text": [
      "Crawl comment page 1 success!!!\n",
      "Crawl comment for product 270847918\n",
      "Crawl comment page 0 success!!!\n"
     ]
    },
    {
     "name": "stderr",
     "output_type": "stream",
     "text": [
      " 13%|██████████▎                                                                    | 261/2000 [06:53<48:10,  1.66s/it]"
     ]
    },
    {
     "name": "stdout",
     "output_type": "stream",
     "text": [
      "Crawl comment page 1 success!!!\n",
      "Crawl comment for product 270234757\n",
      "Crawl comment page 0 success!!!\n"
     ]
    },
    {
     "name": "stderr",
     "output_type": "stream",
     "text": [
      " 13%|██████████▎                                                                    | 262/2000 [06:56<53:49,  1.86s/it]"
     ]
    },
    {
     "name": "stdout",
     "output_type": "stream",
     "text": [
      "Crawl comment page 1 success!!!\n",
      "Crawl comment for product 248755023\n",
      "Crawl comment page 0 success!!!\n"
     ]
    },
    {
     "name": "stderr",
     "output_type": "stream",
     "text": [
      " 13%|██████████▍                                                                    | 263/2000 [06:58<55:34,  1.92s/it]"
     ]
    },
    {
     "name": "stdout",
     "output_type": "stream",
     "text": [
      "Crawl comment page 1 success!!!\n",
      "Crawl comment for product 207754093\n",
      "Crawl comment page 0 success!!!\n"
     ]
    },
    {
     "name": "stderr",
     "output_type": "stream",
     "text": [
      " 13%|██████████▍                                                                    | 264/2000 [07:00<58:40,  2.03s/it]"
     ]
    },
    {
     "name": "stdout",
     "output_type": "stream",
     "text": [
      "Crawl comment page 1 success!!!\n",
      "Crawl comment for product 199030585\n",
      "Crawl comment page 0 success!!!\n"
     ]
    },
    {
     "name": "stderr",
     "output_type": "stream",
     "text": [
      " 13%|██████████▍                                                                    | 265/2000 [07:02<58:10,  2.01s/it]"
     ]
    },
    {
     "name": "stdout",
     "output_type": "stream",
     "text": [
      "Crawl comment page 1 success!!!\n",
      "Crawl comment for product 185909452\n",
      "Crawl comment page 0 success!!!\n"
     ]
    },
    {
     "name": "stderr",
     "output_type": "stream",
     "text": [
      " 13%|██████████▌                                                                    | 266/2000 [07:03<50:44,  1.76s/it]"
     ]
    },
    {
     "name": "stdout",
     "output_type": "stream",
     "text": [
      "Crawl comment page 1 success!!!\n",
      "Crawl comment for product 184419723\n",
      "Crawl comment page 0 success!!!\n"
     ]
    },
    {
     "name": "stderr",
     "output_type": "stream",
     "text": [
      " 13%|██████████▌                                                                    | 267/2000 [07:05<56:01,  1.94s/it]"
     ]
    },
    {
     "name": "stdout",
     "output_type": "stream",
     "text": [
      "Crawl comment page 1 success!!!\n",
      "Crawl comment for product 161310103\n",
      "Crawl comment page 0 success!!!\n"
     ]
    },
    {
     "name": "stderr",
     "output_type": "stream",
     "text": [
      " 13%|██████████▌                                                                    | 268/2000 [07:07<55:48,  1.93s/it]"
     ]
    },
    {
     "name": "stdout",
     "output_type": "stream",
     "text": [
      "Crawl comment page 1 success!!!\n",
      "Crawl comment for product 160370181\n",
      "Crawl comment page 0 success!!!\n"
     ]
    },
    {
     "name": "stderr",
     "output_type": "stream",
     "text": [
      " 13%|██████████▋                                                                    | 269/2000 [07:09<52:19,  1.81s/it]"
     ]
    },
    {
     "name": "stdout",
     "output_type": "stream",
     "text": [
      "Crawl comment page 1 success!!!\n",
      "Crawl comment for product 137561103\n",
      "Crawl comment page 0 success!!!\n"
     ]
    },
    {
     "name": "stderr",
     "output_type": "stream",
     "text": [
      " 14%|██████████▋                                                                    | 270/2000 [07:10<43:04,  1.49s/it]"
     ]
    },
    {
     "name": "stdout",
     "output_type": "stream",
     "text": [
      "Crawl comment page 1 success!!!\n",
      "Crawl comment for product 107026335\n",
      "Crawl comment page 0 success!!!\n"
     ]
    },
    {
     "name": "stderr",
     "output_type": "stream",
     "text": [
      " 14%|██████████▋                                                                    | 271/2000 [07:11<45:45,  1.59s/it]"
     ]
    },
    {
     "name": "stdout",
     "output_type": "stream",
     "text": [
      "Crawl comment page 1 success!!!\n",
      "Crawl comment for product 106365090\n",
      "Crawl comment page 0 success!!!\n"
     ]
    },
    {
     "name": "stderr",
     "output_type": "stream",
     "text": [
      " 14%|██████████▋                                                                    | 272/2000 [07:14<53:45,  1.87s/it]"
     ]
    },
    {
     "name": "stdout",
     "output_type": "stream",
     "text": [
      "Crawl comment page 1 success!!!\n",
      "Crawl comment for product 101897983\n",
      "Crawl comment page 0 success!!!\n"
     ]
    },
    {
     "name": "stderr",
     "output_type": "stream",
     "text": [
      " 14%|██████████▊                                                                    | 273/2000 [07:15<48:29,  1.68s/it]"
     ]
    },
    {
     "name": "stdout",
     "output_type": "stream",
     "text": [
      "Crawl comment page 1 success!!!\n",
      "Crawl comment for product 86270918\n",
      "Crawl comment page 0 success!!!\n"
     ]
    },
    {
     "name": "stderr",
     "output_type": "stream",
     "text": [
      " 14%|██████████▌                                                                  | 274/2000 [07:19<1:02:34,  2.17s/it]"
     ]
    },
    {
     "name": "stdout",
     "output_type": "stream",
     "text": [
      "Crawl comment page 1 success!!!\n",
      "Crawl comment for product 58546803\n",
      "Crawl comment page 0 success!!!\n"
     ]
    },
    {
     "name": "stderr",
     "output_type": "stream",
     "text": [
      " 14%|██████████▊                                                                    | 275/2000 [07:20<54:39,  1.90s/it]"
     ]
    },
    {
     "name": "stdout",
     "output_type": "stream",
     "text": [
      "Crawl comment page 1 success!!!\n",
      "Crawl comment for product 3014291\n",
      "Crawl comment page 0 success!!!\n"
     ]
    },
    {
     "name": "stderr",
     "output_type": "stream",
     "text": [
      " 14%|██████████▋                                                                  | 276/2000 [07:25<1:21:53,  2.85s/it]"
     ]
    },
    {
     "name": "stdout",
     "output_type": "stream",
     "text": [
      "Crawl comment page 1 success!!!\n",
      "Crawl comment for product 2619499\n",
      "Crawl comment page 0 success!!!\n"
     ]
    },
    {
     "name": "stderr",
     "output_type": "stream",
     "text": [
      " 14%|██████████▋                                                                  | 277/2000 [07:27<1:15:44,  2.64s/it]"
     ]
    },
    {
     "name": "stdout",
     "output_type": "stream",
     "text": [
      "Crawl comment page 1 success!!!\n",
      "Crawl comment for product 1932359\n",
      "Crawl comment page 0 success!!!\n"
     ]
    },
    {
     "name": "stderr",
     "output_type": "stream",
     "text": [
      " 14%|██████████▋                                                                  | 278/2000 [07:30<1:14:58,  2.61s/it]"
     ]
    },
    {
     "name": "stdout",
     "output_type": "stream",
     "text": [
      "Crawl comment page 1 success!!!\n",
      "Crawl comment for product 509829\n",
      "Crawl comment page 0 success!!!\n"
     ]
    },
    {
     "name": "stderr",
     "output_type": "stream",
     "text": [
      " 14%|██████████▋                                                                  | 279/2000 [07:32<1:09:44,  2.43s/it]"
     ]
    },
    {
     "name": "stdout",
     "output_type": "stream",
     "text": [
      "Crawl comment page 1 success!!!\n",
      "Crawl comment for product 377644\n",
      "Crawl comment page 0 success!!!\n"
     ]
    },
    {
     "name": "stderr",
     "output_type": "stream",
     "text": [
      " 14%|███████████                                                                    | 280/2000 [07:33<59:22,  2.07s/it]"
     ]
    },
    {
     "name": "stdout",
     "output_type": "stream",
     "text": [
      "Crawl comment page 1 success!!!\n",
      "Crawl comment for product 278054825\n",
      "Crawl comment page 0 success!!!\n"
     ]
    },
    {
     "name": "stderr",
     "output_type": "stream",
     "text": [
      " 14%|███████████                                                                    | 281/2000 [07:33<45:23,  1.58s/it]"
     ]
    },
    {
     "name": "stdout",
     "output_type": "stream",
     "text": [
      "Crawl comment page 1 success!!!\n",
      "Crawl comment for product 277923426\n",
      "Crawl comment page 0 success!!!\n"
     ]
    },
    {
     "name": "stderr",
     "output_type": "stream",
     "text": [
      " 14%|███████████▏                                                                   | 283/2000 [07:34<26:59,  1.06it/s]"
     ]
    },
    {
     "name": "stdout",
     "output_type": "stream",
     "text": [
      "Crawl comment page 1 success!!!\n",
      "Crawl comment for product 277857294\n",
      "Crawl comment page 0 success!!!\n",
      "Crawl comment page 1 success!!!\n",
      "Crawl comment for product 277748735\n",
      "Crawl comment page 0 success!!!\n"
     ]
    },
    {
     "name": "stderr",
     "output_type": "stream",
     "text": [
      " 14%|███████████▏                                                                   | 284/2000 [07:38<50:22,  1.76s/it]"
     ]
    },
    {
     "name": "stdout",
     "output_type": "stream",
     "text": [
      "Crawl comment page 1 success!!!\n",
      "Crawl comment for product 277356504\n",
      "Crawl comment page 0 success!!!\n"
     ]
    },
    {
     "name": "stderr",
     "output_type": "stream",
     "text": [
      " 14%|███████████▎                                                                   | 285/2000 [07:39<43:37,  1.53s/it]"
     ]
    },
    {
     "name": "stdout",
     "output_type": "stream",
     "text": [
      "Crawl comment page 1 success!!!\n",
      "Crawl comment for product 276841167\n",
      "Crawl comment page 0 success!!!\n"
     ]
    },
    {
     "name": "stderr",
     "output_type": "stream",
     "text": [
      " 14%|███████████▎                                                                   | 286/2000 [07:41<47:05,  1.65s/it]"
     ]
    },
    {
     "name": "stdout",
     "output_type": "stream",
     "text": [
      "Crawl comment page 1 success!!!\n",
      "Crawl comment for product 276762206\n",
      "Crawl comment page 0 success!!!\n"
     ]
    },
    {
     "name": "stderr",
     "output_type": "stream",
     "text": [
      " 14%|███████████▎                                                                   | 287/2000 [07:42<45:05,  1.58s/it]"
     ]
    },
    {
     "name": "stdout",
     "output_type": "stream",
     "text": [
      "Crawl comment page 1 success!!!\n",
      "Crawl comment for product 276477770\n",
      "Crawl comment page 0 success!!!\n"
     ]
    },
    {
     "name": "stderr",
     "output_type": "stream",
     "text": [
      " 14%|███████████▍                                                                   | 288/2000 [07:43<42:22,  1.48s/it]"
     ]
    },
    {
     "name": "stdout",
     "output_type": "stream",
     "text": [
      "Crawl comment page 1 success!!!\n",
      "Crawl comment for product 275630448\n",
      "Crawl comment page 0 success!!!\n"
     ]
    },
    {
     "name": "stderr",
     "output_type": "stream",
     "text": [
      " 14%|███████████▍                                                                   | 289/2000 [07:44<36:10,  1.27s/it]"
     ]
    },
    {
     "name": "stdout",
     "output_type": "stream",
     "text": [
      "Crawl comment page 1 success!!!\n",
      "Crawl comment for product 275452687\n",
      "Crawl comment page 0 success!!!\n"
     ]
    },
    {
     "name": "stderr",
     "output_type": "stream",
     "text": [
      " 14%|███████████▍                                                                   | 290/2000 [07:46<44:06,  1.55s/it]"
     ]
    },
    {
     "name": "stdout",
     "output_type": "stream",
     "text": [
      "Crawl comment page 1 success!!!\n",
      "Crawl comment for product 275425047\n",
      "Crawl comment page 0 success!!!\n"
     ]
    },
    {
     "name": "stderr",
     "output_type": "stream",
     "text": [
      " 15%|███████████▏                                                                 | 291/2000 [07:50<1:01:57,  2.18s/it]"
     ]
    },
    {
     "name": "stdout",
     "output_type": "stream",
     "text": [
      "Crawl comment page 1 success!!!\n",
      "Crawl comment for product 275237444\n",
      "Crawl comment page 0 success!!!\n"
     ]
    },
    {
     "name": "stderr",
     "output_type": "stream",
     "text": [
      " 15%|███████████▏                                                                 | 292/2000 [07:52<1:00:45,  2.13s/it]"
     ]
    },
    {
     "name": "stdout",
     "output_type": "stream",
     "text": [
      "Crawl comment page 1 success!!!\n",
      "Crawl comment for product 274845339\n",
      "Crawl comment page 0 success!!!\n"
     ]
    },
    {
     "name": "stderr",
     "output_type": "stream",
     "text": [
      " 15%|███████████▌                                                                   | 293/2000 [07:53<52:22,  1.84s/it]"
     ]
    },
    {
     "name": "stdout",
     "output_type": "stream",
     "text": [
      "Crawl comment page 1 success!!!\n",
      "Crawl comment for product 274404957\n",
      "Crawl comment page 0 success!!!\n"
     ]
    },
    {
     "name": "stderr",
     "output_type": "stream",
     "text": [
      " 15%|███████████▌                                                                   | 294/2000 [07:55<56:55,  2.00s/it]"
     ]
    },
    {
     "name": "stdout",
     "output_type": "stream",
     "text": [
      "Crawl comment page 1 success!!!\n",
      "Crawl comment for product 273910316\n",
      "Crawl comment page 0 success!!!\n"
     ]
    },
    {
     "name": "stderr",
     "output_type": "stream",
     "text": [
      " 15%|███████████▋                                                                   | 295/2000 [07:57<57:35,  2.03s/it]"
     ]
    },
    {
     "name": "stdout",
     "output_type": "stream",
     "text": [
      "Crawl comment page 1 success!!!\n",
      "Crawl comment for product 273534078\n",
      "Crawl comment page 0 success!!!\n"
     ]
    },
    {
     "name": "stderr",
     "output_type": "stream",
     "text": [
      " 15%|███████████▍                                                                 | 296/2000 [08:00<1:01:29,  2.17s/it]"
     ]
    },
    {
     "name": "stdout",
     "output_type": "stream",
     "text": [
      "Crawl comment page 1 success!!!\n",
      "Crawl comment for product 272123977\n",
      "Crawl comment page 0 success!!!\n"
     ]
    },
    {
     "name": "stderr",
     "output_type": "stream",
     "text": [
      " 15%|███████████▋                                                                   | 297/2000 [08:02<56:40,  2.00s/it]"
     ]
    },
    {
     "name": "stdout",
     "output_type": "stream",
     "text": [
      "Crawl comment page 1 success!!!\n",
      "Crawl comment for product 267340226\n",
      "Crawl comment page 0 success!!!\n"
     ]
    },
    {
     "name": "stderr",
     "output_type": "stream",
     "text": [
      " 15%|███████████▊                                                                   | 298/2000 [08:03<48:57,  1.73s/it]"
     ]
    },
    {
     "name": "stdout",
     "output_type": "stream",
     "text": [
      "Crawl comment page 1 success!!!\n",
      "Crawl comment for product 262589850\n",
      "Crawl comment page 0 success!!!\n"
     ]
    },
    {
     "name": "stderr",
     "output_type": "stream",
     "text": [
      " 15%|███████████▊                                                                   | 299/2000 [08:04<48:02,  1.69s/it]"
     ]
    },
    {
     "name": "stdout",
     "output_type": "stream",
     "text": [
      "Crawl comment page 1 success!!!\n",
      "Crawl comment for product 248544480\n",
      "Crawl comment page 0 success!!!\n"
     ]
    },
    {
     "name": "stderr",
     "output_type": "stream",
     "text": [
      " 15%|███████████▊                                                                   | 300/2000 [08:05<39:05,  1.38s/it]"
     ]
    },
    {
     "name": "stdout",
     "output_type": "stream",
     "text": [
      "Crawl comment page 1 success!!!\n",
      "Crawl comment for product 206675362\n",
      "Crawl comment page 0 success!!!\n"
     ]
    },
    {
     "name": "stderr",
     "output_type": "stream",
     "text": [
      " 15%|███████████▉                                                                   | 301/2000 [08:06<33:52,  1.20s/it]"
     ]
    },
    {
     "name": "stdout",
     "output_type": "stream",
     "text": [
      "Crawl comment page 1 success!!!\n",
      "Crawl comment for product 197657913\n",
      "Crawl comment page 0 success!!!\n"
     ]
    },
    {
     "name": "stderr",
     "output_type": "stream",
     "text": [
      " 15%|███████████▉                                                                   | 302/2000 [08:09<47:26,  1.68s/it]"
     ]
    },
    {
     "name": "stdout",
     "output_type": "stream",
     "text": [
      "Crawl comment page 1 success!!!\n",
      "Crawl comment for product 195357772\n",
      "Crawl comment page 0 success!!!\n"
     ]
    },
    {
     "name": "stderr",
     "output_type": "stream",
     "text": [
      " 15%|███████████▉                                                                   | 303/2000 [08:10<49:12,  1.74s/it]"
     ]
    },
    {
     "name": "stdout",
     "output_type": "stream",
     "text": [
      "Crawl comment page 1 success!!!\n",
      "Crawl comment for product 190861557\n",
      "Crawl comment page 0 success!!!\n"
     ]
    },
    {
     "name": "stderr",
     "output_type": "stream",
     "text": [
      " 15%|████████████                                                                   | 304/2000 [08:12<47:07,  1.67s/it]"
     ]
    },
    {
     "name": "stdout",
     "output_type": "stream",
     "text": [
      "Crawl comment page 1 success!!!\n",
      "Crawl comment for product 170708229\n",
      "Crawl comment page 0 success!!!\n"
     ]
    },
    {
     "name": "stderr",
     "output_type": "stream",
     "text": [
      " 15%|████████████                                                                   | 305/2000 [08:14<47:49,  1.69s/it]"
     ]
    },
    {
     "name": "stdout",
     "output_type": "stream",
     "text": [
      "Crawl comment page 1 success!!!\n",
      "Crawl comment for product 168662171\n",
      "Crawl comment page 0 success!!!\n"
     ]
    },
    {
     "name": "stderr",
     "output_type": "stream",
     "text": [
      " 15%|████████████                                                                   | 306/2000 [08:14<40:29,  1.43s/it]"
     ]
    },
    {
     "name": "stdout",
     "output_type": "stream",
     "text": [
      "Crawl comment page 1 success!!!\n",
      "Crawl comment for product 138269668\n",
      "Crawl comment page 0 success!!!\n"
     ]
    },
    {
     "name": "stderr",
     "output_type": "stream",
     "text": [
      " 15%|████████████▏                                                                  | 307/2000 [08:16<42:05,  1.49s/it]"
     ]
    },
    {
     "name": "stdout",
     "output_type": "stream",
     "text": [
      "Crawl comment page 1 success!!!\n",
      "Crawl comment for product 121635152\n",
      "Crawl comment page 0 success!!!\n"
     ]
    },
    {
     "name": "stderr",
     "output_type": "stream",
     "text": [
      " 15%|████████████▏                                                                  | 308/2000 [08:18<48:15,  1.71s/it]"
     ]
    },
    {
     "name": "stdout",
     "output_type": "stream",
     "text": [
      "Crawl comment page 1 success!!!\n",
      "Crawl comment for product 114937969\n",
      "Crawl comment page 0 success!!!\n"
     ]
    },
    {
     "name": "stderr",
     "output_type": "stream",
     "text": [
      " 15%|████████████▏                                                                  | 309/2000 [08:20<47:09,  1.67s/it]"
     ]
    },
    {
     "name": "stdout",
     "output_type": "stream",
     "text": [
      "Crawl comment page 1 success!!!\n",
      "Crawl comment for product 92488048\n",
      "Crawl comment page 0 success!!!\n"
     ]
    },
    {
     "name": "stderr",
     "output_type": "stream",
     "text": [
      " 16%|████████████▏                                                                  | 310/2000 [08:21<42:05,  1.49s/it]"
     ]
    },
    {
     "name": "stdout",
     "output_type": "stream",
     "text": [
      "Crawl comment page 1 success!!!\n",
      "Crawl comment for product 70817144\n",
      "Crawl comment page 0 success!!!\n"
     ]
    },
    {
     "name": "stderr",
     "output_type": "stream",
     "text": [
      " 16%|████████████▎                                                                  | 311/2000 [08:22<35:25,  1.26s/it]"
     ]
    },
    {
     "name": "stdout",
     "output_type": "stream",
     "text": [
      "Crawl comment page 1 success!!!\n",
      "Crawl comment for product 48629558\n",
      "Crawl comment page 0 success!!!\n"
     ]
    },
    {
     "name": "stderr",
     "output_type": "stream",
     "text": [
      " 16%|████████████▎                                                                  | 312/2000 [08:24<42:54,  1.52s/it]"
     ]
    },
    {
     "name": "stdout",
     "output_type": "stream",
     "text": [
      "Crawl comment page 1 success!!!\n",
      "Crawl comment for product 41493255\n",
      "Crawl comment page 0 success!!!\n"
     ]
    },
    {
     "name": "stderr",
     "output_type": "stream",
     "text": [
      " 16%|████████████▎                                                                  | 313/2000 [08:25<39:52,  1.42s/it]"
     ]
    },
    {
     "name": "stdout",
     "output_type": "stream",
     "text": [
      "Crawl comment page 1 success!!!\n",
      "Crawl comment for product 37887031\n",
      "Crawl comment page 0 success!!!\n"
     ]
    },
    {
     "name": "stderr",
     "output_type": "stream",
     "text": [
      " 16%|████████████▍                                                                  | 314/2000 [08:27<43:24,  1.54s/it]"
     ]
    },
    {
     "name": "stdout",
     "output_type": "stream",
     "text": [
      "Crawl comment page 1 success!!!\n",
      "Crawl comment for product 20520720\n",
      "Crawl comment page 0 success!!!\n"
     ]
    },
    {
     "name": "stderr",
     "output_type": "stream",
     "text": [
      " 16%|████████████▍                                                                  | 315/2000 [08:29<50:27,  1.80s/it]"
     ]
    },
    {
     "name": "stdout",
     "output_type": "stream",
     "text": [
      "Crawl comment page 1 success!!!\n",
      "Crawl comment for product 15265240\n",
      "Crawl comment page 0 success!!!\n"
     ]
    },
    {
     "name": "stderr",
     "output_type": "stream",
     "text": [
      " 16%|████████████▍                                                                  | 316/2000 [08:32<57:25,  2.05s/it]"
     ]
    },
    {
     "name": "stdout",
     "output_type": "stream",
     "text": [
      "Crawl comment page 1 success!!!\n",
      "Crawl comment for product 13920941\n",
      "Crawl comment page 0 success!!!\n"
     ]
    },
    {
     "name": "stderr",
     "output_type": "stream",
     "text": [
      " 16%|████████████▌                                                                  | 317/2000 [08:34<57:06,  2.04s/it]"
     ]
    },
    {
     "name": "stdout",
     "output_type": "stream",
     "text": [
      "Crawl comment page 1 success!!!\n",
      "Crawl comment for product 7953305\n",
      "Crawl comment page 0 success!!!\n"
     ]
    },
    {
     "name": "stderr",
     "output_type": "stream",
     "text": [
      " 16%|████████████▌                                                                  | 318/2000 [08:36<57:53,  2.07s/it]"
     ]
    },
    {
     "name": "stdout",
     "output_type": "stream",
     "text": [
      "Crawl comment page 1 success!!!\n",
      "Crawl comment for product 3608623\n",
      "Crawl comment page 0 success!!!\n"
     ]
    },
    {
     "name": "stderr",
     "output_type": "stream",
     "text": [
      " 16%|████████████▎                                                                | 319/2000 [08:39<1:03:32,  2.27s/it]"
     ]
    },
    {
     "name": "stdout",
     "output_type": "stream",
     "text": [
      "Crawl comment page 1 success!!!\n",
      "Crawl comment for product 479004\n",
      "Crawl comment page 0 success!!!\n"
     ]
    },
    {
     "name": "stderr",
     "output_type": "stream",
     "text": [
      " 16%|████████████▋                                                                  | 321/2000 [08:40<38:35,  1.38s/it]"
     ]
    },
    {
     "name": "stdout",
     "output_type": "stream",
     "text": [
      "Crawl comment page 1 success!!!\n",
      "Crawl comment for product 278160071\n",
      "Crawl comment page 0 success!!!\n",
      "Crawl comment page 1 success!!!\n",
      "Crawl comment for product 278123448\n"
     ]
    },
    {
     "name": "stderr",
     "output_type": "stream",
     "text": [
      " 16%|████████████▊                                                                  | 323/2000 [08:40<20:49,  1.34it/s]"
     ]
    },
    {
     "name": "stdout",
     "output_type": "stream",
     "text": [
      "Crawl comment page 0 success!!!\n",
      "Crawl comment page 1 success!!!\n",
      "Crawl comment for product 278123405\n",
      "Crawl comment page 0 success!!!\n",
      "Crawl comment page 1 success!!!\n",
      "Crawl comment for product 278123404\n"
     ]
    },
    {
     "name": "stderr",
     "output_type": "stream",
     "text": [
      " 16%|████████████▊                                                                  | 324/2000 [08:40<16:26,  1.70it/s]"
     ]
    },
    {
     "name": "stdout",
     "output_type": "stream",
     "text": [
      "Crawl comment page 0 success!!!\n",
      "Crawl comment page 1 success!!!\n",
      "Crawl comment for product 278123145\n"
     ]
    },
    {
     "name": "stderr",
     "output_type": "stream",
     "text": [
      " 16%|████████████▊                                                                  | 325/2000 [08:41<13:19,  2.10it/s]"
     ]
    },
    {
     "name": "stdout",
     "output_type": "stream",
     "text": [
      "Crawl comment page 0 success!!!\n",
      "Crawl comment page 1 success!!!\n",
      "Crawl comment for product 278095633\n",
      "Crawl comment page 0 success!!!\n"
     ]
    },
    {
     "name": "stderr",
     "output_type": "stream",
     "text": [
      " 16%|████████████▉                                                                  | 327/2000 [08:41<08:18,  3.36it/s]"
     ]
    },
    {
     "name": "stdout",
     "output_type": "stream",
     "text": [
      "Crawl comment page 1 success!!!\n",
      "Crawl comment for product 278061078\n",
      "Crawl comment page 0 success!!!\n",
      "Crawl comment page 1 success!!!\n",
      "Crawl comment for product 278031015\n"
     ]
    },
    {
     "name": "stderr",
     "output_type": "stream",
     "text": [
      " 16%|████████████▉                                                                  | 328/2000 [08:41<07:40,  3.63it/s]"
     ]
    },
    {
     "name": "stdout",
     "output_type": "stream",
     "text": [
      "Crawl comment page 0 success!!!\n",
      "Crawl comment page 1 success!!!\n",
      "Crawl comment for product 278000430\n"
     ]
    },
    {
     "name": "stderr",
     "output_type": "stream",
     "text": [
      " 16%|████████████▉                                                                  | 329/2000 [08:41<07:16,  3.83it/s]"
     ]
    },
    {
     "name": "stdout",
     "output_type": "stream",
     "text": [
      "Crawl comment page 0 success!!!\n",
      "Crawl comment page 1 success!!!\n",
      "Crawl comment for product 277919982\n"
     ]
    },
    {
     "name": "stderr",
     "output_type": "stream",
     "text": [
      " 16%|█████████████                                                                  | 330/2000 [08:42<07:01,  3.96it/s]"
     ]
    },
    {
     "name": "stdout",
     "output_type": "stream",
     "text": [
      "Crawl comment page 0 success!!!\n",
      "Crawl comment page 1 success!!!\n",
      "Crawl comment for product 277722128\n",
      "Crawl comment page 0 success!!!\n"
     ]
    },
    {
     "name": "stderr",
     "output_type": "stream",
     "text": [
      " 17%|█████████████                                                                  | 331/2000 [08:42<05:54,  4.71it/s]"
     ]
    },
    {
     "name": "stdout",
     "output_type": "stream",
     "text": [
      "Crawl comment page 1 success!!!\n",
      "Crawl comment for product 277164014\n",
      "Crawl comment page 0 success!!!\n"
     ]
    },
    {
     "name": "stderr",
     "output_type": "stream",
     "text": [
      " 17%|█████████████▏                                                                 | 333/2000 [08:44<14:06,  1.97it/s]"
     ]
    },
    {
     "name": "stdout",
     "output_type": "stream",
     "text": [
      "Crawl comment page 1 success!!!\n",
      "Crawl comment for product 277041317\n",
      "Crawl comment page 0 success!!!\n",
      "Crawl comment page 1 success!!!\n",
      "Crawl comment for product 276653748\n",
      "Crawl comment page 0 success!!!\n"
     ]
    },
    {
     "name": "stderr",
     "output_type": "stream",
     "text": [
      " 17%|█████████████▏                                                                 | 334/2000 [08:44<14:24,  1.93it/s]"
     ]
    },
    {
     "name": "stdout",
     "output_type": "stream",
     "text": [
      "Crawl comment page 1 success!!!\n",
      "Crawl comment for product 276451290\n",
      "Crawl comment page 0 success!!!\n"
     ]
    },
    {
     "name": "stderr",
     "output_type": "stream",
     "text": [
      " 17%|█████████████▏                                                                 | 335/2000 [08:47<32:45,  1.18s/it]"
     ]
    },
    {
     "name": "stdout",
     "output_type": "stream",
     "text": [
      "Crawl comment page 1 success!!!\n",
      "Crawl comment for product 276377313\n",
      "Crawl comment page 0 success!!!\n"
     ]
    },
    {
     "name": "stderr",
     "output_type": "stream",
     "text": [
      " 17%|█████████████▎                                                                 | 336/2000 [08:49<39:49,  1.44s/it]"
     ]
    },
    {
     "name": "stdout",
     "output_type": "stream",
     "text": [
      "Crawl comment page 1 success!!!\n",
      "Crawl comment for product 273586961\n",
      "Crawl comment page 0 success!!!\n"
     ]
    },
    {
     "name": "stderr",
     "output_type": "stream",
     "text": [
      " 17%|█████████████▎                                                                 | 337/2000 [08:49<31:36,  1.14s/it]"
     ]
    },
    {
     "name": "stdout",
     "output_type": "stream",
     "text": [
      "Crawl comment page 1 success!!!\n",
      "Crawl comment for product 272854044\n",
      "Crawl comment page 0 success!!!\n"
     ]
    },
    {
     "name": "stderr",
     "output_type": "stream",
     "text": [
      " 17%|█████████████▎                                                                 | 338/2000 [08:50<26:59,  1.03it/s]"
     ]
    },
    {
     "name": "stdout",
     "output_type": "stream",
     "text": [
      "Crawl comment page 1 success!!!\n",
      "Crawl comment for product 271782938\n",
      "Crawl comment page 0 success!!!\n"
     ]
    },
    {
     "name": "stderr",
     "output_type": "stream",
     "text": [
      " 17%|█████████████▍                                                                 | 339/2000 [08:50<22:51,  1.21it/s]"
     ]
    },
    {
     "name": "stdout",
     "output_type": "stream",
     "text": [
      "Crawl comment page 1 success!!!\n",
      "Crawl comment for product 271320333\n",
      "Crawl comment page 0 success!!!\n"
     ]
    },
    {
     "name": "stderr",
     "output_type": "stream",
     "text": [
      " 17%|█████████████▍                                                                 | 340/2000 [08:53<36:42,  1.33s/it]"
     ]
    },
    {
     "name": "stdout",
     "output_type": "stream",
     "text": [
      "Crawl comment page 1 success!!!\n",
      "Crawl comment for product 271199015\n",
      "Crawl comment page 0 success!!!\n"
     ]
    },
    {
     "name": "stderr",
     "output_type": "stream",
     "text": [
      " 17%|█████████████▍                                                                 | 341/2000 [08:56<47:24,  1.71s/it]"
     ]
    },
    {
     "name": "stdout",
     "output_type": "stream",
     "text": [
      "Crawl comment page 1 success!!!\n",
      "Crawl comment for product 252456572\n",
      "Crawl comment page 0 success!!!\n"
     ]
    },
    {
     "name": "stderr",
     "output_type": "stream",
     "text": [
      " 17%|█████████████▏                                                               | 342/2000 [08:59<1:01:32,  2.23s/it]"
     ]
    },
    {
     "name": "stdout",
     "output_type": "stream",
     "text": [
      "Crawl comment page 1 success!!!\n",
      "Crawl comment for product 243097256\n",
      "Crawl comment page 0 success!!!\n"
     ]
    },
    {
     "name": "stderr",
     "output_type": "stream",
     "text": [
      " 17%|█████████████▌                                                                 | 343/2000 [09:01<56:16,  2.04s/it]"
     ]
    },
    {
     "name": "stdout",
     "output_type": "stream",
     "text": [
      "Crawl comment page 1 success!!!\n",
      "Crawl comment for product 208206808\n",
      "Crawl comment page 0 success!!!\n"
     ]
    },
    {
     "name": "stderr",
     "output_type": "stream",
     "text": [
      " 17%|█████████████▌                                                                 | 344/2000 [09:03<58:48,  2.13s/it]"
     ]
    },
    {
     "name": "stdout",
     "output_type": "stream",
     "text": [
      "Crawl comment page 1 success!!!\n",
      "Crawl comment for product 197655116\n",
      "Crawl comment page 0 success!!!\n"
     ]
    },
    {
     "name": "stderr",
     "output_type": "stream",
     "text": [
      " 17%|█████████████▎                                                               | 345/2000 [09:05<1:01:41,  2.24s/it]"
     ]
    },
    {
     "name": "stdout",
     "output_type": "stream",
     "text": [
      "Crawl comment page 1 success!!!\n",
      "Crawl comment for product 188940817\n",
      "Crawl comment page 0 success!!!\n"
     ]
    },
    {
     "name": "stderr",
     "output_type": "stream",
     "text": [
      " 17%|█████████████▎                                                               | 346/2000 [09:08<1:02:56,  2.28s/it]"
     ]
    },
    {
     "name": "stdout",
     "output_type": "stream",
     "text": [
      "Crawl comment page 1 success!!!\n",
      "Crawl comment for product 185232565\n",
      "Crawl comment page 0 success!!!\n"
     ]
    },
    {
     "name": "stderr",
     "output_type": "stream",
     "text": [
      " 17%|█████████████▎                                                               | 347/2000 [09:11<1:13:04,  2.65s/it]"
     ]
    },
    {
     "name": "stdout",
     "output_type": "stream",
     "text": [
      "Crawl comment page 1 success!!!\n",
      "Crawl comment for product 155115299\n",
      "Crawl comment page 0 success!!!\n"
     ]
    },
    {
     "name": "stderr",
     "output_type": "stream",
     "text": [
      " 17%|█████████████▍                                                               | 348/2000 [09:15<1:19:41,  2.89s/it]"
     ]
    },
    {
     "name": "stdout",
     "output_type": "stream",
     "text": [
      "Crawl comment page 1 success!!!\n",
      "Crawl comment for product 154938614\n",
      "Crawl comment page 0 success!!!\n"
     ]
    },
    {
     "name": "stderr",
     "output_type": "stream",
     "text": [
      " 17%|█████████████▍                                                               | 349/2000 [09:17<1:12:37,  2.64s/it]"
     ]
    },
    {
     "name": "stdout",
     "output_type": "stream",
     "text": [
      "Crawl comment page 1 success!!!\n",
      "Crawl comment for product 139567621\n",
      "Crawl comment page 0 success!!!\n"
     ]
    },
    {
     "name": "stderr",
     "output_type": "stream",
     "text": [
      " 18%|█████████████▍                                                               | 350/2000 [09:19<1:09:54,  2.54s/it]"
     ]
    },
    {
     "name": "stdout",
     "output_type": "stream",
     "text": [
      "Crawl comment page 1 success!!!\n",
      "Crawl comment for product 82912488\n",
      "Crawl comment page 0 success!!!\n"
     ]
    },
    {
     "name": "stderr",
     "output_type": "stream",
     "text": [
      " 18%|█████████████▌                                                               | 351/2000 [09:21<1:07:57,  2.47s/it]"
     ]
    },
    {
     "name": "stdout",
     "output_type": "stream",
     "text": [
      "Crawl comment page 1 success!!!\n",
      "Crawl comment for product 77105703\n",
      "Crawl comment page 0 success!!!\n"
     ]
    },
    {
     "name": "stderr",
     "output_type": "stream",
     "text": [
      " 18%|█████████████▌                                                               | 352/2000 [09:23<1:00:43,  2.21s/it]"
     ]
    },
    {
     "name": "stdout",
     "output_type": "stream",
     "text": [
      "Crawl comment page 1 success!!!\n",
      "Crawl comment for product 76541999\n",
      "Crawl comment page 0 success!!!\n"
     ]
    },
    {
     "name": "stderr",
     "output_type": "stream",
     "text": [
      " 18%|█████████████▉                                                                 | 353/2000 [09:25<58:28,  2.13s/it]"
     ]
    },
    {
     "name": "stdout",
     "output_type": "stream",
     "text": [
      "Crawl comment page 1 success!!!\n",
      "Crawl comment for product 57762732\n",
      "Crawl comment page 0 success!!!\n"
     ]
    },
    {
     "name": "stderr",
     "output_type": "stream",
     "text": [
      " 18%|█████████████▋                                                               | 354/2000 [09:28<1:07:28,  2.46s/it]"
     ]
    },
    {
     "name": "stdout",
     "output_type": "stream",
     "text": [
      "Crawl comment page 1 success!!!\n",
      "Crawl comment for product 57325187\n",
      "Crawl comment page 0 success!!!\n"
     ]
    },
    {
     "name": "stderr",
     "output_type": "stream",
     "text": [
      " 18%|█████████████▋                                                               | 355/2000 [09:31<1:11:34,  2.61s/it]"
     ]
    },
    {
     "name": "stdout",
     "output_type": "stream",
     "text": [
      "Crawl comment page 1 success!!!\n",
      "Crawl comment for product 44044693\n",
      "Crawl comment page 0 success!!!\n"
     ]
    },
    {
     "name": "stderr",
     "output_type": "stream",
     "text": [
      " 18%|█████████████▋                                                               | 356/2000 [09:33<1:01:19,  2.24s/it]"
     ]
    },
    {
     "name": "stdout",
     "output_type": "stream",
     "text": [
      "Crawl comment page 1 success!!!\n",
      "Crawl comment for product 11472698\n",
      "Crawl comment page 0 success!!!\n"
     ]
    },
    {
     "name": "stderr",
     "output_type": "stream",
     "text": [
      " 18%|██████████████                                                                 | 357/2000 [09:33<49:14,  1.80s/it]"
     ]
    },
    {
     "name": "stdout",
     "output_type": "stream",
     "text": [
      "Crawl comment page 1 success!!!\n",
      "Crawl comment for product 2542273\n",
      "Crawl comment page 0 success!!!\n"
     ]
    },
    {
     "name": "stderr",
     "output_type": "stream",
     "text": [
      " 18%|██████████████▏                                                                | 358/2000 [09:35<45:26,  1.66s/it]"
     ]
    },
    {
     "name": "stdout",
     "output_type": "stream",
     "text": [
      "Crawl comment page 1 success!!!\n",
      "Crawl comment for product 1534613\n",
      "Crawl comment page 0 success!!!\n"
     ]
    },
    {
     "name": "stderr",
     "output_type": "stream",
     "text": [
      " 18%|██████████████▏                                                                | 359/2000 [09:37<47:47,  1.75s/it]"
     ]
    },
    {
     "name": "stdout",
     "output_type": "stream",
     "text": [
      "Crawl comment page 1 success!!!\n",
      "Crawl comment for product 1362559\n",
      "Crawl comment page 0 success!!!\n"
     ]
    },
    {
     "name": "stderr",
     "output_type": "stream",
     "text": [
      " 18%|██████████████▏                                                                | 360/2000 [09:39<50:55,  1.86s/it]"
     ]
    },
    {
     "name": "stdout",
     "output_type": "stream",
     "text": [
      "Crawl comment page 1 success!!!\n",
      "Crawl comment for product 278124790\n",
      "Crawl comment page 0 success!!!\n"
     ]
    },
    {
     "name": "stderr",
     "output_type": "stream",
     "text": [
      " 18%|██████████████▎                                                                | 362/2000 [09:41<37:02,  1.36s/it]"
     ]
    },
    {
     "name": "stdout",
     "output_type": "stream",
     "text": [
      "Crawl comment page 1 success!!!\n",
      "Crawl comment for product 278106055\n",
      "Crawl comment page 0 success!!!\n",
      "Crawl comment page 1 success!!!\n",
      "Crawl comment for product 278095952\n"
     ]
    },
    {
     "name": "stderr",
     "output_type": "stream",
     "text": [
      " 18%|██████████████▍                                                                | 364/2000 [09:41<20:08,  1.35it/s]"
     ]
    },
    {
     "name": "stdout",
     "output_type": "stream",
     "text": [
      "Crawl comment page 0 success!!!\n",
      "Crawl comment page 1 success!!!\n",
      "Crawl comment for product 278041268\n",
      "Crawl comment page 0 success!!!\n",
      "Crawl comment page 1 success!!!\n"
     ]
    },
    {
     "name": "stderr",
     "output_type": "stream",
     "text": [
      " 18%|██████████████▍                                                                | 365/2000 [09:41<14:59,  1.82it/s]"
     ]
    },
    {
     "name": "stdout",
     "output_type": "stream",
     "text": [
      "Crawl comment for product 277916174\n",
      "Crawl comment page 0 success!!!\n",
      "Crawl comment page 1 success!!!\n",
      "Crawl comment for product 277912060\n",
      "Crawl comment page 0 success!!!\n"
     ]
    },
    {
     "name": "stderr",
     "output_type": "stream",
     "text": [
      " 18%|██████████████▍                                                                | 366/2000 [09:41<11:23,  2.39it/s]"
     ]
    },
    {
     "name": "stdout",
     "output_type": "stream",
     "text": [
      "Crawl comment page 1 success!!!\n",
      "Crawl comment for product 277870006\n",
      "Crawl comment page 0 success!!!\n"
     ]
    },
    {
     "name": "stderr",
     "output_type": "stream",
     "text": [
      " 18%|██████████████▌                                                                | 368/2000 [09:42<08:20,  3.26it/s]"
     ]
    },
    {
     "name": "stdout",
     "output_type": "stream",
     "text": [
      "Crawl comment page 1 success!!!\n",
      "Crawl comment for product 277759473\n",
      "Crawl comment page 0 success!!!\n",
      "Crawl comment page 1 success!!!\n",
      "Crawl comment for product 277488517\n"
     ]
    },
    {
     "name": "stderr",
     "output_type": "stream",
     "text": [
      " 18%|██████████████▌                                                                | 369/2000 [09:42<08:06,  3.36it/s]"
     ]
    },
    {
     "name": "stdout",
     "output_type": "stream",
     "text": [
      "Crawl comment page 0 success!!!\n",
      "Crawl comment page 1 success!!!\n",
      "Crawl comment for product 276933751\n",
      "Crawl comment page 0 success!!!\n"
     ]
    },
    {
     "name": "stderr",
     "output_type": "stream",
     "text": [
      " 18%|██████████████▌                                                                | 370/2000 [09:42<06:34,  4.13it/s]"
     ]
    },
    {
     "name": "stdout",
     "output_type": "stream",
     "text": [
      "Crawl comment page 1 success!!!\n",
      "Crawl comment for product 276922183\n",
      "Crawl comment page 0 success!!!\n"
     ]
    },
    {
     "name": "stderr",
     "output_type": "stream",
     "text": [
      " 19%|██████████████▋                                                                | 371/2000 [09:43<10:44,  2.53it/s]"
     ]
    },
    {
     "name": "stdout",
     "output_type": "stream",
     "text": [
      "Crawl comment page 1 success!!!\n",
      "Crawl comment for product 276912267\n",
      "Crawl comment page 0 success!!!\n"
     ]
    },
    {
     "name": "stderr",
     "output_type": "stream",
     "text": [
      " 19%|██████████████▋                                                                | 372/2000 [09:44<18:29,  1.47it/s]"
     ]
    },
    {
     "name": "stdout",
     "output_type": "stream",
     "text": [
      "Crawl comment page 1 success!!!\n",
      "Crawl comment for product 276886061\n",
      "Crawl comment page 0 success!!!\n"
     ]
    },
    {
     "name": "stderr",
     "output_type": "stream",
     "text": [
      " 19%|██████████████▋                                                                | 373/2000 [09:45<21:26,  1.26it/s]"
     ]
    },
    {
     "name": "stdout",
     "output_type": "stream",
     "text": [
      "Crawl comment page 1 success!!!\n",
      "Crawl comment for product 276860812\n",
      "Crawl comment page 0 success!!!\n"
     ]
    },
    {
     "name": "stderr",
     "output_type": "stream",
     "text": [
      " 19%|██████████████▊                                                                | 374/2000 [09:46<21:50,  1.24it/s]"
     ]
    },
    {
     "name": "stdout",
     "output_type": "stream",
     "text": [
      "Crawl comment page 1 success!!!\n",
      "Crawl comment for product 276497185\n"
     ]
    },
    {
     "name": "stderr",
     "output_type": "stream",
     "text": [
      " 19%|██████████████▊                                                                | 375/2000 [09:47<18:56,  1.43it/s]"
     ]
    },
    {
     "name": "stdout",
     "output_type": "stream",
     "text": [
      "Crawl comment page 0 success!!!\n",
      "Crawl comment page 1 success!!!\n",
      "Crawl comment for product 274970385\n",
      "Crawl comment page 0 success!!!\n"
     ]
    },
    {
     "name": "stderr",
     "output_type": "stream",
     "text": [
      " 19%|██████████████▊                                                                | 376/2000 [09:48<21:12,  1.28it/s]"
     ]
    },
    {
     "name": "stdout",
     "output_type": "stream",
     "text": [
      "Crawl comment page 1 success!!!\n",
      "Crawl comment for product 273691873\n",
      "Crawl comment page 0 success!!!\n"
     ]
    },
    {
     "name": "stderr",
     "output_type": "stream",
     "text": [
      " 19%|██████████████▉                                                                | 377/2000 [09:51<45:47,  1.69s/it]"
     ]
    },
    {
     "name": "stdout",
     "output_type": "stream",
     "text": [
      "Crawl comment page 1 success!!!\n",
      "Crawl comment for product 273597916\n",
      "Crawl comment page 0 success!!!\n"
     ]
    },
    {
     "name": "stderr",
     "output_type": "stream",
     "text": [
      " 19%|██████████████▉                                                                | 378/2000 [09:52<40:04,  1.48s/it]"
     ]
    },
    {
     "name": "stdout",
     "output_type": "stream",
     "text": [
      "Crawl comment page 1 success!!!\n",
      "Crawl comment for product 273472449\n",
      "Crawl comment page 0 success!!!\n"
     ]
    },
    {
     "name": "stderr",
     "output_type": "stream",
     "text": [
      " 19%|██████████████▉                                                                | 379/2000 [09:53<36:58,  1.37s/it]"
     ]
    },
    {
     "name": "stdout",
     "output_type": "stream",
     "text": [
      "Crawl comment page 1 success!!!\n",
      "Crawl comment for product 273202457\n",
      "Crawl comment page 0 success!!!\n"
     ]
    },
    {
     "name": "stderr",
     "output_type": "stream",
     "text": [
      " 19%|███████████████                                                                | 380/2000 [09:56<46:15,  1.71s/it]"
     ]
    },
    {
     "name": "stdout",
     "output_type": "stream",
     "text": [
      "Crawl comment page 1 success!!!\n",
      "Crawl comment for product 273135675\n",
      "Crawl comment page 0 success!!!\n"
     ]
    },
    {
     "name": "stderr",
     "output_type": "stream",
     "text": [
      " 19%|███████████████                                                                | 381/2000 [09:58<45:31,  1.69s/it]"
     ]
    },
    {
     "name": "stdout",
     "output_type": "stream",
     "text": [
      "Crawl comment page 1 success!!!\n",
      "Crawl comment for product 271337379\n",
      "Crawl comment page 0 success!!!\n"
     ]
    },
    {
     "name": "stderr",
     "output_type": "stream",
     "text": [
      " 19%|███████████████                                                                | 382/2000 [10:00<53:48,  2.00s/it]"
     ]
    },
    {
     "name": "stdout",
     "output_type": "stream",
     "text": [
      "Crawl comment page 1 success!!!\n",
      "Crawl comment for product 271162836\n",
      "Crawl comment page 0 success!!!\n"
     ]
    },
    {
     "name": "stderr",
     "output_type": "stream",
     "text": [
      " 19%|███████████████▏                                                               | 383/2000 [10:03<57:15,  2.12s/it]"
     ]
    },
    {
     "name": "stdout",
     "output_type": "stream",
     "text": [
      "Crawl comment page 1 success!!!\n",
      "Crawl comment for product 263512943\n",
      "Crawl comment page 0 success!!!\n"
     ]
    },
    {
     "name": "stderr",
     "output_type": "stream",
     "text": [
      " 19%|███████████████▏                                                               | 384/2000 [10:04<53:35,  1.99s/it]"
     ]
    },
    {
     "name": "stdout",
     "output_type": "stream",
     "text": [
      "Crawl comment page 1 success!!!\n",
      "Crawl comment for product 253284241\n",
      "Crawl comment page 0 success!!!\n"
     ]
    },
    {
     "name": "stderr",
     "output_type": "stream",
     "text": [
      " 19%|██████████████▊                                                              | 385/2000 [10:08<1:02:44,  2.33s/it]"
     ]
    },
    {
     "name": "stdout",
     "output_type": "stream",
     "text": [
      "Crawl comment page 1 success!!!\n",
      "Crawl comment for product 247446852\n",
      "Crawl comment page 0 success!!!\n"
     ]
    },
    {
     "name": "stderr",
     "output_type": "stream",
     "text": [
      " 19%|███████████████▏                                                               | 386/2000 [10:09<55:52,  2.08s/it]"
     ]
    },
    {
     "name": "stdout",
     "output_type": "stream",
     "text": [
      "Crawl comment page 1 success!!!\n",
      "Crawl comment for product 196515659\n",
      "Crawl comment page 0 success!!!\n"
     ]
    },
    {
     "name": "stderr",
     "output_type": "stream",
     "text": [
      " 19%|███████████████▎                                                               | 387/2000 [10:11<52:33,  1.95s/it]"
     ]
    },
    {
     "name": "stdout",
     "output_type": "stream",
     "text": [
      "Crawl comment page 1 success!!!\n",
      "Crawl comment for product 192909304\n",
      "Crawl comment page 0 success!!!\n"
     ]
    },
    {
     "name": "stderr",
     "output_type": "stream",
     "text": [
      " 19%|███████████████▎                                                               | 388/2000 [10:12<51:25,  1.91s/it]"
     ]
    },
    {
     "name": "stdout",
     "output_type": "stream",
     "text": [
      "Crawl comment page 1 success!!!\n",
      "Crawl comment for product 191148972\n",
      "Crawl comment page 0 success!!!\n"
     ]
    },
    {
     "name": "stderr",
     "output_type": "stream",
     "text": [
      " 19%|███████████████▎                                                               | 389/2000 [10:15<57:47,  2.15s/it]"
     ]
    },
    {
     "name": "stdout",
     "output_type": "stream",
     "text": [
      "Crawl comment page 1 success!!!\n",
      "Crawl comment for product 190843478\n",
      "Crawl comment page 0 success!!!\n"
     ]
    },
    {
     "name": "stderr",
     "output_type": "stream",
     "text": [
      " 20%|███████████████▍                                                               | 390/2000 [10:16<49:13,  1.83s/it]"
     ]
    },
    {
     "name": "stdout",
     "output_type": "stream",
     "text": [
      "Crawl comment page 1 success!!!\n",
      "Crawl comment for product 184101370\n",
      "Crawl comment page 0 success!!!\n"
     ]
    },
    {
     "name": "stderr",
     "output_type": "stream",
     "text": [
      " 20%|███████████████▍                                                               | 391/2000 [10:18<46:28,  1.73s/it]"
     ]
    },
    {
     "name": "stdout",
     "output_type": "stream",
     "text": [
      "Crawl comment page 1 success!!!\n",
      "Crawl comment for product 167685113\n",
      "Crawl comment page 0 success!!!\n"
     ]
    },
    {
     "name": "stderr",
     "output_type": "stream",
     "text": [
      " 20%|███████████████▍                                                               | 392/2000 [10:19<38:40,  1.44s/it]"
     ]
    },
    {
     "name": "stdout",
     "output_type": "stream",
     "text": [
      "Crawl comment page 1 success!!!\n",
      "Crawl comment for product 160270297\n",
      "Crawl comment page 0 success!!!\n"
     ]
    },
    {
     "name": "stderr",
     "output_type": "stream",
     "text": [
      " 20%|███████████████▌                                                               | 393/2000 [10:19<29:32,  1.10s/it]"
     ]
    },
    {
     "name": "stdout",
     "output_type": "stream",
     "text": [
      "Crawl comment page 1 success!!!\n",
      "Crawl comment for product 101634575\n",
      "Crawl comment page 0 success!!!\n"
     ]
    },
    {
     "name": "stderr",
     "output_type": "stream",
     "text": [
      " 20%|███████████████▌                                                               | 394/2000 [10:20<28:31,  1.07s/it]"
     ]
    },
    {
     "name": "stdout",
     "output_type": "stream",
     "text": [
      "Crawl comment page 1 success!!!\n",
      "Crawl comment for product 50072452\n",
      "Crawl comment page 0 success!!!\n"
     ]
    },
    {
     "name": "stderr",
     "output_type": "stream",
     "text": [
      " 20%|███████████████▌                                                               | 395/2000 [10:21<31:26,  1.18s/it]"
     ]
    },
    {
     "name": "stdout",
     "output_type": "stream",
     "text": [
      "Crawl comment page 1 success!!!\n",
      "Crawl comment for product 17336364\n",
      "Crawl comment page 0 success!!!\n"
     ]
    },
    {
     "name": "stderr",
     "output_type": "stream",
     "text": [
      " 20%|███████████████▋                                                               | 396/2000 [10:24<46:24,  1.74s/it]"
     ]
    },
    {
     "name": "stdout",
     "output_type": "stream",
     "text": [
      "Crawl comment page 1 success!!!\n",
      "Crawl comment for product 14453314\n",
      "Crawl comment page 0 success!!!\n"
     ]
    },
    {
     "name": "stderr",
     "output_type": "stream",
     "text": [
      " 20%|███████████████▋                                                               | 397/2000 [10:26<49:47,  1.86s/it]"
     ]
    },
    {
     "name": "stdout",
     "output_type": "stream",
     "text": [
      "Crawl comment page 1 success!!!\n",
      "Crawl comment for product 7278095\n",
      "Crawl comment page 0 success!!!\n"
     ]
    },
    {
     "name": "stderr",
     "output_type": "stream",
     "text": [
      " 20%|███████████████▋                                                               | 398/2000 [10:27<41:51,  1.57s/it]"
     ]
    },
    {
     "name": "stdout",
     "output_type": "stream",
     "text": [
      "Crawl comment page 1 success!!!\n",
      "Crawl comment for product 1726203\n",
      "Crawl comment page 0 success!!!\n"
     ]
    },
    {
     "name": "stderr",
     "output_type": "stream",
     "text": [
      " 20%|███████████████▊                                                               | 399/2000 [10:28<35:25,  1.33s/it]"
     ]
    },
    {
     "name": "stdout",
     "output_type": "stream",
     "text": [
      "Crawl comment page 1 success!!!\n",
      "Crawl comment for product 1667307\n",
      "Crawl comment page 0 success!!!\n"
     ]
    },
    {
     "name": "stderr",
     "output_type": "stream",
     "text": [
      " 20%|███████████████▊                                                               | 400/2000 [10:31<48:25,  1.82s/it]"
     ]
    },
    {
     "name": "stdout",
     "output_type": "stream",
     "text": [
      "Crawl comment page 1 success!!!\n",
      "Crawl comment for product 278160062\n",
      "Crawl comment page 0 success!!!\n"
     ]
    },
    {
     "name": "stderr",
     "output_type": "stream",
     "text": [
      " 20%|███████████████▉                                                               | 402/2000 [10:31<25:44,  1.03it/s]"
     ]
    },
    {
     "name": "stdout",
     "output_type": "stream",
     "text": [
      "Crawl comment page 1 success!!!\n",
      "Crawl comment for product 278123142\n",
      "Crawl comment page 0 success!!!\n",
      "Crawl comment page 1 success!!!\n",
      "Crawl comment for product 278117580\n",
      "Crawl comment page 0 success!!!\n"
     ]
    },
    {
     "name": "stderr",
     "output_type": "stream",
     "text": [
      " 20%|███████████████▉                                                               | 404/2000 [10:32<14:50,  1.79it/s]"
     ]
    },
    {
     "name": "stdout",
     "output_type": "stream",
     "text": [
      "Crawl comment page 1 success!!!\n",
      "Crawl comment for product 278016081\n",
      "Crawl comment page 0 success!!!\n",
      "Crawl comment page 1 success!!!\n",
      "Crawl comment for product 277923286\n",
      "Crawl comment page 0 success!!!\n"
     ]
    },
    {
     "name": "stderr",
     "output_type": "stream",
     "text": [
      " 20%|████████████████                                                               | 406/2000 [10:32<08:44,  3.04it/s]"
     ]
    },
    {
     "name": "stdout",
     "output_type": "stream",
     "text": [
      "Crawl comment page 1 success!!!\n",
      "Crawl comment for product 277919986\n",
      "Crawl comment page 0 success!!!\n",
      "Crawl comment page 1 success!!!\n",
      "Crawl comment for product 277816234\n",
      "Crawl comment page 0 success!!!\n"
     ]
    },
    {
     "name": "stderr",
     "output_type": "stream",
     "text": [
      " 20%|████████████████                                                               | 408/2000 [10:32<05:51,  4.53it/s]"
     ]
    },
    {
     "name": "stdout",
     "output_type": "stream",
     "text": [
      "Crawl comment page 1 success!!!\n",
      "Crawl comment for product 277634913\n",
      "Crawl comment page 0 success!!!\n",
      "Crawl comment page 1 success!!!\n",
      "Crawl comment for product 276286331\n",
      "Crawl comment page 0 success!!!\n"
     ]
    },
    {
     "name": "stderr",
     "output_type": "stream",
     "text": [
      " 20%|████████████████▏                                                              | 409/2000 [10:33<10:08,  2.61it/s]"
     ]
    },
    {
     "name": "stdout",
     "output_type": "stream",
     "text": [
      "Crawl comment page 1 success!!!\n",
      "Crawl comment for product 275909699\n",
      "Crawl comment page 0 success!!!\n"
     ]
    },
    {
     "name": "stderr",
     "output_type": "stream",
     "text": [
      " 20%|████████████████▏                                                              | 410/2000 [10:35<22:21,  1.19it/s]"
     ]
    },
    {
     "name": "stdout",
     "output_type": "stream",
     "text": [
      "Crawl comment page 1 success!!!\n",
      "Crawl comment for product 274649745\n",
      "Crawl comment page 0 success!!!\n"
     ]
    },
    {
     "name": "stderr",
     "output_type": "stream",
     "text": [
      " 21%|████████████████▎                                                              | 412/2000 [10:38<26:35,  1.00s/it]"
     ]
    },
    {
     "name": "stdout",
     "output_type": "stream",
     "text": [
      "Crawl comment page 1 success!!!\n",
      "Crawl comment for product 274066381\n",
      "Crawl comment page 0 success!!!\n",
      "Crawl comment page 1 success!!!\n",
      "Crawl comment for product 273713463\n",
      "Crawl comment page 0 success!!!\n"
     ]
    },
    {
     "name": "stderr",
     "output_type": "stream",
     "text": [
      " 21%|████████████████▎                                                              | 413/2000 [10:39<25:49,  1.02it/s]"
     ]
    },
    {
     "name": "stdout",
     "output_type": "stream",
     "text": [
      "Crawl comment page 1 success!!!\n",
      "Crawl comment for product 273135108\n",
      "Crawl comment page 0 success!!!\n"
     ]
    },
    {
     "name": "stderr",
     "output_type": "stream",
     "text": [
      " 21%|████████████████▎                                                              | 414/2000 [10:41<35:59,  1.36s/it]"
     ]
    },
    {
     "name": "stdout",
     "output_type": "stream",
     "text": [
      "Crawl comment page 1 success!!!\n",
      "Crawl comment for product 263391841\n",
      "Crawl comment page 0 success!!!\n"
     ]
    },
    {
     "name": "stderr",
     "output_type": "stream",
     "text": [
      " 21%|████████████████▍                                                              | 415/2000 [10:43<38:46,  1.47s/it]"
     ]
    },
    {
     "name": "stdout",
     "output_type": "stream",
     "text": [
      "Crawl comment page 1 success!!!\n",
      "Crawl comment for product 263389173\n",
      "Crawl comment page 0 success!!!\n"
     ]
    },
    {
     "name": "stderr",
     "output_type": "stream",
     "text": [
      " 21%|████████████████▍                                                              | 416/2000 [10:43<34:07,  1.29s/it]"
     ]
    },
    {
     "name": "stdout",
     "output_type": "stream",
     "text": [
      "Crawl comment page 1 success!!!\n",
      "Crawl comment for product 263108549\n",
      "Crawl comment page 0 success!!!\n"
     ]
    },
    {
     "name": "stderr",
     "output_type": "stream",
     "text": [
      " 21%|████████████████▍                                                              | 417/2000 [10:44<27:46,  1.05s/it]"
     ]
    },
    {
     "name": "stdout",
     "output_type": "stream",
     "text": [
      "Crawl comment page 1 success!!!\n",
      "Crawl comment for product 262797660\n",
      "Crawl comment page 0 success!!!\n"
     ]
    },
    {
     "name": "stderr",
     "output_type": "stream",
     "text": [
      " 21%|████████████████▌                                                              | 418/2000 [10:46<38:20,  1.45s/it]"
     ]
    },
    {
     "name": "stdout",
     "output_type": "stream",
     "text": [
      "Crawl comment page 1 success!!!\n",
      "Crawl comment for product 204771676\n",
      "Crawl comment page 0 success!!!\n"
     ]
    },
    {
     "name": "stderr",
     "output_type": "stream",
     "text": [
      " 21%|████████████████▌                                                              | 419/2000 [10:48<41:20,  1.57s/it]"
     ]
    },
    {
     "name": "stdout",
     "output_type": "stream",
     "text": [
      "Crawl comment page 1 success!!!\n",
      "Crawl comment for product 196150482\n",
      "Crawl comment page 0 success!!!\n"
     ]
    },
    {
     "name": "stderr",
     "output_type": "stream",
     "text": [
      " 21%|████████████████▌                                                              | 420/2000 [10:50<43:25,  1.65s/it]"
     ]
    },
    {
     "name": "stdout",
     "output_type": "stream",
     "text": [
      "Crawl comment page 1 success!!!\n",
      "Crawl comment for product 195962334\n",
      "Crawl comment page 0 success!!!\n"
     ]
    },
    {
     "name": "stderr",
     "output_type": "stream",
     "text": [
      " 21%|████████████████▋                                                              | 421/2000 [10:51<41:41,  1.58s/it]"
     ]
    },
    {
     "name": "stdout",
     "output_type": "stream",
     "text": [
      "Crawl comment page 1 success!!!\n",
      "Crawl comment for product 191958409\n",
      "Crawl comment page 0 success!!!\n"
     ]
    },
    {
     "name": "stderr",
     "output_type": "stream",
     "text": [
      " 21%|████████████████▋                                                              | 422/2000 [10:52<33:19,  1.27s/it]"
     ]
    },
    {
     "name": "stdout",
     "output_type": "stream",
     "text": [
      "Crawl comment page 1 success!!!\n",
      "Crawl comment for product 191956843\n"
     ]
    },
    {
     "name": "stderr",
     "output_type": "stream",
     "text": [
      " 21%|████████████████▋                                                              | 423/2000 [10:52<26:46,  1.02s/it]"
     ]
    },
    {
     "name": "stdout",
     "output_type": "stream",
     "text": [
      "Crawl comment page 0 success!!!\n",
      "Crawl comment page 1 success!!!\n",
      "Crawl comment for product 191148988\n",
      "Crawl comment page 0 success!!!\n"
     ]
    },
    {
     "name": "stderr",
     "output_type": "stream",
     "text": [
      " 21%|████████████████▋                                                              | 424/2000 [10:55<35:41,  1.36s/it]"
     ]
    },
    {
     "name": "stdout",
     "output_type": "stream",
     "text": [
      "Crawl comment page 1 success!!!\n",
      "Crawl comment for product 187001113\n",
      "Crawl comment page 0 success!!!\n"
     ]
    },
    {
     "name": "stderr",
     "output_type": "stream",
     "text": [
      " 21%|████████████████▊                                                              | 425/2000 [10:55<30:49,  1.17s/it]"
     ]
    },
    {
     "name": "stdout",
     "output_type": "stream",
     "text": [
      "Crawl comment page 1 success!!!\n",
      "Crawl comment for product 172545674\n",
      "Crawl comment page 0 success!!!\n"
     ]
    },
    {
     "name": "stderr",
     "output_type": "stream",
     "text": [
      " 21%|████████████████▊                                                              | 426/2000 [10:57<36:16,  1.38s/it]"
     ]
    },
    {
     "name": "stdout",
     "output_type": "stream",
     "text": [
      "Crawl comment page 1 success!!!\n",
      "Crawl comment for product 164583219\n",
      "Crawl comment page 0 success!!!\n"
     ]
    },
    {
     "name": "stderr",
     "output_type": "stream",
     "text": [
      " 21%|████████████████▊                                                              | 427/2000 [10:59<41:51,  1.60s/it]"
     ]
    },
    {
     "name": "stdout",
     "output_type": "stream",
     "text": [
      "Crawl comment page 1 success!!!\n",
      "Crawl comment for product 162844699\n",
      "Crawl comment page 0 success!!!\n"
     ]
    },
    {
     "name": "stderr",
     "output_type": "stream",
     "text": [
      " 21%|████████████████▉                                                              | 428/2000 [11:01<43:47,  1.67s/it]"
     ]
    },
    {
     "name": "stdout",
     "output_type": "stream",
     "text": [
      "Crawl comment page 1 success!!!\n",
      "Crawl comment for product 107802188\n",
      "Crawl comment page 0 success!!!\n"
     ]
    },
    {
     "name": "stderr",
     "output_type": "stream",
     "text": [
      " 21%|████████████████▉                                                              | 429/2000 [11:02<40:16,  1.54s/it]"
     ]
    },
    {
     "name": "stdout",
     "output_type": "stream",
     "text": [
      "Crawl comment page 1 success!!!\n",
      "Crawl comment for product 97561436\n",
      "Crawl comment page 0 success!!!\n"
     ]
    },
    {
     "name": "stderr",
     "output_type": "stream",
     "text": [
      " 22%|████████████████▉                                                              | 430/2000 [11:04<39:47,  1.52s/it]"
     ]
    },
    {
     "name": "stdout",
     "output_type": "stream",
     "text": [
      "Crawl comment page 1 success!!!\n",
      "Crawl comment for product 67991600\n",
      "Crawl comment page 0 success!!!\n"
     ]
    },
    {
     "name": "stderr",
     "output_type": "stream",
     "text": [
      " 22%|█████████████████                                                              | 431/2000 [11:06<42:25,  1.62s/it]"
     ]
    },
    {
     "name": "stdout",
     "output_type": "stream",
     "text": [
      "Crawl comment page 1 success!!!\n",
      "Crawl comment for product 58390336\n",
      "Crawl comment page 0 success!!!\n"
     ]
    },
    {
     "name": "stderr",
     "output_type": "stream",
     "text": [
      " 22%|█████████████████                                                              | 432/2000 [11:07<38:21,  1.47s/it]"
     ]
    },
    {
     "name": "stdout",
     "output_type": "stream",
     "text": [
      "Crawl comment page 1 success!!!\n",
      "Crawl comment for product 54614797\n",
      "Crawl comment page 0 success!!!\n"
     ]
    },
    {
     "name": "stderr",
     "output_type": "stream",
     "text": [
      " 22%|█████████████████                                                              | 433/2000 [11:09<45:45,  1.75s/it]"
     ]
    },
    {
     "name": "stdout",
     "output_type": "stream",
     "text": [
      "Crawl comment page 1 success!!!\n",
      "Crawl comment for product 54266567\n",
      "Crawl comment page 0 success!!!\n"
     ]
    },
    {
     "name": "stderr",
     "output_type": "stream",
     "text": [
      " 22%|█████████████████▏                                                             | 434/2000 [11:11<46:27,  1.78s/it]"
     ]
    },
    {
     "name": "stdout",
     "output_type": "stream",
     "text": [
      "Crawl comment page 1 success!!!\n",
      "Crawl comment for product 32543726\n",
      "Crawl comment page 0 success!!!\n"
     ]
    },
    {
     "name": "stderr",
     "output_type": "stream",
     "text": [
      " 22%|█████████████████▏                                                             | 435/2000 [11:13<49:55,  1.91s/it]"
     ]
    },
    {
     "name": "stdout",
     "output_type": "stream",
     "text": [
      "Crawl comment page 1 success!!!\n",
      "Crawl comment for product 30757177\n",
      "Crawl comment page 0 success!!!\n"
     ]
    },
    {
     "name": "stderr",
     "output_type": "stream",
     "text": [
      " 22%|█████████████████▏                                                             | 436/2000 [11:15<47:30,  1.82s/it]"
     ]
    },
    {
     "name": "stdout",
     "output_type": "stream",
     "text": [
      "Crawl comment page 1 success!!!\n",
      "Crawl comment for product 13407561\n",
      "Crawl comment page 0 success!!!\n"
     ]
    },
    {
     "name": "stderr",
     "output_type": "stream",
     "text": [
      " 22%|█████████████████▎                                                             | 437/2000 [11:17<48:25,  1.86s/it]"
     ]
    },
    {
     "name": "stdout",
     "output_type": "stream",
     "text": [
      "Crawl comment page 1 success!!!\n",
      "Crawl comment for product 12138656\n",
      "Crawl comment page 0 success!!!\n"
     ]
    },
    {
     "name": "stderr",
     "output_type": "stream",
     "text": [
      " 22%|█████████████████▎                                                             | 438/2000 [11:19<51:21,  1.97s/it]"
     ]
    },
    {
     "name": "stdout",
     "output_type": "stream",
     "text": [
      "Crawl comment page 1 success!!!\n",
      "Crawl comment for product 8835157\n",
      "Crawl comment page 0 success!!!\n"
     ]
    },
    {
     "name": "stderr",
     "output_type": "stream",
     "text": [
      " 22%|█████████████████▎                                                             | 439/2000 [11:20<42:34,  1.64s/it]"
     ]
    },
    {
     "name": "stdout",
     "output_type": "stream",
     "text": [
      "Crawl comment page 1 success!!!\n",
      "Crawl comment for product 441919\n",
      "Crawl comment page 0 success!!!\n"
     ]
    },
    {
     "name": "stderr",
     "output_type": "stream",
     "text": [
      " 22%|█████████████████▍                                                             | 440/2000 [11:23<54:32,  2.10s/it]"
     ]
    },
    {
     "name": "stdout",
     "output_type": "stream",
     "text": [
      "Crawl comment page 1 success!!!\n",
      "Crawl comment for product 278117650\n",
      "Crawl comment page 0 success!!!\n"
     ]
    },
    {
     "name": "stderr",
     "output_type": "stream",
     "text": [
      " 22%|█████████████████▍                                                             | 442/2000 [11:24<33:13,  1.28s/it]"
     ]
    },
    {
     "name": "stdout",
     "output_type": "stream",
     "text": [
      "Crawl comment page 1 success!!!\n",
      "Crawl comment for product 278089753\n",
      "Crawl comment page 0 success!!!\n",
      "Crawl comment page 1 success!!!\n",
      "Crawl comment for product 278058670\n"
     ]
    },
    {
     "name": "stderr",
     "output_type": "stream",
     "text": [
      " 22%|█████████████████▌                                                             | 444/2000 [11:24<17:45,  1.46it/s]"
     ]
    },
    {
     "name": "stdout",
     "output_type": "stream",
     "text": [
      "Crawl comment page 0 success!!!\n",
      "Crawl comment page 1 success!!!\n",
      "Crawl comment for product 277923369\n",
      "Crawl comment page 0 success!!!\n",
      "Crawl comment page 1 success!!!\n",
      "Crawl comment for product 277827103\n"
     ]
    },
    {
     "name": "stderr",
     "output_type": "stream",
     "text": [
      " 22%|█████████████████▌                                                             | 445/2000 [11:25<13:20,  1.94it/s]"
     ]
    },
    {
     "name": "stdout",
     "output_type": "stream",
     "text": [
      "Crawl comment page 0 success!!!\n",
      "Crawl comment page 1 success!!!\n",
      "Crawl comment for product 277599516\n"
     ]
    },
    {
     "name": "stderr",
     "output_type": "stream",
     "text": [
      " 22%|█████████████████▌                                                             | 446/2000 [11:25<12:28,  2.08it/s]"
     ]
    },
    {
     "name": "stdout",
     "output_type": "stream",
     "text": [
      "Crawl comment page 0 success!!!\n",
      "Crawl comment page 1 success!!!\n",
      "Crawl comment for product 277408894\n"
     ]
    },
    {
     "name": "stderr",
     "output_type": "stream",
     "text": [
      " 22%|█████████████████▋                                                             | 447/2000 [11:25<11:09,  2.32it/s]"
     ]
    },
    {
     "name": "stdout",
     "output_type": "stream",
     "text": [
      "Crawl comment page 0 success!!!\n",
      "Crawl comment page 1 success!!!\n",
      "Crawl comment for product 276089008\n",
      "Crawl comment page 0 success!!!\n"
     ]
    },
    {
     "name": "stderr",
     "output_type": "stream",
     "text": [
      " 22%|█████████████████▋                                                             | 448/2000 [11:25<09:05,  2.84it/s]"
     ]
    },
    {
     "name": "stdout",
     "output_type": "stream",
     "text": [
      "Crawl comment page 1 success!!!\n",
      "Crawl comment for product 276051707\n",
      "Crawl comment page 0 success!!!\n"
     ]
    },
    {
     "name": "stderr",
     "output_type": "stream",
     "text": [
      " 22%|█████████████████▊                                                             | 450/2000 [11:27<12:32,  2.06it/s]"
     ]
    },
    {
     "name": "stdout",
     "output_type": "stream",
     "text": [
      "Crawl comment page 1 success!!!\n",
      "Crawl comment for product 275268390\n",
      "Crawl comment page 0 success!!!\n",
      "Crawl comment page 1 success!!!\n",
      "Crawl comment for product 275140709\n",
      "Crawl comment page 0 success!!!\n"
     ]
    },
    {
     "name": "stderr",
     "output_type": "stream",
     "text": [
      " 23%|█████████████████▊                                                             | 451/2000 [11:30<30:06,  1.17s/it]"
     ]
    },
    {
     "name": "stdout",
     "output_type": "stream",
     "text": [
      "Crawl comment page 1 success!!!\n",
      "Crawl comment for product 273475654\n",
      "Crawl comment page 0 success!!!\n"
     ]
    },
    {
     "name": "stderr",
     "output_type": "stream",
     "text": [
      " 23%|█████████████████▊                                                             | 452/2000 [11:33<46:29,  1.80s/it]"
     ]
    },
    {
     "name": "stdout",
     "output_type": "stream",
     "text": [
      "Crawl comment page 1 success!!!\n",
      "Crawl comment for product 273122475\n",
      "Crawl comment page 0 success!!!\n"
     ]
    },
    {
     "name": "stderr",
     "output_type": "stream",
     "text": [
      " 23%|█████████████████▉                                                             | 453/2000 [11:34<43:29,  1.69s/it]"
     ]
    },
    {
     "name": "stdout",
     "output_type": "stream",
     "text": [
      "Crawl comment page 1 success!!!\n",
      "Crawl comment for product 272002787\n",
      "Crawl comment page 0 success!!!\n"
     ]
    },
    {
     "name": "stderr",
     "output_type": "stream",
     "text": [
      " 23%|█████████████████▉                                                             | 454/2000 [11:35<39:45,  1.54s/it]"
     ]
    },
    {
     "name": "stdout",
     "output_type": "stream",
     "text": [
      "Crawl comment page 1 success!!!\n",
      "Crawl comment for product 271916321\n",
      "Crawl comment page 0 success!!!\n"
     ]
    },
    {
     "name": "stderr",
     "output_type": "stream",
     "text": [
      " 23%|█████████████████▉                                                             | 455/2000 [11:38<46:02,  1.79s/it]"
     ]
    },
    {
     "name": "stdout",
     "output_type": "stream",
     "text": [
      "Crawl comment page 1 success!!!\n",
      "Crawl comment for product 263049497\n",
      "Crawl comment page 0 success!!!\n"
     ]
    },
    {
     "name": "stderr",
     "output_type": "stream",
     "text": [
      " 23%|██████████████████                                                             | 456/2000 [11:40<47:53,  1.86s/it]"
     ]
    },
    {
     "name": "stdout",
     "output_type": "stream",
     "text": [
      "Crawl comment page 1 success!!!\n",
      "Crawl comment for product 249960247\n",
      "Crawl comment page 0 success!!!\n"
     ]
    },
    {
     "name": "stderr",
     "output_type": "stream",
     "text": [
      " 23%|██████████████████                                                             | 457/2000 [11:41<44:16,  1.72s/it]"
     ]
    },
    {
     "name": "stdout",
     "output_type": "stream",
     "text": [
      "Crawl comment page 1 success!!!\n",
      "Crawl comment for product 245787187\n",
      "Crawl comment page 0 success!!!\n"
     ]
    },
    {
     "name": "stderr",
     "output_type": "stream",
     "text": [
      " 23%|██████████████████                                                             | 458/2000 [11:43<45:08,  1.76s/it]"
     ]
    },
    {
     "name": "stdout",
     "output_type": "stream",
     "text": [
      "Crawl comment page 1 success!!!\n",
      "Crawl comment for product 201845361\n",
      "Crawl comment page 0 success!!!\n"
     ]
    },
    {
     "name": "stderr",
     "output_type": "stream",
     "text": [
      " 23%|██████████████████▏                                                            | 459/2000 [11:46<55:42,  2.17s/it]"
     ]
    },
    {
     "name": "stdout",
     "output_type": "stream",
     "text": [
      "Crawl comment page 1 success!!!\n",
      "Crawl comment for product 195291928\n",
      "Crawl comment page 0 success!!!\n"
     ]
    },
    {
     "name": "stderr",
     "output_type": "stream",
     "text": [
      " 23%|█████████████████▋                                                           | 460/2000 [11:49<1:00:19,  2.35s/it]"
     ]
    },
    {
     "name": "stdout",
     "output_type": "stream",
     "text": [
      "Crawl comment page 1 success!!!\n",
      "Crawl comment for product 194960744\n",
      "Crawl comment page 0 success!!!\n"
     ]
    },
    {
     "name": "stderr",
     "output_type": "stream",
     "text": [
      " 23%|█████████████████▋                                                           | 461/2000 [11:51<1:01:07,  2.38s/it]"
     ]
    },
    {
     "name": "stdout",
     "output_type": "stream",
     "text": [
      "Crawl comment page 1 success!!!\n",
      "Crawl comment for product 187934204\n",
      "Crawl comment page 0 success!!!\n"
     ]
    },
    {
     "name": "stderr",
     "output_type": "stream",
     "text": [
      " 23%|██████████████████▏                                                            | 462/2000 [11:53<51:54,  2.03s/it]"
     ]
    },
    {
     "name": "stdout",
     "output_type": "stream",
     "text": [
      "Crawl comment page 1 success!!!\n",
      "Crawl comment for product 187933180\n",
      "Crawl comment page 0 success!!!\n"
     ]
    },
    {
     "name": "stderr",
     "output_type": "stream",
     "text": [
      " 23%|██████████████████▎                                                            | 463/2000 [11:53<41:28,  1.62s/it]"
     ]
    },
    {
     "name": "stdout",
     "output_type": "stream",
     "text": [
      "Crawl comment page 1 success!!!\n",
      "Crawl comment for product 185909439\n",
      "Crawl comment page 0 success!!!\n"
     ]
    },
    {
     "name": "stderr",
     "output_type": "stream",
     "text": [
      " 23%|██████████████████▎                                                            | 464/2000 [11:55<39:18,  1.54s/it]"
     ]
    },
    {
     "name": "stdout",
     "output_type": "stream",
     "text": [
      "Crawl comment page 1 success!!!\n",
      "Crawl comment for product 180226005\n",
      "Crawl comment page 0 success!!!\n"
     ]
    },
    {
     "name": "stderr",
     "output_type": "stream",
     "text": [
      " 23%|██████████████████▎                                                            | 465/2000 [11:57<46:41,  1.83s/it]"
     ]
    },
    {
     "name": "stdout",
     "output_type": "stream",
     "text": [
      "Crawl comment page 1 success!!!\n",
      "Crawl comment for product 179063562\n",
      "Crawl comment page 0 success!!!\n"
     ]
    },
    {
     "name": "stderr",
     "output_type": "stream",
     "text": [
      " 23%|██████████████████▍                                                            | 466/2000 [11:59<44:59,  1.76s/it]"
     ]
    },
    {
     "name": "stdout",
     "output_type": "stream",
     "text": [
      "Crawl comment page 1 success!!!\n",
      "Crawl comment for product 169546325\n",
      "Crawl comment page 0 success!!!\n"
     ]
    },
    {
     "name": "stderr",
     "output_type": "stream",
     "text": [
      " 23%|██████████████████▍                                                            | 467/2000 [12:01<46:17,  1.81s/it]"
     ]
    },
    {
     "name": "stdout",
     "output_type": "stream",
     "text": [
      "Crawl comment page 1 success!!!\n",
      "Crawl comment for product 162214413\n",
      "Crawl comment page 0 success!!!\n"
     ]
    },
    {
     "name": "stderr",
     "output_type": "stream",
     "text": [
      " 23%|██████████████████▍                                                            | 468/2000 [12:01<34:44,  1.36s/it]"
     ]
    },
    {
     "name": "stdout",
     "output_type": "stream",
     "text": [
      "Crawl comment page 1 success!!!\n",
      "Crawl comment for product 150601687\n",
      "Crawl comment page 0 success!!!\n"
     ]
    },
    {
     "name": "stderr",
     "output_type": "stream",
     "text": [
      " 23%|██████████████████▌                                                            | 469/2000 [12:02<29:47,  1.17s/it]"
     ]
    },
    {
     "name": "stdout",
     "output_type": "stream",
     "text": [
      "Crawl comment page 1 success!!!\n",
      "Crawl comment for product 147920903\n",
      "Crawl comment page 0 success!!!\n"
     ]
    },
    {
     "name": "stderr",
     "output_type": "stream",
     "text": [
      " 24%|██████████████████▌                                                            | 470/2000 [12:04<37:00,  1.45s/it]"
     ]
    },
    {
     "name": "stdout",
     "output_type": "stream",
     "text": [
      "Crawl comment page 1 success!!!\n",
      "Crawl comment for product 143186001\n",
      "Crawl comment page 0 success!!!\n"
     ]
    },
    {
     "name": "stderr",
     "output_type": "stream",
     "text": [
      " 24%|██████████████████▌                                                            | 471/2000 [12:05<36:09,  1.42s/it]"
     ]
    },
    {
     "name": "stdout",
     "output_type": "stream",
     "text": [
      "Crawl comment page 1 success!!!\n",
      "Crawl comment for product 127844385\n",
      "Crawl comment page 0 success!!!\n"
     ]
    },
    {
     "name": "stderr",
     "output_type": "stream",
     "text": [
      " 24%|██████████████████▋                                                            | 472/2000 [12:08<43:15,  1.70s/it]"
     ]
    },
    {
     "name": "stdout",
     "output_type": "stream",
     "text": [
      "Crawl comment page 1 success!!!\n",
      "Crawl comment for product 102775969\n",
      "Crawl comment page 0 success!!!\n"
     ]
    },
    {
     "name": "stderr",
     "output_type": "stream",
     "text": [
      " 24%|██████████████████▋                                                            | 473/2000 [12:09<39:40,  1.56s/it]"
     ]
    },
    {
     "name": "stdout",
     "output_type": "stream",
     "text": [
      "Crawl comment page 1 success!!!\n",
      "Crawl comment for product 91272084\n",
      "Crawl comment page 0 success!!!\n"
     ]
    },
    {
     "name": "stderr",
     "output_type": "stream",
     "text": [
      " 24%|██████████████████▋                                                            | 474/2000 [12:11<42:16,  1.66s/it]"
     ]
    },
    {
     "name": "stdout",
     "output_type": "stream",
     "text": [
      "Crawl comment page 1 success!!!\n",
      "Crawl comment for product 69624539\n",
      "Crawl comment page 0 success!!!\n"
     ]
    },
    {
     "name": "stderr",
     "output_type": "stream",
     "text": [
      " 24%|██████████████████▊                                                            | 475/2000 [12:12<42:32,  1.67s/it]"
     ]
    },
    {
     "name": "stdout",
     "output_type": "stream",
     "text": [
      "Crawl comment page 1 success!!!\n",
      "Crawl comment for product 59262880\n",
      "Crawl comment page 0 success!!!\n"
     ]
    },
    {
     "name": "stderr",
     "output_type": "stream",
     "text": [
      " 24%|██████████████████▊                                                            | 476/2000 [12:14<45:21,  1.79s/it]"
     ]
    },
    {
     "name": "stdout",
     "output_type": "stream",
     "text": [
      "Crawl comment page 1 success!!!\n",
      "Crawl comment for product 52523771\n",
      "Crawl comment page 0 success!!!\n"
     ]
    },
    {
     "name": "stderr",
     "output_type": "stream",
     "text": [
      " 24%|██████████████████▊                                                            | 477/2000 [12:17<47:29,  1.87s/it]"
     ]
    },
    {
     "name": "stdout",
     "output_type": "stream",
     "text": [
      "Crawl comment page 1 success!!!\n",
      "Crawl comment for product 39228816\n",
      "Crawl comment page 0 success!!!\n"
     ]
    },
    {
     "name": "stderr",
     "output_type": "stream",
     "text": [
      " 24%|██████████████████▉                                                            | 478/2000 [12:18<46:48,  1.85s/it]"
     ]
    },
    {
     "name": "stdout",
     "output_type": "stream",
     "text": [
      "Crawl comment page 1 success!!!\n",
      "Crawl comment for product 22099041\n",
      "Crawl comment page 0 success!!!\n"
     ]
    },
    {
     "name": "stderr",
     "output_type": "stream",
     "text": [
      " 24%|██████████████████▉                                                            | 479/2000 [12:19<38:18,  1.51s/it]"
     ]
    },
    {
     "name": "stdout",
     "output_type": "stream",
     "text": [
      "Crawl comment page 1 success!!!\n",
      "Crawl comment for product 394434\n",
      "Crawl comment page 0 success!!!\n"
     ]
    },
    {
     "name": "stderr",
     "output_type": "stream",
     "text": [
      " 24%|██████████████████▉                                                            | 480/2000 [12:20<36:40,  1.45s/it]"
     ]
    },
    {
     "name": "stdout",
     "output_type": "stream",
     "text": [
      "Crawl comment page 1 success!!!\n",
      "Crawl comment for product 278160686\n",
      "Crawl comment page 0 success!!!\n"
     ]
    },
    {
     "name": "stderr",
     "output_type": "stream",
     "text": [
      " 24%|███████████████████                                                            | 482/2000 [12:21<19:56,  1.27it/s]"
     ]
    },
    {
     "name": "stdout",
     "output_type": "stream",
     "text": [
      "Crawl comment page 1 success!!!\n",
      "Crawl comment for product 278094957\n",
      "Crawl comment page 0 success!!!\n",
      "Crawl comment page 1 success!!!\n",
      "Crawl comment for product 278090885\n",
      "Crawl comment page 0 success!!!\n"
     ]
    },
    {
     "name": "stderr",
     "output_type": "stream",
     "text": [
      " 24%|███████████████████                                                            | 483/2000 [12:21<17:41,  1.43it/s]"
     ]
    },
    {
     "name": "stdout",
     "output_type": "stream",
     "text": [
      "Crawl comment page 1 success!!!\n",
      "Crawl comment for product 278035740\n",
      "Crawl comment page 0 success!!!\n"
     ]
    },
    {
     "name": "stderr",
     "output_type": "stream",
     "text": [
      " 24%|███████████████████▏                                                           | 485/2000 [12:22<11:56,  2.11it/s]"
     ]
    },
    {
     "name": "stdout",
     "output_type": "stream",
     "text": [
      "Crawl comment page 1 success!!!\n",
      "Crawl comment for product 278025161\n",
      "Crawl comment page 0 success!!!\n",
      "Crawl comment page 1 success!!!\n",
      "Crawl comment for product 277827108\n"
     ]
    },
    {
     "name": "stderr",
     "output_type": "stream",
     "text": [
      " 24%|███████████████████▏                                                           | 486/2000 [12:22<10:33,  2.39it/s]"
     ]
    },
    {
     "name": "stdout",
     "output_type": "stream",
     "text": [
      "Crawl comment page 0 success!!!\n",
      "Crawl comment page 1 success!!!\n",
      "Crawl comment for product 277742023\n"
     ]
    },
    {
     "name": "stderr",
     "output_type": "stream",
     "text": [
      " 24%|███████████████████▏                                                           | 487/2000 [12:22<10:19,  2.44it/s]"
     ]
    },
    {
     "name": "stdout",
     "output_type": "stream",
     "text": [
      "Crawl comment page 0 success!!!\n",
      "Crawl comment page 1 success!!!\n",
      "Crawl comment for product 277599017\n",
      "Crawl comment page 0 success!!!\n"
     ]
    },
    {
     "name": "stderr",
     "output_type": "stream",
     "text": [
      " 24%|███████████████████▎                                                           | 489/2000 [12:23<07:13,  3.48it/s]"
     ]
    },
    {
     "name": "stdout",
     "output_type": "stream",
     "text": [
      "Crawl comment page 1 success!!!\n",
      "Crawl comment for product 277527674\n",
      "Crawl comment page 0 success!!!\n",
      "Crawl comment page 1 success!!!\n",
      "Crawl comment for product 277348515\n",
      "Crawl comment page 0 success!!!\n"
     ]
    },
    {
     "name": "stderr",
     "output_type": "stream",
     "text": [
      " 25%|███████████████████▍                                                           | 491/2000 [12:24<09:05,  2.76it/s]"
     ]
    },
    {
     "name": "stdout",
     "output_type": "stream",
     "text": [
      "Crawl comment page 1 success!!!\n",
      "Crawl comment for product 277256426\n",
      "Crawl comment page 0 success!!!\n",
      "Crawl comment page 1 success!!!\n",
      "Crawl comment for product 276401010\n",
      "Crawl comment page 0 success!!!\n"
     ]
    },
    {
     "name": "stderr",
     "output_type": "stream",
     "text": [
      " 25%|███████████████████▍                                                           | 493/2000 [12:26<18:03,  1.39it/s]"
     ]
    },
    {
     "name": "stdout",
     "output_type": "stream",
     "text": [
      "Crawl comment page 1 success!!!\n",
      "Crawl comment for product 276182224\n",
      "Crawl comment page 0 success!!!\n",
      "Crawl comment page 1 success!!!\n",
      "Crawl comment for product 275620664\n"
     ]
    },
    {
     "name": "stderr",
     "output_type": "stream",
     "text": [
      " 25%|███████████████████▌                                                           | 494/2000 [12:27<14:33,  1.72it/s]"
     ]
    },
    {
     "name": "stdout",
     "output_type": "stream",
     "text": [
      "Crawl comment page 0 success!!!\n",
      "Crawl comment page 1 success!!!\n",
      "Crawl comment for product 275316345\n",
      "Crawl comment page 0 success!!!\n"
     ]
    },
    {
     "name": "stderr",
     "output_type": "stream",
     "text": [
      " 25%|███████████████████▌                                                           | 495/2000 [12:28<18:20,  1.37it/s]"
     ]
    },
    {
     "name": "stdout",
     "output_type": "stream",
     "text": [
      "Crawl comment page 1 success!!!\n",
      "Crawl comment for product 275025274\n",
      "Crawl comment page 0 success!!!\n"
     ]
    },
    {
     "name": "stderr",
     "output_type": "stream",
     "text": [
      " 25%|███████████████████▌                                                           | 496/2000 [12:31<38:24,  1.53s/it]"
     ]
    },
    {
     "name": "stdout",
     "output_type": "stream",
     "text": [
      "Crawl comment page 1 success!!!\n",
      "Crawl comment for product 274909469\n",
      "Crawl comment page 0 success!!!\n"
     ]
    },
    {
     "name": "stderr",
     "output_type": "stream",
     "text": [
      " 25%|███████████████████▋                                                           | 497/2000 [12:31<28:50,  1.15s/it]"
     ]
    },
    {
     "name": "stdout",
     "output_type": "stream",
     "text": [
      "Crawl comment page 1 success!!!\n",
      "Crawl comment for product 274050407\n",
      "Crawl comment page 0 success!!!\n"
     ]
    },
    {
     "name": "stderr",
     "output_type": "stream",
     "text": [
      " 25%|███████████████████▋                                                           | 498/2000 [12:33<32:18,  1.29s/it]"
     ]
    },
    {
     "name": "stdout",
     "output_type": "stream",
     "text": [
      "Crawl comment page 1 success!!!\n",
      "Crawl comment for product 272200264\n",
      "Crawl comment page 0 success!!!\n"
     ]
    },
    {
     "name": "stderr",
     "output_type": "stream",
     "text": [
      " 25%|███████████████████▋                                                           | 499/2000 [12:33<25:16,  1.01s/it]"
     ]
    },
    {
     "name": "stdout",
     "output_type": "stream",
     "text": [
      "Crawl comment page 1 success!!!\n",
      "Crawl comment for product 271253938\n",
      "Crawl comment page 0 success!!!\n"
     ]
    },
    {
     "name": "stderr",
     "output_type": "stream",
     "text": [
      " 25%|███████████████████▊                                                           | 500/2000 [12:35<30:50,  1.23s/it]"
     ]
    },
    {
     "name": "stdout",
     "output_type": "stream",
     "text": [
      "Crawl comment page 1 success!!!\n",
      "Crawl comment for product 270660251\n",
      "Crawl comment page 0 success!!!\n"
     ]
    },
    {
     "name": "stderr",
     "output_type": "stream",
     "text": [
      " 25%|███████████████████▊                                                           | 501/2000 [12:38<40:59,  1.64s/it]"
     ]
    },
    {
     "name": "stdout",
     "output_type": "stream",
     "text": [
      "Crawl comment page 1 success!!!\n",
      "Crawl comment for product 270442396\n",
      "Crawl comment page 0 success!!!\n"
     ]
    },
    {
     "name": "stderr",
     "output_type": "stream",
     "text": [
      " 25%|███████████████████▊                                                           | 502/2000 [12:39<41:13,  1.65s/it]"
     ]
    },
    {
     "name": "stdout",
     "output_type": "stream",
     "text": [
      "Crawl comment page 1 success!!!\n",
      "Crawl comment for product 263764769\n",
      "Crawl comment page 0 success!!!\n"
     ]
    },
    {
     "name": "stderr",
     "output_type": "stream",
     "text": [
      " 25%|███████████████████▊                                                           | 503/2000 [12:41<43:18,  1.74s/it]"
     ]
    },
    {
     "name": "stdout",
     "output_type": "stream",
     "text": [
      "Crawl comment page 1 success!!!\n",
      "Crawl comment for product 252098916\n",
      "Crawl comment page 0 success!!!\n"
     ]
    },
    {
     "name": "stderr",
     "output_type": "stream",
     "text": [
      " 25%|███████████████████▉                                                           | 504/2000 [12:42<35:52,  1.44s/it]"
     ]
    },
    {
     "name": "stdout",
     "output_type": "stream",
     "text": [
      "Crawl comment page 1 success!!!\n",
      "Crawl comment for product 217258377\n",
      "Crawl comment page 0 success!!!\n"
     ]
    },
    {
     "name": "stderr",
     "output_type": "stream",
     "text": [
      " 25%|███████████████████▉                                                           | 506/2000 [12:42<19:39,  1.27it/s]"
     ]
    },
    {
     "name": "stdout",
     "output_type": "stream",
     "text": [
      "Crawl comment page 1 success!!!\n",
      "Crawl comment for product 210732613\n",
      "Crawl comment page 0 success!!!\n",
      "Crawl comment page 1 success!!!\n",
      "Crawl comment for product 199692508\n",
      "Crawl comment page 0 success!!!\n"
     ]
    },
    {
     "name": "stderr",
     "output_type": "stream",
     "text": [
      " 25%|████████████████████                                                           | 507/2000 [12:45<31:40,  1.27s/it]"
     ]
    },
    {
     "name": "stdout",
     "output_type": "stream",
     "text": [
      "Crawl comment page 1 success!!!\n",
      "Crawl comment for product 155326338\n",
      "Crawl comment page 0 success!!!\n"
     ]
    },
    {
     "name": "stderr",
     "output_type": "stream",
     "text": [
      " 25%|████████████████████                                                           | 508/2000 [12:46<29:18,  1.18s/it]"
     ]
    },
    {
     "name": "stdout",
     "output_type": "stream",
     "text": [
      "Crawl comment page 1 success!!!\n",
      "Crawl comment for product 110447680\n",
      "Crawl comment page 0 success!!!\n"
     ]
    },
    {
     "name": "stderr",
     "output_type": "stream",
     "text": [
      " 25%|████████████████████                                                           | 509/2000 [12:48<38:59,  1.57s/it]"
     ]
    },
    {
     "name": "stdout",
     "output_type": "stream",
     "text": [
      "Crawl comment page 1 success!!!\n",
      "Crawl comment for product 91947575\n",
      "Crawl comment page 0 success!!!\n"
     ]
    },
    {
     "name": "stderr",
     "output_type": "stream",
     "text": [
      " 26%|████████████████████▏                                                          | 510/2000 [12:50<43:58,  1.77s/it]"
     ]
    },
    {
     "name": "stdout",
     "output_type": "stream",
     "text": [
      "Crawl comment page 1 success!!!\n",
      "Crawl comment for product 89402956\n",
      "Crawl comment page 0 success!!!\n"
     ]
    },
    {
     "name": "stderr",
     "output_type": "stream",
     "text": [
      " 26%|████████████████████▏                                                          | 511/2000 [12:52<40:29,  1.63s/it]"
     ]
    },
    {
     "name": "stdout",
     "output_type": "stream",
     "text": [
      "Crawl comment page 1 success!!!\n",
      "Crawl comment for product 87726331\n",
      "Crawl comment page 0 success!!!\n"
     ]
    },
    {
     "name": "stderr",
     "output_type": "stream",
     "text": [
      " 26%|████████████████████▏                                                          | 512/2000 [12:54<43:15,  1.74s/it]"
     ]
    },
    {
     "name": "stdout",
     "output_type": "stream",
     "text": [
      "Crawl comment page 1 success!!!\n",
      "Crawl comment for product 86270920\n",
      "Crawl comment page 0 success!!!\n"
     ]
    },
    {
     "name": "stderr",
     "output_type": "stream",
     "text": [
      " 26%|████████████████████▎                                                          | 513/2000 [12:56<45:00,  1.82s/it]"
     ]
    },
    {
     "name": "stdout",
     "output_type": "stream",
     "text": [
      "Crawl comment page 1 success!!!\n",
      "Crawl comment for product 74983567\n",
      "Crawl comment page 0 success!!!\n"
     ]
    },
    {
     "name": "stderr",
     "output_type": "stream",
     "text": [
      " 26%|████████████████████▎                                                          | 514/2000 [12:57<44:36,  1.80s/it]"
     ]
    },
    {
     "name": "stdout",
     "output_type": "stream",
     "text": [
      "Crawl comment page 1 success!!!\n",
      "Crawl comment for product 57865421\n",
      "Crawl comment page 0 success!!!\n"
     ]
    },
    {
     "name": "stderr",
     "output_type": "stream",
     "text": [
      " 26%|████████████████████▎                                                          | 515/2000 [12:59<39:38,  1.60s/it]"
     ]
    },
    {
     "name": "stdout",
     "output_type": "stream",
     "text": [
      "Crawl comment page 1 success!!!\n",
      "Crawl comment for product 32737026\n",
      "Crawl comment page 0 success!!!\n"
     ]
    },
    {
     "name": "stderr",
     "output_type": "stream",
     "text": [
      " 26%|████████████████████▍                                                          | 516/2000 [13:00<37:07,  1.50s/it]"
     ]
    },
    {
     "name": "stdout",
     "output_type": "stream",
     "text": [
      "Crawl comment page 1 success!!!\n",
      "Crawl comment for product 4257173\n",
      "Crawl comment page 0 success!!!\n"
     ]
    },
    {
     "name": "stderr",
     "output_type": "stream",
     "text": [
      " 26%|████████████████████▍                                                          | 517/2000 [13:01<37:52,  1.53s/it]"
     ]
    },
    {
     "name": "stdout",
     "output_type": "stream",
     "text": [
      "Crawl comment page 1 success!!!\n",
      "Crawl comment for product 951573\n",
      "Crawl comment page 0 success!!!\n"
     ]
    },
    {
     "name": "stderr",
     "output_type": "stream",
     "text": [
      " 26%|████████████████████▍                                                          | 518/2000 [13:04<45:00,  1.82s/it]"
     ]
    },
    {
     "name": "stdout",
     "output_type": "stream",
     "text": [
      "Crawl comment page 1 success!!!\n",
      "Crawl comment for product 715595\n",
      "Crawl comment page 0 success!!!\n"
     ]
    },
    {
     "name": "stderr",
     "output_type": "stream",
     "text": [
      " 26%|████████████████████▌                                                          | 519/2000 [13:05<41:38,  1.69s/it]"
     ]
    },
    {
     "name": "stdout",
     "output_type": "stream",
     "text": [
      "Crawl comment page 1 success!!!\n",
      "Crawl comment for product 381274\n",
      "Crawl comment page 0 success!!!\n"
     ]
    },
    {
     "name": "stderr",
     "output_type": "stream",
     "text": [
      " 26%|████████████████████▌                                                          | 521/2000 [13:08<34:20,  1.39s/it]"
     ]
    },
    {
     "name": "stdout",
     "output_type": "stream",
     "text": [
      "Crawl comment page 1 success!!!\n",
      "Crawl comment for product 278118319\n",
      "Crawl comment page 0 success!!!\n",
      "Crawl comment page 1 success!!!\n",
      "Crawl comment for product 278067761\n"
     ]
    },
    {
     "name": "stderr",
     "output_type": "stream",
     "text": [
      " 26%|████████████████████▋                                                          | 523/2000 [13:08<18:13,  1.35it/s]"
     ]
    },
    {
     "name": "stdout",
     "output_type": "stream",
     "text": [
      "Crawl comment page 0 success!!!\n",
      "Crawl comment page 1 success!!!\n",
      "Crawl comment for product 277996245\n",
      "Crawl comment page 0 success!!!\n",
      "Crawl comment page 1 success!!!\n",
      "Crawl comment for product 277989797\n"
     ]
    },
    {
     "name": "stderr",
     "output_type": "stream",
     "text": [
      " 26%|████████████████████▋                                                          | 524/2000 [13:08<13:35,  1.81it/s]"
     ]
    },
    {
     "name": "stdout",
     "output_type": "stream",
     "text": [
      "Crawl comment page 0 success!!!\n",
      "Crawl comment page 1 success!!!\n",
      "Crawl comment for product 277967025\n"
     ]
    },
    {
     "name": "stderr",
     "output_type": "stream",
     "text": [
      " 26%|████████████████████▋                                                          | 525/2000 [13:09<11:46,  2.09it/s]"
     ]
    },
    {
     "name": "stdout",
     "output_type": "stream",
     "text": [
      "Crawl comment page 0 success!!!\n",
      "Crawl comment page 1 success!!!\n",
      "Crawl comment for product 277926272\n"
     ]
    },
    {
     "name": "stderr",
     "output_type": "stream",
     "text": [
      " 26%|████████████████████▊                                                          | 526/2000 [13:09<09:02,  2.72it/s]"
     ]
    },
    {
     "name": "stdout",
     "output_type": "stream",
     "text": [
      "Crawl comment page 0 success!!!\n",
      "Crawl comment page 1 success!!!\n",
      "Crawl comment for product 277742612\n",
      "Crawl comment page 0 success!!!\n"
     ]
    },
    {
     "name": "stderr",
     "output_type": "stream",
     "text": [
      " 26%|████████████████████▊                                                          | 528/2000 [13:09<06:42,  3.66it/s]"
     ]
    },
    {
     "name": "stdout",
     "output_type": "stream",
     "text": [
      "Crawl comment page 1 success!!!\n",
      "Crawl comment for product 277663348\n",
      "Crawl comment page 0 success!!!\n",
      "Crawl comment page 1 success!!!\n",
      "Crawl comment for product 277393096\n"
     ]
    },
    {
     "name": "stderr",
     "output_type": "stream",
     "text": [
      " 26%|████████████████████▉                                                          | 529/2000 [13:09<05:32,  4.42it/s]"
     ]
    },
    {
     "name": "stdout",
     "output_type": "stream",
     "text": [
      "Crawl comment page 0 success!!!\n",
      "Crawl comment page 1 success!!!\n",
      "Crawl comment for product 277138904\n",
      "Crawl comment page 0 success!!!\n"
     ]
    },
    {
     "name": "stderr",
     "output_type": "stream",
     "text": [
      " 26%|████████████████████▉                                                          | 530/2000 [13:10<07:57,  3.08it/s]"
     ]
    },
    {
     "name": "stdout",
     "output_type": "stream",
     "text": [
      "Crawl comment page 1 success!!!\n",
      "Crawl comment for product 276286318\n",
      "Crawl comment page 0 success!!!\n"
     ]
    },
    {
     "name": "stderr",
     "output_type": "stream",
     "text": [
      " 27%|████████████████████▉                                                          | 531/2000 [13:12<19:05,  1.28it/s]"
     ]
    },
    {
     "name": "stdout",
     "output_type": "stream",
     "text": [
      "Crawl comment page 1 success!!!\n",
      "Crawl comment for product 275759337\n",
      "Crawl comment page 0 success!!!\n"
     ]
    },
    {
     "name": "stderr",
     "output_type": "stream",
     "text": [
      " 27%|█████████████████████                                                          | 532/2000 [13:12<16:05,  1.52it/s]"
     ]
    },
    {
     "name": "stdout",
     "output_type": "stream",
     "text": [
      "Crawl comment page 1 success!!!\n",
      "Crawl comment for product 275271837\n",
      "Crawl comment page 0 success!!!\n"
     ]
    },
    {
     "name": "stderr",
     "output_type": "stream",
     "text": [
      " 27%|█████████████████████                                                          | 533/2000 [13:12<12:55,  1.89it/s]"
     ]
    },
    {
     "name": "stdout",
     "output_type": "stream",
     "text": [
      "Crawl comment page 1 success!!!\n",
      "Crawl comment for product 275212810\n",
      "Crawl comment page 0 success!!!\n"
     ]
    },
    {
     "name": "stderr",
     "output_type": "stream",
     "text": [
      " 27%|█████████████████████▏                                                         | 535/2000 [13:13<12:53,  1.89it/s]"
     ]
    },
    {
     "name": "stdout",
     "output_type": "stream",
     "text": [
      "Crawl comment page 1 success!!!\n",
      "Crawl comment for product 274470766\n",
      "Crawl comment page 0 success!!!\n",
      "Crawl comment page 1 success!!!\n",
      "Crawl comment for product 274397287\n"
     ]
    },
    {
     "name": "stderr",
     "output_type": "stream",
     "text": [
      " 27%|█████████████████████▏                                                         | 536/2000 [13:14<10:13,  2.39it/s]"
     ]
    },
    {
     "name": "stdout",
     "output_type": "stream",
     "text": [
      "Crawl comment page 0 success!!!\n",
      "Crawl comment page 1 success!!!\n",
      "Crawl comment for product 263698285\n",
      "Crawl comment page 0 success!!!\n"
     ]
    },
    {
     "name": "stderr",
     "output_type": "stream",
     "text": [
      " 27%|█████████████████████▎                                                         | 538/2000 [13:15<10:41,  2.28it/s]"
     ]
    },
    {
     "name": "stdout",
     "output_type": "stream",
     "text": [
      "Crawl comment page 1 success!!!\n",
      "Crawl comment for product 253622083\n",
      "Crawl comment page 0 success!!!\n",
      "Crawl comment page 1 success!!!\n",
      "Crawl comment for product 247858753\n",
      "Crawl comment page 0 success!!!\n"
     ]
    },
    {
     "name": "stderr",
     "output_type": "stream",
     "text": [
      " 27%|█████████████████████▎                                                         | 539/2000 [13:18<29:56,  1.23s/it]"
     ]
    },
    {
     "name": "stdout",
     "output_type": "stream",
     "text": [
      "Crawl comment page 1 success!!!\n",
      "Crawl comment for product 214598590\n",
      "Crawl comment page 0 success!!!\n"
     ]
    },
    {
     "name": "stderr",
     "output_type": "stream",
     "text": [
      " 27%|█████████████████████▎                                                         | 540/2000 [13:19<28:02,  1.15s/it]"
     ]
    },
    {
     "name": "stdout",
     "output_type": "stream",
     "text": [
      "Crawl comment page 1 success!!!\n",
      "Crawl comment for product 197415499\n",
      "Crawl comment page 0 success!!!\n"
     ]
    },
    {
     "name": "stderr",
     "output_type": "stream",
     "text": [
      " 27%|█████████████████████▎                                                         | 541/2000 [13:19<21:10,  1.15it/s]"
     ]
    },
    {
     "name": "stdout",
     "output_type": "stream",
     "text": [
      "Crawl comment page 1 success!!!\n",
      "Crawl comment for product 192125793\n",
      "Crawl comment page 0 success!!!\n"
     ]
    },
    {
     "name": "stderr",
     "output_type": "stream",
     "text": [
      " 27%|█████████████████████▍                                                         | 542/2000 [13:21<32:22,  1.33s/it]"
     ]
    },
    {
     "name": "stdout",
     "output_type": "stream",
     "text": [
      "Crawl comment page 1 success!!!\n",
      "Crawl comment for product 192125792\n",
      "Crawl comment page 0 success!!!\n"
     ]
    },
    {
     "name": "stderr",
     "output_type": "stream",
     "text": [
      " 27%|█████████████████████▍                                                         | 543/2000 [13:23<38:22,  1.58s/it]"
     ]
    },
    {
     "name": "stdout",
     "output_type": "stream",
     "text": [
      "Crawl comment page 1 success!!!\n",
      "Crawl comment for product 177117501\n",
      "Crawl comment page 0 success!!!\n"
     ]
    },
    {
     "name": "stderr",
     "output_type": "stream",
     "text": [
      " 27%|█████████████████████▍                                                         | 544/2000 [13:25<36:49,  1.52s/it]"
     ]
    },
    {
     "name": "stdout",
     "output_type": "stream",
     "text": [
      "Crawl comment page 1 success!!!\n",
      "Crawl comment for product 168234718\n",
      "Crawl comment page 0 success!!!\n"
     ]
    },
    {
     "name": "stderr",
     "output_type": "stream",
     "text": [
      " 27%|█████████████████████▌                                                         | 545/2000 [13:26<31:18,  1.29s/it]"
     ]
    },
    {
     "name": "stdout",
     "output_type": "stream",
     "text": [
      "Crawl comment page 1 success!!!\n",
      "Crawl comment for product 158741253\n",
      "Crawl comment page 0 success!!!\n"
     ]
    },
    {
     "name": "stderr",
     "output_type": "stream",
     "text": [
      " 27%|█████████████████████▌                                                         | 546/2000 [13:27<33:24,  1.38s/it]"
     ]
    },
    {
     "name": "stdout",
     "output_type": "stream",
     "text": [
      "Crawl comment page 1 success!!!\n",
      "Crawl comment for product 149520260\n",
      "Crawl comment page 0 success!!!\n"
     ]
    },
    {
     "name": "stderr",
     "output_type": "stream",
     "text": [
      " 27%|█████████████████████▌                                                         | 547/2000 [13:27<25:08,  1.04s/it]"
     ]
    },
    {
     "name": "stdout",
     "output_type": "stream",
     "text": [
      "Crawl comment page 1 success!!!\n",
      "Crawl comment for product 109017985\n",
      "Crawl comment page 0 success!!!\n"
     ]
    },
    {
     "name": "stderr",
     "output_type": "stream",
     "text": [
      " 27%|█████████████████████▋                                                         | 548/2000 [13:31<41:04,  1.70s/it]"
     ]
    },
    {
     "name": "stdout",
     "output_type": "stream",
     "text": [
      "Crawl comment page 1 success!!!\n",
      "Crawl comment for product 85923518\n",
      "Crawl comment page 0 success!!!\n"
     ]
    },
    {
     "name": "stderr",
     "output_type": "stream",
     "text": [
      " 27%|█████████████████████▋                                                         | 549/2000 [13:32<40:20,  1.67s/it]"
     ]
    },
    {
     "name": "stdout",
     "output_type": "stream",
     "text": [
      "Crawl comment page 1 success!!!\n",
      "Crawl comment for product 79672197\n",
      "Crawl comment page 0 success!!!\n"
     ]
    },
    {
     "name": "stderr",
     "output_type": "stream",
     "text": [
      " 28%|█████████████████████▋                                                         | 550/2000 [13:34<41:10,  1.70s/it]"
     ]
    },
    {
     "name": "stdout",
     "output_type": "stream",
     "text": [
      "Crawl comment page 1 success!!!\n",
      "Crawl comment for product 77230663\n",
      "Crawl comment page 0 success!!!\n"
     ]
    },
    {
     "name": "stderr",
     "output_type": "stream",
     "text": [
      " 28%|█████████████████████▊                                                         | 551/2000 [13:37<47:43,  1.98s/it]"
     ]
    },
    {
     "name": "stdout",
     "output_type": "stream",
     "text": [
      "Crawl comment page 1 success!!!\n",
      "Crawl comment for product 71149569\n",
      "Crawl comment page 0 success!!!\n"
     ]
    },
    {
     "name": "stderr",
     "output_type": "stream",
     "text": [
      " 28%|█████████████████████▊                                                         | 552/2000 [13:39<48:38,  2.02s/it]"
     ]
    },
    {
     "name": "stdout",
     "output_type": "stream",
     "text": [
      "Crawl comment page 1 success!!!\n",
      "Crawl comment for product 57865425\n",
      "Crawl comment page 0 success!!!\n"
     ]
    },
    {
     "name": "stderr",
     "output_type": "stream",
     "text": [
      " 28%|█████████████████████▊                                                         | 553/2000 [13:40<40:18,  1.67s/it]"
     ]
    },
    {
     "name": "stdout",
     "output_type": "stream",
     "text": [
      "Crawl comment page 1 success!!!\n",
      "Crawl comment for product 57865423\n",
      "Crawl comment page 0 success!!!\n"
     ]
    },
    {
     "name": "stderr",
     "output_type": "stream",
     "text": [
      " 28%|█████████████████████▉                                                         | 554/2000 [13:41<36:28,  1.51s/it]"
     ]
    },
    {
     "name": "stdout",
     "output_type": "stream",
     "text": [
      "Crawl comment page 1 success!!!\n",
      "Crawl comment for product 28285288\n",
      "Crawl comment page 0 success!!!\n"
     ]
    },
    {
     "name": "stderr",
     "output_type": "stream",
     "text": [
      " 28%|█████████████████████▉                                                         | 555/2000 [13:42<32:58,  1.37s/it]"
     ]
    },
    {
     "name": "stdout",
     "output_type": "stream",
     "text": [
      "Crawl comment page 1 success!!!\n",
      "Crawl comment for product 19706553\n",
      "Crawl comment page 0 success!!!\n"
     ]
    },
    {
     "name": "stderr",
     "output_type": "stream",
     "text": [
      " 28%|█████████████████████▉                                                         | 556/2000 [13:43<28:44,  1.19s/it]"
     ]
    },
    {
     "name": "stdout",
     "output_type": "stream",
     "text": [
      "Crawl comment page 1 success!!!\n",
      "Crawl comment for product 2805889\n",
      "Crawl comment page 0 success!!!\n"
     ]
    },
    {
     "name": "stderr",
     "output_type": "stream",
     "text": [
      " 28%|██████████████████████                                                         | 557/2000 [13:43<23:39,  1.02it/s]"
     ]
    },
    {
     "name": "stdout",
     "output_type": "stream",
     "text": [
      "Crawl comment page 1 success!!!\n",
      "Crawl comment for product 2289999\n",
      "Crawl comment page 0 success!!!\n"
     ]
    },
    {
     "name": "stderr",
     "output_type": "stream",
     "text": [
      " 28%|██████████████████████                                                         | 558/2000 [13:45<27:08,  1.13s/it]"
     ]
    },
    {
     "name": "stdout",
     "output_type": "stream",
     "text": [
      "Crawl comment page 1 success!!!\n",
      "Crawl comment for product 1681461\n",
      "Crawl comment page 0 success!!!\n"
     ]
    },
    {
     "name": "stderr",
     "output_type": "stream",
     "text": [
      " 28%|██████████████████████                                                         | 559/2000 [13:48<40:59,  1.71s/it]"
     ]
    },
    {
     "name": "stdout",
     "output_type": "stream",
     "text": [
      "Crawl comment page 1 success!!!\n",
      "Crawl comment for product 463044\n",
      "Crawl comment page 0 success!!!\n"
     ]
    },
    {
     "name": "stderr",
     "output_type": "stream",
     "text": [
      " 28%|██████████████████████▏                                                        | 561/2000 [13:49<28:04,  1.17s/it]"
     ]
    },
    {
     "name": "stdout",
     "output_type": "stream",
     "text": [
      "Crawl comment page 1 success!!!\n",
      "Crawl comment for product 278118317\n",
      "Crawl comment page 0 success!!!\n",
      "Crawl comment page 1 success!!!\n",
      "Crawl comment for product 278098292\n",
      "Crawl comment page 0 success!!!\n"
     ]
    },
    {
     "name": "stderr",
     "output_type": "stream",
     "text": [
      " 28%|██████████████████████▏                                                        | 563/2000 [13:49<15:06,  1.59it/s]"
     ]
    },
    {
     "name": "stdout",
     "output_type": "stream",
     "text": [
      "Crawl comment page 1 success!!!\n",
      "Crawl comment for product 278009632\n",
      "Crawl comment page 0 success!!!\n",
      "Crawl comment page 1 success!!!\n",
      "Crawl comment for product 277993554\n",
      "Crawl comment page 0 success!!!\n"
     ]
    },
    {
     "name": "stderr",
     "output_type": "stream",
     "text": [
      " 28%|██████████████████████▎                                                        | 564/2000 [13:49<11:48,  2.03it/s]"
     ]
    },
    {
     "name": "stdout",
     "output_type": "stream",
     "text": [
      "Crawl comment page 1 success!!!\n",
      "Crawl comment for product 277971562\n",
      "Crawl comment page 0 success!!!\n"
     ]
    },
    {
     "name": "stderr",
     "output_type": "stream",
     "text": [
      " 28%|██████████████████████▎                                                        | 566/2000 [13:50<08:21,  2.86it/s]"
     ]
    },
    {
     "name": "stdout",
     "output_type": "stream",
     "text": [
      "Crawl comment page 1 success!!!\n",
      "Crawl comment for product 277827129\n",
      "Crawl comment page 0 success!!!\n",
      "Crawl comment page 1 success!!!\n",
      "Crawl comment for product 277727158\n"
     ]
    },
    {
     "name": "stderr",
     "output_type": "stream",
     "text": [
      " 28%|██████████████████████▍                                                        | 568/2000 [13:50<05:32,  4.31it/s]"
     ]
    },
    {
     "name": "stdout",
     "output_type": "stream",
     "text": [
      "Crawl comment page 0 success!!!\n",
      "Crawl comment page 1 success!!!\n",
      "Crawl comment for product 277726042\n",
      "Crawl comment page 0 success!!!\n",
      "Crawl comment page 1 success!!!\n",
      "Crawl comment for product 277505044\n"
     ]
    },
    {
     "name": "stderr",
     "output_type": "stream",
     "text": [
      " 28%|██████████████████████▍                                                        | 569/2000 [13:50<04:41,  5.08it/s]"
     ]
    },
    {
     "name": "stdout",
     "output_type": "stream",
     "text": [
      "Crawl comment page 0 success!!!\n",
      "Crawl comment page 1 success!!!\n",
      "Crawl comment for product 277425002\n",
      "Crawl comment page 0 success!!!\n"
     ]
    },
    {
     "name": "stderr",
     "output_type": "stream",
     "text": [
      " 29%|██████████████████████▌                                                        | 571/2000 [13:51<06:33,  3.63it/s]"
     ]
    },
    {
     "name": "stdout",
     "output_type": "stream",
     "text": [
      "Crawl comment page 1 success!!!\n",
      "Crawl comment for product 276862601\n",
      "Crawl comment page 0 success!!!\n",
      "Crawl comment page 1 success!!!\n",
      "Crawl comment for product 276509282\n",
      "Crawl comment page 0 success!!!\n"
     ]
    },
    {
     "name": "stderr",
     "output_type": "stream",
     "text": [
      " 29%|██████████████████████▋                                                        | 573/2000 [13:52<06:30,  3.66it/s]"
     ]
    },
    {
     "name": "stdout",
     "output_type": "stream",
     "text": [
      "Crawl comment page 1 success!!!\n",
      "Crawl comment for product 275885385\n",
      "Crawl comment page 0 success!!!\n",
      "Crawl comment page 1 success!!!\n",
      "Crawl comment for product 275332561\n"
     ]
    },
    {
     "name": "stderr",
     "output_type": "stream",
     "text": [
      " 29%|██████████████████████▋                                                        | 574/2000 [13:52<06:56,  3.42it/s]"
     ]
    },
    {
     "name": "stdout",
     "output_type": "stream",
     "text": [
      "Crawl comment page 0 success!!!\n",
      "Crawl comment page 1 success!!!\n",
      "Crawl comment for product 274709102\n",
      "Crawl comment page 0 success!!!\n"
     ]
    },
    {
     "name": "stderr",
     "output_type": "stream",
     "text": [
      " 29%|██████████████████████▋                                                        | 575/2000 [13:52<05:38,  4.21it/s]"
     ]
    },
    {
     "name": "stdout",
     "output_type": "stream",
     "text": [
      "Crawl comment page 1 success!!!\n",
      "Crawl comment for product 274587865\n"
     ]
    },
    {
     "name": "stderr",
     "output_type": "stream",
     "text": [
      " 29%|██████████████████████▊                                                        | 576/2000 [13:53<07:03,  3.36it/s]"
     ]
    },
    {
     "name": "stdout",
     "output_type": "stream",
     "text": [
      "Crawl comment page 0 success!!!\n",
      "Crawl comment page 1 success!!!\n",
      "Crawl comment for product 273691914\n",
      "Crawl comment page 0 success!!!\n"
     ]
    },
    {
     "name": "stderr",
     "output_type": "stream",
     "text": [
      " 29%|██████████████████████▊                                                        | 577/2000 [13:54<14:27,  1.64it/s]"
     ]
    },
    {
     "name": "stdout",
     "output_type": "stream",
     "text": [
      "Crawl comment page 1 success!!!\n",
      "Crawl comment for product 270222586\n",
      "Crawl comment page 0 success!!!\n"
     ]
    },
    {
     "name": "stderr",
     "output_type": "stream",
     "text": [
      " 29%|██████████████████████▊                                                        | 578/2000 [13:55<16:43,  1.42it/s]"
     ]
    },
    {
     "name": "stdout",
     "output_type": "stream",
     "text": [
      "Crawl comment page 1 success!!!\n",
      "Crawl comment for product 263627824\n",
      "Crawl comment page 0 success!!!\n"
     ]
    },
    {
     "name": "stderr",
     "output_type": "stream",
     "text": [
      " 29%|██████████████████████▊                                                        | 579/2000 [13:55<15:47,  1.50it/s]"
     ]
    },
    {
     "name": "stdout",
     "output_type": "stream",
     "text": [
      "Crawl comment page 1 success!!!\n",
      "Crawl comment for product 262590359\n",
      "Crawl comment page 0 success!!!\n"
     ]
    },
    {
     "name": "stderr",
     "output_type": "stream",
     "text": [
      " 29%|██████████████████████▉                                                        | 580/2000 [13:57<23:15,  1.02it/s]"
     ]
    },
    {
     "name": "stdout",
     "output_type": "stream",
     "text": [
      "Crawl comment page 1 success!!!\n",
      "Crawl comment for product 249875142\n",
      "Crawl comment page 0 success!!!\n"
     ]
    },
    {
     "name": "stderr",
     "output_type": "stream",
     "text": [
      " 29%|██████████████████████▉                                                        | 581/2000 [13:59<29:37,  1.25s/it]"
     ]
    },
    {
     "name": "stdout",
     "output_type": "stream",
     "text": [
      "Crawl comment page 1 success!!!\n",
      "Crawl comment for product 247433982\n",
      "Crawl comment page 0 success!!!\n"
     ]
    },
    {
     "name": "stderr",
     "output_type": "stream",
     "text": [
      " 29%|███████████████████████                                                        | 583/2000 [14:01<25:53,  1.10s/it]"
     ]
    },
    {
     "name": "stdout",
     "output_type": "stream",
     "text": [
      "Crawl comment page 1 success!!!\n",
      "Crawl comment for product 246066975\n",
      "Crawl comment page 0 success!!!\n",
      "Crawl comment page 1 success!!!\n",
      "Crawl comment for product 210137548\n",
      "Crawl comment page 0 success!!!\n"
     ]
    },
    {
     "name": "stderr",
     "output_type": "stream",
     "text": [
      " 29%|███████████████████████                                                        | 584/2000 [14:02<22:47,  1.04it/s]"
     ]
    },
    {
     "name": "stdout",
     "output_type": "stream",
     "text": [
      "Crawl comment page 1 success!!!\n",
      "Crawl comment for product 201679181\n",
      "Crawl comment page 0 success!!!\n"
     ]
    },
    {
     "name": "stderr",
     "output_type": "stream",
     "text": [
      " 29%|███████████████████████                                                        | 585/2000 [14:04<30:48,  1.31s/it]"
     ]
    },
    {
     "name": "stdout",
     "output_type": "stream",
     "text": [
      "Crawl comment page 1 success!!!\n",
      "Crawl comment for product 198342226\n",
      "Crawl comment page 0 success!!!\n"
     ]
    },
    {
     "name": "stderr",
     "output_type": "stream",
     "text": [
      " 29%|███████████████████████▏                                                       | 586/2000 [14:05<27:50,  1.18s/it]"
     ]
    },
    {
     "name": "stdout",
     "output_type": "stream",
     "text": [
      "Crawl comment page 1 success!!!\n",
      "Crawl comment for product 196411152\n",
      "Crawl comment page 0 success!!!\n"
     ]
    },
    {
     "name": "stderr",
     "output_type": "stream",
     "text": [
      " 29%|███████████████████████▏                                                       | 587/2000 [14:07<34:00,  1.44s/it]"
     ]
    },
    {
     "name": "stdout",
     "output_type": "stream",
     "text": [
      "Crawl comment page 1 success!!!\n",
      "Crawl comment for product 196001721\n",
      "Crawl comment page 0 success!!!\n"
     ]
    },
    {
     "name": "stderr",
     "output_type": "stream",
     "text": [
      " 29%|███████████████████████▏                                                       | 588/2000 [14:08<32:24,  1.38s/it]"
     ]
    },
    {
     "name": "stdout",
     "output_type": "stream",
     "text": [
      "Crawl comment page 1 success!!!\n",
      "Crawl comment for product 184886563\n",
      "Crawl comment page 0 success!!!\n"
     ]
    },
    {
     "name": "stderr",
     "output_type": "stream",
     "text": [
      " 29%|███████████████████████▎                                                       | 589/2000 [14:10<32:09,  1.37s/it]"
     ]
    },
    {
     "name": "stdout",
     "output_type": "stream",
     "text": [
      "Crawl comment page 1 success!!!\n",
      "Crawl comment for product 172216294\n",
      "Crawl comment page 0 success!!!\n"
     ]
    },
    {
     "name": "stderr",
     "output_type": "stream",
     "text": [
      " 30%|███████████████████████▎                                                       | 590/2000 [14:10<28:35,  1.22s/it]"
     ]
    },
    {
     "name": "stdout",
     "output_type": "stream",
     "text": [
      "Crawl comment page 1 success!!!\n",
      "Crawl comment for product 163577780\n",
      "Crawl comment page 0 success!!!\n"
     ]
    },
    {
     "name": "stderr",
     "output_type": "stream",
     "text": [
      " 30%|███████████████████████▎                                                       | 591/2000 [14:11<25:05,  1.07s/it]"
     ]
    },
    {
     "name": "stdout",
     "output_type": "stream",
     "text": [
      "Crawl comment page 1 success!!!\n",
      "Crawl comment for product 151597544\n",
      "Crawl comment page 0 success!!!\n"
     ]
    },
    {
     "name": "stderr",
     "output_type": "stream",
     "text": [
      " 30%|███████████████████████▍                                                       | 592/2000 [14:12<21:00,  1.12it/s]"
     ]
    },
    {
     "name": "stdout",
     "output_type": "stream",
     "text": [
      "Crawl comment page 1 success!!!\n",
      "Crawl comment for product 109298270\n",
      "Crawl comment page 0 success!!!\n"
     ]
    },
    {
     "name": "stderr",
     "output_type": "stream",
     "text": [
      " 30%|███████████████████████▍                                                       | 593/2000 [14:14<30:41,  1.31s/it]"
     ]
    },
    {
     "name": "stdout",
     "output_type": "stream",
     "text": [
      "Crawl comment page 1 success!!!\n",
      "Crawl comment for product 90737518\n",
      "Crawl comment page 0 success!!!\n"
     ]
    },
    {
     "name": "stderr",
     "output_type": "stream",
     "text": [
      " 30%|███████████████████████▍                                                       | 594/2000 [14:15<30:15,  1.29s/it]"
     ]
    },
    {
     "name": "stdout",
     "output_type": "stream",
     "text": [
      "Crawl comment page 1 success!!!\n",
      "Crawl comment for product 35761355\n",
      "Crawl comment page 0 success!!!\n"
     ]
    },
    {
     "name": "stderr",
     "output_type": "stream",
     "text": [
      " 30%|███████████████████████▌                                                       | 596/2000 [14:17<26:23,  1.13s/it]"
     ]
    },
    {
     "name": "stdout",
     "output_type": "stream",
     "text": [
      "Crawl comment page 1 success!!!\n",
      "Crawl comment for product 21090144\n",
      "Crawl comment page 0 success!!!\n",
      "Crawl comment page 1 success!!!\n",
      "Crawl comment for product 3078015\n",
      "Crawl comment page 0 success!!!\n"
     ]
    },
    {
     "name": "stderr",
     "output_type": "stream",
     "text": [
      " 30%|███████████████████████▌                                                       | 597/2000 [14:18<24:48,  1.06s/it]"
     ]
    },
    {
     "name": "stdout",
     "output_type": "stream",
     "text": [
      "Crawl comment page 1 success!!!\n",
      "Crawl comment for product 1686753\n",
      "Crawl comment page 0 success!!!\n"
     ]
    },
    {
     "name": "stderr",
     "output_type": "stream",
     "text": [
      " 30%|███████████████████████▌                                                       | 598/2000 [14:20<28:34,  1.22s/it]"
     ]
    },
    {
     "name": "stdout",
     "output_type": "stream",
     "text": [
      "Crawl comment page 1 success!!!\n",
      "Crawl comment for product 476151\n",
      "Crawl comment page 0 success!!!\n"
     ]
    },
    {
     "name": "stderr",
     "output_type": "stream",
     "text": [
      " 30%|███████████████████████▋                                                       | 599/2000 [14:21<26:13,  1.12s/it]"
     ]
    },
    {
     "name": "stdout",
     "output_type": "stream",
     "text": [
      "Crawl comment page 1 success!!!\n",
      "Crawl comment for product 439662\n",
      "Crawl comment page 0 success!!!\n"
     ]
    },
    {
     "name": "stderr",
     "output_type": "stream",
     "text": [
      " 30%|███████████████████████▋                                                       | 601/2000 [14:22<18:34,  1.26it/s]"
     ]
    },
    {
     "name": "stdout",
     "output_type": "stream",
     "text": [
      "Crawl comment page 1 success!!!\n",
      "Crawl comment for product 278122965\n",
      "Crawl comment page 0 success!!!\n",
      "Crawl comment page 1 success!!!\n",
      "Crawl comment for product 277995420\n",
      "Crawl comment page 0 success!!!\n"
     ]
    },
    {
     "name": "stderr",
     "output_type": "stream",
     "text": [
      " 30%|███████████████████████▊                                                       | 603/2000 [14:24<17:17,  1.35it/s]"
     ]
    },
    {
     "name": "stdout",
     "output_type": "stream",
     "text": [
      "Crawl comment page 1 success!!!\n",
      "Crawl comment for product 277877802\n",
      "Crawl comment page 0 success!!!\n",
      "Crawl comment page 1 success!!!\n",
      "Crawl comment for product 277409853\n",
      "Crawl comment page 0 success!!!\n"
     ]
    },
    {
     "name": "stderr",
     "output_type": "stream",
     "text": [
      " 30%|███████████████████████▊                                                       | 604/2000 [14:24<16:35,  1.40it/s]"
     ]
    },
    {
     "name": "stdout",
     "output_type": "stream",
     "text": [
      "Crawl comment page 1 success!!!\n",
      "Crawl comment for product 277313364\n",
      "Crawl comment page 0 success!!!\n"
     ]
    },
    {
     "name": "stderr",
     "output_type": "stream",
     "text": [
      " 30%|███████████████████████▉                                                       | 605/2000 [14:26<23:43,  1.02s/it]"
     ]
    },
    {
     "name": "stdout",
     "output_type": "stream",
     "text": [
      "Crawl comment page 1 success!!!\n",
      "Crawl comment for product 277228004\n",
      "Crawl comment page 0 success!!!\n"
     ]
    },
    {
     "name": "stderr",
     "output_type": "stream",
     "text": [
      " 30%|███████████████████████▉                                                       | 606/2000 [14:28<29:20,  1.26s/it]"
     ]
    },
    {
     "name": "stdout",
     "output_type": "stream",
     "text": [
      "Crawl comment page 1 success!!!\n",
      "Crawl comment for product 277168610\n",
      "Crawl comment page 0 success!!!\n"
     ]
    },
    {
     "name": "stderr",
     "output_type": "stream",
     "text": [
      " 30%|███████████████████████▉                                                       | 607/2000 [14:28<24:38,  1.06s/it]"
     ]
    },
    {
     "name": "stdout",
     "output_type": "stream",
     "text": [
      "Crawl comment page 1 success!!!\n",
      "Crawl comment for product 276683031\n",
      "Crawl comment page 0 success!!!\n"
     ]
    },
    {
     "name": "stderr",
     "output_type": "stream",
     "text": [
      " 30%|████████████████████████                                                       | 608/2000 [14:29<18:51,  1.23it/s]"
     ]
    },
    {
     "name": "stdout",
     "output_type": "stream",
     "text": [
      "Crawl comment page 1 success!!!\n",
      "Crawl comment for product 276526058\n",
      "Crawl comment page 0 success!!!\n"
     ]
    },
    {
     "name": "stderr",
     "output_type": "stream",
     "text": [
      " 30%|████████████████████████                                                       | 610/2000 [14:30<16:34,  1.40it/s]"
     ]
    },
    {
     "name": "stdout",
     "output_type": "stream",
     "text": [
      "Crawl comment page 1 success!!!\n",
      "Crawl comment for product 276411931\n",
      "Crawl comment page 0 success!!!\n",
      "Crawl comment page 1 success!!!\n",
      "Crawl comment for product 276155988\n",
      "Crawl comment page 0 success!!!\n"
     ]
    },
    {
     "name": "stderr",
     "output_type": "stream",
     "text": [
      " 31%|████████████████████████▏                                                      | 611/2000 [14:34<36:49,  1.59s/it]"
     ]
    },
    {
     "name": "stdout",
     "output_type": "stream",
     "text": [
      "Crawl comment page 1 success!!!\n",
      "Crawl comment for product 275724716\n",
      "Crawl comment page 0 success!!!\n"
     ]
    },
    {
     "name": "stderr",
     "output_type": "stream",
     "text": [
      " 31%|████████████████████████▏                                                      | 612/2000 [14:34<30:49,  1.33s/it]"
     ]
    },
    {
     "name": "stdout",
     "output_type": "stream",
     "text": [
      "Crawl comment page 1 success!!!\n",
      "Crawl comment for product 275359092\n",
      "Crawl comment page 0 success!!!\n"
     ]
    },
    {
     "name": "stderr",
     "output_type": "stream",
     "text": [
      " 31%|████████████████████████▏                                                      | 613/2000 [14:35<25:01,  1.08s/it]"
     ]
    },
    {
     "name": "stdout",
     "output_type": "stream",
     "text": [
      "Crawl comment page 1 success!!!\n",
      "Crawl comment for product 275322771\n",
      "Crawl comment page 0 success!!!\n"
     ]
    },
    {
     "name": "stderr",
     "output_type": "stream",
     "text": [
      " 31%|████████████████████████▎                                                      | 614/2000 [14:36<22:09,  1.04it/s]"
     ]
    },
    {
     "name": "stdout",
     "output_type": "stream",
     "text": [
      "Crawl comment page 1 success!!!\n",
      "Crawl comment for product 275178313\n",
      "Crawl comment page 0 success!!!\n"
     ]
    },
    {
     "name": "stderr",
     "output_type": "stream",
     "text": [
      " 31%|████████████████████████▎                                                      | 615/2000 [14:38<29:32,  1.28s/it]"
     ]
    },
    {
     "name": "stdout",
     "output_type": "stream",
     "text": [
      "Crawl comment page 1 success!!!\n",
      "Crawl comment for product 274377039\n",
      "Crawl comment page 0 success!!!\n"
     ]
    },
    {
     "name": "stderr",
     "output_type": "stream",
     "text": [
      " 31%|████████████████████████▎                                                      | 616/2000 [14:40<40:31,  1.76s/it]"
     ]
    },
    {
     "name": "stdout",
     "output_type": "stream",
     "text": [
      "Crawl comment page 1 success!!!\n",
      "Crawl comment for product 253402950\n",
      "Crawl comment page 0 success!!!\n"
     ]
    },
    {
     "name": "stderr",
     "output_type": "stream",
     "text": [
      " 31%|████████████████████████▎                                                      | 617/2000 [14:41<31:57,  1.39s/it]"
     ]
    },
    {
     "name": "stdout",
     "output_type": "stream",
     "text": [
      "Crawl comment page 1 success!!!\n",
      "Crawl comment for product 252646077\n",
      "Crawl comment page 0 success!!!\n"
     ]
    },
    {
     "name": "stderr",
     "output_type": "stream",
     "text": [
      " 31%|████████████████████████▍                                                      | 618/2000 [14:41<24:29,  1.06s/it]"
     ]
    },
    {
     "name": "stdout",
     "output_type": "stream",
     "text": [
      "Crawl comment page 1 success!!!\n",
      "Crawl comment for product 252561534\n",
      "Crawl comment page 0 success!!!\n"
     ]
    },
    {
     "name": "stderr",
     "output_type": "stream",
     "text": [
      " 31%|████████████████████████▍                                                      | 619/2000 [14:42<21:04,  1.09it/s]"
     ]
    },
    {
     "name": "stdout",
     "output_type": "stream",
     "text": [
      "Crawl comment page 1 success!!!\n",
      "Crawl comment for product 249866918\n",
      "Crawl comment page 0 success!!!\n"
     ]
    },
    {
     "name": "stderr",
     "output_type": "stream",
     "text": [
      " 31%|████████████████████████▍                                                      | 620/2000 [14:43<22:18,  1.03it/s]"
     ]
    },
    {
     "name": "stdout",
     "output_type": "stream",
     "text": [
      "Crawl comment page 1 success!!!\n",
      "Crawl comment for product 213701365\n",
      "Crawl comment page 0 success!!!\n"
     ]
    },
    {
     "name": "stderr",
     "output_type": "stream",
     "text": [
      " 31%|████████████████████████▌                                                      | 621/2000 [14:45<30:56,  1.35s/it]"
     ]
    },
    {
     "name": "stdout",
     "output_type": "stream",
     "text": [
      "Crawl comment page 1 success!!!\n",
      "Crawl comment for product 207852933\n",
      "Crawl comment page 0 success!!!\n"
     ]
    },
    {
     "name": "stderr",
     "output_type": "stream",
     "text": [
      " 31%|████████████████████████▌                                                      | 622/2000 [14:48<42:56,  1.87s/it]"
     ]
    },
    {
     "name": "stdout",
     "output_type": "stream",
     "text": [
      "Crawl comment page 1 success!!!\n",
      "Crawl comment for product 205581885\n",
      "Crawl comment page 0 success!!!\n"
     ]
    },
    {
     "name": "stderr",
     "output_type": "stream",
     "text": [
      " 31%|████████████████████████▌                                                      | 623/2000 [14:50<42:47,  1.86s/it]"
     ]
    },
    {
     "name": "stdout",
     "output_type": "stream",
     "text": [
      "Crawl comment page 1 success!!!\n",
      "Crawl comment for product 190857206\n",
      "Crawl comment page 0 success!!!\n"
     ]
    },
    {
     "name": "stderr",
     "output_type": "stream",
     "text": [
      " 31%|████████████████████████▋                                                      | 624/2000 [14:51<34:23,  1.50s/it]"
     ]
    },
    {
     "name": "stdout",
     "output_type": "stream",
     "text": [
      "Crawl comment page 1 success!!!\n",
      "Crawl comment for product 170506718\n",
      "Crawl comment page 0 success!!!\n"
     ]
    },
    {
     "name": "stderr",
     "output_type": "stream",
     "text": [
      " 31%|████████████████████████▋                                                      | 625/2000 [14:51<27:59,  1.22s/it]"
     ]
    },
    {
     "name": "stdout",
     "output_type": "stream",
     "text": [
      "Crawl comment page 1 success!!!\n",
      "Crawl comment for product 162100197\n",
      "Crawl comment page 0 success!!!\n"
     ]
    },
    {
     "name": "stderr",
     "output_type": "stream",
     "text": [
      " 31%|████████████████████████▋                                                      | 626/2000 [14:52<25:06,  1.10s/it]"
     ]
    },
    {
     "name": "stdout",
     "output_type": "stream",
     "text": [
      "Crawl comment page 1 success!!!\n",
      "Crawl comment for product 146846342\n",
      "Crawl comment page 0 success!!!\n"
     ]
    },
    {
     "name": "stderr",
     "output_type": "stream",
     "text": [
      " 31%|████████████████████████▊                                                      | 627/2000 [14:54<30:00,  1.31s/it]"
     ]
    },
    {
     "name": "stdout",
     "output_type": "stream",
     "text": [
      "Crawl comment page 1 success!!!\n",
      "Crawl comment for product 121236564\n",
      "Crawl comment page 0 success!!!\n"
     ]
    },
    {
     "name": "stderr",
     "output_type": "stream",
     "text": [
      " 31%|████████████████████████▊                                                      | 628/2000 [14:57<40:23,  1.77s/it]"
     ]
    },
    {
     "name": "stdout",
     "output_type": "stream",
     "text": [
      "Crawl comment page 1 success!!!\n",
      "Crawl comment for product 92492870\n",
      "Crawl comment page 0 success!!!\n"
     ]
    },
    {
     "name": "stderr",
     "output_type": "stream",
     "text": [
      " 31%|████████████████████████▊                                                      | 629/2000 [14:59<39:50,  1.74s/it]"
     ]
    },
    {
     "name": "stdout",
     "output_type": "stream",
     "text": [
      "Crawl comment page 1 success!!!\n",
      "Crawl comment for product 91553053\n",
      "Crawl comment page 0 success!!!\n"
     ]
    },
    {
     "name": "stderr",
     "output_type": "stream",
     "text": [
      " 32%|████████████████████████▉                                                      | 630/2000 [15:01<41:46,  1.83s/it]"
     ]
    },
    {
     "name": "stdout",
     "output_type": "stream",
     "text": [
      "Crawl comment page 1 success!!!\n",
      "Crawl comment for product 87389625\n",
      "Crawl comment page 0 success!!!\n"
     ]
    },
    {
     "name": "stderr",
     "output_type": "stream",
     "text": [
      " 32%|████████████████████████▉                                                      | 631/2000 [15:02<36:36,  1.60s/it]"
     ]
    },
    {
     "name": "stdout",
     "output_type": "stream",
     "text": [
      "Crawl comment page 1 success!!!\n",
      "Crawl comment for product 75307228\n",
      "Crawl comment page 0 success!!!\n"
     ]
    },
    {
     "name": "stderr",
     "output_type": "stream",
     "text": [
      " 32%|████████████████████████▉                                                      | 632/2000 [15:05<47:20,  2.08s/it]"
     ]
    },
    {
     "name": "stdout",
     "output_type": "stream",
     "text": [
      "Crawl comment page 1 success!!!\n",
      "Crawl comment for product 70016676\n",
      "Crawl comment page 0 success!!!\n"
     ]
    },
    {
     "name": "stderr",
     "output_type": "stream",
     "text": [
      " 32%|█████████████████████████                                                      | 633/2000 [15:07<46:35,  2.04s/it]"
     ]
    },
    {
     "name": "stdout",
     "output_type": "stream",
     "text": [
      "Crawl comment page 1 success!!!\n",
      "Crawl comment for product 48579418\n",
      "Crawl comment page 0 success!!!\n"
     ]
    },
    {
     "name": "stderr",
     "output_type": "stream",
     "text": [
      " 32%|████████████████████████▍                                                    | 634/2000 [15:14<1:23:41,  3.68s/it]"
     ]
    },
    {
     "name": "stdout",
     "output_type": "stream",
     "text": [
      "Crawl comment page 1 success!!!\n",
      "Crawl comment for product 45663008\n",
      "Crawl comment page 0 success!!!\n"
     ]
    },
    {
     "name": "stderr",
     "output_type": "stream",
     "text": [
      " 32%|████████████████████████▍                                                    | 635/2000 [15:16<1:12:28,  3.19s/it]"
     ]
    },
    {
     "name": "stdout",
     "output_type": "stream",
     "text": [
      "Crawl comment page 1 success!!!\n",
      "Crawl comment for product 11954630\n",
      "Crawl comment page 0 success!!!\n"
     ]
    },
    {
     "name": "stderr",
     "output_type": "stream",
     "text": [
      " 32%|█████████████████████████                                                      | 636/2000 [15:17<56:52,  2.50s/it]"
     ]
    },
    {
     "name": "stdout",
     "output_type": "stream",
     "text": [
      "Crawl comment page 1 success!!!\n",
      "Crawl comment for product 11413606\n",
      "Crawl comment page 0 success!!!\n"
     ]
    },
    {
     "name": "stderr",
     "output_type": "stream",
     "text": [
      " 32%|█████████████████████████▏                                                     | 637/2000 [15:19<49:29,  2.18s/it]"
     ]
    },
    {
     "name": "stdout",
     "output_type": "stream",
     "text": [
      "Crawl comment page 1 success!!!\n",
      "Crawl comment for product 1029179\n",
      "Crawl comment page 0 success!!!\n"
     ]
    },
    {
     "name": "stderr",
     "output_type": "stream",
     "text": [
      " 32%|█████████████████████████▏                                                     | 638/2000 [15:19<37:36,  1.66s/it]"
     ]
    },
    {
     "name": "stdout",
     "output_type": "stream",
     "text": [
      "Crawl comment page 1 success!!!\n",
      "Crawl comment for product 1019482\n",
      "Crawl comment page 0 success!!!\n"
     ]
    },
    {
     "name": "stderr",
     "output_type": "stream",
     "text": [
      " 32%|█████████████████████████▏                                                     | 639/2000 [15:20<33:09,  1.46s/it]"
     ]
    },
    {
     "name": "stdout",
     "output_type": "stream",
     "text": [
      "Crawl comment page 1 success!!!\n",
      "Crawl comment for product 427631\n",
      "Crawl comment page 0 success!!!\n"
     ]
    },
    {
     "name": "stderr",
     "output_type": "stream",
     "text": [
      " 32%|█████████████████████████▎                                                     | 641/2000 [15:23<28:50,  1.27s/it]"
     ]
    },
    {
     "name": "stdout",
     "output_type": "stream",
     "text": [
      "Crawl comment page 1 success!!!\n",
      "Crawl comment for product 278059496\n",
      "Crawl comment page 0 success!!!\n",
      "Crawl comment page 1 success!!!\n",
      "Crawl comment for product 278035377\n"
     ]
    },
    {
     "name": "stderr",
     "output_type": "stream",
     "text": [
      " 32%|█████████████████████████▎                                                     | 642/2000 [15:23<21:46,  1.04it/s]"
     ]
    },
    {
     "name": "stdout",
     "output_type": "stream",
     "text": [
      "Crawl comment page 0 success!!!\n",
      "Crawl comment page 1 success!!!\n",
      "Crawl comment for product 278000436\n",
      "Crawl comment page 0 success!!!\n"
     ]
    },
    {
     "name": "stderr",
     "output_type": "stream",
     "text": [
      " 32%|█████████████████████████▍                                                     | 644/2000 [15:23<12:20,  1.83it/s]"
     ]
    },
    {
     "name": "stdout",
     "output_type": "stream",
     "text": [
      "Crawl comment page 1 success!!!\n",
      "Crawl comment for product 277992663\n",
      "Crawl comment page 0 success!!!\n",
      "Crawl comment page 1 success!!!\n",
      "Crawl comment for product 277965721\n",
      "Crawl comment page 0 success!!!\n",
      "Crawl comment page 1 success!!!\n",
      "Crawl comment for product 277946319\n"
     ]
    },
    {
     "name": "stderr",
     "output_type": "stream",
     "text": [
      " 32%|█████████████████████████▌                                                     | 647/2000 [15:24<06:28,  3.49it/s]"
     ]
    },
    {
     "name": "stdout",
     "output_type": "stream",
     "text": [
      "Crawl comment page 0 success!!!\n",
      "Crawl comment page 1 success!!!\n",
      "Crawl comment for product 277912064\n",
      "Crawl comment page 0 success!!!\n",
      "Crawl comment page 1 success!!!\n",
      "Crawl comment for product 277770730\n"
     ]
    },
    {
     "name": "stderr",
     "output_type": "stream",
     "text": [
      " 32%|█████████████████████████▋                                                     | 649/2000 [15:24<04:50,  4.66it/s]"
     ]
    },
    {
     "name": "stdout",
     "output_type": "stream",
     "text": [
      "Crawl comment page 0 success!!!\n",
      "Crawl comment page 1 success!!!\n",
      "Crawl comment for product 277622006\n",
      "Crawl comment page 0 success!!!\n",
      "Crawl comment page 1 success!!!\n",
      "Crawl comment for product 277568841\n",
      "Crawl comment page 0 success!!!\n"
     ]
    },
    {
     "name": "stderr",
     "output_type": "stream",
     "text": [
      " 33%|█████████████████████████▋                                                     | 651/2000 [15:25<08:19,  2.70it/s]"
     ]
    },
    {
     "name": "stdout",
     "output_type": "stream",
     "text": [
      "Crawl comment page 1 success!!!\n",
      "Crawl comment for product 277376079\n",
      "Crawl comment page 0 success!!!\n",
      "Crawl comment page 1 success!!!\n",
      "Crawl comment for product 276451364\n",
      "Crawl comment page 0 success!!!\n"
     ]
    },
    {
     "name": "stderr",
     "output_type": "stream",
     "text": [
      " 33%|█████████████████████████▊                                                     | 652/2000 [15:27<17:51,  1.26it/s]"
     ]
    },
    {
     "name": "stdout",
     "output_type": "stream",
     "text": [
      "Crawl comment page 1 success!!!\n",
      "Crawl comment for product 276174669\n",
      "Crawl comment page 0 success!!!\n"
     ]
    },
    {
     "name": "stderr",
     "output_type": "stream",
     "text": [
      " 33%|█████████████████████████▊                                                     | 653/2000 [15:29<26:37,  1.19s/it]"
     ]
    },
    {
     "name": "stdout",
     "output_type": "stream",
     "text": [
      "Crawl comment page 1 success!!!\n",
      "Crawl comment for product 275601040\n",
      "Crawl comment page 0 success!!!\n"
     ]
    },
    {
     "name": "stderr",
     "output_type": "stream",
     "text": [
      " 33%|█████████████████████████▊                                                     | 654/2000 [15:29<20:58,  1.07it/s]"
     ]
    },
    {
     "name": "stdout",
     "output_type": "stream",
     "text": [
      "Crawl comment page 1 success!!!\n",
      "Crawl comment for product 275407085\n",
      "Crawl comment page 0 success!!!\n"
     ]
    },
    {
     "name": "stderr",
     "output_type": "stream",
     "text": [
      " 33%|█████████████████████████▊                                                     | 655/2000 [15:32<29:38,  1.32s/it]"
     ]
    },
    {
     "name": "stdout",
     "output_type": "stream",
     "text": [
      "Crawl comment page 1 success!!!\n",
      "Crawl comment for product 274863813\n"
     ]
    },
    {
     "name": "stderr",
     "output_type": "stream",
     "text": [
      " 33%|█████████████████████████▉                                                     | 656/2000 [15:32<23:33,  1.05s/it]"
     ]
    },
    {
     "name": "stdout",
     "output_type": "stream",
     "text": [
      "Crawl comment page 0 success!!!\n",
      "Crawl comment page 1 success!!!\n",
      "Crawl comment for product 274680853\n",
      "Crawl comment page 0 success!!!\n"
     ]
    },
    {
     "name": "stderr",
     "output_type": "stream",
     "text": [
      " 33%|█████████████████████████▉                                                     | 657/2000 [15:33<21:55,  1.02it/s]"
     ]
    },
    {
     "name": "stdout",
     "output_type": "stream",
     "text": [
      "Crawl comment page 1 success!!!\n",
      "Crawl comment for product 273079628\n",
      "Crawl comment page 0 success!!!\n"
     ]
    },
    {
     "name": "stderr",
     "output_type": "stream",
     "text": [
      " 33%|█████████████████████████▉                                                     | 658/2000 [15:34<26:17,  1.18s/it]"
     ]
    },
    {
     "name": "stdout",
     "output_type": "stream",
     "text": [
      "Crawl comment page 1 success!!!\n",
      "Crawl comment for product 272002687\n",
      "Crawl comment page 0 success!!!\n"
     ]
    },
    {
     "name": "stderr",
     "output_type": "stream",
     "text": [
      " 33%|██████████████████████████                                                     | 659/2000 [15:35<24:07,  1.08s/it]"
     ]
    },
    {
     "name": "stdout",
     "output_type": "stream",
     "text": [
      "Crawl comment page 1 success!!!\n",
      "Crawl comment for product 271806587\n",
      "Crawl comment page 0 success!!!\n"
     ]
    },
    {
     "name": "stderr",
     "output_type": "stream",
     "text": [
      " 33%|██████████████████████████                                                     | 660/2000 [15:37<29:31,  1.32s/it]"
     ]
    },
    {
     "name": "stdout",
     "output_type": "stream",
     "text": [
      "Crawl comment page 1 success!!!\n",
      "Crawl comment for product 271784299\n",
      "Crawl comment page 0 success!!!\n"
     ]
    },
    {
     "name": "stderr",
     "output_type": "stream",
     "text": [
      " 33%|██████████████████████████                                                     | 661/2000 [15:41<44:15,  1.98s/it]"
     ]
    },
    {
     "name": "stdout",
     "output_type": "stream",
     "text": [
      "Crawl comment page 1 success!!!\n",
      "Crawl comment for product 271516469\n",
      "Crawl comment page 0 success!!!\n"
     ]
    },
    {
     "name": "stderr",
     "output_type": "stream",
     "text": [
      " 33%|██████████████████████████▏                                                    | 662/2000 [15:43<43:32,  1.95s/it]"
     ]
    },
    {
     "name": "stdout",
     "output_type": "stream",
     "text": [
      "Crawl comment page 1 success!!!\n",
      "Crawl comment for product 204874996\n",
      "Crawl comment page 0 success!!!\n"
     ]
    },
    {
     "name": "stderr",
     "output_type": "stream",
     "text": [
      " 33%|██████████████████████████▏                                                    | 663/2000 [15:45<43:18,  1.94s/it]"
     ]
    },
    {
     "name": "stdout",
     "output_type": "stream",
     "text": [
      "Crawl comment page 1 success!!!\n",
      "Crawl comment for product 201296282\n",
      "Crawl comment page 0 success!!!\n"
     ]
    },
    {
     "name": "stderr",
     "output_type": "stream",
     "text": [
      " 33%|██████████████████████████▏                                                    | 664/2000 [15:46<37:16,  1.67s/it]"
     ]
    },
    {
     "name": "stdout",
     "output_type": "stream",
     "text": [
      "Crawl comment page 1 success!!!\n",
      "Crawl comment for product 177637709\n",
      "Crawl comment page 0 success!!!\n"
     ]
    },
    {
     "name": "stderr",
     "output_type": "stream",
     "text": [
      " 33%|██████████████████████████▎                                                    | 665/2000 [15:49<45:56,  2.06s/it]"
     ]
    },
    {
     "name": "stdout",
     "output_type": "stream",
     "text": [
      "Crawl comment page 1 success!!!\n",
      "Crawl comment for product 173481374\n",
      "Crawl comment page 0 success!!!\n"
     ]
    },
    {
     "name": "stderr",
     "output_type": "stream",
     "text": [
      " 33%|██████████████████████████▎                                                    | 666/2000 [15:49<36:49,  1.66s/it]"
     ]
    },
    {
     "name": "stdout",
     "output_type": "stream",
     "text": [
      "Crawl comment page 1 success!!!\n",
      "Crawl comment for product 161903427\n",
      "Crawl comment page 0 success!!!\n"
     ]
    },
    {
     "name": "stderr",
     "output_type": "stream",
     "text": [
      " 33%|██████████████████████████▎                                                    | 667/2000 [15:52<43:28,  1.96s/it]"
     ]
    },
    {
     "name": "stdout",
     "output_type": "stream",
     "text": [
      "Crawl comment page 1 success!!!\n",
      "Crawl comment for product 157244522\n",
      "Crawl comment page 0 success!!!\n"
     ]
    },
    {
     "name": "stderr",
     "output_type": "stream",
     "text": [
      " 33%|██████████████████████████▍                                                    | 668/2000 [15:54<47:14,  2.13s/it]"
     ]
    },
    {
     "name": "stdout",
     "output_type": "stream",
     "text": [
      "Crawl comment page 1 success!!!\n",
      "Crawl comment for product 151597210\n",
      "Crawl comment page 0 success!!!\n"
     ]
    },
    {
     "name": "stderr",
     "output_type": "stream",
     "text": [
      " 33%|██████████████████████████▍                                                    | 669/2000 [15:59<59:58,  2.70s/it]"
     ]
    },
    {
     "name": "stdout",
     "output_type": "stream",
     "text": [
      "Crawl comment page 1 success!!!\n",
      "Crawl comment for product 145288029\n",
      "Crawl comment page 0 success!!!\n"
     ]
    },
    {
     "name": "stderr",
     "output_type": "stream",
     "text": [
      " 34%|█████████████████████████▊                                                   | 670/2000 [16:01<1:01:38,  2.78s/it]"
     ]
    },
    {
     "name": "stdout",
     "output_type": "stream",
     "text": [
      "Crawl comment page 1 success!!!\n",
      "Crawl comment for product 94906643\n",
      "Crawl comment page 0 success!!!\n"
     ]
    },
    {
     "name": "stderr",
     "output_type": "stream",
     "text": [
      " 34%|██████████████████████████▌                                                    | 671/2000 [16:04<56:54,  2.57s/it]"
     ]
    },
    {
     "name": "stdout",
     "output_type": "stream",
     "text": [
      "Crawl comment page 1 success!!!\n",
      "Crawl comment for product 91947689\n",
      "Crawl comment page 0 success!!!\n"
     ]
    },
    {
     "name": "stderr",
     "output_type": "stream",
     "text": [
      " 34%|██████████████████████████▌                                                    | 672/2000 [16:05<49:44,  2.25s/it]"
     ]
    },
    {
     "name": "stdout",
     "output_type": "stream",
     "text": [
      "Crawl comment page 1 success!!!\n",
      "Crawl comment for product 74416874\n",
      "Crawl comment page 0 success!!!\n"
     ]
    },
    {
     "name": "stderr",
     "output_type": "stream",
     "text": [
      " 34%|██████████████████████████▌                                                    | 673/2000 [16:07<45:33,  2.06s/it]"
     ]
    },
    {
     "name": "stdout",
     "output_type": "stream",
     "text": [
      "Crawl comment page 1 success!!!\n",
      "Crawl comment for product 72668422\n",
      "Crawl comment page 0 success!!!\n"
     ]
    },
    {
     "name": "stderr",
     "output_type": "stream",
     "text": [
      " 34%|██████████████████████████▌                                                    | 674/2000 [16:08<40:58,  1.85s/it]"
     ]
    },
    {
     "name": "stdout",
     "output_type": "stream",
     "text": [
      "Crawl comment page 1 success!!!\n",
      "Crawl comment for product 56305508\n",
      "Crawl comment page 0 success!!!\n"
     ]
    },
    {
     "name": "stderr",
     "output_type": "stream",
     "text": [
      " 34%|██████████████████████████▋                                                    | 675/2000 [16:10<41:09,  1.86s/it]"
     ]
    },
    {
     "name": "stdout",
     "output_type": "stream",
     "text": [
      "Crawl comment page 1 success!!!\n",
      "Crawl comment for product 32155084\n",
      "Crawl comment page 0 success!!!\n"
     ]
    },
    {
     "name": "stderr",
     "output_type": "stream",
     "text": [
      " 34%|██████████████████████████▋                                                    | 676/2000 [16:12<43:52,  1.99s/it]"
     ]
    },
    {
     "name": "stdout",
     "output_type": "stream",
     "text": [
      "Crawl comment page 1 success!!!\n",
      "Crawl comment for product 17406542\n",
      "Crawl comment page 0 success!!!\n"
     ]
    },
    {
     "name": "stderr",
     "output_type": "stream",
     "text": [
      " 34%|██████████████████████████▋                                                    | 677/2000 [16:14<41:57,  1.90s/it]"
     ]
    },
    {
     "name": "stdout",
     "output_type": "stream",
     "text": [
      "Crawl comment page 1 success!!!\n",
      "Crawl comment for product 2345543\n",
      "Crawl comment page 0 success!!!\n"
     ]
    },
    {
     "name": "stderr",
     "output_type": "stream",
     "text": [
      " 34%|██████████████████████████▊                                                    | 678/2000 [16:15<33:50,  1.54s/it]"
     ]
    },
    {
     "name": "stdout",
     "output_type": "stream",
     "text": [
      "Crawl comment page 1 success!!!\n",
      "Crawl comment for product 658826\n",
      "Crawl comment page 0 success!!!\n"
     ]
    },
    {
     "name": "stderr",
     "output_type": "stream",
     "text": [
      " 34%|██████████████████████████▊                                                    | 679/2000 [16:15<28:05,  1.28s/it]"
     ]
    },
    {
     "name": "stdout",
     "output_type": "stream",
     "text": [
      "Crawl comment page 1 success!!!\n",
      "Crawl comment for product 343763\n",
      "Crawl comment page 0 success!!!\n"
     ]
    },
    {
     "name": "stderr",
     "output_type": "stream",
     "text": [
      " 34%|██████████████████████████▊                                                    | 680/2000 [16:16<25:36,  1.16s/it]"
     ]
    },
    {
     "name": "stdout",
     "output_type": "stream",
     "text": [
      "Crawl comment page 1 success!!!\n",
      "Crawl comment for product 278000691\n",
      "Crawl comment page 0 success!!!\n"
     ]
    },
    {
     "name": "stderr",
     "output_type": "stream",
     "text": [
      " 34%|██████████████████████████▉                                                    | 682/2000 [16:17<15:57,  1.38it/s]"
     ]
    },
    {
     "name": "stdout",
     "output_type": "stream",
     "text": [
      "Crawl comment page 1 success!!!\n",
      "Crawl comment for product 277528719\n",
      "Crawl comment page 0 success!!!\n",
      "Crawl comment page 1 success!!!\n",
      "Crawl comment for product 276941101\n"
     ]
    },
    {
     "name": "stderr",
     "output_type": "stream",
     "text": [
      " 34%|██████████████████████████▉                                                    | 683/2000 [16:17<12:09,  1.80it/s]"
     ]
    },
    {
     "name": "stdout",
     "output_type": "stream",
     "text": [
      "Crawl comment page 0 success!!!\n",
      "Crawl comment page 1 success!!!\n",
      "Crawl comment for product 276750755\n",
      "Crawl comment page 0 success!!!\n"
     ]
    },
    {
     "name": "stderr",
     "output_type": "stream",
     "text": [
      " 34%|███████████████████████████                                                    | 684/2000 [16:19<21:40,  1.01it/s]"
     ]
    },
    {
     "name": "stdout",
     "output_type": "stream",
     "text": [
      "Crawl comment page 1 success!!!\n",
      "Crawl comment for product 275706634\n",
      "Crawl comment page 0 success!!!\n"
     ]
    },
    {
     "name": "stderr",
     "output_type": "stream",
     "text": [
      " 34%|███████████████████████████                                                    | 685/2000 [16:22<37:37,  1.72s/it]"
     ]
    },
    {
     "name": "stdout",
     "output_type": "stream",
     "text": [
      "Crawl comment page 1 success!!!\n",
      "Crawl comment for product 275585434\n",
      "Crawl comment page 0 success!!!\n"
     ]
    },
    {
     "name": "stderr",
     "output_type": "stream",
     "text": [
      " 34%|███████████████████████████                                                    | 686/2000 [16:26<48:46,  2.23s/it]"
     ]
    },
    {
     "name": "stdout",
     "output_type": "stream",
     "text": [
      "Crawl comment page 1 success!!!\n",
      "Crawl comment for product 275271760\n",
      "Crawl comment page 0 success!!!\n"
     ]
    },
    {
     "name": "stderr",
     "output_type": "stream",
     "text": [
      " 34%|███████████████████████████▏                                                   | 688/2000 [16:28<33:20,  1.52s/it]"
     ]
    },
    {
     "name": "stdout",
     "output_type": "stream",
     "text": [
      "Crawl comment page 1 success!!!\n",
      "Crawl comment for product 275216038\n",
      "Crawl comment page 0 success!!!\n",
      "Crawl comment page 1 success!!!\n",
      "Crawl comment for product 275180356\n",
      "Crawl comment page 0 success!!!\n"
     ]
    },
    {
     "name": "stderr",
     "output_type": "stream",
     "text": [
      " 34%|███████████████████████████▏                                                   | 689/2000 [16:28<26:32,  1.22s/it]"
     ]
    },
    {
     "name": "stdout",
     "output_type": "stream",
     "text": [
      "Crawl comment page 1 success!!!\n",
      "Crawl comment for product 275156849\n",
      "Crawl comment page 0 success!!!\n"
     ]
    },
    {
     "name": "stderr",
     "output_type": "stream",
     "text": [
      " 34%|███████████████████████████▎                                                   | 690/2000 [16:29<20:29,  1.07it/s]"
     ]
    },
    {
     "name": "stdout",
     "output_type": "stream",
     "text": [
      "Crawl comment page 1 success!!!\n",
      "Crawl comment for product 274969749\n",
      "Crawl comment page 0 success!!!\n"
     ]
    },
    {
     "name": "stderr",
     "output_type": "stream",
     "text": [
      " 35%|███████████████████████████▎                                                   | 692/2000 [16:32<23:29,  1.08s/it]"
     ]
    },
    {
     "name": "stdout",
     "output_type": "stream",
     "text": [
      "Crawl comment page 1 success!!!\n",
      "Crawl comment for product 274958978\n",
      "Crawl comment page 0 success!!!\n",
      "Crawl comment page 1 success!!!\n",
      "Crawl comment for product 274923685\n",
      "Crawl comment page 0 success!!!\n"
     ]
    },
    {
     "name": "stderr",
     "output_type": "stream",
     "text": [
      " 35%|███████████████████████████▎                                                   | 693/2000 [16:35<36:12,  1.66s/it]"
     ]
    },
    {
     "name": "stdout",
     "output_type": "stream",
     "text": [
      "Crawl comment page 1 success!!!\n",
      "Crawl comment for product 273829133\n",
      "Crawl comment page 0 success!!!\n"
     ]
    },
    {
     "name": "stderr",
     "output_type": "stream",
     "text": [
      " 35%|███████████████████████████▍                                                   | 695/2000 [16:36<23:28,  1.08s/it]"
     ]
    },
    {
     "name": "stdout",
     "output_type": "stream",
     "text": [
      "Crawl comment page 1 success!!!\n",
      "Crawl comment for product 273609470\n",
      "Crawl comment page 0 success!!!\n",
      "Crawl comment page 1 success!!!\n",
      "Crawl comment for product 273406311\n"
     ]
    },
    {
     "name": "stderr",
     "output_type": "stream",
     "text": [
      " 35%|███████████████████████████▍                                                   | 696/2000 [16:36<18:01,  1.21it/s]"
     ]
    },
    {
     "name": "stdout",
     "output_type": "stream",
     "text": [
      "Crawl comment page 0 success!!!\n",
      "Crawl comment page 1 success!!!\n",
      "Crawl comment for product 272000023\n",
      "Crawl comment page 0 success!!!\n"
     ]
    },
    {
     "name": "stderr",
     "output_type": "stream",
     "text": [
      " 35%|███████████████████████████▌                                                   | 698/2000 [16:39<24:47,  1.14s/it]"
     ]
    },
    {
     "name": "stdout",
     "output_type": "stream",
     "text": [
      "Crawl comment page 1 success!!!\n",
      "Crawl comment for product 264015882\n",
      "Crawl comment page 0 success!!!\n",
      "Crawl comment page 1 success!!!\n",
      "Crawl comment for product 263336124\n",
      "Crawl comment page 0 success!!!\n"
     ]
    },
    {
     "name": "stderr",
     "output_type": "stream",
     "text": [
      " 35%|███████████████████████████▌                                                   | 699/2000 [16:42<36:27,  1.68s/it]"
     ]
    },
    {
     "name": "stdout",
     "output_type": "stream",
     "text": [
      "Crawl comment page 1 success!!!\n",
      "Crawl comment for product 253471962\n",
      "Crawl comment page 0 success!!!\n"
     ]
    },
    {
     "name": "stderr",
     "output_type": "stream",
     "text": [
      " 35%|███████████████████████████▋                                                   | 700/2000 [16:43<28:17,  1.31s/it]"
     ]
    },
    {
     "name": "stdout",
     "output_type": "stream",
     "text": [
      "Crawl comment page 1 success!!!\n",
      "Crawl comment for product 225947931\n",
      "Crawl comment page 0 success!!!\n"
     ]
    },
    {
     "name": "stderr",
     "output_type": "stream",
     "text": [
      " 35%|███████████████████████████▋                                                   | 701/2000 [16:43<22:37,  1.05s/it]"
     ]
    },
    {
     "name": "stdout",
     "output_type": "stream",
     "text": [
      "Crawl comment page 1 success!!!\n",
      "Crawl comment for product 200852596\n",
      "Crawl comment page 0 success!!!\n"
     ]
    },
    {
     "name": "stderr",
     "output_type": "stream",
     "text": [
      " 35%|███████████████████████████▋                                                   | 702/2000 [16:44<23:12,  1.07s/it]"
     ]
    },
    {
     "name": "stdout",
     "output_type": "stream",
     "text": [
      "Crawl comment page 1 success!!!\n",
      "Crawl comment for product 198208141\n",
      "Crawl comment page 0 success!!!\n"
     ]
    },
    {
     "name": "stderr",
     "output_type": "stream",
     "text": [
      " 35%|███████████████████████████▊                                                   | 704/2000 [16:46<18:26,  1.17it/s]"
     ]
    },
    {
     "name": "stdout",
     "output_type": "stream",
     "text": [
      "Crawl comment page 1 success!!!\n",
      "Crawl comment for product 195969715\n",
      "Crawl comment page 0 success!!!\n",
      "Crawl comment page 1 success!!!\n",
      "Crawl comment for product 195801687\n",
      "Crawl comment page 0 success!!!\n"
     ]
    },
    {
     "name": "stderr",
     "output_type": "stream",
     "text": [
      " 35%|███████████████████████████▊                                                   | 705/2000 [16:48<24:13,  1.12s/it]"
     ]
    },
    {
     "name": "stdout",
     "output_type": "stream",
     "text": [
      "Crawl comment page 1 success!!!\n",
      "Crawl comment for product 187316087\n",
      "Crawl comment page 0 success!!!\n"
     ]
    },
    {
     "name": "stderr",
     "output_type": "stream",
     "text": [
      " 35%|███████████████████████████▉                                                   | 706/2000 [16:51<38:51,  1.80s/it]"
     ]
    },
    {
     "name": "stdout",
     "output_type": "stream",
     "text": [
      "Crawl comment page 1 success!!!\n",
      "Crawl comment for product 186290802\n",
      "Crawl comment page 0 success!!!\n"
     ]
    },
    {
     "name": "stderr",
     "output_type": "stream",
     "text": [
      " 35%|███████████████████████████▉                                                   | 707/2000 [16:53<40:54,  1.90s/it]"
     ]
    },
    {
     "name": "stdout",
     "output_type": "stream",
     "text": [
      "Crawl comment page 1 success!!!\n",
      "Crawl comment for product 173358027\n",
      "Crawl comment page 0 success!!!\n"
     ]
    },
    {
     "name": "stderr",
     "output_type": "stream",
     "text": [
      " 35%|███████████████████████████▉                                                   | 708/2000 [16:54<35:41,  1.66s/it]"
     ]
    },
    {
     "name": "stdout",
     "output_type": "stream",
     "text": [
      "Crawl comment page 1 success!!!\n",
      "Crawl comment for product 157255752\n",
      "Crawl comment page 0 success!!!\n"
     ]
    },
    {
     "name": "stderr",
     "output_type": "stream",
     "text": [
      " 35%|████████████████████████████                                                   | 709/2000 [16:56<34:40,  1.61s/it]"
     ]
    },
    {
     "name": "stdout",
     "output_type": "stream",
     "text": [
      "Crawl comment page 1 success!!!\n",
      "Crawl comment for product 151950544\n",
      "Crawl comment page 0 success!!!\n"
     ]
    },
    {
     "name": "stderr",
     "output_type": "stream",
     "text": [
      " 36%|████████████████████████████                                                   | 710/2000 [16:57<30:34,  1.42s/it]"
     ]
    },
    {
     "name": "stdout",
     "output_type": "stream",
     "text": [
      "Crawl comment page 1 success!!!\n",
      "Crawl comment for product 125362334\n",
      "Crawl comment page 0 success!!!\n"
     ]
    },
    {
     "name": "stderr",
     "output_type": "stream",
     "text": [
      " 36%|████████████████████████████                                                   | 711/2000 [16:59<32:59,  1.54s/it]"
     ]
    },
    {
     "name": "stdout",
     "output_type": "stream",
     "text": [
      "Crawl comment page 1 success!!!\n",
      "Crawl comment for product 120790296\n",
      "Crawl comment page 0 success!!!\n"
     ]
    },
    {
     "name": "stderr",
     "output_type": "stream",
     "text": [
      " 36%|████████████████████████████                                                   | 712/2000 [16:59<27:31,  1.28s/it]"
     ]
    },
    {
     "name": "stdout",
     "output_type": "stream",
     "text": [
      "Crawl comment page 1 success!!!\n",
      "Crawl comment for product 103693005\n",
      "Crawl comment page 0 success!!!\n"
     ]
    },
    {
     "name": "stderr",
     "output_type": "stream",
     "text": [
      " 36%|████████████████████████████▏                                                  | 713/2000 [17:00<26:44,  1.25s/it]"
     ]
    },
    {
     "name": "stdout",
     "output_type": "stream",
     "text": [
      "Crawl comment page 1 success!!!\n",
      "Crawl comment for product 77105705\n",
      "Crawl comment page 0 success!!!\n"
     ]
    },
    {
     "name": "stderr",
     "output_type": "stream",
     "text": [
      " 36%|████████████████████████████▏                                                  | 714/2000 [17:01<24:49,  1.16s/it]"
     ]
    },
    {
     "name": "stdout",
     "output_type": "stream",
     "text": [
      "Crawl comment page 1 success!!!\n",
      "Crawl comment for product 56048869\n",
      "Crawl comment page 0 success!!!\n"
     ]
    },
    {
     "name": "stderr",
     "output_type": "stream",
     "text": [
      " 36%|████████████████████████████▏                                                  | 715/2000 [17:02<22:13,  1.04s/it]"
     ]
    },
    {
     "name": "stdout",
     "output_type": "stream",
     "text": [
      "Crawl comment page 1 success!!!\n",
      "Crawl comment for product 34612056\n",
      "Crawl comment page 0 success!!!\n"
     ]
    },
    {
     "name": "stderr",
     "output_type": "stream",
     "text": [
      " 36%|████████████████████████████▎                                                  | 716/2000 [17:05<31:24,  1.47s/it]"
     ]
    },
    {
     "name": "stdout",
     "output_type": "stream",
     "text": [
      "Crawl comment page 1 success!!!\n",
      "Crawl comment for product 19774806\n",
      "Crawl comment page 0 success!!!\n"
     ]
    },
    {
     "name": "stderr",
     "output_type": "stream",
     "text": [
      " 36%|████████████████████████████▎                                                  | 717/2000 [17:06<34:09,  1.60s/it]"
     ]
    },
    {
     "name": "stdout",
     "output_type": "stream",
     "text": [
      "Crawl comment page 1 success!!!\n",
      "Crawl comment for product 7959218\n",
      "Crawl comment page 0 success!!!\n"
     ]
    },
    {
     "name": "stderr",
     "output_type": "stream",
     "text": [
      " 36%|████████████████████████████▎                                                  | 718/2000 [17:07<29:59,  1.40s/it]"
     ]
    },
    {
     "name": "stdout",
     "output_type": "stream",
     "text": [
      "Crawl comment page 1 success!!!\n",
      "Crawl comment for product 6995349\n",
      "Crawl comment page 0 success!!!\n"
     ]
    },
    {
     "name": "stderr",
     "output_type": "stream",
     "text": [
      " 36%|████████████████████████████▍                                                  | 719/2000 [17:08<26:01,  1.22s/it]"
     ]
    },
    {
     "name": "stdout",
     "output_type": "stream",
     "text": [
      "Crawl comment page 1 success!!!\n",
      "Crawl comment for product 4371159\n",
      "Crawl comment page 0 success!!!\n"
     ]
    },
    {
     "name": "stderr",
     "output_type": "stream",
     "text": [
      " 36%|████████████████████████████▍                                                  | 721/2000 [17:09<17:58,  1.19it/s]"
     ]
    },
    {
     "name": "stdout",
     "output_type": "stream",
     "text": [
      "Crawl comment page 1 success!!!\n",
      "Crawl comment for product 277388232\n",
      "Crawl comment page 0 success!!!\n",
      "Crawl comment page 1 success!!!\n",
      "Crawl comment for product 277388210\n"
     ]
    },
    {
     "name": "stderr",
     "output_type": "stream",
     "text": [
      " 36%|████████████████████████████▌                                                  | 722/2000 [17:09<13:40,  1.56it/s]"
     ]
    },
    {
     "name": "stdout",
     "output_type": "stream",
     "text": [
      "Crawl comment page 0 success!!!\n",
      "Crawl comment page 1 success!!!\n",
      "Crawl comment for product 276834434\n",
      "Crawl comment page 0 success!!!\n"
     ]
    },
    {
     "name": "stderr",
     "output_type": "stream",
     "text": [
      " 36%|████████████████████████████▌                                                  | 724/2000 [17:10<08:43,  2.44it/s]"
     ]
    },
    {
     "name": "stdout",
     "output_type": "stream",
     "text": [
      "Crawl comment page 1 success!!!\n",
      "Crawl comment for product 276780968\n",
      "Crawl comment page 0 success!!!\n",
      "Crawl comment page 1 success!!!\n",
      "Crawl comment for product 276345908\n"
     ]
    },
    {
     "name": "stderr",
     "output_type": "stream",
     "text": [
      " 36%|████████████████████████████▋                                                  | 725/2000 [17:10<09:08,  2.33it/s]"
     ]
    },
    {
     "name": "stdout",
     "output_type": "stream",
     "text": [
      "Crawl comment page 0 success!!!\n",
      "Crawl comment page 1 success!!!\n",
      "Crawl comment for product 275966176\n",
      "Crawl comment page 0 success!!!\n"
     ]
    },
    {
     "name": "stderr",
     "output_type": "stream",
     "text": [
      " 36%|████████████████████████████▋                                                  | 726/2000 [17:11<08:51,  2.39it/s]"
     ]
    },
    {
     "name": "stdout",
     "output_type": "stream",
     "text": [
      "Crawl comment page 1 success!!!\n",
      "Crawl comment for product 275953100\n",
      "Crawl comment page 0 success!!!\n"
     ]
    },
    {
     "name": "stderr",
     "output_type": "stream",
     "text": [
      " 36%|████████████████████████████▋                                                  | 727/2000 [17:12<11:04,  1.92it/s]"
     ]
    },
    {
     "name": "stdout",
     "output_type": "stream",
     "text": [
      "Crawl comment page 1 success!!!\n",
      "Crawl comment for product 275907750\n",
      "Crawl comment page 0 success!!!\n"
     ]
    },
    {
     "name": "stderr",
     "output_type": "stream",
     "text": [
      " 36%|████████████████████████████▊                                                  | 728/2000 [17:15<28:46,  1.36s/it]"
     ]
    },
    {
     "name": "stdout",
     "output_type": "stream",
     "text": [
      "Crawl comment page 1 success!!!\n",
      "Crawl comment for product 275138979\n",
      "Crawl comment page 0 success!!!\n"
     ]
    },
    {
     "name": "stderr",
     "output_type": "stream",
     "text": [
      " 36%|████████████████████████████▊                                                  | 730/2000 [17:18<29:18,  1.38s/it]"
     ]
    },
    {
     "name": "stdout",
     "output_type": "stream",
     "text": [
      "Crawl comment page 1 success!!!\n",
      "Crawl comment for product 274953663\n",
      "Crawl comment page 0 success!!!\n",
      "Crawl comment page 1 success!!!\n",
      "Crawl comment for product 274919184\n"
     ]
    },
    {
     "name": "stderr",
     "output_type": "stream",
     "text": [
      " 37%|████████████████████████████▊                                                  | 731/2000 [17:18<21:14,  1.00s/it]"
     ]
    },
    {
     "name": "stdout",
     "output_type": "stream",
     "text": [
      "Crawl comment page 0 success!!!\n",
      "Crawl comment page 1 success!!!\n",
      "Crawl comment for product 262695598\n",
      "Crawl comment page 0 success!!!\n"
     ]
    },
    {
     "name": "stderr",
     "output_type": "stream",
     "text": [
      " 37%|████████████████████████████▉                                                  | 733/2000 [17:20<19:14,  1.10it/s]"
     ]
    },
    {
     "name": "stdout",
     "output_type": "stream",
     "text": [
      "Crawl comment page 1 success!!!\n",
      "Crawl comment for product 253473906\n",
      "Crawl comment page 0 success!!!\n",
      "Crawl comment page 1 success!!!\n",
      "Crawl comment for product 253099216\n",
      "Crawl comment page 0 success!!!\n"
     ]
    },
    {
     "name": "stderr",
     "output_type": "stream",
     "text": [
      " 37%|████████████████████████████▉                                                  | 734/2000 [17:21<19:23,  1.09it/s]"
     ]
    },
    {
     "name": "stdout",
     "output_type": "stream",
     "text": [
      "Crawl comment page 1 success!!!\n",
      "Crawl comment for product 242084231\n",
      "Crawl comment page 0 success!!!\n"
     ]
    },
    {
     "name": "stderr",
     "output_type": "stream",
     "text": [
      " 37%|█████████████████████████████                                                  | 735/2000 [17:23<23:17,  1.11s/it]"
     ]
    },
    {
     "name": "stdout",
     "output_type": "stream",
     "text": [
      "Crawl comment page 1 success!!!\n",
      "Crawl comment for product 200617420\n",
      "Crawl comment page 0 success!!!\n"
     ]
    },
    {
     "name": "stderr",
     "output_type": "stream",
     "text": [
      " 37%|█████████████████████████████                                                  | 736/2000 [17:25<33:13,  1.58s/it]"
     ]
    },
    {
     "name": "stdout",
     "output_type": "stream",
     "text": [
      "Crawl comment page 1 success!!!\n",
      "Crawl comment for product 192473960\n",
      "Crawl comment page 0 success!!!\n"
     ]
    },
    {
     "name": "stderr",
     "output_type": "stream",
     "text": [
      " 37%|█████████████████████████████                                                  | 737/2000 [17:28<37:17,  1.77s/it]"
     ]
    },
    {
     "name": "stdout",
     "output_type": "stream",
     "text": [
      "Crawl comment page 1 success!!!\n",
      "Crawl comment for product 191923876\n",
      "Crawl comment page 0 success!!!\n"
     ]
    },
    {
     "name": "stderr",
     "output_type": "stream",
     "text": [
      " 37%|█████████████████████████████▏                                                 | 738/2000 [17:28<28:04,  1.34s/it]"
     ]
    },
    {
     "name": "stdout",
     "output_type": "stream",
     "text": [
      "Crawl comment page 1 success!!!\n",
      "Crawl comment for product 186265462\n",
      "Crawl comment page 0 success!!!\n"
     ]
    },
    {
     "name": "stderr",
     "output_type": "stream",
     "text": [
      " 37%|█████████████████████████████▏                                                 | 739/2000 [17:29<25:26,  1.21s/it]"
     ]
    },
    {
     "name": "stdout",
     "output_type": "stream",
     "text": [
      "Crawl comment page 1 success!!!\n",
      "Crawl comment for product 176824206\n",
      "Crawl comment page 0 success!!!\n"
     ]
    },
    {
     "name": "stderr",
     "output_type": "stream",
     "text": [
      " 37%|█████████████████████████████▏                                                 | 740/2000 [17:30<25:36,  1.22s/it]"
     ]
    },
    {
     "name": "stdout",
     "output_type": "stream",
     "text": [
      "Crawl comment page 1 success!!!\n",
      "Crawl comment for product 152464652\n",
      "Crawl comment page 0 success!!!\n"
     ]
    },
    {
     "name": "stderr",
     "output_type": "stream",
     "text": [
      " 37%|█████████████████████████████▎                                                 | 741/2000 [17:31<24:07,  1.15s/it]"
     ]
    },
    {
     "name": "stdout",
     "output_type": "stream",
     "text": [
      "Crawl comment page 1 success!!!\n",
      "Crawl comment for product 148760924\n",
      "Crawl comment page 0 success!!!\n"
     ]
    },
    {
     "name": "stderr",
     "output_type": "stream",
     "text": [
      " 37%|█████████████████████████████▎                                                 | 742/2000 [17:32<23:09,  1.10s/it]"
     ]
    },
    {
     "name": "stdout",
     "output_type": "stream",
     "text": [
      "Crawl comment page 1 success!!!\n",
      "Crawl comment for product 144934443\n"
     ]
    },
    {
     "name": "stderr",
     "output_type": "stream",
     "text": [
      " 37%|█████████████████████████████▎                                                 | 743/2000 [17:33<18:56,  1.11it/s]"
     ]
    },
    {
     "name": "stdout",
     "output_type": "stream",
     "text": [
      "Crawl comment page 0 success!!!\n",
      "Crawl comment page 1 success!!!\n",
      "Crawl comment for product 143217515\n",
      "Crawl comment page 0 success!!!\n"
     ]
    },
    {
     "name": "stderr",
     "output_type": "stream",
     "text": [
      " 37%|█████████████████████████████▍                                                 | 744/2000 [17:34<21:31,  1.03s/it]"
     ]
    },
    {
     "name": "stdout",
     "output_type": "stream",
     "text": [
      "Crawl comment page 1 success!!!\n",
      "Crawl comment for product 113583126\n",
      "Crawl comment page 0 success!!!\n"
     ]
    },
    {
     "name": "stderr",
     "output_type": "stream",
     "text": [
      " 37%|█████████████████████████████▍                                                 | 745/2000 [17:36<26:48,  1.28s/it]"
     ]
    },
    {
     "name": "stdout",
     "output_type": "stream",
     "text": [
      "Crawl comment page 1 success!!!\n",
      "Crawl comment for product 105060985\n",
      "Crawl comment page 0 success!!!\n"
     ]
    },
    {
     "name": "stderr",
     "output_type": "stream",
     "text": [
      " 37%|█████████████████████████████▍                                                 | 746/2000 [17:37<24:17,  1.16s/it]"
     ]
    },
    {
     "name": "stdout",
     "output_type": "stream",
     "text": [
      "Crawl comment page 1 success!!!\n",
      "Crawl comment for product 103379146\n",
      "Crawl comment page 0 success!!!\n"
     ]
    },
    {
     "name": "stderr",
     "output_type": "stream",
     "text": [
      " 37%|█████████████████████████████▌                                                 | 747/2000 [17:39<29:30,  1.41s/it]"
     ]
    },
    {
     "name": "stdout",
     "output_type": "stream",
     "text": [
      "Crawl comment page 1 success!!!\n",
      "Crawl comment for product 86267532\n",
      "Crawl comment page 0 success!!!\n"
     ]
    },
    {
     "name": "stderr",
     "output_type": "stream",
     "text": [
      " 37%|█████████████████████████████▌                                                 | 748/2000 [17:41<34:14,  1.64s/it]"
     ]
    },
    {
     "name": "stdout",
     "output_type": "stream",
     "text": [
      "Crawl comment page 1 success!!!\n",
      "Crawl comment for product 78491218\n",
      "Crawl comment page 0 success!!!\n"
     ]
    },
    {
     "name": "stderr",
     "output_type": "stream",
     "text": [
      " 37%|█████████████████████████████▌                                                 | 749/2000 [17:42<32:59,  1.58s/it]"
     ]
    },
    {
     "name": "stdout",
     "output_type": "stream",
     "text": [
      "Crawl comment page 1 success!!!\n",
      "Crawl comment for product 75953559\n",
      "Crawl comment page 0 success!!!\n"
     ]
    },
    {
     "name": "stderr",
     "output_type": "stream",
     "text": [
      " 38%|█████████████████████████████▋                                                 | 750/2000 [17:46<44:40,  2.14s/it]"
     ]
    },
    {
     "name": "stdout",
     "output_type": "stream",
     "text": [
      "Crawl comment page 1 success!!!\n",
      "Crawl comment for product 73553846\n",
      "Crawl comment page 0 success!!!\n"
     ]
    },
    {
     "name": "stderr",
     "output_type": "stream",
     "text": [
      " 38%|█████████████████████████████▋                                                 | 751/2000 [17:48<48:38,  2.34s/it]"
     ]
    },
    {
     "name": "stdout",
     "output_type": "stream",
     "text": [
      "Crawl comment page 1 success!!!\n",
      "Crawl comment for product 72592722\n",
      "Crawl comment page 0 success!!!\n"
     ]
    },
    {
     "name": "stderr",
     "output_type": "stream",
     "text": [
      " 38%|█████████████████████████████▋                                                 | 752/2000 [17:49<37:41,  1.81s/it]"
     ]
    },
    {
     "name": "stdout",
     "output_type": "stream",
     "text": [
      "Crawl comment page 1 success!!!\n",
      "Crawl comment for product 22367134\n",
      "Crawl comment page 0 success!!!\n"
     ]
    },
    {
     "name": "stderr",
     "output_type": "stream",
     "text": [
      " 38%|█████████████████████████████▋                                                 | 753/2000 [17:50<34:11,  1.64s/it]"
     ]
    },
    {
     "name": "stdout",
     "output_type": "stream",
     "text": [
      "Crawl comment page 1 success!!!\n",
      "Crawl comment for product 16391543\n",
      "Crawl comment page 0 success!!!\n"
     ]
    },
    {
     "name": "stderr",
     "output_type": "stream",
     "text": [
      " 38%|█████████████████████████████▊                                                 | 754/2000 [17:52<33:03,  1.59s/it]"
     ]
    },
    {
     "name": "stdout",
     "output_type": "stream",
     "text": [
      "Crawl comment page 1 success!!!\n",
      "Crawl comment for product 15724164\n",
      "Crawl comment page 0 success!!!\n"
     ]
    },
    {
     "name": "stderr",
     "output_type": "stream",
     "text": [
      " 38%|█████████████████████████████▊                                                 | 755/2000 [17:53<30:37,  1.48s/it]"
     ]
    },
    {
     "name": "stdout",
     "output_type": "stream",
     "text": [
      "Crawl comment page 1 success!!!\n",
      "Crawl comment for product 14875797\n",
      "Crawl comment page 0 success!!!\n"
     ]
    },
    {
     "name": "stderr",
     "output_type": "stream",
     "text": [
      " 38%|█████████████████████████████▊                                                 | 756/2000 [17:54<25:42,  1.24s/it]"
     ]
    },
    {
     "name": "stdout",
     "output_type": "stream",
     "text": [
      "Crawl comment page 1 success!!!\n",
      "Crawl comment for product 13624088\n",
      "Crawl comment page 0 success!!!\n"
     ]
    },
    {
     "name": "stderr",
     "output_type": "stream",
     "text": [
      " 38%|█████████████████████████████▉                                                 | 757/2000 [17:56<30:05,  1.45s/it]"
     ]
    },
    {
     "name": "stdout",
     "output_type": "stream",
     "text": [
      "Crawl comment page 1 success!!!\n",
      "Crawl comment for product 7440075\n",
      "Crawl comment page 0 success!!!\n"
     ]
    },
    {
     "name": "stderr",
     "output_type": "stream",
     "text": [
      " 38%|█████████████████████████████▉                                                 | 758/2000 [17:57<29:00,  1.40s/it]"
     ]
    },
    {
     "name": "stdout",
     "output_type": "stream",
     "text": [
      "Crawl comment page 1 success!!!\n",
      "Crawl comment for product 715592\n",
      "Crawl comment page 0 success!!!\n"
     ]
    },
    {
     "name": "stderr",
     "output_type": "stream",
     "text": [
      " 38%|█████████████████████████████▉                                                 | 759/2000 [17:58<28:40,  1.39s/it]"
     ]
    },
    {
     "name": "stdout",
     "output_type": "stream",
     "text": [
      "Crawl comment page 1 success!!!\n",
      "Crawl comment for product 438718\n",
      "Crawl comment page 0 success!!!\n"
     ]
    },
    {
     "name": "stderr",
     "output_type": "stream",
     "text": [
      " 38%|██████████████████████████████                                                 | 761/2000 [17:59<19:21,  1.07it/s]"
     ]
    },
    {
     "name": "stdout",
     "output_type": "stream",
     "text": [
      "Crawl comment page 1 success!!!\n",
      "Crawl comment for product 278025080\n",
      "Crawl comment page 0 success!!!\n",
      "Crawl comment page 1 success!!!\n",
      "Crawl comment for product 277816000\n",
      "Crawl comment page 0 success!!!\n"
     ]
    },
    {
     "name": "stderr",
     "output_type": "stream",
     "text": [
      " 38%|██████████████████████████████▏                                                | 763/2000 [18:00<10:54,  1.89it/s]"
     ]
    },
    {
     "name": "stdout",
     "output_type": "stream",
     "text": [
      "Crawl comment page 1 success!!!\n",
      "Crawl comment for product 277671463\n",
      "Crawl comment page 0 success!!!\n",
      "Crawl comment page 1 success!!!\n",
      "Crawl comment for product 277483564\n",
      "Crawl comment page 0 success!!!\n"
     ]
    },
    {
     "name": "stderr",
     "output_type": "stream",
     "text": [
      " 38%|██████████████████████████████▏                                                | 764/2000 [18:00<08:43,  2.36it/s]"
     ]
    },
    {
     "name": "stdout",
     "output_type": "stream",
     "text": [
      "Crawl comment page 1 success!!!\n",
      "Crawl comment for product 276756586\n",
      "Crawl comment page 0 success!!!\n"
     ]
    },
    {
     "name": "stderr",
     "output_type": "stream",
     "text": [
      " 38%|██████████████████████████████▏                                                | 765/2000 [18:01<13:22,  1.54it/s]"
     ]
    },
    {
     "name": "stdout",
     "output_type": "stream",
     "text": [
      "Crawl comment page 1 success!!!\n",
      "Crawl comment for product 276482078\n",
      "Crawl comment page 0 success!!!\n"
     ]
    },
    {
     "name": "stderr",
     "output_type": "stream",
     "text": [
      " 38%|██████████████████████████████▎                                                | 767/2000 [18:02<12:47,  1.61it/s]"
     ]
    },
    {
     "name": "stdout",
     "output_type": "stream",
     "text": [
      "Crawl comment page 1 success!!!\n",
      "Crawl comment for product 276461212\n",
      "Crawl comment page 0 success!!!\n",
      "Crawl comment page 1 success!!!\n",
      "Crawl comment for product 276058808\n"
     ]
    },
    {
     "name": "stderr",
     "output_type": "stream",
     "text": [
      " 38%|██████████████████████████████▎                                                | 768/2000 [18:03<10:06,  2.03it/s]"
     ]
    },
    {
     "name": "stdout",
     "output_type": "stream",
     "text": [
      "Crawl comment page 0 success!!!\n",
      "Crawl comment page 1 success!!!\n",
      "Crawl comment for product 275452238\n",
      "Crawl comment page 0 success!!!\n"
     ]
    },
    {
     "name": "stderr",
     "output_type": "stream",
     "text": [
      " 38%|██████████████████████████████▍                                                | 770/2000 [18:05<17:03,  1.20it/s]"
     ]
    },
    {
     "name": "stdout",
     "output_type": "stream",
     "text": [
      "Crawl comment page 1 success!!!\n",
      "Crawl comment for product 275399689\n",
      "Crawl comment page 0 success!!!\n",
      "Crawl comment page 1 success!!!\n",
      "Crawl comment for product 275066820\n"
     ]
    },
    {
     "name": "stderr",
     "output_type": "stream",
     "text": [
      " 39%|██████████████████████████████▍                                                | 771/2000 [18:05<12:39,  1.62it/s]"
     ]
    },
    {
     "name": "stdout",
     "output_type": "stream",
     "text": [
      "Crawl comment page 0 success!!!\n",
      "Crawl comment page 1 success!!!\n",
      "Crawl comment for product 273623706\n"
     ]
    },
    {
     "name": "stderr",
     "output_type": "stream",
     "text": [
      " 39%|██████████████████████████████▍                                                | 772/2000 [18:06<10:46,  1.90it/s]"
     ]
    },
    {
     "name": "stdout",
     "output_type": "stream",
     "text": [
      "Crawl comment page 0 success!!!\n",
      "Crawl comment page 1 success!!!\n",
      "Crawl comment for product 273621274\n",
      "Crawl comment page 0 success!!!\n"
     ]
    },
    {
     "name": "stderr",
     "output_type": "stream",
     "text": [
      " 39%|██████████████████████████████▌                                                | 773/2000 [18:08<18:20,  1.12it/s]"
     ]
    },
    {
     "name": "stdout",
     "output_type": "stream",
     "text": [
      "Crawl comment page 1 success!!!\n",
      "Crawl comment for product 272608921\n",
      "Crawl comment page 0 success!!!\n"
     ]
    },
    {
     "name": "stderr",
     "output_type": "stream",
     "text": [
      " 39%|██████████████████████████████▌                                                | 775/2000 [18:08<12:21,  1.65it/s]"
     ]
    },
    {
     "name": "stdout",
     "output_type": "stream",
     "text": [
      "Crawl comment page 1 success!!!\n",
      "Crawl comment for product 272373541\n",
      "Crawl comment page 0 success!!!\n",
      "Crawl comment page 1 success!!!\n",
      "Crawl comment for product 272362278\n",
      "Crawl comment page 0 success!!!\n"
     ]
    },
    {
     "name": "stderr",
     "output_type": "stream",
     "text": [
      " 39%|██████████████████████████████▋                                                | 776/2000 [18:09<16:08,  1.26it/s]"
     ]
    },
    {
     "name": "stdout",
     "output_type": "stream",
     "text": [
      "Crawl comment page 1 success!!!\n",
      "Crawl comment for product 271075574\n",
      "Crawl comment page 0 success!!!\n"
     ]
    },
    {
     "name": "stderr",
     "output_type": "stream",
     "text": [
      " 39%|██████████████████████████████▋                                                | 777/2000 [18:11<18:05,  1.13it/s]"
     ]
    },
    {
     "name": "stdout",
     "output_type": "stream",
     "text": [
      "Crawl comment page 1 success!!!\n",
      "Crawl comment for product 263698281\n",
      "Crawl comment page 0 success!!!\n"
     ]
    },
    {
     "name": "stderr",
     "output_type": "stream",
     "text": [
      " 39%|██████████████████████████████▋                                                | 778/2000 [18:11<17:22,  1.17it/s]"
     ]
    },
    {
     "name": "stdout",
     "output_type": "stream",
     "text": [
      "Crawl comment page 1 success!!!\n",
      "Crawl comment for product 242696346\n",
      "Crawl comment page 0 success!!!\n"
     ]
    },
    {
     "name": "stderr",
     "output_type": "stream",
     "text": [
      " 39%|██████████████████████████████▊                                                | 779/2000 [18:12<16:05,  1.27it/s]"
     ]
    },
    {
     "name": "stdout",
     "output_type": "stream",
     "text": [
      "Crawl comment page 1 success!!!\n",
      "Crawl comment for product 241746523\n",
      "Crawl comment page 0 success!!!\n"
     ]
    },
    {
     "name": "stderr",
     "output_type": "stream",
     "text": [
      " 39%|██████████████████████████████▊                                                | 780/2000 [18:13<15:41,  1.30it/s]"
     ]
    },
    {
     "name": "stdout",
     "output_type": "stream",
     "text": [
      "Crawl comment page 1 success!!!\n",
      "Crawl comment for product 185668546\n",
      "Crawl comment page 0 success!!!\n"
     ]
    },
    {
     "name": "stderr",
     "output_type": "stream",
     "text": [
      " 39%|██████████████████████████████▊                                                | 781/2000 [18:13<15:21,  1.32it/s]"
     ]
    },
    {
     "name": "stdout",
     "output_type": "stream",
     "text": [
      "Crawl comment page 1 success!!!\n",
      "Crawl comment for product 172067123\n",
      "Crawl comment page 0 success!!!\n"
     ]
    },
    {
     "name": "stderr",
     "output_type": "stream",
     "text": [
      " 39%|██████████████████████████████▉                                                | 782/2000 [18:14<14:27,  1.40it/s]"
     ]
    },
    {
     "name": "stdout",
     "output_type": "stream",
     "text": [
      "Crawl comment page 1 success!!!\n",
      "Crawl comment for product 159484512\n",
      "Crawl comment page 0 success!!!\n"
     ]
    },
    {
     "name": "stderr",
     "output_type": "stream",
     "text": [
      " 39%|██████████████████████████████▉                                                | 783/2000 [18:16<24:25,  1.20s/it]"
     ]
    },
    {
     "name": "stdout",
     "output_type": "stream",
     "text": [
      "Crawl comment page 1 success!!!\n",
      "Crawl comment for product 114573562\n",
      "Crawl comment page 0 success!!!\n"
     ]
    },
    {
     "name": "stderr",
     "output_type": "stream",
     "text": [
      " 39%|██████████████████████████████▉                                                | 784/2000 [18:17<19:57,  1.02it/s]"
     ]
    },
    {
     "name": "stdout",
     "output_type": "stream",
     "text": [
      "Crawl comment page 1 success!!!\n",
      "Crawl comment for product 113707063\n",
      "Crawl comment page 0 success!!!\n"
     ]
    },
    {
     "name": "stderr",
     "output_type": "stream",
     "text": [
      " 39%|███████████████████████████████                                                | 785/2000 [18:20<30:56,  1.53s/it]"
     ]
    },
    {
     "name": "stdout",
     "output_type": "stream",
     "text": [
      "Crawl comment page 1 success!!!\n",
      "Crawl comment for product 77982978\n",
      "Crawl comment page 0 success!!!\n"
     ]
    },
    {
     "name": "stderr",
     "output_type": "stream",
     "text": [
      " 39%|███████████████████████████████                                                | 786/2000 [18:21<31:21,  1.55s/it]"
     ]
    },
    {
     "name": "stdout",
     "output_type": "stream",
     "text": [
      "Crawl comment page 1 success!!!\n",
      "Crawl comment for product 73497029\n",
      "Crawl comment page 0 success!!!\n"
     ]
    },
    {
     "name": "stderr",
     "output_type": "stream",
     "text": [
      " 39%|███████████████████████████████                                                | 787/2000 [18:22<25:30,  1.26s/it]"
     ]
    },
    {
     "name": "stdout",
     "output_type": "stream",
     "text": [
      "Crawl comment page 1 success!!!\n",
      "Crawl comment for product 58329544\n",
      "Crawl comment page 0 success!!!\n"
     ]
    },
    {
     "name": "stderr",
     "output_type": "stream",
     "text": [
      " 39%|███████████████████████████████▏                                               | 788/2000 [18:23<21:33,  1.07s/it]"
     ]
    },
    {
     "name": "stdout",
     "output_type": "stream",
     "text": [
      "Crawl comment page 1 success!!!\n",
      "Crawl comment for product 53716211\n",
      "Crawl comment page 0 success!!!\n"
     ]
    },
    {
     "name": "stderr",
     "output_type": "stream",
     "text": [
      " 39%|███████████████████████████████▏                                               | 789/2000 [18:24<26:49,  1.33s/it]"
     ]
    },
    {
     "name": "stdout",
     "output_type": "stream",
     "text": [
      "Crawl comment page 1 success!!!\n",
      "Crawl comment for product 49722650\n",
      "Crawl comment page 0 success!!!\n"
     ]
    },
    {
     "name": "stderr",
     "output_type": "stream",
     "text": [
      " 40%|███████████████████████████████▏                                               | 790/2000 [18:26<30:19,  1.50s/it]"
     ]
    },
    {
     "name": "stdout",
     "output_type": "stream",
     "text": [
      "Crawl comment page 1 success!!!\n",
      "Crawl comment for product 45231385\n",
      "Crawl comment page 0 success!!!\n"
     ]
    },
    {
     "name": "stderr",
     "output_type": "stream",
     "text": [
      " 40%|███████████████████████████████▏                                               | 791/2000 [18:27<25:16,  1.25s/it]"
     ]
    },
    {
     "name": "stdout",
     "output_type": "stream",
     "text": [
      "Crawl comment page 1 success!!!\n",
      "Crawl comment for product 44604648\n",
      "Crawl comment page 0 success!!!\n"
     ]
    },
    {
     "name": "stderr",
     "output_type": "stream",
     "text": [
      " 40%|███████████████████████████████▎                                               | 792/2000 [18:28<20:33,  1.02s/it]"
     ]
    },
    {
     "name": "stdout",
     "output_type": "stream",
     "text": [
      "Crawl comment page 1 success!!!\n",
      "Crawl comment for product 40427111\n",
      "Crawl comment page 0 success!!!\n"
     ]
    },
    {
     "name": "stderr",
     "output_type": "stream",
     "text": [
      " 40%|███████████████████████████████▎                                               | 793/2000 [18:29<20:45,  1.03s/it]"
     ]
    },
    {
     "name": "stdout",
     "output_type": "stream",
     "text": [
      "Crawl comment page 1 success!!!\n",
      "Crawl comment for product 32701102\n",
      "Crawl comment page 0 success!!!\n"
     ]
    },
    {
     "name": "stderr",
     "output_type": "stream",
     "text": [
      " 40%|███████████████████████████████▎                                               | 794/2000 [18:29<20:05,  1.00it/s]"
     ]
    },
    {
     "name": "stdout",
     "output_type": "stream",
     "text": [
      "Crawl comment page 1 success!!!\n",
      "Crawl comment for product 24702007\n",
      "Crawl comment page 0 success!!!\n"
     ]
    },
    {
     "name": "stderr",
     "output_type": "stream",
     "text": [
      " 40%|███████████████████████████████▍                                               | 795/2000 [18:32<27:16,  1.36s/it]"
     ]
    },
    {
     "name": "stdout",
     "output_type": "stream",
     "text": [
      "Crawl comment page 1 success!!!\n",
      "Crawl comment for product 14643409\n",
      "Crawl comment page 0 success!!!\n"
     ]
    },
    {
     "name": "stderr",
     "output_type": "stream",
     "text": [
      " 40%|███████████████████████████████▍                                               | 796/2000 [18:34<33:07,  1.65s/it]"
     ]
    },
    {
     "name": "stdout",
     "output_type": "stream",
     "text": [
      "Crawl comment page 1 success!!!\n",
      "Crawl comment for product 7565801\n",
      "Crawl comment page 0 success!!!\n"
     ]
    },
    {
     "name": "stderr",
     "output_type": "stream",
     "text": [
      " 40%|███████████████████████████████▍                                               | 797/2000 [18:35<28:57,  1.44s/it]"
     ]
    },
    {
     "name": "stdout",
     "output_type": "stream",
     "text": [
      "Crawl comment page 1 success!!!\n",
      "Crawl comment for product 2149531\n",
      "Crawl comment page 0 success!!!\n"
     ]
    },
    {
     "name": "stderr",
     "output_type": "stream",
     "text": [
      " 40%|███████████████████████████████▌                                               | 798/2000 [18:38<35:56,  1.79s/it]"
     ]
    },
    {
     "name": "stdout",
     "output_type": "stream",
     "text": [
      "Crawl comment page 1 success!!!\n",
      "Crawl comment for product 1660559\n"
     ]
    },
    {
     "name": "stderr",
     "output_type": "stream",
     "text": [
      " 40%|███████████████████████████████▌                                               | 799/2000 [18:38<27:59,  1.40s/it]"
     ]
    },
    {
     "name": "stdout",
     "output_type": "stream",
     "text": [
      "Crawl comment page 0 success!!!\n",
      "Crawl comment page 1 success!!!\n",
      "Crawl comment for product 604338\n",
      "Crawl comment page 0 success!!!\n"
     ]
    },
    {
     "name": "stderr",
     "output_type": "stream",
     "text": [
      " 40%|███████████████████████████████▌                                               | 800/2000 [18:41<35:53,  1.79s/it]"
     ]
    },
    {
     "name": "stdout",
     "output_type": "stream",
     "text": [
      "Crawl comment page 1 success!!!\n",
      "Crawl comment for product 278169524\n",
      "Crawl comment page 0 success!!!\n"
     ]
    },
    {
     "name": "stderr",
     "output_type": "stream",
     "text": [
      " 40%|███████████████████████████████▋                                               | 802/2000 [18:41<19:16,  1.04it/s]"
     ]
    },
    {
     "name": "stdout",
     "output_type": "stream",
     "text": [
      "Crawl comment page 1 success!!!\n",
      "Crawl comment for product 278160079\n",
      "Crawl comment page 0 success!!!\n",
      "Crawl comment page 1 success!!!\n",
      "Crawl comment for product 278106495\n",
      "Crawl comment page 0 success!!!\n"
     ]
    },
    {
     "name": "stderr",
     "output_type": "stream",
     "text": [
      " 40%|███████████████████████████████▊                                               | 804/2000 [18:41<10:42,  1.86it/s]"
     ]
    },
    {
     "name": "stdout",
     "output_type": "stream",
     "text": [
      "Crawl comment page 1 success!!!\n",
      "Crawl comment for product 278089329\n",
      "Crawl comment page 0 success!!!\n",
      "Crawl comment page 1 success!!!\n",
      "Crawl comment for product 277017868\n",
      "Crawl comment page 0 success!!!\n"
     ]
    },
    {
     "name": "stderr",
     "output_type": "stream",
     "text": [
      " 40%|███████████████████████████████▊                                               | 806/2000 [18:42<06:28,  3.08it/s]"
     ]
    },
    {
     "name": "stdout",
     "output_type": "stream",
     "text": [
      "Crawl comment page 1 success!!!\n",
      "Crawl comment for product 276284193\n",
      "Crawl comment page 0 success!!!\n",
      "Crawl comment page 1 success!!!\n",
      "Crawl comment for product 276107155\n",
      "Crawl comment page 0 success!!!\n"
     ]
    },
    {
     "name": "stderr",
     "output_type": "stream",
     "text": [
      " 40%|███████████████████████████████▉                                               | 807/2000 [18:44<16:09,  1.23it/s]"
     ]
    },
    {
     "name": "stdout",
     "output_type": "stream",
     "text": [
      "Crawl comment page 1 success!!!\n",
      "Crawl comment for product 275655796\n",
      "Crawl comment page 0 success!!!\n"
     ]
    },
    {
     "name": "stderr",
     "output_type": "stream",
     "text": [
      " 40%|███████████████████████████████▉                                               | 808/2000 [18:45<18:40,  1.06it/s]"
     ]
    },
    {
     "name": "stdout",
     "output_type": "stream",
     "text": [
      "Crawl comment page 1 success!!!\n",
      "Crawl comment for product 275296457\n",
      "Crawl comment page 0 success!!!\n"
     ]
    },
    {
     "name": "stderr",
     "output_type": "stream",
     "text": [
      " 40%|███████████████████████████████▉                                               | 809/2000 [18:48<31:47,  1.60s/it]"
     ]
    },
    {
     "name": "stdout",
     "output_type": "stream",
     "text": [
      "Crawl comment page 1 success!!!\n",
      "Crawl comment for product 275190399\n",
      "Crawl comment page 0 success!!!\n"
     ]
    },
    {
     "name": "stderr",
     "output_type": "stream",
     "text": [
      " 41%|████████████████████████████████                                               | 811/2000 [18:50<24:34,  1.24s/it]"
     ]
    },
    {
     "name": "stdout",
     "output_type": "stream",
     "text": [
      "Crawl comment page 1 success!!!\n",
      "Crawl comment for product 274397292\n",
      "Crawl comment page 0 success!!!\n",
      "Crawl comment page 1 success!!!\n",
      "Crawl comment for product 274375359\n",
      "Crawl comment page 0 success!!!\n"
     ]
    },
    {
     "name": "stderr",
     "output_type": "stream",
     "text": [
      " 41%|████████████████████████████████                                               | 812/2000 [18:52<25:56,  1.31s/it]"
     ]
    },
    {
     "name": "stdout",
     "output_type": "stream",
     "text": [
      "Crawl comment page 1 success!!!\n",
      "Crawl comment for product 274160133\n",
      "Crawl comment page 0 success!!!\n"
     ]
    },
    {
     "name": "stderr",
     "output_type": "stream",
     "text": [
      " 41%|████████████████████████████████▏                                              | 814/2000 [18:52<16:03,  1.23it/s]"
     ]
    },
    {
     "name": "stdout",
     "output_type": "stream",
     "text": [
      "Crawl comment page 1 success!!!\n",
      "Crawl comment for product 263791080\n",
      "Crawl comment page 0 success!!!\n",
      "Crawl comment page 1 success!!!\n",
      "Crawl comment for product 262042786\n",
      "Crawl comment page 0 success!!!\n"
     ]
    },
    {
     "name": "stderr",
     "output_type": "stream",
     "text": [
      " 41%|████████████████████████████████▏                                              | 815/2000 [18:53<14:12,  1.39it/s]"
     ]
    },
    {
     "name": "stdout",
     "output_type": "stream",
     "text": [
      "Crawl comment page 1 success!!!\n",
      "Crawl comment for product 251255499\n",
      "Crawl comment page 0 success!!!\n"
     ]
    },
    {
     "name": "stderr",
     "output_type": "stream",
     "text": [
      " 41%|████████████████████████████████▏                                              | 816/2000 [18:54<14:17,  1.38it/s]"
     ]
    },
    {
     "name": "stdout",
     "output_type": "stream",
     "text": [
      "Crawl comment page 1 success!!!\n",
      "Crawl comment for product 250339500\n",
      "Crawl comment page 0 success!!!\n"
     ]
    },
    {
     "name": "stderr",
     "output_type": "stream",
     "text": [
      " 41%|████████████████████████████████▎                                              | 817/2000 [18:54<13:41,  1.44it/s]"
     ]
    },
    {
     "name": "stdout",
     "output_type": "stream",
     "text": [
      "Crawl comment page 1 success!!!\n",
      "Crawl comment for product 249739565\n",
      "Crawl comment page 0 success!!!\n"
     ]
    },
    {
     "name": "stderr",
     "output_type": "stream",
     "text": [
      " 41%|████████████████████████████████▎                                              | 818/2000 [18:55<12:51,  1.53it/s]"
     ]
    },
    {
     "name": "stdout",
     "output_type": "stream",
     "text": [
      "Crawl comment page 1 success!!!\n",
      "Crawl comment for product 243006533\n",
      "Crawl comment page 0 success!!!\n"
     ]
    },
    {
     "name": "stderr",
     "output_type": "stream",
     "text": [
      " 41%|████████████████████████████████▎                                              | 819/2000 [18:58<26:04,  1.32s/it]"
     ]
    },
    {
     "name": "stdout",
     "output_type": "stream",
     "text": [
      "Crawl comment page 1 success!!!\n",
      "Crawl comment for product 209890421\n",
      "Crawl comment page 0 success!!!\n"
     ]
    },
    {
     "name": "stderr",
     "output_type": "stream",
     "text": [
      " 41%|████████████████████████████████▍                                              | 820/2000 [18:58<21:54,  1.11s/it]"
     ]
    },
    {
     "name": "stdout",
     "output_type": "stream",
     "text": [
      "Crawl comment page 1 success!!!\n",
      "Crawl comment for product 198342231\n",
      "Crawl comment page 0 success!!!\n"
     ]
    },
    {
     "name": "stderr",
     "output_type": "stream",
     "text": [
      " 41%|████████████████████████████████▍                                              | 821/2000 [19:00<26:43,  1.36s/it]"
     ]
    },
    {
     "name": "stdout",
     "output_type": "stream",
     "text": [
      "Crawl comment page 1 success!!!\n",
      "Crawl comment for product 190857208\n",
      "Crawl comment page 0 success!!!\n"
     ]
    },
    {
     "name": "stderr",
     "output_type": "stream",
     "text": [
      " 41%|████████████████████████████████▌                                              | 823/2000 [19:02<20:08,  1.03s/it]"
     ]
    },
    {
     "name": "stdout",
     "output_type": "stream",
     "text": [
      "Crawl comment page 1 success!!!\n",
      "Crawl comment for product 188660615\n",
      "Crawl comment page 0 success!!!\n",
      "Crawl comment page 1 success!!!\n",
      "Crawl comment for product 186876107\n",
      "Crawl comment page 0 success!!!\n"
     ]
    },
    {
     "name": "stderr",
     "output_type": "stream",
     "text": [
      " 41%|████████████████████████████████▌                                              | 824/2000 [19:03<23:16,  1.19s/it]"
     ]
    },
    {
     "name": "stdout",
     "output_type": "stream",
     "text": [
      "Crawl comment page 1 success!!!\n",
      "Crawl comment for product 173137642\n",
      "Crawl comment page 0 success!!!\n"
     ]
    },
    {
     "name": "stderr",
     "output_type": "stream",
     "text": [
      " 41%|████████████████████████████████▌                                              | 825/2000 [19:04<22:02,  1.13s/it]"
     ]
    },
    {
     "name": "stdout",
     "output_type": "stream",
     "text": [
      "Crawl comment page 1 success!!!\n",
      "Crawl comment for product 160269418\n",
      "Crawl comment page 0 success!!!\n"
     ]
    },
    {
     "name": "stderr",
     "output_type": "stream",
     "text": [
      " 41%|████████████████████████████████▋                                              | 826/2000 [19:07<30:21,  1.55s/it]"
     ]
    },
    {
     "name": "stdout",
     "output_type": "stream",
     "text": [
      "Crawl comment page 1 success!!!\n",
      "Crawl comment for product 155049261\n",
      "Crawl comment page 0 success!!!\n"
     ]
    },
    {
     "name": "stderr",
     "output_type": "stream",
     "text": [
      " 41%|████████████████████████████████▋                                              | 827/2000 [19:08<29:25,  1.51s/it]"
     ]
    },
    {
     "name": "stdout",
     "output_type": "stream",
     "text": [
      "Crawl comment page 1 success!!!\n",
      "Crawl comment for product 115873770\n",
      "Crawl comment page 0 success!!!\n"
     ]
    },
    {
     "name": "stderr",
     "output_type": "stream",
     "text": [
      " 41%|████████████████████████████████▋                                              | 828/2000 [19:12<40:37,  2.08s/it]"
     ]
    },
    {
     "name": "stdout",
     "output_type": "stream",
     "text": [
      "Crawl comment page 1 success!!!\n",
      "Crawl comment for product 96031639\n",
      "Crawl comment page 0 success!!!\n"
     ]
    },
    {
     "name": "stderr",
     "output_type": "stream",
     "text": [
      " 41%|████████████████████████████████▋                                              | 829/2000 [19:13<34:04,  1.75s/it]"
     ]
    },
    {
     "name": "stdout",
     "output_type": "stream",
     "text": [
      "Crawl comment page 1 success!!!\n",
      "Crawl comment for product 92010765\n",
      "Crawl comment page 0 success!!!\n"
     ]
    },
    {
     "name": "stderr",
     "output_type": "stream",
     "text": [
      " 42%|████████████████████████████████▊                                              | 830/2000 [19:14<30:38,  1.57s/it]"
     ]
    },
    {
     "name": "stdout",
     "output_type": "stream",
     "text": [
      "Crawl comment page 1 success!!!\n",
      "Crawl comment for product 74853352\n",
      "Crawl comment page 0 success!!!\n"
     ]
    },
    {
     "name": "stderr",
     "output_type": "stream",
     "text": [
      " 42%|████████████████████████████████▊                                              | 831/2000 [19:15<27:57,  1.44s/it]"
     ]
    },
    {
     "name": "stdout",
     "output_type": "stream",
     "text": [
      "Crawl comment page 1 success!!!\n",
      "Crawl comment for product 57893346\n",
      "Crawl comment page 0 success!!!\n"
     ]
    },
    {
     "name": "stderr",
     "output_type": "stream",
     "text": [
      " 42%|████████████████████████████████▊                                              | 832/2000 [19:16<25:32,  1.31s/it]"
     ]
    },
    {
     "name": "stdout",
     "output_type": "stream",
     "text": [
      "Crawl comment page 1 success!!!\n",
      "Crawl comment for product 41258325\n",
      "Crawl comment page 0 success!!!\n"
     ]
    },
    {
     "name": "stderr",
     "output_type": "stream",
     "text": [
      " 42%|████████████████████████████████▉                                              | 833/2000 [19:18<30:07,  1.55s/it]"
     ]
    },
    {
     "name": "stdout",
     "output_type": "stream",
     "text": [
      "Crawl comment page 1 success!!!\n",
      "Crawl comment for product 10767515\n",
      "Crawl comment page 0 success!!!\n"
     ]
    },
    {
     "name": "stderr",
     "output_type": "stream",
     "text": [
      " 42%|████████████████████████████████▉                                              | 834/2000 [19:20<29:06,  1.50s/it]"
     ]
    },
    {
     "name": "stdout",
     "output_type": "stream",
     "text": [
      "Crawl comment page 1 success!!!\n",
      "Crawl comment for product 10724112\n",
      "Crawl comment page 0 success!!!\n"
     ]
    },
    {
     "name": "stderr",
     "output_type": "stream",
     "text": [
      " 42%|████████████████████████████████▉                                              | 835/2000 [19:21<29:07,  1.50s/it]"
     ]
    },
    {
     "name": "stdout",
     "output_type": "stream",
     "text": [
      "Crawl comment page 1 success!!!\n",
      "Crawl comment for product 2644375\n",
      "Crawl comment page 0 success!!!\n"
     ]
    },
    {
     "name": "stderr",
     "output_type": "stream",
     "text": [
      " 42%|█████████████████████████████████                                              | 836/2000 [19:22<25:44,  1.33s/it]"
     ]
    },
    {
     "name": "stdout",
     "output_type": "stream",
     "text": [
      "Crawl comment page 1 success!!!\n",
      "Crawl comment for product 543365\n",
      "Crawl comment page 0 success!!!\n"
     ]
    },
    {
     "name": "stderr",
     "output_type": "stream",
     "text": [
      " 42%|█████████████████████████████████                                              | 837/2000 [19:23<24:27,  1.26s/it]"
     ]
    },
    {
     "name": "stdout",
     "output_type": "stream",
     "text": [
      "Crawl comment page 1 success!!!\n",
      "Crawl comment for product 474256\n",
      "Crawl comment page 0 success!!!\n"
     ]
    },
    {
     "name": "stderr",
     "output_type": "stream",
     "text": [
      " 42%|█████████████████████████████████                                              | 838/2000 [19:24<20:48,  1.07s/it]"
     ]
    },
    {
     "name": "stdout",
     "output_type": "stream",
     "text": [
      "Crawl comment page 1 success!!!\n",
      "Crawl comment for product 418262\n",
      "Crawl comment page 0 success!!!\n"
     ]
    },
    {
     "name": "stderr",
     "output_type": "stream",
     "text": [
      " 42%|█████████████████████████████████▏                                             | 839/2000 [19:24<16:24,  1.18it/s]"
     ]
    },
    {
     "name": "stdout",
     "output_type": "stream",
     "text": [
      "Crawl comment page 1 success!!!\n",
      "Crawl comment for product 347334\n",
      "Crawl comment page 0 success!!!\n"
     ]
    },
    {
     "name": "stderr",
     "output_type": "stream",
     "text": [
      " 42%|█████████████████████████████████▏                                             | 841/2000 [19:27<18:48,  1.03it/s]"
     ]
    },
    {
     "name": "stdout",
     "output_type": "stream",
     "text": [
      "Crawl comment page 1 success!!!\n",
      "Crawl comment for product 278091227\n",
      "Crawl comment page 0 success!!!\n",
      "Crawl comment page 1 success!!!\n",
      "Crawl comment for product 278070226\n",
      "Crawl comment page 0 success!!!\n"
     ]
    },
    {
     "name": "stderr",
     "output_type": "stream",
     "text": [
      " 42%|█████████████████████████████████▎                                             | 842/2000 [19:27<14:13,  1.36it/s]"
     ]
    },
    {
     "name": "stdout",
     "output_type": "stream",
     "text": [
      "Crawl comment page 1 success!!!\n",
      "Crawl comment for product 278064417\n",
      "Crawl comment page 0 success!!!\n"
     ]
    },
    {
     "name": "stderr",
     "output_type": "stream",
     "text": [
      " 42%|█████████████████████████████████▎                                             | 844/2000 [19:27<08:29,  2.27it/s]"
     ]
    },
    {
     "name": "stdout",
     "output_type": "stream",
     "text": [
      "Crawl comment page 1 success!!!\n",
      "Crawl comment for product 277416054\n",
      "Crawl comment page 0 success!!!\n",
      "Crawl comment page 1 success!!!\n",
      "Crawl comment for product 276640797\n",
      "Crawl comment page 0 success!!!\n"
     ]
    },
    {
     "name": "stderr",
     "output_type": "stream",
     "text": [
      " 42%|█████████████████████████████████▍                                             | 846/2000 [19:30<18:01,  1.07it/s]"
     ]
    },
    {
     "name": "stdout",
     "output_type": "stream",
     "text": [
      "Crawl comment page 1 success!!!\n",
      "Crawl comment for product 276590231\n",
      "Crawl comment page 0 success!!!\n",
      "Crawl comment page 1 success!!!\n",
      "Crawl comment for product 276499292\n",
      "Crawl comment page 0 success!!!\n"
     ]
    },
    {
     "name": "stderr",
     "output_type": "stream",
     "text": [
      " 42%|█████████████████████████████████▍                                             | 848/2000 [19:31<10:28,  1.83it/s]"
     ]
    },
    {
     "name": "stdout",
     "output_type": "stream",
     "text": [
      "Crawl comment page 1 success!!!\n",
      "Crawl comment for product 276428131\n",
      "Crawl comment page 0 success!!!\n",
      "Crawl comment page 1 success!!!\n",
      "Crawl comment for product 276259739\n",
      "Crawl comment page 0 success!!!\n"
     ]
    },
    {
     "name": "stderr",
     "output_type": "stream",
     "text": [
      " 42%|█████████████████████████████████▌                                             | 849/2000 [19:31<07:57,  2.41it/s]"
     ]
    },
    {
     "name": "stdout",
     "output_type": "stream",
     "text": [
      "Crawl comment page 1 success!!!\n",
      "Crawl comment for product 275406592\n",
      "Crawl comment page 0 success!!!\n"
     ]
    },
    {
     "name": "stderr",
     "output_type": "stream",
     "text": [
      " 43%|█████████████████████████████████▌                                             | 851/2000 [19:32<07:14,  2.64it/s]"
     ]
    },
    {
     "name": "stdout",
     "output_type": "stream",
     "text": [
      "Crawl comment page 1 success!!!\n",
      "Crawl comment for product 274952022\n",
      "Crawl comment page 0 success!!!\n",
      "Crawl comment page 1 success!!!\n",
      "Crawl comment for product 274587862\n",
      "Crawl comment page 0 success!!!\n"
     ]
    },
    {
     "name": "stderr",
     "output_type": "stream",
     "text": [
      " 43%|█████████████████████████████████▋                                             | 852/2000 [19:32<05:40,  3.38it/s]"
     ]
    },
    {
     "name": "stdout",
     "output_type": "stream",
     "text": [
      "Crawl comment page 1 success!!!\n",
      "Crawl comment for product 274086086\n",
      "Crawl comment page 0 success!!!\n"
     ]
    },
    {
     "name": "stderr",
     "output_type": "stream",
     "text": [
      " 43%|█████████████████████████████████▋                                             | 854/2000 [19:33<06:59,  2.73it/s]"
     ]
    },
    {
     "name": "stdout",
     "output_type": "stream",
     "text": [
      "Crawl comment page 1 success!!!\n",
      "Crawl comment for product 273319068\n",
      "Crawl comment page 0 success!!!\n",
      "Crawl comment page 1 success!!!\n",
      "Crawl comment for product 271096625\n",
      "Crawl comment page 0 success!!!\n"
     ]
    },
    {
     "name": "stderr",
     "output_type": "stream",
     "text": [
      " 43%|█████████████████████████████████▊                                             | 856/2000 [19:34<08:53,  2.14it/s]"
     ]
    },
    {
     "name": "stdout",
     "output_type": "stream",
     "text": [
      "Crawl comment page 1 success!!!\n",
      "Crawl comment for product 265178018\n",
      "Crawl comment page 0 success!!!\n",
      "Crawl comment page 1 success!!!\n",
      "Crawl comment for product 262646247\n"
     ]
    },
    {
     "name": "stderr",
     "output_type": "stream",
     "text": [
      " 43%|█████████████████████████████████▊                                             | 857/2000 [19:34<07:18,  2.60it/s]"
     ]
    },
    {
     "name": "stdout",
     "output_type": "stream",
     "text": [
      "Crawl comment page 0 success!!!\n",
      "Crawl comment page 1 success!!!\n",
      "Crawl comment for product 246078356\n",
      "Crawl comment page 0 success!!!\n"
     ]
    },
    {
     "name": "stderr",
     "output_type": "stream",
     "text": [
      " 43%|█████████████████████████████████▉                                             | 858/2000 [19:37<22:35,  1.19s/it]"
     ]
    },
    {
     "name": "stdout",
     "output_type": "stream",
     "text": [
      "Crawl comment page 1 success!!!\n",
      "Crawl comment for product 213492162\n",
      "Crawl comment page 0 success!!!\n"
     ]
    },
    {
     "name": "stderr",
     "output_type": "stream",
     "text": [
      " 43%|█████████████████████████████████▉                                             | 859/2000 [19:39<22:39,  1.19s/it]"
     ]
    },
    {
     "name": "stdout",
     "output_type": "stream",
     "text": [
      "Crawl comment page 1 success!!!\n",
      "Crawl comment for product 207398346\n",
      "Crawl comment page 0 success!!!\n"
     ]
    },
    {
     "name": "stderr",
     "output_type": "stream",
     "text": [
      " 43%|█████████████████████████████████▉                                             | 860/2000 [19:39<17:14,  1.10it/s]"
     ]
    },
    {
     "name": "stdout",
     "output_type": "stream",
     "text": [
      "Crawl comment page 1 success!!!\n",
      "Crawl comment for product 203864192\n",
      "Crawl comment page 0 success!!!\n"
     ]
    },
    {
     "name": "stderr",
     "output_type": "stream",
     "text": [
      " 43%|██████████████████████████████████                                             | 862/2000 [19:39<11:01,  1.72it/s]"
     ]
    },
    {
     "name": "stdout",
     "output_type": "stream",
     "text": [
      "Crawl comment page 1 success!!!\n",
      "Crawl comment for product 202716191\n",
      "Crawl comment page 0 success!!!\n",
      "Crawl comment page 1 success!!!\n",
      "Crawl comment for product 176906742\n",
      "Crawl comment page 0 success!!!\n"
     ]
    },
    {
     "name": "stderr",
     "output_type": "stream",
     "text": [
      " 43%|██████████████████████████████████                                             | 863/2000 [19:40<11:41,  1.62it/s]"
     ]
    },
    {
     "name": "stdout",
     "output_type": "stream",
     "text": [
      "Crawl comment page 1 success!!!\n",
      "Crawl comment for product 150271511\n",
      "Crawl comment page 0 success!!!\n"
     ]
    },
    {
     "name": "stderr",
     "output_type": "stream",
     "text": [
      " 43%|██████████████████████████████████▏                                            | 865/2000 [19:41<09:26,  2.00it/s]"
     ]
    },
    {
     "name": "stdout",
     "output_type": "stream",
     "text": [
      "Crawl comment page 1 success!!!\n",
      "Crawl comment for product 128674833\n",
      "Crawl comment page 0 success!!!\n",
      "Crawl comment page 1 success!!!\n",
      "Crawl comment for product 109998507\n",
      "Crawl comment page 0 success!!!\n"
     ]
    },
    {
     "name": "stderr",
     "output_type": "stream",
     "text": [
      " 43%|██████████████████████████████████▏                                            | 866/2000 [19:41<08:36,  2.20it/s]"
     ]
    },
    {
     "name": "stdout",
     "output_type": "stream",
     "text": [
      "Crawl comment page 1 success!!!\n",
      "Crawl comment for product 98823252\n",
      "Crawl comment page 0 success!!!\n"
     ]
    },
    {
     "name": "stderr",
     "output_type": "stream",
     "text": [
      " 43%|██████████████████████████████████▏                                            | 867/2000 [19:42<10:23,  1.82it/s]"
     ]
    },
    {
     "name": "stdout",
     "output_type": "stream",
     "text": [
      "Crawl comment page 1 success!!!\n",
      "Crawl comment for product 47161849\n",
      "Crawl comment page 0 success!!!\n"
     ]
    },
    {
     "name": "stderr",
     "output_type": "stream",
     "text": [
      " 43%|██████████████████████████████████▎                                            | 868/2000 [19:44<15:30,  1.22it/s]"
     ]
    },
    {
     "name": "stdout",
     "output_type": "stream",
     "text": [
      "Crawl comment page 1 success!!!\n",
      "Crawl comment for product 32674752\n",
      "Crawl comment page 0 success!!!\n"
     ]
    },
    {
     "name": "stderr",
     "output_type": "stream",
     "text": [
      " 43%|██████████████████████████████████▎                                            | 869/2000 [19:45<16:21,  1.15it/s]"
     ]
    },
    {
     "name": "stdout",
     "output_type": "stream",
     "text": [
      "Crawl comment page 1 success!!!\n",
      "Crawl comment for product 19763805\n",
      "Crawl comment page 0 success!!!\n"
     ]
    },
    {
     "name": "stderr",
     "output_type": "stream",
     "text": [
      " 44%|██████████████████████████████████▎                                            | 870/2000 [19:45<14:05,  1.34it/s]"
     ]
    },
    {
     "name": "stdout",
     "output_type": "stream",
     "text": [
      "Crawl comment page 1 success!!!\n",
      "Crawl comment for product 8149365\n",
      "Crawl comment page 0 success!!!\n"
     ]
    },
    {
     "name": "stderr",
     "output_type": "stream",
     "text": [
      " 44%|██████████████████████████████████▍                                            | 871/2000 [19:46<13:56,  1.35it/s]"
     ]
    },
    {
     "name": "stdout",
     "output_type": "stream",
     "text": [
      "Crawl comment page 1 success!!!\n",
      "Crawl comment for product 3052703\n",
      "Crawl comment page 0 success!!!\n"
     ]
    },
    {
     "name": "stderr",
     "output_type": "stream",
     "text": [
      " 44%|██████████████████████████████████▍                                            | 872/2000 [19:47<15:22,  1.22it/s]"
     ]
    },
    {
     "name": "stdout",
     "output_type": "stream",
     "text": [
      "Crawl comment page 1 success!!!\n",
      "Crawl comment for product 1732951\n",
      "Crawl comment page 0 success!!!\n"
     ]
    },
    {
     "name": "stderr",
     "output_type": "stream",
     "text": [
      " 44%|██████████████████████████████████▍                                            | 873/2000 [19:48<19:34,  1.04s/it]"
     ]
    },
    {
     "name": "stdout",
     "output_type": "stream",
     "text": [
      "Crawl comment page 1 success!!!\n",
      "Crawl comment for product 980920\n",
      "Crawl comment page 0 success!!!\n"
     ]
    },
    {
     "name": "stderr",
     "output_type": "stream",
     "text": [
      " 44%|██████████████████████████████████▌                                            | 874/2000 [19:49<19:50,  1.06s/it]"
     ]
    },
    {
     "name": "stdout",
     "output_type": "stream",
     "text": [
      "Crawl comment page 1 success!!!\n",
      "Crawl comment for product 908594\n",
      "Crawl comment page 0 success!!!\n"
     ]
    },
    {
     "name": "stderr",
     "output_type": "stream",
     "text": [
      " 44%|██████████████████████████████████▌                                            | 875/2000 [19:50<19:24,  1.03s/it]"
     ]
    },
    {
     "name": "stdout",
     "output_type": "stream",
     "text": [
      "Crawl comment page 1 success!!!\n",
      "Crawl comment for product 442032\n",
      "Crawl comment page 0 success!!!\n"
     ]
    },
    {
     "name": "stderr",
     "output_type": "stream",
     "text": [
      " 44%|██████████████████████████████████▌                                            | 876/2000 [19:51<19:41,  1.05s/it]"
     ]
    },
    {
     "name": "stdout",
     "output_type": "stream",
     "text": [
      "Crawl comment page 1 success!!!\n",
      "Crawl comment for product 425120\n",
      "Crawl comment page 0 success!!!\n"
     ]
    },
    {
     "name": "stderr",
     "output_type": "stream",
     "text": [
      " 44%|██████████████████████████████████▋                                            | 877/2000 [19:53<19:40,  1.05s/it]"
     ]
    },
    {
     "name": "stdout",
     "output_type": "stream",
     "text": [
      "Crawl comment page 1 success!!!\n",
      "Crawl comment for product 418268\n",
      "Crawl comment page 0 success!!!\n"
     ]
    },
    {
     "name": "stderr",
     "output_type": "stream",
     "text": [
      " 44%|██████████████████████████████████▋                                            | 878/2000 [19:53<17:29,  1.07it/s]"
     ]
    },
    {
     "name": "stdout",
     "output_type": "stream",
     "text": [
      "Crawl comment page 1 success!!!\n",
      "Crawl comment for product 418263\n"
     ]
    },
    {
     "name": "stderr",
     "output_type": "stream",
     "text": [
      " 44%|██████████████████████████████████▋                                            | 879/2000 [19:54<14:37,  1.28it/s]"
     ]
    },
    {
     "name": "stdout",
     "output_type": "stream",
     "text": [
      "Crawl comment page 0 success!!!\n",
      "Crawl comment page 1 success!!!\n",
      "Crawl comment for product 418255\n",
      "Crawl comment page 0 success!!!\n"
     ]
    },
    {
     "name": "stderr",
     "output_type": "stream",
     "text": [
      " 44%|██████████████████████████████████▊                                            | 881/2000 [19:54<10:06,  1.85it/s]"
     ]
    },
    {
     "name": "stdout",
     "output_type": "stream",
     "text": [
      "Crawl comment page 1 success!!!\n",
      "Crawl comment for product 278129713\n",
      "Crawl comment page 0 success!!!\n",
      "Crawl comment page 1 success!!!\n",
      "Crawl comment for product 278058669\n",
      "Crawl comment page 0 success!!!\n"
     ]
    },
    {
     "name": "stderr",
     "output_type": "stream",
     "text": [
      " 44%|██████████████████████████████████▉                                            | 883/2000 [19:55<05:57,  3.13it/s]"
     ]
    },
    {
     "name": "stdout",
     "output_type": "stream",
     "text": [
      "Crawl comment page 1 success!!!\n",
      "Crawl comment for product 278038561\n",
      "Crawl comment page 0 success!!!\n",
      "Crawl comment page 1 success!!!\n",
      "Crawl comment for product 277920187\n",
      "Crawl comment page 0 success!!!\n"
     ]
    },
    {
     "name": "stderr",
     "output_type": "stream",
     "text": [
      " 44%|██████████████████████████████████▉                                            | 885/2000 [19:55<04:45,  3.90it/s]"
     ]
    },
    {
     "name": "stdout",
     "output_type": "stream",
     "text": [
      "Crawl comment page 1 success!!!\n",
      "Crawl comment for product 277521290\n",
      "Crawl comment page 0 success!!!\n",
      "Crawl comment page 1 success!!!\n",
      "Crawl comment for product 277447069\n"
     ]
    },
    {
     "name": "stderr",
     "output_type": "stream",
     "text": [
      " 44%|██████████████████████████████████▉                                            | 886/2000 [19:55<04:14,  4.37it/s]"
     ]
    },
    {
     "name": "stdout",
     "output_type": "stream",
     "text": [
      "Crawl comment page 0 success!!!\n",
      "Crawl comment page 1 success!!!\n",
      "Crawl comment for product 277043038\n",
      "Crawl comment page 0 success!!!\n"
     ]
    },
    {
     "name": "stderr",
     "output_type": "stream",
     "text": [
      " 44%|███████████████████████████████████                                            | 888/2000 [19:56<04:47,  3.87it/s]"
     ]
    },
    {
     "name": "stdout",
     "output_type": "stream",
     "text": [
      "Crawl comment page 1 success!!!\n",
      "Crawl comment for product 277041346\n",
      "Crawl comment page 0 success!!!\n",
      "Crawl comment page 1 success!!!\n",
      "Crawl comment for product 276688014\n",
      "Crawl comment page 0 success!!!\n"
     ]
    },
    {
     "name": "stderr",
     "output_type": "stream",
     "text": [
      " 44%|███████████████████████████████████▏                                           | 890/2000 [19:57<06:19,  2.93it/s]"
     ]
    },
    {
     "name": "stdout",
     "output_type": "stream",
     "text": [
      "Crawl comment page 1 success!!!\n",
      "Crawl comment for product 276426647\n",
      "Crawl comment page 0 success!!!\n",
      "Crawl comment page 1 success!!!\n",
      "Crawl comment for product 276390767\n",
      "Crawl comment page 0 success!!!\n"
     ]
    },
    {
     "name": "stderr",
     "output_type": "stream",
     "text": [
      " 45%|███████████████████████████████████▏                                           | 891/2000 [19:57<05:01,  3.68it/s]"
     ]
    },
    {
     "name": "stdout",
     "output_type": "stream",
     "text": [
      "Crawl comment page 1 success!!!\n",
      "Crawl comment for product 276139258\n",
      "Crawl comment page 0 success!!!\n"
     ]
    },
    {
     "name": "stderr",
     "output_type": "stream",
     "text": [
      " 45%|███████████████████████████████████▎                                           | 893/2000 [19:58<08:01,  2.30it/s]"
     ]
    },
    {
     "name": "stdout",
     "output_type": "stream",
     "text": [
      "Crawl comment page 1 success!!!\n",
      "Crawl comment for product 275007897\n",
      "Crawl comment page 0 success!!!\n",
      "Crawl comment page 1 success!!!\n",
      "Crawl comment for product 274988649\n"
     ]
    },
    {
     "name": "stderr",
     "output_type": "stream",
     "text": [
      " 45%|███████████████████████████████████▎                                           | 894/2000 [19:58<06:14,  2.95it/s]"
     ]
    },
    {
     "name": "stdout",
     "output_type": "stream",
     "text": [
      "Crawl comment page 0 success!!!\n",
      "Crawl comment page 1 success!!!\n",
      "Crawl comment for product 274926108\n",
      "Crawl comment page 0 success!!!\n"
     ]
    },
    {
     "name": "stderr",
     "output_type": "stream",
     "text": [
      " 45%|███████████████████████████████████▎                                           | 895/2000 [19:59<06:48,  2.70it/s]"
     ]
    },
    {
     "name": "stdout",
     "output_type": "stream",
     "text": [
      "Crawl comment page 1 success!!!\n",
      "Crawl comment for product 273934486\n",
      "Crawl comment page 0 success!!!\n"
     ]
    },
    {
     "name": "stderr",
     "output_type": "stream",
     "text": [
      " 45%|███████████████████████████████████▍                                           | 896/2000 [19:59<06:12,  2.96it/s]"
     ]
    },
    {
     "name": "stdout",
     "output_type": "stream",
     "text": [
      "Crawl comment page 1 success!!!\n",
      "Crawl comment for product 273574443\n",
      "Crawl comment page 0 success!!!\n"
     ]
    },
    {
     "name": "stderr",
     "output_type": "stream",
     "text": [
      " 45%|███████████████████████████████████▍                                           | 898/2000 [20:01<10:05,  1.82it/s]"
     ]
    },
    {
     "name": "stdout",
     "output_type": "stream",
     "text": [
      "Crawl comment page 1 success!!!\n",
      "Crawl comment for product 273174385\n",
      "Crawl comment page 0 success!!!\n",
      "Crawl comment page 1 success!!!\n",
      "Crawl comment for product 272852827\n"
     ]
    },
    {
     "name": "stderr",
     "output_type": "stream",
     "text": [
      " 45%|███████████████████████████████████▌                                           | 899/2000 [20:01<09:22,  1.96it/s]"
     ]
    },
    {
     "name": "stdout",
     "output_type": "stream",
     "text": [
      "Crawl comment page 0 success!!!\n",
      "Crawl comment page 1 success!!!\n",
      "Crawl comment for product 272478421\n",
      "Crawl comment page 0 success!!!\n"
     ]
    },
    {
     "name": "stderr",
     "output_type": "stream",
     "text": [
      " 45%|███████████████████████████████████▌                                           | 900/2000 [20:02<08:57,  2.05it/s]"
     ]
    },
    {
     "name": "stdout",
     "output_type": "stream",
     "text": [
      "Crawl comment page 1 success!!!\n",
      "Crawl comment for product 270917402\n"
     ]
    },
    {
     "name": "stderr",
     "output_type": "stream",
     "text": [
      " 45%|███████████████████████████████████▌                                           | 901/2000 [20:02<08:31,  2.15it/s]"
     ]
    },
    {
     "name": "stdout",
     "output_type": "stream",
     "text": [
      "Crawl comment page 0 success!!!\n",
      "Crawl comment page 1 success!!!\n",
      "Crawl comment for product 248723252\n"
     ]
    },
    {
     "name": "stderr",
     "output_type": "stream",
     "text": [
      " 45%|███████████████████████████████████▋                                           | 902/2000 [20:02<06:31,  2.80it/s]"
     ]
    },
    {
     "name": "stdout",
     "output_type": "stream",
     "text": [
      "Crawl comment page 0 success!!!\n",
      "Crawl comment page 1 success!!!\n",
      "Crawl comment for product 215152344\n",
      "Crawl comment page 0 success!!!\n"
     ]
    },
    {
     "name": "stderr",
     "output_type": "stream",
     "text": [
      " 45%|███████████████████████████████████▋                                           | 903/2000 [20:02<05:51,  3.12it/s]"
     ]
    },
    {
     "name": "stdout",
     "output_type": "stream",
     "text": [
      "Crawl comment page 1 success!!!\n",
      "Crawl comment for product 192048661\n",
      "Crawl comment page 0 success!!!\n"
     ]
    },
    {
     "name": "stderr",
     "output_type": "stream",
     "text": [
      " 45%|███████████████████████████████████▋                                           | 905/2000 [20:04<08:14,  2.21it/s]"
     ]
    },
    {
     "name": "stdout",
     "output_type": "stream",
     "text": [
      "Crawl comment page 1 success!!!\n",
      "Crawl comment for product 181914529\n",
      "Crawl comment page 0 success!!!\n",
      "Crawl comment page 1 success!!!\n",
      "Crawl comment for product 180723626\n"
     ]
    },
    {
     "name": "stderr",
     "output_type": "stream",
     "text": [
      " 45%|███████████████████████████████████▊                                           | 907/2000 [20:04<05:03,  3.61it/s]"
     ]
    },
    {
     "name": "stdout",
     "output_type": "stream",
     "text": [
      "Crawl comment page 0 success!!!\n",
      "Crawl comment page 1 success!!!\n",
      "Crawl comment for product 170831108\n",
      "Crawl comment page 0 success!!!\n",
      "Crawl comment page 1 success!!!\n",
      "Crawl comment for product 147761080\n",
      "Crawl comment page 0 success!!!\n"
     ]
    },
    {
     "name": "stderr",
     "output_type": "stream",
     "text": [
      " 45%|███████████████████████████████████▊                                           | 908/2000 [20:05<08:33,  2.13it/s]"
     ]
    },
    {
     "name": "stdout",
     "output_type": "stream",
     "text": [
      "Crawl comment page 1 success!!!\n",
      "Crawl comment for product 145371819\n",
      "Crawl comment page 0 success!!!\n"
     ]
    },
    {
     "name": "stderr",
     "output_type": "stream",
     "text": [
      " 46%|███████████████████████████████████▉                                           | 910/2000 [20:06<08:39,  2.10it/s]"
     ]
    },
    {
     "name": "stdout",
     "output_type": "stream",
     "text": [
      "Crawl comment page 1 success!!!\n",
      "Crawl comment for product 136057278\n",
      "Crawl comment page 0 success!!!\n",
      "Crawl comment page 1 success!!!\n",
      "Crawl comment for product 112538327\n",
      "Crawl comment page 0 success!!!\n"
     ]
    },
    {
     "name": "stderr",
     "output_type": "stream",
     "text": [
      " 46%|███████████████████████████████████▉                                           | 911/2000 [20:07<09:55,  1.83it/s]"
     ]
    },
    {
     "name": "stdout",
     "output_type": "stream",
     "text": [
      "Crawl comment page 1 success!!!\n",
      "Crawl comment for product 103824619\n",
      "Crawl comment page 0 success!!!\n"
     ]
    },
    {
     "name": "stderr",
     "output_type": "stream",
     "text": [
      " 46%|████████████████████████████████████                                           | 912/2000 [20:07<10:28,  1.73it/s]"
     ]
    },
    {
     "name": "stdout",
     "output_type": "stream",
     "text": [
      "Crawl comment page 1 success!!!\n",
      "Crawl comment for product 94161548\n",
      "Crawl comment page 0 success!!!\n"
     ]
    },
    {
     "name": "stderr",
     "output_type": "stream",
     "text": [
      " 46%|████████████████████████████████████                                           | 913/2000 [20:08<11:19,  1.60it/s]"
     ]
    },
    {
     "name": "stdout",
     "output_type": "stream",
     "text": [
      "Crawl comment page 1 success!!!\n",
      "Crawl comment for product 60863035\n",
      "Crawl comment page 0 success!!!\n"
     ]
    },
    {
     "name": "stderr",
     "output_type": "stream",
     "text": [
      " 46%|████████████████████████████████████                                           | 914/2000 [20:09<11:56,  1.52it/s]"
     ]
    },
    {
     "name": "stdout",
     "output_type": "stream",
     "text": [
      "Crawl comment page 1 success!!!\n",
      "Crawl comment for product 59258217\n",
      "Crawl comment page 0 success!!!\n"
     ]
    },
    {
     "name": "stderr",
     "output_type": "stream",
     "text": [
      " 46%|████████████████████████████████████▏                                          | 915/2000 [20:10<16:19,  1.11it/s]"
     ]
    },
    {
     "name": "stdout",
     "output_type": "stream",
     "text": [
      "Crawl comment page 1 success!!!\n",
      "Crawl comment for product 23619302\n",
      "Crawl comment page 0 success!!!\n"
     ]
    },
    {
     "name": "stderr",
     "output_type": "stream",
     "text": [
      " 46%|████████████████████████████████████▏                                          | 916/2000 [20:12<20:06,  1.11s/it]"
     ]
    },
    {
     "name": "stdout",
     "output_type": "stream",
     "text": [
      "Crawl comment page 1 success!!!\n",
      "Crawl comment for product 10866305\n",
      "Crawl comment page 0 success!!!\n"
     ]
    },
    {
     "name": "stderr",
     "output_type": "stream",
     "text": [
      " 46%|████████████████████████████████████▏                                          | 917/2000 [20:14<24:11,  1.34s/it]"
     ]
    },
    {
     "name": "stdout",
     "output_type": "stream",
     "text": [
      "Crawl comment page 1 success!!!\n",
      "Crawl comment for product 3953475\n",
      "Crawl comment page 0 success!!!\n"
     ]
    },
    {
     "name": "stderr",
     "output_type": "stream",
     "text": [
      " 46%|████████████████████████████████████▎                                          | 918/2000 [20:15<25:55,  1.44s/it]"
     ]
    },
    {
     "name": "stdout",
     "output_type": "stream",
     "text": [
      "Crawl comment page 1 success!!!\n",
      "Crawl comment for product 3492351\n",
      "Crawl comment page 0 success!!!\n"
     ]
    },
    {
     "name": "stderr",
     "output_type": "stream",
     "text": [
      " 46%|████████████████████████████████████▎                                          | 919/2000 [20:16<23:25,  1.30s/it]"
     ]
    },
    {
     "name": "stdout",
     "output_type": "stream",
     "text": [
      "Crawl comment page 1 success!!!\n",
      "Crawl comment for product 573716\n",
      "Crawl comment page 0 success!!!\n"
     ]
    },
    {
     "name": "stderr",
     "output_type": "stream",
     "text": [
      " 46%|████████████████████████████████████▎                                          | 920/2000 [20:18<22:43,  1.26s/it]"
     ]
    },
    {
     "name": "stdout",
     "output_type": "stream",
     "text": [
      "Crawl comment page 1 success!!!\n",
      "Crawl comment for product 278100473\n",
      "Crawl comment page 0 success!!!\n"
     ]
    },
    {
     "name": "stderr",
     "output_type": "stream",
     "text": [
      " 46%|████████████████████████████████████▍                                          | 923/2000 [20:18<09:44,  1.84it/s]"
     ]
    },
    {
     "name": "stdout",
     "output_type": "stream",
     "text": [
      "Crawl comment page 1 success!!!\n",
      "Crawl comment for product 278071294\n",
      "Crawl comment page 0 success!!!\n",
      "Crawl comment page 1 success!!!\n",
      "Crawl comment for product 277980808\n",
      "Crawl comment page 0 success!!!\n",
      "Crawl comment page 1 success!!!\n",
      "Crawl comment for product 277973729\n"
     ]
    },
    {
     "name": "stderr",
     "output_type": "stream",
     "text": [
      " 46%|████████████████████████████████████▍                                          | 924/2000 [20:18<07:23,  2.43it/s]"
     ]
    },
    {
     "name": "stdout",
     "output_type": "stream",
     "text": [
      "Crawl comment page 0 success!!!\n",
      "Crawl comment page 1 success!!!\n",
      "Crawl comment for product 277526032\n",
      "Crawl comment page 0 success!!!\n",
      "Crawl comment page 1 success!!!\n",
      "Crawl comment for product 277276195\n",
      "Crawl comment page 0 success!!!\n"
     ]
    },
    {
     "name": "stderr",
     "output_type": "stream",
     "text": [
      " 46%|████████████████████████████████████▌                                          | 927/2000 [20:19<04:07,  4.33it/s]"
     ]
    },
    {
     "name": "stdout",
     "output_type": "stream",
     "text": [
      "Crawl comment page 1 success!!!\n",
      "Crawl comment for product 277267320\n",
      "Crawl comment page 0 success!!!\n",
      "Crawl comment page 1 success!!!\n",
      "Crawl comment for product 276608338\n",
      "Crawl comment page 0 success!!!\n"
     ]
    },
    {
     "name": "stderr",
     "output_type": "stream",
     "text": [
      " 46%|████████████████████████████████████▋                                          | 929/2000 [20:21<10:32,  1.69it/s]"
     ]
    },
    {
     "name": "stdout",
     "output_type": "stream",
     "text": [
      "Crawl comment page 1 success!!!\n",
      "Crawl comment for product 276559317\n",
      "Crawl comment page 0 success!!!\n",
      "Crawl comment page 1 success!!!\n",
      "Crawl comment for product 276292815\n",
      "Crawl comment page 0 success!!!\n"
     ]
    },
    {
     "name": "stderr",
     "output_type": "stream",
     "text": [
      " 47%|████████████████████████████████████▊                                          | 931/2000 [20:21<06:20,  2.81it/s]"
     ]
    },
    {
     "name": "stdout",
     "output_type": "stream",
     "text": [
      "Crawl comment page 1 success!!!\n",
      "Crawl comment for product 276291672\n",
      "Crawl comment page 0 success!!!\n",
      "Crawl comment page 1 success!!!\n",
      "Crawl comment for product 276117131\n",
      "Crawl comment page 0 success!!!\n"
     ]
    },
    {
     "name": "stderr",
     "output_type": "stream",
     "text": [
      " 47%|████████████████████████████████████▊                                          | 932/2000 [20:21<05:03,  3.52it/s]"
     ]
    },
    {
     "name": "stdout",
     "output_type": "stream",
     "text": [
      "Crawl comment page 1 success!!!\n",
      "Crawl comment for product 276032136\n",
      "Crawl comment page 0 success!!!\n"
     ]
    },
    {
     "name": "stderr",
     "output_type": "stream",
     "text": [
      " 47%|████████████████████████████████████▊                                          | 933/2000 [20:22<07:45,  2.29it/s]"
     ]
    },
    {
     "name": "stdout",
     "output_type": "stream",
     "text": [
      "Crawl comment page 1 success!!!\n",
      "Crawl comment for product 275611538\n",
      "Crawl comment page 0 success!!!\n"
     ]
    },
    {
     "name": "stderr",
     "output_type": "stream",
     "text": [
      " 47%|████████████████████████████████████▉                                          | 934/2000 [20:23<11:02,  1.61it/s]"
     ]
    },
    {
     "name": "stdout",
     "output_type": "stream",
     "text": [
      "Crawl comment page 1 success!!!\n",
      "Crawl comment for product 275426042\n",
      "Crawl comment page 0 success!!!\n"
     ]
    },
    {
     "name": "stderr",
     "output_type": "stream",
     "text": [
      " 47%|████████████████████████████████████▉                                          | 936/2000 [20:24<06:55,  2.56it/s]"
     ]
    },
    {
     "name": "stdout",
     "output_type": "stream",
     "text": [
      "Crawl comment page 1 success!!!\n",
      "Crawl comment for product 274920105\n",
      "Crawl comment page 0 success!!!\n",
      "Crawl comment page 1 success!!!\n",
      "Crawl comment for product 274870708\n"
     ]
    },
    {
     "name": "stderr",
     "output_type": "stream",
     "text": [
      " 47%|█████████████████████████████████████                                          | 937/2000 [20:24<07:03,  2.51it/s]"
     ]
    },
    {
     "name": "stdout",
     "output_type": "stream",
     "text": [
      "Crawl comment page 0 success!!!\n",
      "Crawl comment page 1 success!!!\n",
      "Crawl comment for product 274865272\n"
     ]
    },
    {
     "name": "stderr",
     "output_type": "stream",
     "text": [
      " 47%|█████████████████████████████████████                                          | 938/2000 [20:24<06:43,  2.63it/s]"
     ]
    },
    {
     "name": "stdout",
     "output_type": "stream",
     "text": [
      "Crawl comment page 0 success!!!\n",
      "Crawl comment page 1 success!!!\n",
      "Crawl comment for product 274142220\n"
     ]
    },
    {
     "name": "stderr",
     "output_type": "stream",
     "text": [
      " 47%|█████████████████████████████████████                                          | 939/2000 [20:24<05:41,  3.11it/s]"
     ]
    },
    {
     "name": "stdout",
     "output_type": "stream",
     "text": [
      "Crawl comment page 0 success!!!\n",
      "Crawl comment page 1 success!!!\n",
      "Crawl comment for product 273691878\n",
      "Crawl comment page 0 success!!!\n"
     ]
    },
    {
     "name": "stderr",
     "output_type": "stream",
     "text": [
      " 47%|█████████████████████████████████████▏                                         | 941/2000 [20:27<13:16,  1.33it/s]"
     ]
    },
    {
     "name": "stdout",
     "output_type": "stream",
     "text": [
      "Crawl comment page 1 success!!!\n",
      "Crawl comment for product 273376420\n",
      "Crawl comment page 0 success!!!\n",
      "Crawl comment page 1 success!!!\n",
      "Crawl comment for product 272337989\n",
      "Crawl comment page 0 success!!!\n"
     ]
    },
    {
     "name": "stderr",
     "output_type": "stream",
     "text": [
      " 47%|█████████████████████████████████████▏                                         | 943/2000 [20:28<09:30,  1.85it/s]"
     ]
    },
    {
     "name": "stdout",
     "output_type": "stream",
     "text": [
      "Crawl comment page 1 success!!!\n",
      "Crawl comment for product 271517639\n",
      "Crawl comment page 0 success!!!\n",
      "Crawl comment page 1 success!!!\n",
      "Crawl comment for product 270453684\n"
     ]
    },
    {
     "name": "stderr",
     "output_type": "stream",
     "text": [
      " 47%|█████████████████████████████████████▎                                         | 944/2000 [20:28<07:31,  2.34it/s]"
     ]
    },
    {
     "name": "stdout",
     "output_type": "stream",
     "text": [
      "Crawl comment page 0 success!!!\n",
      "Crawl comment page 1 success!!!\n",
      "Crawl comment for product 270442402\n",
      "Crawl comment page 0 success!!!\n"
     ]
    },
    {
     "name": "stderr",
     "output_type": "stream",
     "text": [
      " 47%|█████████████████████████████████████▎                                         | 946/2000 [20:29<06:42,  2.62it/s]"
     ]
    },
    {
     "name": "stdout",
     "output_type": "stream",
     "text": [
      "Crawl comment page 1 success!!!\n",
      "Crawl comment for product 260815284\n",
      "Crawl comment page 0 success!!!\n",
      "Crawl comment page 1 success!!!\n",
      "Crawl comment for product 222659457\n"
     ]
    },
    {
     "name": "stderr",
     "output_type": "stream",
     "text": [
      " 47%|█████████████████████████████████████▍                                         | 947/2000 [20:29<05:35,  3.14it/s]"
     ]
    },
    {
     "name": "stdout",
     "output_type": "stream",
     "text": [
      "Crawl comment page 0 success!!!\n",
      "Crawl comment page 1 success!!!\n",
      "Crawl comment for product 217476817\n",
      "Crawl comment page 0 success!!!\n"
     ]
    },
    {
     "name": "stderr",
     "output_type": "stream",
     "text": [
      " 47%|█████████████████████████████████████▍                                         | 948/2000 [20:32<16:36,  1.06it/s]"
     ]
    },
    {
     "name": "stdout",
     "output_type": "stream",
     "text": [
      "Crawl comment page 1 success!!!\n",
      "Crawl comment for product 207933170\n",
      "Crawl comment page 0 success!!!\n"
     ]
    },
    {
     "name": "stderr",
     "output_type": "stream",
     "text": [
      " 48%|█████████████████████████████████████▌                                         | 950/2000 [20:32<11:17,  1.55it/s]"
     ]
    },
    {
     "name": "stdout",
     "output_type": "stream",
     "text": [
      "Crawl comment page 1 success!!!\n",
      "Crawl comment for product 205610621\n",
      "Crawl comment page 0 success!!!\n",
      "Crawl comment page 1 success!!!\n",
      "Crawl comment for product 186880673\n"
     ]
    },
    {
     "name": "stderr",
     "output_type": "stream",
     "text": [
      " 48%|█████████████████████████████████████▌                                         | 951/2000 [20:33<09:56,  1.76it/s]"
     ]
    },
    {
     "name": "stdout",
     "output_type": "stream",
     "text": [
      "Crawl comment page 0 success!!!\n",
      "Crawl comment page 1 success!!!\n",
      "Crawl comment for product 176903049\n"
     ]
    },
    {
     "name": "stderr",
     "output_type": "stream",
     "text": [
      " 48%|█████████████████████████████████████▌                                         | 952/2000 [20:33<08:02,  2.17it/s]"
     ]
    },
    {
     "name": "stdout",
     "output_type": "stream",
     "text": [
      "Crawl comment page 0 success!!!\n",
      "Crawl comment page 1 success!!!\n",
      "Crawl comment for product 117202674\n"
     ]
    },
    {
     "name": "stderr",
     "output_type": "stream",
     "text": [
      " 48%|█████████████████████████████████████▋                                         | 953/2000 [20:33<06:48,  2.56it/s]"
     ]
    },
    {
     "name": "stdout",
     "output_type": "stream",
     "text": [
      "Crawl comment page 0 success!!!\n",
      "Crawl comment page 1 success!!!\n",
      "Crawl comment for product 85350809\n",
      "Crawl comment page 0 success!!!\n"
     ]
    },
    {
     "name": "stderr",
     "output_type": "stream",
     "text": [
      " 48%|█████████████████████████████████████▋                                         | 954/2000 [20:34<08:30,  2.05it/s]"
     ]
    },
    {
     "name": "stdout",
     "output_type": "stream",
     "text": [
      "Crawl comment page 1 success!!!\n",
      "Crawl comment for product 50764229\n",
      "Crawl comment page 0 success!!!\n"
     ]
    },
    {
     "name": "stderr",
     "output_type": "stream",
     "text": [
      " 48%|█████████████████████████████████████▋                                         | 955/2000 [20:35<10:58,  1.59it/s]"
     ]
    },
    {
     "name": "stdout",
     "output_type": "stream",
     "text": [
      "Crawl comment page 1 success!!!\n",
      "Crawl comment for product 41549132\n",
      "Crawl comment page 0 success!!!\n"
     ]
    },
    {
     "name": "stderr",
     "output_type": "stream",
     "text": [
      " 48%|█████████████████████████████████████▊                                         | 956/2000 [20:36<15:12,  1.14it/s]"
     ]
    },
    {
     "name": "stdout",
     "output_type": "stream",
     "text": [
      "Crawl comment page 1 success!!!\n",
      "Crawl comment for product 29830672\n",
      "Crawl comment page 0 success!!!\n"
     ]
    },
    {
     "name": "stderr",
     "output_type": "stream",
     "text": [
      " 48%|█████████████████████████████████████▊                                         | 957/2000 [20:37<16:55,  1.03it/s]"
     ]
    },
    {
     "name": "stdout",
     "output_type": "stream",
     "text": [
      "Crawl comment page 1 success!!!\n",
      "Crawl comment for product 543206\n",
      "Crawl comment page 0 success!!!\n"
     ]
    },
    {
     "name": "stderr",
     "output_type": "stream",
     "text": [
      " 48%|█████████████████████████████████████▊                                         | 958/2000 [20:38<16:54,  1.03it/s]"
     ]
    },
    {
     "name": "stdout",
     "output_type": "stream",
     "text": [
      "Crawl comment page 1 success!!!\n",
      "Crawl comment for product 466295\n",
      "Crawl comment page 0 success!!!\n"
     ]
    },
    {
     "name": "stderr",
     "output_type": "stream",
     "text": [
      " 48%|█████████████████████████████████████▉                                         | 959/2000 [20:39<13:45,  1.26it/s]"
     ]
    },
    {
     "name": "stdout",
     "output_type": "stream",
     "text": [
      "Crawl comment page 1 success!!!\n",
      "Crawl comment for product 441922\n",
      "Crawl comment page 0 success!!!\n"
     ]
    },
    {
     "name": "stderr",
     "output_type": "stream",
     "text": [
      " 48%|█████████████████████████████████████▉                                         | 961/2000 [20:41<15:56,  1.09it/s]"
     ]
    },
    {
     "name": "stdout",
     "output_type": "stream",
     "text": [
      "Crawl comment page 1 success!!!\n",
      "Crawl comment for product 278058177\n",
      "Crawl comment page 0 success!!!\n",
      "Crawl comment page 1 success!!!\n",
      "Crawl comment for product 277588248\n",
      "Crawl comment page 0 success!!!\n"
     ]
    },
    {
     "name": "stderr",
     "output_type": "stream",
     "text": [
      " 48%|██████████████████████████████████████                                         | 963/2000 [20:42<08:46,  1.97it/s]"
     ]
    },
    {
     "name": "stdout",
     "output_type": "stream",
     "text": [
      "Crawl comment page 1 success!!!\n",
      "Crawl comment for product 277564191\n",
      "Crawl comment page 0 success!!!\n",
      "Crawl comment page 1 success!!!\n",
      "Crawl comment for product 277564165\n",
      "Crawl comment page 0 success!!!\n"
     ]
    },
    {
     "name": "stderr",
     "output_type": "stream",
     "text": [
      " 48%|██████████████████████████████████████                                         | 965/2000 [20:42<05:16,  3.27it/s]"
     ]
    },
    {
     "name": "stdout",
     "output_type": "stream",
     "text": [
      "Crawl comment page 1 success!!!\n",
      "Crawl comment for product 277526023\n",
      "Crawl comment page 0 success!!!\n",
      "Crawl comment page 1 success!!!\n",
      "Crawl comment for product 277446847\n",
      "Crawl comment page 0 success!!!\n"
     ]
    },
    {
     "name": "stderr",
     "output_type": "stream",
     "text": [
      " 48%|██████████████████████████████████████▏                                        | 967/2000 [20:42<03:51,  4.47it/s]"
     ]
    },
    {
     "name": "stdout",
     "output_type": "stream",
     "text": [
      "Crawl comment page 1 success!!!\n",
      "Crawl comment for product 277042453\n",
      "Crawl comment page 0 success!!!\n",
      "Crawl comment page 1 success!!!\n",
      "Crawl comment for product 277020936\n"
     ]
    },
    {
     "name": "stderr",
     "output_type": "stream",
     "text": [
      " 48%|██████████████████████████████████████▏                                        | 968/2000 [20:42<03:56,  4.36it/s]"
     ]
    },
    {
     "name": "stdout",
     "output_type": "stream",
     "text": [
      "Crawl comment page 0 success!!!\n",
      "Crawl comment page 1 success!!!\n",
      "Crawl comment for product 276955920\n",
      "Crawl comment page 0 success!!!\n"
     ]
    },
    {
     "name": "stderr",
     "output_type": "stream",
     "text": [
      " 48%|██████████████████████████████████████▎                                        | 969/2000 [20:42<03:38,  4.73it/s]"
     ]
    },
    {
     "name": "stdout",
     "output_type": "stream",
     "text": [
      "Crawl comment page 1 success!!!\n",
      "Crawl comment for product 276649992\n",
      "Crawl comment page 0 success!!!\n"
     ]
    },
    {
     "name": "stderr",
     "output_type": "stream",
     "text": [
      " 49%|██████████████████████████████████████▎                                        | 971/2000 [20:43<05:16,  3.26it/s]"
     ]
    },
    {
     "name": "stdout",
     "output_type": "stream",
     "text": [
      "Crawl comment page 1 success!!!\n",
      "Crawl comment for product 276601997\n",
      "Crawl comment page 0 success!!!\n",
      "Crawl comment page 1 success!!!\n",
      "Crawl comment for product 276562880\n",
      "Crawl comment page 0 success!!!\n"
     ]
    },
    {
     "name": "stderr",
     "output_type": "stream",
     "text": [
      " 49%|██████████████████████████████████████▍                                        | 973/2000 [20:44<03:45,  4.56it/s]"
     ]
    },
    {
     "name": "stdout",
     "output_type": "stream",
     "text": [
      "Crawl comment page 1 success!!!\n",
      "Crawl comment for product 276499282\n",
      "Crawl comment page 0 success!!!\n",
      "Crawl comment page 1 success!!!\n",
      "Crawl comment for product 276471519\n",
      "Crawl comment page 0 success!!!\n"
     ]
    },
    {
     "name": "stderr",
     "output_type": "stream",
     "text": [
      " 49%|██████████████████████████████████████▌                                        | 976/2000 [20:44<02:29,  6.86it/s]"
     ]
    },
    {
     "name": "stdout",
     "output_type": "stream",
     "text": [
      "Crawl comment page 1 success!!!\n",
      "Crawl comment for product 276423991\n",
      "Crawl comment page 0 success!!!\n",
      "Crawl comment page 1 success!!!\n",
      "Crawl comment for product 276344696\n",
      "Crawl comment page 0 success!!!\n",
      "Crawl comment page 1 success!!!\n"
     ]
    },
    {
     "name": "stderr",
     "output_type": "stream",
     "text": [
      " 49%|██████████████████████████████████████▌                                        | 977/2000 [20:44<02:44,  6.22it/s]"
     ]
    },
    {
     "name": "stdout",
     "output_type": "stream",
     "text": [
      "Crawl comment for product 276104093\n",
      "Crawl comment page 0 success!!!\n",
      "Crawl comment page 1 success!!!\n",
      "Crawl comment for product 275400406\n"
     ]
    },
    {
     "name": "stderr",
     "output_type": "stream",
     "text": [
      " 49%|██████████████████████████████████████▋                                        | 978/2000 [20:44<02:45,  6.17it/s]"
     ]
    },
    {
     "name": "stdout",
     "output_type": "stream",
     "text": [
      "Crawl comment page 0 success!!!\n",
      "Crawl comment page 1 success!!!\n",
      "Crawl comment for product 275251987\n"
     ]
    },
    {
     "name": "stderr",
     "output_type": "stream",
     "text": [
      " 49%|██████████████████████████████████████▋                                        | 979/2000 [20:45<03:54,  4.35it/s]"
     ]
    },
    {
     "name": "stdout",
     "output_type": "stream",
     "text": [
      "Crawl comment page 0 success!!!\n",
      "Crawl comment page 1 success!!!\n",
      "Crawl comment for product 273901294\n",
      "Crawl comment page 0 success!!!\n"
     ]
    },
    {
     "name": "stderr",
     "output_type": "stream",
     "text": [
      " 49%|██████████████████████████████████████▋                                        | 980/2000 [20:46<07:13,  2.36it/s]"
     ]
    },
    {
     "name": "stdout",
     "output_type": "stream",
     "text": [
      "Crawl comment page 1 success!!!\n",
      "Crawl comment for product 273835835\n",
      "Crawl comment page 0 success!!!\n"
     ]
    },
    {
     "name": "stderr",
     "output_type": "stream",
     "text": [
      " 49%|██████████████████████████████████████▊                                        | 982/2000 [20:46<05:57,  2.85it/s]"
     ]
    },
    {
     "name": "stdout",
     "output_type": "stream",
     "text": [
      "Crawl comment page 1 success!!!\n",
      "Crawl comment for product 273667798\n",
      "Crawl comment page 0 success!!!\n",
      "Crawl comment page 1 success!!!\n",
      "Crawl comment for product 272872016\n",
      "Crawl comment page 0 success!!!\n"
     ]
    },
    {
     "name": "stderr",
     "output_type": "stream",
     "text": [
      " 49%|██████████████████████████████████████▊                                        | 984/2000 [20:47<05:23,  3.14it/s]"
     ]
    },
    {
     "name": "stdout",
     "output_type": "stream",
     "text": [
      "Crawl comment page 1 success!!!\n",
      "Crawl comment for product 271979215\n",
      "Crawl comment page 0 success!!!\n",
      "Crawl comment page 1 success!!!\n",
      "Crawl comment for product 263596249\n"
     ]
    },
    {
     "name": "stderr",
     "output_type": "stream",
     "text": [
      " 49%|██████████████████████████████████████▉                                        | 985/2000 [20:47<04:22,  3.86it/s]"
     ]
    },
    {
     "name": "stdout",
     "output_type": "stream",
     "text": [
      "Crawl comment page 0 success!!!\n",
      "Crawl comment page 1 success!!!\n",
      "Crawl comment for product 263117395\n",
      "Crawl comment page 0 success!!!\n"
     ]
    },
    {
     "name": "stderr",
     "output_type": "stream",
     "text": [
      " 49%|██████████████████████████████████████▉                                        | 986/2000 [20:48<06:24,  2.63it/s]"
     ]
    },
    {
     "name": "stdout",
     "output_type": "stream",
     "text": [
      "Crawl comment page 1 success!!!\n",
      "Crawl comment for product 208886905\n",
      "Crawl comment page 0 success!!!\n"
     ]
    },
    {
     "name": "stderr",
     "output_type": "stream",
     "text": [
      " 49%|███████████████████████████████████████                                        | 988/2000 [20:49<06:27,  2.61it/s]"
     ]
    },
    {
     "name": "stdout",
     "output_type": "stream",
     "text": [
      "Crawl comment page 1 success!!!\n",
      "Crawl comment for product 208122184\n",
      "Crawl comment page 0 success!!!\n",
      "Crawl comment page 1 success!!!\n",
      "Crawl comment for product 197652266\n",
      "Crawl comment page 0 success!!!\n"
     ]
    },
    {
     "name": "stderr",
     "output_type": "stream",
     "text": [
      " 50%|███████████████████████████████████████                                        | 990/2000 [20:54<23:33,  1.40s/it]"
     ]
    },
    {
     "name": "stdout",
     "output_type": "stream",
     "text": [
      "Crawl comment page 1 success!!!\n",
      "Crawl comment for product 195696270\n",
      "Crawl comment page 0 success!!!\n",
      "Crawl comment page 1 success!!!\n",
      "Crawl comment for product 193896498\n"
     ]
    },
    {
     "name": "stderr",
     "output_type": "stream",
     "text": [
      " 50%|███████████████████████████████████████▏                                       | 991/2000 [20:54<17:39,  1.05s/it]"
     ]
    },
    {
     "name": "stdout",
     "output_type": "stream",
     "text": [
      "Crawl comment page 0 success!!!\n",
      "Crawl comment page 1 success!!!\n",
      "Crawl comment for product 190506522\n"
     ]
    },
    {
     "name": "stderr",
     "output_type": "stream",
     "text": [
      " 50%|███████████████████████████████████████▏                                       | 992/2000 [20:55<13:18,  1.26it/s]"
     ]
    },
    {
     "name": "stdout",
     "output_type": "stream",
     "text": [
      "Crawl comment page 0 success!!!\n",
      "Crawl comment page 1 success!!!\n",
      "Crawl comment for product 187829813\n",
      "Crawl comment page 0 success!!!\n"
     ]
    },
    {
     "name": "stderr",
     "output_type": "stream",
     "text": [
      " 50%|███████████████████████████████████████▏                                       | 993/2000 [20:55<10:14,  1.64it/s]"
     ]
    },
    {
     "name": "stdout",
     "output_type": "stream",
     "text": [
      "Crawl comment page 1 success!!!\n",
      "Crawl comment for product 174855409\n",
      "Crawl comment page 0 success!!!\n"
     ]
    },
    {
     "name": "stderr",
     "output_type": "stream",
     "text": [
      " 50%|███████████████████████████████████████▎                                       | 994/2000 [20:56<12:02,  1.39it/s]"
     ]
    },
    {
     "name": "stdout",
     "output_type": "stream",
     "text": [
      "Crawl comment page 1 success!!!\n",
      "Crawl comment for product 171906570\n",
      "Crawl comment page 0 success!!!\n"
     ]
    },
    {
     "name": "stderr",
     "output_type": "stream",
     "text": [
      " 50%|███████████████████████████████████████▎                                       | 995/2000 [20:56<10:08,  1.65it/s]"
     ]
    },
    {
     "name": "stdout",
     "output_type": "stream",
     "text": [
      "Crawl comment page 1 success!!!\n",
      "Crawl comment for product 99213957\n",
      "Crawl comment page 0 success!!!\n"
     ]
    },
    {
     "name": "stderr",
     "output_type": "stream",
     "text": [
      " 50%|███████████████████████████████████████▎                                       | 996/2000 [20:57<10:37,  1.58it/s]"
     ]
    },
    {
     "name": "stdout",
     "output_type": "stream",
     "text": [
      "Crawl comment page 1 success!!!\n",
      "Crawl comment for product 94887296\n",
      "Crawl comment page 0 success!!!\n"
     ]
    },
    {
     "name": "stderr",
     "output_type": "stream",
     "text": [
      " 50%|███████████████████████████████████████▍                                       | 997/2000 [20:57<10:23,  1.61it/s]"
     ]
    },
    {
     "name": "stdout",
     "output_type": "stream",
     "text": [
      "Crawl comment page 1 success!!!\n",
      "Crawl comment for product 21049645\n",
      "Crawl comment page 0 success!!!\n"
     ]
    },
    {
     "name": "stderr",
     "output_type": "stream",
     "text": [
      " 50%|███████████████████████████████████████▍                                       | 998/2000 [20:58<10:24,  1.60it/s]"
     ]
    },
    {
     "name": "stdout",
     "output_type": "stream",
     "text": [
      "Crawl comment page 1 success!!!\n",
      "Crawl comment for product 20702603\n",
      "Crawl comment page 0 success!!!\n"
     ]
    },
    {
     "name": "stderr",
     "output_type": "stream",
     "text": [
      " 50%|███████████████████████████████████████▍                                       | 999/2000 [20:58<09:08,  1.83it/s]"
     ]
    },
    {
     "name": "stdout",
     "output_type": "stream",
     "text": [
      "Crawl comment page 1 success!!!\n",
      "Crawl comment for product 512557\n",
      "Crawl comment page 0 success!!!\n"
     ]
    },
    {
     "name": "stderr",
     "output_type": "stream",
     "text": [
      " 50%|███████████████████████████████████████                                       | 1001/2000 [21:01<12:06,  1.37it/s]"
     ]
    },
    {
     "name": "stdout",
     "output_type": "stream",
     "text": [
      "Crawl comment page 1 success!!!\n",
      "Crawl comment for product 278094951\n",
      "Crawl comment page 0 success!!!\n",
      "Crawl comment page 1 success!!!\n",
      "Crawl comment for product 278055541\n",
      "Crawl comment page 0 success!!!\n"
     ]
    },
    {
     "name": "stderr",
     "output_type": "stream",
     "text": [
      " 50%|███████████████████████████████████████                                       | 1003/2000 [21:01<07:35,  2.19it/s]"
     ]
    },
    {
     "name": "stdout",
     "output_type": "stream",
     "text": [
      "Crawl comment page 1 success!!!\n",
      "Crawl comment for product 278014692\n",
      "Crawl comment page 0 success!!!\n",
      "Crawl comment page 1 success!!!\n",
      "Crawl comment for product 277927365\n",
      "Crawl comment page 0 success!!!\n"
     ]
    },
    {
     "name": "stderr",
     "output_type": "stream",
     "text": [
      " 50%|███████████████████████████████████████▏                                      | 1005/2000 [21:01<04:36,  3.60it/s]"
     ]
    },
    {
     "name": "stdout",
     "output_type": "stream",
     "text": [
      "Crawl comment page 1 success!!!\n",
      "Crawl comment for product 277728816\n",
      "Crawl comment page 0 success!!!\n",
      "Crawl comment page 1 success!!!\n",
      "Crawl comment for product 277483587\n",
      "Crawl comment page 0 success!!!\n"
     ]
    },
    {
     "name": "stderr",
     "output_type": "stream",
     "text": [
      " 50%|███████████████████████████████████████▎                                      | 1008/2000 [21:01<02:43,  6.07it/s]"
     ]
    },
    {
     "name": "stdout",
     "output_type": "stream",
     "text": [
      "Crawl comment page 1 success!!!\n",
      "Crawl comment for product 277392704\n",
      "Crawl comment page 0 success!!!\n",
      "Crawl comment page 1 success!!!\n",
      "Crawl comment for product 276497179\n",
      "Crawl comment page 0 success!!!\n",
      "Crawl comment page 1 success!!!\n"
     ]
    },
    {
     "name": "stderr",
     "output_type": "stream",
     "text": [
      " 50%|███████████████████████████████████████▎                                      | 1009/2000 [21:02<02:28,  6.69it/s]"
     ]
    },
    {
     "name": "stdout",
     "output_type": "stream",
     "text": [
      "Crawl comment for product 276375233\n",
      "Crawl comment page 0 success!!!\n",
      "Crawl comment page 1 success!!!\n",
      "Crawl comment for product 276306216\n"
     ]
    },
    {
     "name": "stderr",
     "output_type": "stream",
     "text": [
      " 50%|███████████████████████████████████████▍                                      | 1010/2000 [21:02<03:40,  4.50it/s]"
     ]
    },
    {
     "name": "stdout",
     "output_type": "stream",
     "text": [
      "Crawl comment page 0 success!!!\n",
      "Crawl comment page 1 success!!!\n",
      "Crawl comment for product 276248979\n"
     ]
    },
    {
     "name": "stderr",
     "output_type": "stream",
     "text": [
      " 51%|███████████████████████████████████████▍                                      | 1012/2000 [21:02<02:41,  6.11it/s]"
     ]
    },
    {
     "name": "stdout",
     "output_type": "stream",
     "text": [
      "Crawl comment page 0 success!!!\n",
      "Crawl comment page 1 success!!!\n",
      "Crawl comment for product 276248939\n",
      "Crawl comment page 0 success!!!\n",
      "Crawl comment page 1 success!!!\n",
      "Crawl comment for product 276248915\n",
      "Crawl comment page 0 success!!!\n"
     ]
    },
    {
     "name": "stderr",
     "output_type": "stream",
     "text": [
      " 51%|███████████████████████████████████████▌                                      | 1014/2000 [21:02<02:28,  6.63it/s]"
     ]
    },
    {
     "name": "stdout",
     "output_type": "stream",
     "text": [
      "Crawl comment page 1 success!!!\n",
      "Crawl comment for product 275625349\n",
      "Crawl comment page 0 success!!!\n",
      "Crawl comment page 1 success!!!\n",
      "Crawl comment for product 275576874\n"
     ]
    },
    {
     "name": "stderr",
     "output_type": "stream",
     "text": [
      " 51%|███████████████████████████████████████▌                                      | 1015/2000 [21:03<02:18,  7.13it/s]"
     ]
    },
    {
     "name": "stdout",
     "output_type": "stream",
     "text": [
      "Crawl comment page 0 success!!!\n",
      "Crawl comment page 1 success!!!\n",
      "Crawl comment for product 273896675\n",
      "Crawl comment page 0 success!!!\n"
     ]
    },
    {
     "name": "stderr",
     "output_type": "stream",
     "text": [
      " 51%|███████████████████████████████████████▌                                      | 1016/2000 [21:05<12:08,  1.35it/s]"
     ]
    },
    {
     "name": "stdout",
     "output_type": "stream",
     "text": [
      "Crawl comment page 1 success!!!\n",
      "Crawl comment for product 273894304\n",
      "Crawl comment page 0 success!!!\n"
     ]
    },
    {
     "name": "stderr",
     "output_type": "stream",
     "text": [
      " 51%|███████████████████████████████████████▋                                      | 1018/2000 [21:06<09:09,  1.79it/s]"
     ]
    },
    {
     "name": "stdout",
     "output_type": "stream",
     "text": [
      "Crawl comment page 1 success!!!\n",
      "Crawl comment for product 273547858\n",
      "Crawl comment page 0 success!!!\n",
      "Crawl comment page 1 success!!!\n",
      "Crawl comment for product 273326855\n",
      "Crawl comment page 0 success!!!\n"
     ]
    },
    {
     "name": "stderr",
     "output_type": "stream",
     "text": [
      " 51%|███████████████████████████████████████▊                                      | 1020/2000 [21:06<05:24,  3.02it/s]"
     ]
    },
    {
     "name": "stdout",
     "output_type": "stream",
     "text": [
      "Crawl comment page 1 success!!!\n",
      "Crawl comment for product 272240965\n",
      "Crawl comment page 0 success!!!\n",
      "Crawl comment page 1 success!!!\n",
      "Crawl comment for product 271494875\n"
     ]
    },
    {
     "name": "stderr",
     "output_type": "stream",
     "text": [
      " 51%|███████████████████████████████████████▊                                      | 1021/2000 [21:06<04:43,  3.46it/s]"
     ]
    },
    {
     "name": "stdout",
     "output_type": "stream",
     "text": [
      "Crawl comment page 0 success!!!\n",
      "Crawl comment page 1 success!!!\n",
      "Crawl comment for product 262862569\n",
      "Crawl comment page 0 success!!!\n"
     ]
    },
    {
     "name": "stderr",
     "output_type": "stream",
     "text": [
      " 51%|███████████████████████████████████████▊                                      | 1022/2000 [21:06<05:29,  2.97it/s]"
     ]
    },
    {
     "name": "stdout",
     "output_type": "stream",
     "text": [
      "Crawl comment page 1 success!!!\n",
      "Crawl comment for product 252564157\n",
      "Crawl comment page 0 success!!!\n"
     ]
    },
    {
     "name": "stderr",
     "output_type": "stream",
     "text": [
      " 51%|███████████████████████████████████████▉                                      | 1024/2000 [21:08<07:11,  2.26it/s]"
     ]
    },
    {
     "name": "stdout",
     "output_type": "stream",
     "text": [
      "Crawl comment page 1 success!!!\n",
      "Crawl comment for product 249846791\n",
      "Crawl comment page 0 success!!!\n",
      "Crawl comment page 1 success!!!\n",
      "Crawl comment for product 241628099\n"
     ]
    },
    {
     "name": "stderr",
     "output_type": "stream",
     "text": [
      " 51%|███████████████████████████████████████▉                                      | 1025/2000 [21:08<06:33,  2.48it/s]"
     ]
    },
    {
     "name": "stdout",
     "output_type": "stream",
     "text": [
      "Crawl comment page 0 success!!!\n",
      "Crawl comment page 1 success!!!\n",
      "Crawl comment for product 215555135\n",
      "Crawl comment page 0 success!!!\n",
      "Crawl comment page 1 success!!!\n",
      "Crawl comment for product 208122195\n",
      "Crawl comment page 0 success!!!\n"
     ]
    },
    {
     "name": "stderr",
     "output_type": "stream",
     "text": [
      " 51%|████████████████████████████████████████                                      | 1027/2000 [21:08<04:40,  3.47it/s]"
     ]
    },
    {
     "name": "stdout",
     "output_type": "stream",
     "text": [
      "Crawl comment page 1 success!!!\n",
      "Crawl comment for product 205614775\n",
      "Crawl comment page 0 success!!!\n"
     ]
    },
    {
     "name": "stderr",
     "output_type": "stream",
     "text": [
      " 51%|████████████████████████████████████████                                      | 1028/2000 [21:10<09:33,  1.70it/s]"
     ]
    },
    {
     "name": "stdout",
     "output_type": "stream",
     "text": [
      "Crawl comment page 1 success!!!\n",
      "Crawl comment for product 195961273\n",
      "Crawl comment page 0 success!!!\n"
     ]
    },
    {
     "name": "stderr",
     "output_type": "stream",
     "text": [
      " 51%|████████████████████████████████████████▏                                     | 1029/2000 [21:10<09:11,  1.76it/s]"
     ]
    },
    {
     "name": "stdout",
     "output_type": "stream",
     "text": [
      "Crawl comment page 1 success!!!\n",
      "Crawl comment for product 192377680\n",
      "Crawl comment page 0 success!!!\n"
     ]
    },
    {
     "name": "stderr",
     "output_type": "stream",
     "text": [
      " 52%|████████████████████████████████████████▏                                     | 1031/2000 [21:11<07:24,  2.18it/s]"
     ]
    },
    {
     "name": "stdout",
     "output_type": "stream",
     "text": [
      "Crawl comment page 1 success!!!\n",
      "Crawl comment for product 188660609\n",
      "Crawl comment page 0 success!!!\n",
      "Crawl comment page 1 success!!!\n",
      "Crawl comment for product 174500433\n",
      "Crawl comment page 0 success!!!\n"
     ]
    },
    {
     "name": "stderr",
     "output_type": "stream",
     "text": [
      " 52%|████████████████████████████████████████▏                                     | 1032/2000 [21:11<05:48,  2.78it/s]"
     ]
    },
    {
     "name": "stdout",
     "output_type": "stream",
     "text": [
      "Crawl comment page 1 success!!!\n",
      "Crawl comment for product 159633553\n",
      "Crawl comment page 0 success!!!\n"
     ]
    },
    {
     "name": "stderr",
     "output_type": "stream",
     "text": [
      " 52%|████████████████████████████████████████▎                                     | 1033/2000 [21:12<07:20,  2.20it/s]"
     ]
    },
    {
     "name": "stdout",
     "output_type": "stream",
     "text": [
      "Crawl comment page 1 success!!!\n",
      "Crawl comment for product 120169487\n",
      "Crawl comment page 0 success!!!\n"
     ]
    },
    {
     "name": "stderr",
     "output_type": "stream",
     "text": [
      " 52%|████████████████████████████████████████▎                                     | 1034/2000 [21:12<06:30,  2.47it/s]"
     ]
    },
    {
     "name": "stdout",
     "output_type": "stream",
     "text": [
      "Crawl comment page 1 success!!!\n",
      "Crawl comment for product 87978940\n",
      "Crawl comment page 0 success!!!\n"
     ]
    },
    {
     "name": "stderr",
     "output_type": "stream",
     "text": [
      " 52%|████████████████████████████████████████▎                                     | 1035/2000 [21:13<09:44,  1.65it/s]"
     ]
    },
    {
     "name": "stdout",
     "output_type": "stream",
     "text": [
      "Crawl comment page 1 success!!!\n",
      "Crawl comment for product 56315585\n",
      "Crawl comment page 0 success!!!\n"
     ]
    },
    {
     "name": "stderr",
     "output_type": "stream",
     "text": [
      " 52%|████████████████████████████████████████▍                                     | 1036/2000 [21:14<10:07,  1.59it/s]"
     ]
    },
    {
     "name": "stdout",
     "output_type": "stream",
     "text": [
      "Crawl comment page 1 success!!!\n",
      "Crawl comment for product 53495949\n",
      "Crawl comment page 0 success!!!\n"
     ]
    },
    {
     "name": "stderr",
     "output_type": "stream",
     "text": [
      " 52%|████████████████████████████████████████▍                                     | 1037/2000 [21:15<12:28,  1.29it/s]"
     ]
    },
    {
     "name": "stdout",
     "output_type": "stream",
     "text": [
      "Crawl comment page 1 success!!!\n",
      "Crawl comment for product 7952033\n",
      "Crawl comment page 0 success!!!\n"
     ]
    },
    {
     "name": "stderr",
     "output_type": "stream",
     "text": [
      " 52%|████████████████████████████████████████▍                                     | 1038/2000 [21:16<12:07,  1.32it/s]"
     ]
    },
    {
     "name": "stdout",
     "output_type": "stream",
     "text": [
      "Crawl comment page 1 success!!!\n",
      "Crawl comment for product 1420367\n",
      "Crawl comment page 0 success!!!\n"
     ]
    },
    {
     "name": "stderr",
     "output_type": "stream",
     "text": [
      " 52%|████████████████████████████████████████▌                                     | 1040/2000 [21:17<09:36,  1.66it/s]"
     ]
    },
    {
     "name": "stdout",
     "output_type": "stream",
     "text": [
      "Crawl comment page 1 success!!!\n",
      "Crawl comment for product 421997\n",
      "Crawl comment page 0 success!!!\n",
      "Crawl comment page 1 success!!!\n",
      "Crawl comment for product 277728861\n"
     ]
    },
    {
     "name": "stderr",
     "output_type": "stream",
     "text": [
      " 52%|████████████████████████████████████████▋                                     | 1042/2000 [21:17<05:34,  2.87it/s]"
     ]
    },
    {
     "name": "stdout",
     "output_type": "stream",
     "text": [
      "Crawl comment page 0 success!!!\n",
      "Crawl comment page 1 success!!!\n",
      "Crawl comment for product 277728470\n",
      "Crawl comment page 0 success!!!\n",
      "Crawl comment page 1 success!!!\n",
      "Crawl comment for product 277726347\n",
      "Crawl comment page 0 success!!!\n"
     ]
    },
    {
     "name": "stderr",
     "output_type": "stream",
     "text": [
      " 52%|████████████████████████████████████████▋                                     | 1043/2000 [21:17<04:26,  3.60it/s]"
     ]
    },
    {
     "name": "stdout",
     "output_type": "stream",
     "text": [
      "Crawl comment page 1 success!!!\n",
      "Crawl comment for product 276564978\n",
      "Crawl comment page 0 success!!!\n"
     ]
    },
    {
     "name": "stderr",
     "output_type": "stream",
     "text": [
      " 52%|████████████████████████████████████████▊                                     | 1045/2000 [21:18<04:45,  3.34it/s]"
     ]
    },
    {
     "name": "stdout",
     "output_type": "stream",
     "text": [
      "Crawl comment page 1 success!!!\n",
      "Crawl comment for product 276036181\n",
      "Crawl comment page 0 success!!!\n",
      "Crawl comment page 1 success!!!\n",
      "Crawl comment for product 274970377\n",
      "Crawl comment page 0 success!!!\n"
     ]
    },
    {
     "name": "stderr",
     "output_type": "stream",
     "text": [
      " 52%|████████████████████████████████████████▊                                     | 1047/2000 [21:18<03:11,  4.97it/s]"
     ]
    },
    {
     "name": "stdout",
     "output_type": "stream",
     "text": [
      "Crawl comment page 1 success!!!\n",
      "Crawl comment for product 274416766\n",
      "Crawl comment page 0 success!!!\n",
      "Crawl comment page 1 success!!!\n",
      "Crawl comment for product 273502488\n",
      "Crawl comment page 0 success!!!\n"
     ]
    },
    {
     "name": "stderr",
     "output_type": "stream",
     "text": [
      " 52%|████████████████████████████████████████▊                                     | 1048/2000 [21:18<02:46,  5.73it/s]"
     ]
    },
    {
     "name": "stdout",
     "output_type": "stream",
     "text": [
      "Crawl comment page 1 success!!!\n",
      "Crawl comment for product 273326866\n"
     ]
    },
    {
     "name": "stderr",
     "output_type": "stream",
     "text": [
      " 52%|████████████████████████████████████████▉                                     | 1049/2000 [21:19<03:56,  4.02it/s]"
     ]
    },
    {
     "name": "stdout",
     "output_type": "stream",
     "text": [
      "Crawl comment page 0 success!!!\n",
      "Crawl comment page 1 success!!!\n",
      "Crawl comment for product 273310961\n",
      "Crawl comment page 0 success!!!\n"
     ]
    },
    {
     "name": "stderr",
     "output_type": "stream",
     "text": [
      " 53%|████████████████████████████████████████▉                                     | 1051/2000 [21:20<04:57,  3.19it/s]"
     ]
    },
    {
     "name": "stdout",
     "output_type": "stream",
     "text": [
      "Crawl comment page 1 success!!!\n",
      "Crawl comment for product 270124687\n",
      "Crawl comment page 0 success!!!\n",
      "Crawl comment page 1 success!!!\n",
      "Crawl comment for product 262783987\n",
      "Crawl comment page 0 success!!!\n"
     ]
    },
    {
     "name": "stderr",
     "output_type": "stream",
     "text": [
      " 53%|█████████████████████████████████████████                                     | 1053/2000 [21:20<04:27,  3.54it/s]"
     ]
    },
    {
     "name": "stdout",
     "output_type": "stream",
     "text": [
      "Crawl comment page 1 success!!!\n",
      "Crawl comment for product 249019419\n",
      "Crawl comment page 0 success!!!\n",
      "Crawl comment page 1 success!!!\n",
      "Crawl comment for product 241339395\n"
     ]
    },
    {
     "name": "stderr",
     "output_type": "stream",
     "text": [
      " 53%|█████████████████████████████████████████                                     | 1054/2000 [21:21<05:10,  3.04it/s]"
     ]
    },
    {
     "name": "stdout",
     "output_type": "stream",
     "text": [
      "Crawl comment page 0 success!!!\n",
      "Crawl comment page 1 success!!!\n",
      "Crawl comment for product 229768599\n"
     ]
    },
    {
     "name": "stderr",
     "output_type": "stream",
     "text": [
      " 53%|█████████████████████████████████████████▏                                    | 1055/2000 [21:21<04:25,  3.56it/s]"
     ]
    },
    {
     "name": "stdout",
     "output_type": "stream",
     "text": [
      "Crawl comment page 0 success!!!\n",
      "Crawl comment page 1 success!!!\n",
      "Crawl comment for product 213741534\n",
      "Crawl comment page 0 success!!!\n"
     ]
    },
    {
     "name": "stderr",
     "output_type": "stream",
     "text": [
      " 53%|█████████████████████████████████████████▏                                    | 1056/2000 [21:21<03:40,  4.29it/s]"
     ]
    },
    {
     "name": "stdout",
     "output_type": "stream",
     "text": [
      "Crawl comment page 1 success!!!\n",
      "Crawl comment for product 195854055\n",
      "Crawl comment page 0 success!!!\n"
     ]
    },
    {
     "name": "stderr",
     "output_type": "stream",
     "text": [
      " 53%|█████████████████████████████████████████▎                                    | 1058/2000 [21:21<03:30,  4.48it/s]"
     ]
    },
    {
     "name": "stdout",
     "output_type": "stream",
     "text": [
      "Crawl comment page 1 success!!!\n",
      "Crawl comment for product 195316644\n",
      "Crawl comment page 0 success!!!\n",
      "Crawl comment page 1 success!!!\n",
      "Crawl comment for product 188660611\n"
     ]
    },
    {
     "name": "stderr",
     "output_type": "stream",
     "text": [
      " 53%|█████████████████████████████████████████▎                                    | 1059/2000 [21:21<02:58,  5.28it/s]"
     ]
    },
    {
     "name": "stdout",
     "output_type": "stream",
     "text": [
      "Crawl comment page 0 success!!!\n",
      "Crawl comment page 1 success!!!\n",
      "Crawl comment for product 180736901\n",
      "Crawl comment page 0 success!!!\n"
     ]
    },
    {
     "name": "stderr",
     "output_type": "stream",
     "text": [
      " 53%|█████████████████████████████████████████▍                                    | 1061/2000 [21:22<04:57,  3.16it/s]"
     ]
    },
    {
     "name": "stdout",
     "output_type": "stream",
     "text": [
      "Crawl comment page 1 success!!!\n",
      "Crawl comment for product 177736616\n",
      "Crawl comment page 0 success!!!\n",
      "Crawl comment page 1 success!!!\n",
      "Crawl comment for product 168661082\n"
     ]
    },
    {
     "name": "stderr",
     "output_type": "stream",
     "text": [
      " 53%|█████████████████████████████████████████▍                                    | 1062/2000 [21:23<04:42,  3.32it/s]"
     ]
    },
    {
     "name": "stdout",
     "output_type": "stream",
     "text": [
      "Crawl comment page 0 success!!!\n",
      "Crawl comment page 1 success!!!\n",
      "Crawl comment for product 167043784\n"
     ]
    },
    {
     "name": "stderr",
     "output_type": "stream",
     "text": [
      " 53%|█████████████████████████████████████████▍                                    | 1063/2000 [21:23<04:06,  3.79it/s]"
     ]
    },
    {
     "name": "stdout",
     "output_type": "stream",
     "text": [
      "Crawl comment page 0 success!!!\n",
      "Crawl comment page 1 success!!!\n",
      "Crawl comment for product 158745335\n",
      "Crawl comment page 0 success!!!\n"
     ]
    },
    {
     "name": "stderr",
     "output_type": "stream",
     "text": [
      " 53%|█████████████████████████████████████████▍                                    | 1064/2000 [21:24<07:03,  2.21it/s]"
     ]
    },
    {
     "name": "stdout",
     "output_type": "stream",
     "text": [
      "Crawl comment page 1 success!!!\n",
      "Crawl comment for product 137978768\n",
      "Crawl comment page 0 success!!!\n"
     ]
    },
    {
     "name": "stderr",
     "output_type": "stream",
     "text": [
      " 53%|█████████████████████████████████████████▌                                    | 1065/2000 [21:24<07:46,  2.01it/s]"
     ]
    },
    {
     "name": "stdout",
     "output_type": "stream",
     "text": [
      "Crawl comment page 1 success!!!\n",
      "Crawl comment for product 134736799\n",
      "Crawl comment page 0 success!!!\n"
     ]
    },
    {
     "name": "stderr",
     "output_type": "stream",
     "text": [
      " 53%|█████████████████████████████████████████▌                                    | 1066/2000 [21:25<10:45,  1.45it/s]"
     ]
    },
    {
     "name": "stdout",
     "output_type": "stream",
     "text": [
      "Crawl comment page 1 success!!!\n",
      "Crawl comment for product 134006685\n",
      "Crawl comment page 0 success!!!\n"
     ]
    },
    {
     "name": "stderr",
     "output_type": "stream",
     "text": [
      " 53%|█████████████████████████████████████████▌                                    | 1067/2000 [21:26<11:00,  1.41it/s]"
     ]
    },
    {
     "name": "stdout",
     "output_type": "stream",
     "text": [
      "Crawl comment page 1 success!!!\n",
      "Crawl comment for product 122148387\n",
      "Crawl comment page 0 success!!!\n"
     ]
    },
    {
     "name": "stderr",
     "output_type": "stream",
     "text": [
      " 53%|█████████████████████████████████████████▋                                    | 1068/2000 [21:27<11:25,  1.36it/s]"
     ]
    },
    {
     "name": "stdout",
     "output_type": "stream",
     "text": [
      "Crawl comment page 1 success!!!\n",
      "Crawl comment for product 95039243\n",
      "Crawl comment page 0 success!!!\n"
     ]
    },
    {
     "name": "stderr",
     "output_type": "stream",
     "text": [
      " 53%|█████████████████████████████████████████▋                                    | 1069/2000 [21:29<18:07,  1.17s/it]"
     ]
    },
    {
     "name": "stdout",
     "output_type": "stream",
     "text": [
      "Crawl comment page 1 success!!!\n",
      "Crawl comment for product 78032199\n",
      "Crawl comment page 0 success!!!\n"
     ]
    },
    {
     "name": "stderr",
     "output_type": "stream",
     "text": [
      " 54%|█████████████████████████████████████████▋                                    | 1070/2000 [21:30<15:57,  1.03s/it]"
     ]
    },
    {
     "name": "stdout",
     "output_type": "stream",
     "text": [
      "Crawl comment page 1 success!!!\n",
      "Crawl comment for product 71052593\n",
      "Crawl comment page 0 success!!!\n"
     ]
    },
    {
     "name": "stderr",
     "output_type": "stream",
     "text": [
      " 54%|█████████████████████████████████████████▊                                    | 1071/2000 [21:32<20:11,  1.30s/it]"
     ]
    },
    {
     "name": "stdout",
     "output_type": "stream",
     "text": [
      "Crawl comment page 1 success!!!\n",
      "Crawl comment for product 58067158\n",
      "Crawl comment page 0 success!!!\n"
     ]
    },
    {
     "name": "stderr",
     "output_type": "stream",
     "text": [
      " 54%|█████████████████████████████████████████▊                                    | 1072/2000 [21:34<21:57,  1.42s/it]"
     ]
    },
    {
     "name": "stdout",
     "output_type": "stream",
     "text": [
      "Crawl comment page 1 success!!!\n",
      "Crawl comment for product 55023341\n",
      "Crawl comment page 0 success!!!\n"
     ]
    },
    {
     "name": "stderr",
     "output_type": "stream",
     "text": [
      " 54%|█████████████████████████████████████████▊                                    | 1073/2000 [21:35<22:40,  1.47s/it]"
     ]
    },
    {
     "name": "stdout",
     "output_type": "stream",
     "text": [
      "Crawl comment page 1 success!!!\n",
      "Crawl comment for product 53716212\n",
      "Crawl comment page 0 success!!!\n"
     ]
    },
    {
     "name": "stderr",
     "output_type": "stream",
     "text": [
      " 54%|█████████████████████████████████████████▉                                    | 1074/2000 [21:36<18:32,  1.20s/it]"
     ]
    },
    {
     "name": "stdout",
     "output_type": "stream",
     "text": [
      "Crawl comment page 1 success!!!\n",
      "Crawl comment for product 46723648\n",
      "Crawl comment page 0 success!!!\n"
     ]
    },
    {
     "name": "stderr",
     "output_type": "stream",
     "text": [
      " 54%|█████████████████████████████████████████▉                                    | 1075/2000 [21:36<15:48,  1.03s/it]"
     ]
    },
    {
     "name": "stdout",
     "output_type": "stream",
     "text": [
      "Crawl comment page 1 success!!!\n",
      "Crawl comment for product 44810371\n",
      "Crawl comment page 0 success!!!\n"
     ]
    },
    {
     "name": "stderr",
     "output_type": "stream",
     "text": [
      " 54%|█████████████████████████████████████████▉                                    | 1076/2000 [21:37<12:00,  1.28it/s]"
     ]
    },
    {
     "name": "stdout",
     "output_type": "stream",
     "text": [
      "Crawl comment page 1 success!!!\n",
      "Crawl comment for product 23940383\n",
      "Crawl comment page 0 success!!!\n"
     ]
    },
    {
     "name": "stderr",
     "output_type": "stream",
     "text": [
      " 54%|██████████████████████████████████████████                                    | 1077/2000 [21:37<11:18,  1.36it/s]"
     ]
    },
    {
     "name": "stdout",
     "output_type": "stream",
     "text": [
      "Crawl comment page 1 success!!!\n",
      "Crawl comment for product 16087107\n",
      "Crawl comment page 0 success!!!\n"
     ]
    },
    {
     "name": "stderr",
     "output_type": "stream",
     "text": [
      " 54%|██████████████████████████████████████████                                    | 1078/2000 [21:38<10:42,  1.43it/s]"
     ]
    },
    {
     "name": "stdout",
     "output_type": "stream",
     "text": [
      "Crawl comment page 1 success!!!\n",
      "Crawl comment for product 1738467\n",
      "Crawl comment page 0 success!!!\n"
     ]
    },
    {
     "name": "stderr",
     "output_type": "stream",
     "text": [
      " 54%|██████████████████████████████████████████                                    | 1079/2000 [21:38<10:29,  1.46it/s]"
     ]
    },
    {
     "name": "stdout",
     "output_type": "stream",
     "text": [
      "Crawl comment page 1 success!!!\n",
      "Crawl comment for product 1352339\n",
      "Crawl comment page 0 success!!!\n"
     ]
    },
    {
     "name": "stderr",
     "output_type": "stream",
     "text": [
      " 54%|██████████████████████████████████████████▏                                   | 1081/2000 [21:39<07:40,  2.00it/s]"
     ]
    },
    {
     "name": "stdout",
     "output_type": "stream",
     "text": [
      "Crawl comment page 1 success!!!\n",
      "Crawl comment for product 278089762\n",
      "Crawl comment page 0 success!!!\n",
      "Crawl comment page 1 success!!!\n",
      "Crawl comment for product 278043457\n",
      "Crawl comment page 0 success!!!\n"
     ]
    },
    {
     "name": "stderr",
     "output_type": "stream",
     "text": [
      " 54%|██████████████████████████████████████████▏                                   | 1082/2000 [21:39<05:57,  2.57it/s]"
     ]
    },
    {
     "name": "stdout",
     "output_type": "stream",
     "text": [
      "Crawl comment page 1 success!!!\n",
      "Crawl comment for product 278004511\n",
      "Crawl comment page 0 success!!!\n"
     ]
    },
    {
     "name": "stderr",
     "output_type": "stream",
     "text": [
      " 54%|██████████████████████████████████████████▎                                   | 1084/2000 [21:42<11:06,  1.37it/s]"
     ]
    },
    {
     "name": "stdout",
     "output_type": "stream",
     "text": [
      "Crawl comment page 1 success!!!\n",
      "Crawl comment for product 276913267\n",
      "Crawl comment page 0 success!!!\n",
      "Crawl comment page 1 success!!!\n",
      "Crawl comment for product 276833100\n",
      "Crawl comment page 0 success!!!\n"
     ]
    },
    {
     "name": "stderr",
     "output_type": "stream",
     "text": [
      " 54%|██████████████████████████████████████████▎                                   | 1086/2000 [21:43<10:19,  1.47it/s]"
     ]
    },
    {
     "name": "stdout",
     "output_type": "stream",
     "text": [
      "Crawl comment page 1 success!!!\n",
      "Crawl comment for product 276813330\n",
      "Crawl comment page 0 success!!!\n",
      "Crawl comment page 1 success!!!\n",
      "Crawl comment for product 276642618\n",
      "Crawl comment page 0 success!!!\n"
     ]
    },
    {
     "name": "stderr",
     "output_type": "stream",
     "text": [
      " 54%|██████████████████████████████████████████▍                                   | 1087/2000 [21:44<12:41,  1.20it/s]"
     ]
    },
    {
     "name": "stdout",
     "output_type": "stream",
     "text": [
      "Crawl comment page 1 success!!!\n",
      "Crawl comment for product 276508158\n",
      "Crawl comment page 0 success!!!\n"
     ]
    },
    {
     "name": "stderr",
     "output_type": "stream",
     "text": [
      " 54%|██████████████████████████████████████████▍                                   | 1088/2000 [21:45<10:31,  1.45it/s]"
     ]
    },
    {
     "name": "stdout",
     "output_type": "stream",
     "text": [
      "Crawl comment page 1 success!!!\n",
      "Crawl comment for product 274952503\n",
      "Crawl comment page 0 success!!!\n"
     ]
    },
    {
     "name": "stderr",
     "output_type": "stream",
     "text": [
      " 55%|██████████████████████████████████████████▌                                   | 1090/2000 [21:46<08:41,  1.74it/s]"
     ]
    },
    {
     "name": "stdout",
     "output_type": "stream",
     "text": [
      "Crawl comment page 1 success!!!\n",
      "Crawl comment for product 273785875\n",
      "Crawl comment page 0 success!!!\n",
      "Crawl comment page 1 success!!!\n",
      "Crawl comment for product 273530734\n"
     ]
    },
    {
     "name": "stderr",
     "output_type": "stream",
     "text": [
      " 55%|██████████████████████████████████████████▌                                   | 1091/2000 [21:46<06:39,  2.28it/s]"
     ]
    },
    {
     "name": "stdout",
     "output_type": "stream",
     "text": [
      "Crawl comment page 0 success!!!\n",
      "Crawl comment page 1 success!!!\n",
      "Crawl comment for product 273356637\n",
      "Crawl comment page 0 success!!!\n"
     ]
    },
    {
     "name": "stderr",
     "output_type": "stream",
     "text": [
      " 55%|██████████████████████████████████████████▋                                   | 1093/2000 [21:49<12:50,  1.18it/s]"
     ]
    },
    {
     "name": "stdout",
     "output_type": "stream",
     "text": [
      "Crawl comment page 1 success!!!\n",
      "Crawl comment for product 273260670\n",
      "Crawl comment page 0 success!!!\n",
      "Crawl comment page 1 success!!!\n",
      "Crawl comment for product 273219043\n",
      "Crawl comment page 0 success!!!\n"
     ]
    },
    {
     "name": "stderr",
     "output_type": "stream",
     "text": [
      " 55%|██████████████████████████████████████████▋                                   | 1094/2000 [21:52<20:41,  1.37s/it]"
     ]
    },
    {
     "name": "stdout",
     "output_type": "stream",
     "text": [
      "Crawl comment page 1 success!!!\n",
      "Crawl comment for product 272129446\n",
      "Crawl comment page 0 success!!!\n"
     ]
    },
    {
     "name": "stderr",
     "output_type": "stream",
     "text": [
      " 55%|██████████████████████████████████████████▋                                   | 1095/2000 [21:53<21:24,  1.42s/it]"
     ]
    },
    {
     "name": "stdout",
     "output_type": "stream",
     "text": [
      "Crawl comment page 1 success!!!\n",
      "Crawl comment for product 270224573\n"
     ]
    },
    {
     "name": "stderr",
     "output_type": "stream",
     "text": [
      " 55%|██████████████████████████████████████████▋                                   | 1096/2000 [21:53<16:47,  1.11s/it]"
     ]
    },
    {
     "name": "stdout",
     "output_type": "stream",
     "text": [
      "Crawl comment page 0 success!!!\n",
      "Crawl comment page 1 success!!!\n",
      "Crawl comment for product 260811364\n",
      "Crawl comment page 0 success!!!\n"
     ]
    },
    {
     "name": "stderr",
     "output_type": "stream",
     "text": [
      " 55%|██████████████████████████████████████████▊                                   | 1097/2000 [21:57<26:40,  1.77s/it]"
     ]
    },
    {
     "name": "stdout",
     "output_type": "stream",
     "text": [
      "Crawl comment page 1 success!!!\n",
      "Crawl comment for product 255175019\n"
     ]
    },
    {
     "name": "stderr",
     "output_type": "stream",
     "text": [
      " 55%|██████████████████████████████████████████▊                                   | 1098/2000 [21:57<20:34,  1.37s/it]"
     ]
    },
    {
     "name": "stdout",
     "output_type": "stream",
     "text": [
      "Crawl comment page 0 success!!!\n",
      "Crawl comment page 1 success!!!\n",
      "Crawl comment for product 251546315\n"
     ]
    },
    {
     "name": "stderr",
     "output_type": "stream",
     "text": [
      " 55%|██████████████████████████████████████████▊                                   | 1099/2000 [21:57<15:06,  1.01s/it]"
     ]
    },
    {
     "name": "stdout",
     "output_type": "stream",
     "text": [
      "Crawl comment page 0 success!!!\n",
      "Crawl comment page 1 success!!!\n",
      "Crawl comment for product 217510996\n",
      "Crawl comment page 0 success!!!\n"
     ]
    },
    {
     "name": "stderr",
     "output_type": "stream",
     "text": [
      " 55%|██████████████████████████████████████████▉                                   | 1100/2000 [21:58<11:18,  1.33it/s]"
     ]
    },
    {
     "name": "stdout",
     "output_type": "stream",
     "text": [
      "Crawl comment page 1 success!!!\n",
      "Crawl comment for product 190601856\n",
      "Crawl comment page 0 success!!!\n"
     ]
    },
    {
     "name": "stderr",
     "output_type": "stream",
     "text": [
      " 55%|██████████████████████████████████████████▉                                   | 1101/2000 [22:00<19:56,  1.33s/it]"
     ]
    },
    {
     "name": "stdout",
     "output_type": "stream",
     "text": [
      "Crawl comment page 1 success!!!\n",
      "Crawl comment for product 190238356\n",
      "Crawl comment page 0 success!!!\n"
     ]
    },
    {
     "name": "stderr",
     "output_type": "stream",
     "text": [
      " 55%|███████████████████████████████████████████                                   | 1103/2000 [22:02<16:29,  1.10s/it]"
     ]
    },
    {
     "name": "stdout",
     "output_type": "stream",
     "text": [
      "Crawl comment page 1 success!!!\n",
      "Crawl comment for product 188660620\n",
      "Crawl comment page 0 success!!!\n",
      "Crawl comment page 1 success!!!\n",
      "Crawl comment for product 179063564\n",
      "Crawl comment page 0 success!!!\n"
     ]
    },
    {
     "name": "stderr",
     "output_type": "stream",
     "text": [
      " 55%|███████████████████████████████████████████                                   | 1105/2000 [22:04<12:23,  1.20it/s]"
     ]
    },
    {
     "name": "stdout",
     "output_type": "stream",
     "text": [
      "Crawl comment page 1 success!!!\n",
      "Crawl comment for product 163582483\n",
      "Crawl comment page 0 success!!!\n",
      "Crawl comment page 1 success!!!\n",
      "Crawl comment for product 158775130\n",
      "Crawl comment page 0 success!!!\n"
     ]
    },
    {
     "name": "stderr",
     "output_type": "stream",
     "text": [
      " 55%|███████████████████████████████████████████▏                                  | 1106/2000 [22:04<09:11,  1.62it/s]"
     ]
    },
    {
     "name": "stdout",
     "output_type": "stream",
     "text": [
      "Crawl comment page 1 success!!!\n",
      "Crawl comment for product 147058065\n",
      "Crawl comment page 0 success!!!\n"
     ]
    },
    {
     "name": "stderr",
     "output_type": "stream",
     "text": [
      " 55%|███████████████████████████████████████████▏                                  | 1107/2000 [22:06<14:35,  1.02it/s]"
     ]
    },
    {
     "name": "stdout",
     "output_type": "stream",
     "text": [
      "Crawl comment page 1 success!!!\n",
      "Crawl comment for product 110448022\n",
      "Crawl comment page 0 success!!!\n"
     ]
    },
    {
     "name": "stderr",
     "output_type": "stream",
     "text": [
      " 55%|███████████████████████████████████████████▏                                  | 1108/2000 [22:08<21:02,  1.42s/it]"
     ]
    },
    {
     "name": "stdout",
     "output_type": "stream",
     "text": [
      "Crawl comment page 1 success!!!\n",
      "Crawl comment for product 104769768\n",
      "Crawl comment page 0 success!!!\n"
     ]
    },
    {
     "name": "stderr",
     "output_type": "stream",
     "text": [
      " 55%|███████████████████████████████████████████▎                                  | 1109/2000 [22:11<27:01,  1.82s/it]"
     ]
    },
    {
     "name": "stdout",
     "output_type": "stream",
     "text": [
      "Crawl comment page 1 success!!!\n",
      "Crawl comment for product 57354850\n",
      "Crawl comment page 0 success!!!\n"
     ]
    },
    {
     "name": "stderr",
     "output_type": "stream",
     "text": [
      " 56%|███████████████████████████████████████████▎                                  | 1110/2000 [22:13<28:30,  1.92s/it]"
     ]
    },
    {
     "name": "stdout",
     "output_type": "stream",
     "text": [
      "Crawl comment page 1 success!!!\n",
      "Crawl comment for product 48362502\n",
      "Crawl comment page 0 success!!!\n"
     ]
    },
    {
     "name": "stderr",
     "output_type": "stream",
     "text": [
      " 56%|███████████████████████████████████████████▎                                  | 1111/2000 [22:15<29:10,  1.97s/it]"
     ]
    },
    {
     "name": "stdout",
     "output_type": "stream",
     "text": [
      "Crawl comment page 1 success!!!\n",
      "Crawl comment for product 40933971\n",
      "Crawl comment page 0 success!!!\n"
     ]
    },
    {
     "name": "stderr",
     "output_type": "stream",
     "text": [
      " 56%|███████████████████████████████████████████▎                                  | 1112/2000 [22:16<26:01,  1.76s/it]"
     ]
    },
    {
     "name": "stdout",
     "output_type": "stream",
     "text": [
      "Crawl comment page 1 success!!!\n",
      "Crawl comment for product 26114399\n",
      "Crawl comment page 0 success!!!\n"
     ]
    },
    {
     "name": "stderr",
     "output_type": "stream",
     "text": [
      " 56%|███████████████████████████████████████████▍                                  | 1113/2000 [22:21<40:32,  2.74s/it]"
     ]
    },
    {
     "name": "stdout",
     "output_type": "stream",
     "text": [
      "Crawl comment page 1 success!!!\n",
      "Crawl comment for product 17493916\n",
      "Crawl comment page 0 success!!!\n"
     ]
    },
    {
     "name": "stderr",
     "output_type": "stream",
     "text": [
      " 56%|███████████████████████████████████████████▍                                  | 1114/2000 [22:23<37:33,  2.54s/it]"
     ]
    },
    {
     "name": "stdout",
     "output_type": "stream",
     "text": [
      "Crawl comment page 1 success!!!\n",
      "Crawl comment for product 10095276\n",
      "Crawl comment page 0 success!!!\n"
     ]
    },
    {
     "name": "stderr",
     "output_type": "stream",
     "text": [
      " 56%|███████████████████████████████████████████▍                                  | 1115/2000 [22:25<33:37,  2.28s/it]"
     ]
    },
    {
     "name": "stdout",
     "output_type": "stream",
     "text": [
      "Crawl comment page 1 success!!!\n",
      "Crawl comment for product 7775761\n",
      "Crawl comment page 0 success!!!\n"
     ]
    },
    {
     "name": "stderr",
     "output_type": "stream",
     "text": [
      " 56%|███████████████████████████████████████████▌                                  | 1116/2000 [22:26<26:40,  1.81s/it]"
     ]
    },
    {
     "name": "stdout",
     "output_type": "stream",
     "text": [
      "Crawl comment page 1 success!!!\n",
      "Crawl comment for product 7718737\n",
      "Crawl comment page 0 success!!!\n"
     ]
    },
    {
     "name": "stderr",
     "output_type": "stream",
     "text": [
      " 56%|███████████████████████████████████████████▌                                  | 1117/2000 [22:27<25:12,  1.71s/it]"
     ]
    },
    {
     "name": "stdout",
     "output_type": "stream",
     "text": [
      "Crawl comment page 1 success!!!\n",
      "Crawl comment for product 2776871\n",
      "Crawl comment page 0 success!!!\n"
     ]
    },
    {
     "name": "stderr",
     "output_type": "stream",
     "text": [
      " 56%|███████████████████████████████████████████▌                                  | 1118/2000 [22:29<23:34,  1.60s/it]"
     ]
    },
    {
     "name": "stdout",
     "output_type": "stream",
     "text": [
      "Crawl comment page 1 success!!!\n",
      "Crawl comment for product 535170\n",
      "Crawl comment page 0 success!!!\n"
     ]
    },
    {
     "name": "stderr",
     "output_type": "stream",
     "text": [
      " 56%|███████████████████████████████████████████▋                                  | 1119/2000 [22:29<17:55,  1.22s/it]"
     ]
    },
    {
     "name": "stdout",
     "output_type": "stream",
     "text": [
      "Crawl comment page 1 success!!!\n",
      "Crawl comment for product 452798\n",
      "Crawl comment page 0 success!!!\n"
     ]
    },
    {
     "name": "stderr",
     "output_type": "stream",
     "text": [
      " 56%|███████████████████████████████████████████▋                                  | 1121/2000 [22:30<11:14,  1.30it/s]"
     ]
    },
    {
     "name": "stdout",
     "output_type": "stream",
     "text": [
      "Crawl comment page 1 success!!!\n",
      "Crawl comment for product 278055537\n",
      "Crawl comment page 0 success!!!\n",
      "Crawl comment page 1 success!!!\n",
      "Crawl comment for product 278035268\n"
     ]
    },
    {
     "name": "stderr",
     "output_type": "stream",
     "text": [
      " 56%|███████████████████████████████████████████▊                                  | 1122/2000 [22:30<08:34,  1.71it/s]"
     ]
    },
    {
     "name": "stdout",
     "output_type": "stream",
     "text": [
      "Crawl comment page 0 success!!!\n",
      "Crawl comment page 1 success!!!\n",
      "Crawl comment for product 278029707\n",
      "Crawl comment page 0 success!!!\n"
     ]
    },
    {
     "name": "stderr",
     "output_type": "stream",
     "text": [
      " 56%|███████████████████████████████████████████▊                                  | 1124/2000 [22:32<10:16,  1.42it/s]"
     ]
    },
    {
     "name": "stdout",
     "output_type": "stream",
     "text": [
      "Crawl comment page 1 success!!!\n",
      "Crawl comment for product 277923264\n",
      "Crawl comment page 0 success!!!\n",
      "Crawl comment page 1 success!!!\n",
      "Crawl comment for product 277922893\n"
     ]
    },
    {
     "name": "stderr",
     "output_type": "stream",
     "text": [
      " 56%|███████████████████████████████████████████▉                                  | 1125/2000 [22:32<07:51,  1.86it/s]"
     ]
    },
    {
     "name": "stdout",
     "output_type": "stream",
     "text": [
      "Crawl comment page 0 success!!!\n",
      "Crawl comment page 1 success!!!\n",
      "Crawl comment for product 277780812\n"
     ]
    },
    {
     "name": "stderr",
     "output_type": "stream",
     "text": [
      " 56%|███████████████████████████████████████████▉                                  | 1126/2000 [22:32<06:43,  2.17it/s]"
     ]
    },
    {
     "name": "stdout",
     "output_type": "stream",
     "text": [
      "Crawl comment page 0 success!!!\n",
      "Crawl comment page 1 success!!!\n",
      "Crawl comment for product 277587065\n"
     ]
    },
    {
     "name": "stderr",
     "output_type": "stream",
     "text": [
      " 56%|███████████████████████████████████████████▉                                  | 1127/2000 [22:33<06:08,  2.37it/s]"
     ]
    },
    {
     "name": "stdout",
     "output_type": "stream",
     "text": [
      "Crawl comment page 0 success!!!\n",
      "Crawl comment page 1 success!!!\n",
      "Crawl comment for product 277348553\n",
      "Crawl comment page 0 success!!!\n"
     ]
    },
    {
     "name": "stderr",
     "output_type": "stream",
     "text": [
      " 56%|███████████████████████████████████████████▉                                  | 1128/2000 [22:34<08:47,  1.65it/s]"
     ]
    },
    {
     "name": "stdout",
     "output_type": "stream",
     "text": [
      "Crawl comment page 1 success!!!\n",
      "Crawl comment for product 276800483\n",
      "Crawl comment page 0 success!!!\n"
     ]
    },
    {
     "name": "stderr",
     "output_type": "stream",
     "text": [
      " 56%|████████████████████████████████████████████                                  | 1129/2000 [22:34<07:12,  2.01it/s]"
     ]
    },
    {
     "name": "stdout",
     "output_type": "stream",
     "text": [
      "Crawl comment page 1 success!!!\n",
      "Crawl comment for product 276412450\n",
      "Crawl comment page 0 success!!!\n"
     ]
    },
    {
     "name": "stderr",
     "output_type": "stream",
     "text": [
      " 56%|████████████████████████████████████████████                                  | 1130/2000 [22:34<06:52,  2.11it/s]"
     ]
    },
    {
     "name": "stdout",
     "output_type": "stream",
     "text": [
      "Crawl comment page 1 success!!!\n",
      "Crawl comment for product 276346703\n",
      "Crawl comment page 0 success!!!\n"
     ]
    },
    {
     "name": "stderr",
     "output_type": "stream",
     "text": [
      " 57%|████████████████████████████████████████████                                  | 1131/2000 [22:36<11:12,  1.29it/s]"
     ]
    },
    {
     "name": "stdout",
     "output_type": "stream",
     "text": [
      "Crawl comment page 1 success!!!\n",
      "Crawl comment for product 276289473\n",
      "Crawl comment page 0 success!!!\n"
     ]
    },
    {
     "name": "stderr",
     "output_type": "stream",
     "text": [
      " 57%|████████████████████████████████████████████▏                                 | 1132/2000 [22:37<12:47,  1.13it/s]"
     ]
    },
    {
     "name": "stdout",
     "output_type": "stream",
     "text": [
      "Crawl comment page 1 success!!!\n",
      "Crawl comment for product 276074174\n",
      "Crawl comment page 0 success!!!\n"
     ]
    },
    {
     "name": "stderr",
     "output_type": "stream",
     "text": [
      " 57%|████████████████████████████████████████████▏                                 | 1133/2000 [22:37<11:42,  1.23it/s]"
     ]
    },
    {
     "name": "stdout",
     "output_type": "stream",
     "text": [
      "Crawl comment page 1 success!!!\n",
      "Crawl comment for product 274599269\n",
      "Crawl comment page 0 success!!!\n"
     ]
    },
    {
     "name": "stderr",
     "output_type": "stream",
     "text": [
      " 57%|████████████████████████████████████████████▏                                 | 1134/2000 [22:41<22:33,  1.56s/it]"
     ]
    },
    {
     "name": "stdout",
     "output_type": "stream",
     "text": [
      "Crawl comment page 1 success!!!\n",
      "Crawl comment for product 274566783\n",
      "Crawl comment page 0 success!!!\n"
     ]
    },
    {
     "name": "stderr",
     "output_type": "stream",
     "text": [
      " 57%|████████████████████████████████████████████▎                                 | 1135/2000 [22:43<24:53,  1.73s/it]"
     ]
    },
    {
     "name": "stdout",
     "output_type": "stream",
     "text": [
      "Crawl comment page 1 success!!!\n",
      "Crawl comment for product 274242084\n",
      "Crawl comment page 0 success!!!\n"
     ]
    },
    {
     "name": "stderr",
     "output_type": "stream",
     "text": [
      " 57%|████████████████████████████████████████████▎                                 | 1136/2000 [22:46<32:09,  2.23s/it]"
     ]
    },
    {
     "name": "stdout",
     "output_type": "stream",
     "text": [
      "Crawl comment page 1 success!!!\n",
      "Crawl comment for product 274057079\n",
      "Crawl comment page 0 success!!!\n"
     ]
    },
    {
     "name": "stderr",
     "output_type": "stream",
     "text": [
      " 57%|████████████████████████████████████████████▎                                 | 1137/2000 [22:47<23:46,  1.65s/it]"
     ]
    },
    {
     "name": "stdout",
     "output_type": "stream",
     "text": [
      "Crawl comment page 1 success!!!\n",
      "Crawl comment for product 273848253\n",
      "Crawl comment page 0 success!!!\n"
     ]
    },
    {
     "name": "stderr",
     "output_type": "stream",
     "text": [
      " 57%|████████████████████████████████████████████▍                                 | 1138/2000 [22:48<21:47,  1.52s/it]"
     ]
    },
    {
     "name": "stdout",
     "output_type": "stream",
     "text": [
      "Crawl comment page 1 success!!!\n",
      "Crawl comment for product 273280353\n",
      "Crawl comment page 0 success!!!\n"
     ]
    },
    {
     "name": "stderr",
     "output_type": "stream",
     "text": [
      " 57%|████████████████████████████████████████████▍                                 | 1139/2000 [22:50<22:59,  1.60s/it]"
     ]
    },
    {
     "name": "stdout",
     "output_type": "stream",
     "text": [
      "Crawl comment page 1 success!!!\n",
      "Crawl comment for product 251942839\n",
      "Crawl comment page 0 success!!!\n"
     ]
    },
    {
     "name": "stderr",
     "output_type": "stream",
     "text": [
      " 57%|████████████████████████████████████████████▍                                 | 1140/2000 [22:50<17:31,  1.22s/it]"
     ]
    },
    {
     "name": "stdout",
     "output_type": "stream",
     "text": [
      "Crawl comment page 1 success!!!\n",
      "Crawl comment for product 214186194\n",
      "Crawl comment page 0 success!!!\n"
     ]
    },
    {
     "name": "stderr",
     "output_type": "stream",
     "text": [
      " 57%|████████████████████████████████████████████▍                                 | 1141/2000 [22:52<19:30,  1.36s/it]"
     ]
    },
    {
     "name": "stdout",
     "output_type": "stream",
     "text": [
      "Crawl comment page 1 success!!!\n",
      "Crawl comment for product 206678865\n",
      "Crawl comment page 0 success!!!\n"
     ]
    },
    {
     "name": "stderr",
     "output_type": "stream",
     "text": [
      " 57%|████████████████████████████████████████████▌                                 | 1142/2000 [22:54<23:32,  1.65s/it]"
     ]
    },
    {
     "name": "stdout",
     "output_type": "stream",
     "text": [
      "Crawl comment page 1 success!!!\n",
      "Crawl comment for product 192948869\n",
      "Crawl comment page 0 success!!!\n"
     ]
    },
    {
     "name": "stderr",
     "output_type": "stream",
     "text": [
      " 57%|████████████████████████████████████████████▌                                 | 1143/2000 [22:55<19:09,  1.34s/it]"
     ]
    },
    {
     "name": "stdout",
     "output_type": "stream",
     "text": [
      "Crawl comment page 1 success!!!\n",
      "Crawl comment for product 184782104\n",
      "Crawl comment page 0 success!!!\n"
     ]
    },
    {
     "name": "stderr",
     "output_type": "stream",
     "text": [
      " 57%|████████████████████████████████████████████▌                                 | 1144/2000 [22:56<20:28,  1.44s/it]"
     ]
    },
    {
     "name": "stdout",
     "output_type": "stream",
     "text": [
      "Crawl comment page 1 success!!!\n",
      "Crawl comment for product 127649070\n",
      "Crawl comment page 0 success!!!\n"
     ]
    },
    {
     "name": "stderr",
     "output_type": "stream",
     "text": [
      " 57%|████████████████████████████████████████████▋                                 | 1145/2000 [22:59<25:56,  1.82s/it]"
     ]
    },
    {
     "name": "stdout",
     "output_type": "stream",
     "text": [
      "Crawl comment page 1 success!!!\n",
      "Crawl comment for product 121372698\n",
      "Crawl comment page 0 success!!!\n"
     ]
    },
    {
     "name": "stderr",
     "output_type": "stream",
     "text": [
      " 57%|████████████████████████████████████████████▋                                 | 1146/2000 [23:00<23:03,  1.62s/it]"
     ]
    },
    {
     "name": "stdout",
     "output_type": "stream",
     "text": [
      "Crawl comment page 1 success!!!\n",
      "Crawl comment for product 112331969\n",
      "Crawl comment page 0 success!!!\n"
     ]
    },
    {
     "name": "stderr",
     "output_type": "stream",
     "text": [
      " 57%|████████████████████████████████████████████▋                                 | 1147/2000 [23:03<28:26,  2.00s/it]"
     ]
    },
    {
     "name": "stdout",
     "output_type": "stream",
     "text": [
      "Crawl comment page 1 success!!!\n",
      "Crawl comment for product 109765020\n",
      "Crawl comment page 0 success!!!\n"
     ]
    },
    {
     "name": "stderr",
     "output_type": "stream",
     "text": [
      " 57%|████████████████████████████████████████████▊                                 | 1148/2000 [23:05<27:49,  1.96s/it]"
     ]
    },
    {
     "name": "stdout",
     "output_type": "stream",
     "text": [
      "Crawl comment page 1 success!!!\n",
      "Crawl comment for product 96649478\n",
      "Crawl comment page 0 success!!!\n"
     ]
    },
    {
     "name": "stderr",
     "output_type": "stream",
     "text": [
      " 57%|████████████████████████████████████████████▊                                 | 1149/2000 [23:06<23:43,  1.67s/it]"
     ]
    },
    {
     "name": "stdout",
     "output_type": "stream",
     "text": [
      "Crawl comment page 1 success!!!\n",
      "Crawl comment for product 94878710\n",
      "Crawl comment page 0 success!!!\n"
     ]
    },
    {
     "name": "stderr",
     "output_type": "stream",
     "text": [
      " 57%|████████████████████████████████████████████▊                                 | 1150/2000 [23:07<21:50,  1.54s/it]"
     ]
    },
    {
     "name": "stdout",
     "output_type": "stream",
     "text": [
      "Crawl comment page 1 success!!!\n",
      "Crawl comment for product 75947774\n",
      "Crawl comment page 0 success!!!\n"
     ]
    },
    {
     "name": "stderr",
     "output_type": "stream",
     "text": [
      " 58%|████████████████████████████████████████████▉                                 | 1151/2000 [23:09<24:26,  1.73s/it]"
     ]
    },
    {
     "name": "stdout",
     "output_type": "stream",
     "text": [
      "Crawl comment page 1 success!!!\n",
      "Crawl comment for product 68059466\n",
      "Crawl comment page 0 success!!!\n"
     ]
    },
    {
     "name": "stderr",
     "output_type": "stream",
     "text": [
      " 58%|████████████████████████████████████████████▉                                 | 1152/2000 [23:12<29:41,  2.10s/it]"
     ]
    },
    {
     "name": "stdout",
     "output_type": "stream",
     "text": [
      "Crawl comment page 1 success!!!\n",
      "Crawl comment for product 52004412\n",
      "Crawl comment page 0 success!!!\n"
     ]
    },
    {
     "name": "stderr",
     "output_type": "stream",
     "text": [
      " 58%|████████████████████████████████████████████▉                                 | 1153/2000 [23:14<28:49,  2.04s/it]"
     ]
    },
    {
     "name": "stdout",
     "output_type": "stream",
     "text": [
      "Crawl comment page 1 success!!!\n",
      "Crawl comment for product 50723822\n",
      "Crawl comment page 0 success!!!\n"
     ]
    },
    {
     "name": "stderr",
     "output_type": "stream",
     "text": [
      " 58%|█████████████████████████████████████████████                                 | 1154/2000 [23:16<28:52,  2.05s/it]"
     ]
    },
    {
     "name": "stdout",
     "output_type": "stream",
     "text": [
      "Crawl comment page 1 success!!!\n",
      "Crawl comment for product 49884647\n",
      "Crawl comment page 0 success!!!\n"
     ]
    },
    {
     "name": "stderr",
     "output_type": "stream",
     "text": [
      " 58%|█████████████████████████████████████████████                                 | 1155/2000 [23:18<28:44,  2.04s/it]"
     ]
    },
    {
     "name": "stdout",
     "output_type": "stream",
     "text": [
      "Crawl comment page 1 success!!!\n",
      "Crawl comment for product 32219488\n",
      "Crawl comment page 0 success!!!\n"
     ]
    },
    {
     "name": "stderr",
     "output_type": "stream",
     "text": [
      " 58%|█████████████████████████████████████████████                                 | 1156/2000 [23:21<30:25,  2.16s/it]"
     ]
    },
    {
     "name": "stdout",
     "output_type": "stream",
     "text": [
      "Crawl comment page 1 success!!!\n",
      "Crawl comment for product 13446508\n",
      "Crawl comment page 0 success!!!\n"
     ]
    },
    {
     "name": "stderr",
     "output_type": "stream",
     "text": [
      " 58%|█████████████████████████████████████████████                                 | 1157/2000 [23:23<29:42,  2.12s/it]"
     ]
    },
    {
     "name": "stdout",
     "output_type": "stream",
     "text": [
      "Crawl comment page 1 success!!!\n",
      "Crawl comment for product 8835159\n",
      "Crawl comment page 0 success!!!\n"
     ]
    },
    {
     "name": "stderr",
     "output_type": "stream",
     "text": [
      " 58%|█████████████████████████████████████████████▏                                | 1158/2000 [23:25<31:37,  2.25s/it]"
     ]
    },
    {
     "name": "stdout",
     "output_type": "stream",
     "text": [
      "Crawl comment page 1 success!!!\n",
      "Crawl comment for product 5023493\n",
      "Crawl comment page 0 success!!!\n"
     ]
    },
    {
     "name": "stderr",
     "output_type": "stream",
     "text": [
      " 58%|█████████████████████████████████████████████▏                                | 1159/2000 [23:27<30:57,  2.21s/it]"
     ]
    },
    {
     "name": "stdout",
     "output_type": "stream",
     "text": [
      "Crawl comment page 1 success!!!\n",
      "Crawl comment for product 997535\n",
      "Crawl comment page 0 success!!!\n"
     ]
    },
    {
     "name": "stderr",
     "output_type": "stream",
     "text": [
      " 58%|█████████████████████████████████████████████▏                                | 1160/2000 [23:29<28:09,  2.01s/it]"
     ]
    },
    {
     "name": "stdout",
     "output_type": "stream",
     "text": [
      "Crawl comment page 1 success!!!\n",
      "Crawl comment for product 278160576\n",
      "Crawl comment page 0 success!!!\n"
     ]
    },
    {
     "name": "stderr",
     "output_type": "stream",
     "text": [
      " 58%|█████████████████████████████████████████████▎                                | 1161/2000 [23:29<20:46,  1.49s/it]"
     ]
    },
    {
     "name": "stdout",
     "output_type": "stream",
     "text": [
      "Crawl comment page 1 success!!!\n",
      "Crawl comment for product 278076371\n",
      "Crawl comment page 0 success!!!\n"
     ]
    },
    {
     "name": "stderr",
     "output_type": "stream",
     "text": [
      " 58%|█████████████████████████████████████████████▎                                | 1163/2000 [23:30<12:06,  1.15it/s]"
     ]
    },
    {
     "name": "stdout",
     "output_type": "stream",
     "text": [
      "Crawl comment page 1 success!!!\n",
      "Crawl comment for product 277923293\n",
      "Crawl comment page 0 success!!!\n",
      "Crawl comment page 1 success!!!\n",
      "Crawl comment for product 277742606\n"
     ]
    },
    {
     "name": "stderr",
     "output_type": "stream",
     "text": [
      " 58%|█████████████████████████████████████████████▍                                | 1164/2000 [23:30<10:09,  1.37it/s]"
     ]
    },
    {
     "name": "stdout",
     "output_type": "stream",
     "text": [
      "Crawl comment page 0 success!!!\n",
      "Crawl comment page 1 success!!!\n",
      "Crawl comment for product 277526020\n"
     ]
    },
    {
     "name": "stderr",
     "output_type": "stream",
     "text": [
      " 58%|█████████████████████████████████████████████▍                                | 1165/2000 [23:30<07:46,  1.79it/s]"
     ]
    },
    {
     "name": "stdout",
     "output_type": "stream",
     "text": [
      "Crawl comment page 0 success!!!\n",
      "Crawl comment page 1 success!!!\n",
      "Crawl comment for product 277315129\n",
      "Crawl comment page 0 success!!!\n"
     ]
    },
    {
     "name": "stderr",
     "output_type": "stream",
     "text": [
      " 58%|█████████████████████████████████████████████▌                                | 1167/2000 [23:31<04:46,  2.91it/s]"
     ]
    },
    {
     "name": "stdout",
     "output_type": "stream",
     "text": [
      "Crawl comment page 1 success!!!\n",
      "Crawl comment for product 276930927\n",
      "Crawl comment page 0 success!!!\n",
      "Crawl comment page 1 success!!!\n",
      "Crawl comment for product 276418965\n",
      "Crawl comment page 0 success!!!\n"
     ]
    },
    {
     "name": "stderr",
     "output_type": "stream",
     "text": [
      " 58%|█████████████████████████████████████████████▌                                | 1168/2000 [23:32<10:10,  1.36it/s]"
     ]
    },
    {
     "name": "stdout",
     "output_type": "stream",
     "text": [
      "Crawl comment page 1 success!!!\n",
      "Crawl comment for product 276377311\n",
      "Crawl comment page 0 success!!!\n"
     ]
    },
    {
     "name": "stderr",
     "output_type": "stream",
     "text": [
      " 58%|█████████████████████████████████████████████▌                                | 1169/2000 [23:34<16:03,  1.16s/it]"
     ]
    },
    {
     "name": "stdout",
     "output_type": "stream",
     "text": [
      "Crawl comment page 1 success!!!\n",
      "Crawl comment for product 276076848\n",
      "Crawl comment page 0 success!!!\n"
     ]
    },
    {
     "name": "stderr",
     "output_type": "stream",
     "text": [
      " 58%|█████████████████████████████████████████████▋                                | 1170/2000 [23:36<17:48,  1.29s/it]"
     ]
    },
    {
     "name": "stdout",
     "output_type": "stream",
     "text": [
      "Crawl comment page 1 success!!!\n",
      "Crawl comment for product 275928713\n",
      "Crawl comment page 0 success!!!\n"
     ]
    },
    {
     "name": "stderr",
     "output_type": "stream",
     "text": [
      " 59%|█████████████████████████████████████████████▋                                | 1171/2000 [23:38<18:49,  1.36s/it]"
     ]
    },
    {
     "name": "stdout",
     "output_type": "stream",
     "text": [
      "Crawl comment page 1 success!!!\n",
      "Crawl comment for product 275601030\n",
      "Crawl comment page 0 success!!!\n"
     ]
    },
    {
     "name": "stderr",
     "output_type": "stream",
     "text": [
      " 59%|█████████████████████████████████████████████▋                                | 1172/2000 [23:38<14:12,  1.03s/it]"
     ]
    },
    {
     "name": "stdout",
     "output_type": "stream",
     "text": [
      "Crawl comment page 1 success!!!\n",
      "Crawl comment for product 275396866\n",
      "Crawl comment page 0 success!!!\n"
     ]
    },
    {
     "name": "stderr",
     "output_type": "stream",
     "text": [
      " 59%|█████████████████████████████████████████████▋                                | 1173/2000 [23:41<21:36,  1.57s/it]"
     ]
    },
    {
     "name": "stdout",
     "output_type": "stream",
     "text": [
      "Crawl comment page 1 success!!!\n",
      "Crawl comment for product 275354843\n",
      "Crawl comment page 0 success!!!\n"
     ]
    },
    {
     "name": "stderr",
     "output_type": "stream",
     "text": [
      " 59%|█████████████████████████████████████████████▊                                | 1174/2000 [23:41<17:57,  1.30s/it]"
     ]
    },
    {
     "name": "stdout",
     "output_type": "stream",
     "text": [
      "Crawl comment page 1 success!!!\n",
      "Crawl comment for product 275014414\n",
      "Crawl comment page 0 success!!!\n"
     ]
    },
    {
     "name": "stderr",
     "output_type": "stream",
     "text": [
      " 59%|█████████████████████████████████████████████▊                                | 1175/2000 [23:43<20:44,  1.51s/it]"
     ]
    },
    {
     "name": "stdout",
     "output_type": "stream",
     "text": [
      "Crawl comment page 1 success!!!\n",
      "Crawl comment for product 274466425\n",
      "Crawl comment page 0 success!!!\n"
     ]
    },
    {
     "name": "stderr",
     "output_type": "stream",
     "text": [
      " 59%|█████████████████████████████████████████████▊                                | 1176/2000 [23:46<25:09,  1.83s/it]"
     ]
    },
    {
     "name": "stdout",
     "output_type": "stream",
     "text": [
      "Crawl comment page 1 success!!!\n",
      "Crawl comment for product 274352192\n",
      "Crawl comment page 0 success!!!\n"
     ]
    },
    {
     "name": "stderr",
     "output_type": "stream",
     "text": [
      " 59%|█████████████████████████████████████████████▉                                | 1177/2000 [23:49<30:45,  2.24s/it]"
     ]
    },
    {
     "name": "stdout",
     "output_type": "stream",
     "text": [
      "Crawl comment page 1 success!!!\n",
      "Crawl comment for product 273316208\n",
      "Crawl comment page 0 success!!!\n"
     ]
    },
    {
     "name": "stderr",
     "output_type": "stream",
     "text": [
      " 59%|█████████████████████████████████████████████▉                                | 1178/2000 [23:52<31:42,  2.31s/it]"
     ]
    },
    {
     "name": "stdout",
     "output_type": "stream",
     "text": [
      "Crawl comment page 1 success!!!\n",
      "Crawl comment for product 273119666\n",
      "Crawl comment page 0 success!!!\n"
     ]
    },
    {
     "name": "stderr",
     "output_type": "stream",
     "text": [
      " 59%|█████████████████████████████████████████████▉                                | 1179/2000 [23:53<29:45,  2.18s/it]"
     ]
    },
    {
     "name": "stdout",
     "output_type": "stream",
     "text": [
      "Crawl comment page 1 success!!!\n",
      "Crawl comment for product 270504803\n",
      "Crawl comment page 0 success!!!\n"
     ]
    },
    {
     "name": "stderr",
     "output_type": "stream",
     "text": [
      " 59%|██████████████████████████████████████████████                                | 1180/2000 [23:56<30:22,  2.22s/it]"
     ]
    },
    {
     "name": "stdout",
     "output_type": "stream",
     "text": [
      "Crawl comment page 1 success!!!\n",
      "Crawl comment for product 247843970\n",
      "Crawl comment page 0 success!!!\n"
     ]
    },
    {
     "name": "stderr",
     "output_type": "stream",
     "text": [
      " 59%|██████████████████████████████████████████████                                | 1182/2000 [23:58<21:42,  1.59s/it]"
     ]
    },
    {
     "name": "stdout",
     "output_type": "stream",
     "text": [
      "Crawl comment page 1 success!!!\n",
      "Crawl comment for product 217511194\n",
      "Crawl comment page 0 success!!!\n",
      "Crawl comment page 1 success!!!\n",
      "Crawl comment for product 217511050\n",
      "Crawl comment page 0 success!!!\n"
     ]
    },
    {
     "name": "stderr",
     "output_type": "stream",
     "text": [
      " 59%|██████████████████████████████████████████████▏                               | 1183/2000 [23:59<17:51,  1.31s/it]"
     ]
    },
    {
     "name": "stdout",
     "output_type": "stream",
     "text": [
      "Crawl comment page 1 success!!!\n",
      "Crawl comment for product 217510923\n",
      "Crawl comment page 0 success!!!\n"
     ]
    },
    {
     "name": "stderr",
     "output_type": "stream",
     "text": [
      " 59%|██████████████████████████████████████████████▏                               | 1184/2000 [23:59<13:30,  1.01it/s]"
     ]
    },
    {
     "name": "stdout",
     "output_type": "stream",
     "text": [
      "Crawl comment page 1 success!!!\n",
      "Crawl comment for product 209891492\n",
      "Crawl comment page 0 success!!!\n"
     ]
    },
    {
     "name": "stderr",
     "output_type": "stream",
     "text": [
      " 59%|██████████████████████████████████████████████▏                               | 1185/2000 [24:00<15:01,  1.11s/it]"
     ]
    },
    {
     "name": "stdout",
     "output_type": "stream",
     "text": [
      "Crawl comment page 1 success!!!\n",
      "Crawl comment for product 195624160\n",
      "Crawl comment page 0 success!!!\n"
     ]
    },
    {
     "name": "stderr",
     "output_type": "stream",
     "text": [
      " 59%|██████████████████████████████████████████████▎                               | 1186/2000 [24:03<19:58,  1.47s/it]"
     ]
    },
    {
     "name": "stdout",
     "output_type": "stream",
     "text": [
      "Crawl comment page 1 success!!!\n",
      "Crawl comment for product 194960720\n",
      "Crawl comment page 0 success!!!\n"
     ]
    },
    {
     "name": "stderr",
     "output_type": "stream",
     "text": [
      " 59%|██████████████████████████████████████████████▎                               | 1187/2000 [24:06<25:26,  1.88s/it]"
     ]
    },
    {
     "name": "stdout",
     "output_type": "stream",
     "text": [
      "Crawl comment page 1 success!!!\n",
      "Crawl comment for product 194205624\n",
      "Crawl comment page 0 success!!!\n"
     ]
    },
    {
     "name": "stderr",
     "output_type": "stream",
     "text": [
      " 59%|██████████████████████████████████████████████▎                               | 1188/2000 [24:08<26:35,  1.97s/it]"
     ]
    },
    {
     "name": "stdout",
     "output_type": "stream",
     "text": [
      "Crawl comment page 1 success!!!\n",
      "Crawl comment for product 185863050\n",
      "Crawl comment page 0 success!!!\n"
     ]
    },
    {
     "name": "stderr",
     "output_type": "stream",
     "text": [
      " 59%|██████████████████████████████████████████████▎                               | 1189/2000 [24:09<23:59,  1.78s/it]"
     ]
    },
    {
     "name": "stdout",
     "output_type": "stream",
     "text": [
      "Crawl comment page 1 success!!!\n",
      "Crawl comment for product 170706974\n",
      "Crawl comment page 0 success!!!\n"
     ]
    },
    {
     "name": "stderr",
     "output_type": "stream",
     "text": [
      " 60%|██████████████████████████████████████████████▍                               | 1190/2000 [24:11<24:16,  1.80s/it]"
     ]
    },
    {
     "name": "stdout",
     "output_type": "stream",
     "text": [
      "Crawl comment page 1 success!!!\n",
      "Crawl comment for product 113500861\n",
      "Crawl comment page 0 success!!!\n"
     ]
    },
    {
     "name": "stderr",
     "output_type": "stream",
     "text": [
      " 60%|██████████████████████████████████████████████▍                               | 1191/2000 [24:12<20:23,  1.51s/it]"
     ]
    },
    {
     "name": "stdout",
     "output_type": "stream",
     "text": [
      "Crawl comment page 1 success!!!\n",
      "Crawl comment for product 111537683\n",
      "Crawl comment page 0 success!!!\n"
     ]
    },
    {
     "name": "stderr",
     "output_type": "stream",
     "text": [
      " 60%|██████████████████████████████████████████████▍                               | 1192/2000 [24:14<21:35,  1.60s/it]"
     ]
    },
    {
     "name": "stdout",
     "output_type": "stream",
     "text": [
      "Crawl comment page 1 success!!!\n",
      "Crawl comment for product 96556588\n",
      "Crawl comment page 0 success!!!\n"
     ]
    },
    {
     "name": "stderr",
     "output_type": "stream",
     "text": [
      " 60%|██████████████████████████████████████████████▌                               | 1193/2000 [24:14<18:25,  1.37s/it]"
     ]
    },
    {
     "name": "stdout",
     "output_type": "stream",
     "text": [
      "Crawl comment page 1 success!!!\n",
      "Crawl comment for product 76776245\n",
      "Crawl comment page 0 success!!!\n"
     ]
    },
    {
     "name": "stderr",
     "output_type": "stream",
     "text": [
      " 60%|██████████████████████████████████████████████▌                               | 1194/2000 [24:16<19:15,  1.43s/it]"
     ]
    },
    {
     "name": "stdout",
     "output_type": "stream",
     "text": [
      "Crawl comment page 1 success!!!\n",
      "Crawl comment for product 39521136\n",
      "Crawl comment page 0 success!!!\n"
     ]
    },
    {
     "name": "stderr",
     "output_type": "stream",
     "text": [
      " 60%|██████████████████████████████████████████████▌                               | 1195/2000 [24:18<20:19,  1.52s/it]"
     ]
    },
    {
     "name": "stdout",
     "output_type": "stream",
     "text": [
      "Crawl comment page 1 success!!!\n",
      "Crawl comment for product 12377498\n",
      "Crawl comment page 0 success!!!\n"
     ]
    },
    {
     "name": "stderr",
     "output_type": "stream",
     "text": [
      " 60%|██████████████████████████████████████████████▋                               | 1196/2000 [24:21<27:04,  2.02s/it]"
     ]
    },
    {
     "name": "stdout",
     "output_type": "stream",
     "text": [
      "Crawl comment page 1 success!!!\n",
      "Crawl comment for product 10640993\n",
      "Crawl comment page 0 success!!!\n"
     ]
    },
    {
     "name": "stderr",
     "output_type": "stream",
     "text": [
      " 60%|██████████████████████████████████████████████▋                               | 1197/2000 [24:22<24:28,  1.83s/it]"
     ]
    },
    {
     "name": "stdout",
     "output_type": "stream",
     "text": [
      "Crawl comment page 1 success!!!\n",
      "Crawl comment for product 8121633\n",
      "Crawl comment page 0 success!!!\n"
     ]
    },
    {
     "name": "stderr",
     "output_type": "stream",
     "text": [
      " 60%|██████████████████████████████████████████████▋                               | 1198/2000 [24:25<27:10,  2.03s/it]"
     ]
    },
    {
     "name": "stdout",
     "output_type": "stream",
     "text": [
      "Crawl comment page 1 success!!!\n",
      "Crawl comment for product 8021467\n",
      "Crawl comment page 0 success!!!\n"
     ]
    },
    {
     "name": "stderr",
     "output_type": "stream",
     "text": [
      " 60%|██████████████████████████████████████████████▊                               | 1199/2000 [24:27<27:50,  2.09s/it]"
     ]
    },
    {
     "name": "stdout",
     "output_type": "stream",
     "text": [
      "Crawl comment page 1 success!!!\n",
      "Crawl comment for product 1702825\n",
      "Crawl comment page 0 success!!!\n"
     ]
    },
    {
     "name": "stderr",
     "output_type": "stream",
     "text": [
      " 60%|██████████████████████████████████████████████▊                               | 1201/2000 [24:29<20:26,  1.54s/it]"
     ]
    },
    {
     "name": "stdout",
     "output_type": "stream",
     "text": [
      "Crawl comment page 1 success!!!\n",
      "Crawl comment for product 278094959\n",
      "Crawl comment page 0 success!!!\n",
      "Crawl comment page 1 success!!!\n",
      "Crawl comment for product 278066256\n"
     ]
    },
    {
     "name": "stderr",
     "output_type": "stream",
     "text": [
      " 60%|██████████████████████████████████████████████▉                               | 1202/2000 [24:30<15:19,  1.15s/it]"
     ]
    },
    {
     "name": "stdout",
     "output_type": "stream",
     "text": [
      "Crawl comment page 0 success!!!\n",
      "Crawl comment page 1 success!!!\n",
      "Crawl comment for product 278055553\n",
      "Crawl comment page 0 success!!!\n"
     ]
    },
    {
     "name": "stderr",
     "output_type": "stream",
     "text": [
      " 60%|██████████████████████████████████████████████▉                               | 1203/2000 [24:30<11:10,  1.19it/s]"
     ]
    },
    {
     "name": "stdout",
     "output_type": "stream",
     "text": [
      "Crawl comment page 1 success!!!\n",
      "Crawl comment for product 277996735\n",
      "Crawl comment page 0 success!!!\n"
     ]
    },
    {
     "name": "stderr",
     "output_type": "stream",
     "text": [
      " 60%|██████████████████████████████████████████████▉                               | 1205/2000 [24:30<06:28,  2.05it/s]"
     ]
    },
    {
     "name": "stdout",
     "output_type": "stream",
     "text": [
      "Crawl comment page 1 success!!!\n",
      "Crawl comment for product 277989799\n",
      "Crawl comment page 0 success!!!\n",
      "Crawl comment page 1 success!!!\n",
      "Crawl comment for product 277876898\n"
     ]
    },
    {
     "name": "stderr",
     "output_type": "stream",
     "text": [
      " 60%|███████████████████████████████████████████████                               | 1206/2000 [24:30<05:30,  2.40it/s]"
     ]
    },
    {
     "name": "stdout",
     "output_type": "stream",
     "text": [
      "Crawl comment page 0 success!!!\n",
      "Crawl comment page 1 success!!!\n",
      "Crawl comment for product 277837824\n"
     ]
    },
    {
     "name": "stderr",
     "output_type": "stream",
     "text": [
      " 60%|███████████████████████████████████████████████                               | 1207/2000 [24:31<04:53,  2.70it/s]"
     ]
    },
    {
     "name": "stdout",
     "output_type": "stream",
     "text": [
      "Crawl comment page 0 success!!!\n",
      "Crawl comment page 1 success!!!\n",
      "Crawl comment for product 277521298\n"
     ]
    },
    {
     "name": "stderr",
     "output_type": "stream",
     "text": [
      " 60%|███████████████████████████████████████████████                               | 1208/2000 [24:31<05:00,  2.63it/s]"
     ]
    },
    {
     "name": "stdout",
     "output_type": "stream",
     "text": [
      "Crawl comment page 0 success!!!\n",
      "Crawl comment page 1 success!!!\n",
      "Crawl comment for product 277165432\n",
      "Crawl comment page 0 success!!!\n"
     ]
    },
    {
     "name": "stderr",
     "output_type": "stream",
     "text": [
      " 60%|███████████████████████████████████████████████▏                              | 1209/2000 [24:33<12:46,  1.03it/s]"
     ]
    },
    {
     "name": "stdout",
     "output_type": "stream",
     "text": [
      "Crawl comment page 1 success!!!\n",
      "Crawl comment for product 276525618\n",
      "Crawl comment page 0 success!!!\n"
     ]
    },
    {
     "name": "stderr",
     "output_type": "stream",
     "text": [
      " 60%|███████████████████████████████████████████████▏                              | 1210/2000 [24:35<15:12,  1.16s/it]"
     ]
    },
    {
     "name": "stdout",
     "output_type": "stream",
     "text": [
      "Crawl comment page 1 success!!!\n",
      "Crawl comment for product 276509008\n",
      "Crawl comment page 0 success!!!\n"
     ]
    },
    {
     "name": "stderr",
     "output_type": "stream",
     "text": [
      " 61%|███████████████████████████████████████████████▏                              | 1211/2000 [24:37<18:33,  1.41s/it]"
     ]
    },
    {
     "name": "stdout",
     "output_type": "stream",
     "text": [
      "Crawl comment page 1 success!!!\n",
      "Crawl comment for product 276467797\n",
      "Crawl comment page 0 success!!!\n"
     ]
    },
    {
     "name": "stderr",
     "output_type": "stream",
     "text": [
      " 61%|███████████████████████████████████████████████▎                              | 1212/2000 [24:39<21:08,  1.61s/it]"
     ]
    },
    {
     "name": "stdout",
     "output_type": "stream",
     "text": [
      "Crawl comment page 1 success!!!\n",
      "Crawl comment for product 276077657\n",
      "Crawl comment page 0 success!!!\n"
     ]
    },
    {
     "name": "stderr",
     "output_type": "stream",
     "text": [
      " 61%|███████████████████████████████████████████████▎                              | 1213/2000 [24:41<21:25,  1.63s/it]"
     ]
    },
    {
     "name": "stdout",
     "output_type": "stream",
     "text": [
      "Crawl comment page 1 success!!!\n",
      "Crawl comment for product 276077530\n",
      "Crawl comment page 0 success!!!\n"
     ]
    },
    {
     "name": "stderr",
     "output_type": "stream",
     "text": [
      " 61%|███████████████████████████████████████████████▎                              | 1214/2000 [24:43<26:00,  1.99s/it]"
     ]
    },
    {
     "name": "stdout",
     "output_type": "stream",
     "text": [
      "Crawl comment page 1 success!!!\n",
      "Crawl comment for product 275625701\n",
      "Crawl comment page 0 success!!!\n"
     ]
    },
    {
     "name": "stderr",
     "output_type": "stream",
     "text": [
      " 61%|███████████████████████████████████████████████▍                              | 1215/2000 [24:46<26:26,  2.02s/it]"
     ]
    },
    {
     "name": "stdout",
     "output_type": "stream",
     "text": [
      "Crawl comment page 1 success!!!\n",
      "Crawl comment for product 275215830\n"
     ]
    },
    {
     "name": "stderr",
     "output_type": "stream",
     "text": [
      " 61%|███████████████████████████████████████████████▍                              | 1216/2000 [24:46<20:07,  1.54s/it]"
     ]
    },
    {
     "name": "stdout",
     "output_type": "stream",
     "text": [
      "Crawl comment page 0 success!!!\n",
      "Crawl comment page 1 success!!!\n",
      "Crawl comment for product 274802501\n",
      "Crawl comment page 0 success!!!\n"
     ]
    },
    {
     "name": "stderr",
     "output_type": "stream",
     "text": [
      " 61%|███████████████████████████████████████████████▍                              | 1217/2000 [24:47<19:49,  1.52s/it]"
     ]
    },
    {
     "name": "stdout",
     "output_type": "stream",
     "text": [
      "Crawl comment page 1 success!!!\n",
      "Crawl comment for product 274724185\n",
      "Crawl comment page 0 success!!!\n"
     ]
    },
    {
     "name": "stderr",
     "output_type": "stream",
     "text": [
      " 61%|███████████████████████████████████████████████▌                              | 1218/2000 [24:49<20:11,  1.55s/it]"
     ]
    },
    {
     "name": "stdout",
     "output_type": "stream",
     "text": [
      "Crawl comment page 1 success!!!\n",
      "Crawl comment for product 273486371\n",
      "Crawl comment page 0 success!!!\n"
     ]
    },
    {
     "name": "stderr",
     "output_type": "stream",
     "text": [
      " 61%|███████████████████████████████████████████████▌                              | 1219/2000 [24:52<24:43,  1.90s/it]"
     ]
    },
    {
     "name": "stdout",
     "output_type": "stream",
     "text": [
      "Crawl comment page 1 success!!!\n",
      "Crawl comment for product 273464121\n",
      "Crawl comment page 0 success!!!\n"
     ]
    },
    {
     "name": "stderr",
     "output_type": "stream",
     "text": [
      " 61%|███████████████████████████████████████████████▌                              | 1220/2000 [24:55<29:09,  2.24s/it]"
     ]
    },
    {
     "name": "stdout",
     "output_type": "stream",
     "text": [
      "Crawl comment page 1 success!!!\n",
      "Crawl comment for product 273383957\n",
      "Crawl comment page 0 success!!!\n"
     ]
    },
    {
     "name": "stderr",
     "output_type": "stream",
     "text": [
      " 61%|███████████████████████████████████████████████▌                              | 1221/2000 [24:57<29:12,  2.25s/it]"
     ]
    },
    {
     "name": "stdout",
     "output_type": "stream",
     "text": [
      "Crawl comment page 1 success!!!\n",
      "Crawl comment for product 271782878\n",
      "Crawl comment page 0 success!!!\n"
     ]
    },
    {
     "name": "stderr",
     "output_type": "stream",
     "text": [
      " 61%|███████████████████████████████████████████████▋                              | 1222/2000 [25:01<34:47,  2.68s/it]"
     ]
    },
    {
     "name": "stdout",
     "output_type": "stream",
     "text": [
      "Crawl comment page 1 success!!!\n",
      "Crawl comment for product 253360429\n",
      "Crawl comment page 0 success!!!\n"
     ]
    },
    {
     "name": "stderr",
     "output_type": "stream",
     "text": [
      " 61%|███████████████████████████████████████████████▋                              | 1223/2000 [25:02<27:39,  2.14s/it]"
     ]
    },
    {
     "name": "stdout",
     "output_type": "stream",
     "text": [
      "Crawl comment page 1 success!!!\n",
      "Crawl comment for product 249160355\n",
      "Crawl comment page 0 success!!!\n"
     ]
    },
    {
     "name": "stderr",
     "output_type": "stream",
     "text": [
      " 61%|███████████████████████████████████████████████▋                              | 1224/2000 [25:04<29:51,  2.31s/it]"
     ]
    },
    {
     "name": "stdout",
     "output_type": "stream",
     "text": [
      "Crawl comment page 1 success!!!\n",
      "Crawl comment for product 248544490\n",
      "Crawl comment page 0 success!!!\n"
     ]
    },
    {
     "name": "stderr",
     "output_type": "stream",
     "text": [
      " 61%|███████████████████████████████████████████████▊                              | 1225/2000 [25:05<23:30,  1.82s/it]"
     ]
    },
    {
     "name": "stdout",
     "output_type": "stream",
     "text": [
      "Crawl comment page 1 success!!!\n",
      "Crawl comment for product 199216988\n",
      "Crawl comment page 0 success!!!\n"
     ]
    },
    {
     "name": "stderr",
     "output_type": "stream",
     "text": [
      " 61%|███████████████████████████████████████████████▊                              | 1226/2000 [25:07<25:14,  1.96s/it]"
     ]
    },
    {
     "name": "stdout",
     "output_type": "stream",
     "text": [
      "Crawl comment page 1 success!!!\n",
      "Crawl comment for product 198197156\n",
      "Crawl comment page 0 success!!!\n"
     ]
    },
    {
     "name": "stderr",
     "output_type": "stream",
     "text": [
      " 61%|███████████████████████████████████████████████▊                              | 1227/2000 [25:10<28:29,  2.21s/it]"
     ]
    },
    {
     "name": "stdout",
     "output_type": "stream",
     "text": [
      "Crawl comment page 1 success!!!\n",
      "Crawl comment for product 196150464\n",
      "Crawl comment page 0 success!!!\n"
     ]
    },
    {
     "name": "stderr",
     "output_type": "stream",
     "text": [
      " 61%|███████████████████████████████████████████████▉                              | 1228/2000 [25:12<26:36,  2.07s/it]"
     ]
    },
    {
     "name": "stdout",
     "output_type": "stream",
     "text": [
      "Crawl comment page 1 success!!!\n",
      "Crawl comment for product 174842858\n",
      "Crawl comment page 0 success!!!\n"
     ]
    },
    {
     "name": "stderr",
     "output_type": "stream",
     "text": [
      " 61%|███████████████████████████████████████████████▉                              | 1229/2000 [25:14<26:09,  2.04s/it]"
     ]
    },
    {
     "name": "stdout",
     "output_type": "stream",
     "text": [
      "Crawl comment page 1 success!!!\n",
      "Crawl comment for product 171549946\n",
      "Crawl comment page 0 success!!!\n"
     ]
    },
    {
     "name": "stderr",
     "output_type": "stream",
     "text": [
      " 62%|███████████████████████████████████████████████▉                              | 1230/2000 [25:15<24:43,  1.93s/it]"
     ]
    },
    {
     "name": "stdout",
     "output_type": "stream",
     "text": [
      "Crawl comment page 1 success!!!\n",
      "Crawl comment for product 146362939\n",
      "Crawl comment page 0 success!!!\n"
     ]
    },
    {
     "name": "stderr",
     "output_type": "stream",
     "text": [
      " 62%|████████████████████████████████████████████████                              | 1231/2000 [25:16<20:04,  1.57s/it]"
     ]
    },
    {
     "name": "stdout",
     "output_type": "stream",
     "text": [
      "Crawl comment page 1 success!!!\n",
      "Crawl comment for product 138107485\n",
      "Crawl comment page 0 success!!!\n"
     ]
    },
    {
     "name": "stderr",
     "output_type": "stream",
     "text": [
      " 62%|████████████████████████████████████████████████                              | 1232/2000 [25:18<20:58,  1.64s/it]"
     ]
    },
    {
     "name": "stdout",
     "output_type": "stream",
     "text": [
      "Crawl comment page 1 success!!!\n",
      "Crawl comment for product 111290700\n",
      "Crawl comment page 0 success!!!\n"
     ]
    },
    {
     "name": "stderr",
     "output_type": "stream",
     "text": [
      " 62%|████████████████████████████████████████████████                              | 1233/2000 [25:20<21:33,  1.69s/it]"
     ]
    },
    {
     "name": "stdout",
     "output_type": "stream",
     "text": [
      "Crawl comment page 1 success!!!\n",
      "Crawl comment for product 96578663\n",
      "Crawl comment page 0 success!!!\n"
     ]
    },
    {
     "name": "stderr",
     "output_type": "stream",
     "text": [
      " 62%|████████████████████████████████████████████████▏                             | 1234/2000 [25:21<17:48,  1.39s/it]"
     ]
    },
    {
     "name": "stdout",
     "output_type": "stream",
     "text": [
      "Crawl comment page 1 success!!!\n",
      "Crawl comment for product 73222804\n",
      "Crawl comment page 0 success!!!\n"
     ]
    },
    {
     "name": "stderr",
     "output_type": "stream",
     "text": [
      " 62%|████████████████████████████████████████████████▏                             | 1235/2000 [25:23<21:08,  1.66s/it]"
     ]
    },
    {
     "name": "stdout",
     "output_type": "stream",
     "text": [
      "Crawl comment page 1 success!!!\n",
      "Crawl comment for product 71957923\n",
      "Crawl comment page 0 success!!!\n"
     ]
    },
    {
     "name": "stderr",
     "output_type": "stream",
     "text": [
      " 62%|████████████████████████████████████████████████▏                             | 1236/2000 [25:25<23:20,  1.83s/it]"
     ]
    },
    {
     "name": "stdout",
     "output_type": "stream",
     "text": [
      "Crawl comment page 1 success!!!\n",
      "Crawl comment for product 57815506\n",
      "Crawl comment page 0 success!!!\n"
     ]
    },
    {
     "name": "stderr",
     "output_type": "stream",
     "text": [
      " 62%|████████████████████████████████████████████████▏                             | 1237/2000 [25:26<21:18,  1.68s/it]"
     ]
    },
    {
     "name": "stdout",
     "output_type": "stream",
     "text": [
      "Crawl comment page 1 success!!!\n",
      "Crawl comment for product 48481763\n",
      "Crawl comment page 0 success!!!\n"
     ]
    },
    {
     "name": "stderr",
     "output_type": "stream",
     "text": [
      " 62%|████████████████████████████████████████████████▎                             | 1238/2000 [25:30<27:18,  2.15s/it]"
     ]
    },
    {
     "name": "stdout",
     "output_type": "stream",
     "text": [
      "Crawl comment page 1 success!!!\n",
      "Crawl comment for product 10227722\n",
      "Crawl comment page 0 success!!!\n"
     ]
    },
    {
     "name": "stderr",
     "output_type": "stream",
     "text": [
      " 62%|████████████████████████████████████████████████▎                             | 1239/2000 [25:32<26:53,  2.12s/it]"
     ]
    },
    {
     "name": "stdout",
     "output_type": "stream",
     "text": [
      "Crawl comment page 1 success!!!\n",
      "Crawl comment for product 471954\n",
      "Crawl comment page 0 success!!!\n"
     ]
    },
    {
     "name": "stderr",
     "output_type": "stream",
     "text": [
      " 62%|████████████████████████████████████████████████▍                             | 1241/2000 [25:34<18:42,  1.48s/it]"
     ]
    },
    {
     "name": "stdout",
     "output_type": "stream",
     "text": [
      "Crawl comment page 1 success!!!\n",
      "Crawl comment for product 278123426\n",
      "Crawl comment page 0 success!!!\n",
      "Crawl comment page 1 success!!!\n",
      "Crawl comment for product 278119232\n"
     ]
    },
    {
     "name": "stderr",
     "output_type": "stream",
     "text": [
      " 62%|████████████████████████████████████████████████▍                             | 1242/2000 [25:34<13:29,  1.07s/it]"
     ]
    },
    {
     "name": "stdout",
     "output_type": "stream",
     "text": [
      "Crawl comment page 0 success!!!\n",
      "Crawl comment page 1 success!!!\n",
      "Crawl comment for product 278070727\n",
      "Crawl comment page 0 success!!!\n"
     ]
    },
    {
     "name": "stderr",
     "output_type": "stream",
     "text": [
      " 62%|████████████████████████████████████████████████▌                             | 1244/2000 [25:34<07:23,  1.70it/s]"
     ]
    },
    {
     "name": "stdout",
     "output_type": "stream",
     "text": [
      "Crawl comment page 1 success!!!\n",
      "Crawl comment for product 278017618\n",
      "Crawl comment page 0 success!!!\n",
      "Crawl comment page 1 success!!!\n",
      "Crawl comment for product 277982210\n"
     ]
    },
    {
     "name": "stderr",
     "output_type": "stream",
     "text": [
      " 62%|████████████████████████████████████████████████▌                             | 1245/2000 [25:34<06:00,  2.10it/s]"
     ]
    },
    {
     "name": "stdout",
     "output_type": "stream",
     "text": [
      "Crawl comment page 0 success!!!\n",
      "Crawl comment page 1 success!!!\n",
      "Crawl comment for product 277973805\n",
      "Crawl comment page 0 success!!!\n"
     ]
    },
    {
     "name": "stderr",
     "output_type": "stream",
     "text": [
      " 62%|████████████████████████████████████████████████▌                             | 1246/2000 [25:34<04:36,  2.73it/s]"
     ]
    },
    {
     "name": "stdout",
     "output_type": "stream",
     "text": [
      "Crawl comment page 1 success!!!\n",
      "Crawl comment for product 277969346\n",
      "Crawl comment page 0 success!!!\n"
     ]
    },
    {
     "name": "stderr",
     "output_type": "stream",
     "text": [
      " 62%|████████████████████████████████████████████████▋                             | 1248/2000 [25:35<03:34,  3.51it/s]"
     ]
    },
    {
     "name": "stdout",
     "output_type": "stream",
     "text": [
      "Crawl comment page 1 success!!!\n",
      "Crawl comment for product 277920159\n",
      "Crawl comment page 0 success!!!\n",
      "Crawl comment page 1 success!!!\n",
      "Crawl comment for product 277722355\n"
     ]
    },
    {
     "name": "stderr",
     "output_type": "stream",
     "text": [
      " 62%|████████████████████████████████████████████████▋                             | 1249/2000 [25:35<03:54,  3.20it/s]"
     ]
    },
    {
     "name": "stdout",
     "output_type": "stream",
     "text": [
      "Crawl comment page 0 success!!!\n",
      "Crawl comment page 1 success!!!\n",
      "Crawl comment for product 277585868\n"
     ]
    },
    {
     "name": "stderr",
     "output_type": "stream",
     "text": [
      " 62%|████████████████████████████████████████████████▊                             | 1250/2000 [25:35<03:19,  3.75it/s]"
     ]
    },
    {
     "name": "stdout",
     "output_type": "stream",
     "text": [
      "Crawl comment page 0 success!!!\n",
      "Crawl comment page 1 success!!!\n",
      "Crawl comment for product 277585864\n"
     ]
    },
    {
     "name": "stderr",
     "output_type": "stream",
     "text": [
      " 63%|████████████████████████████████████████████████▊                             | 1251/2000 [25:36<03:57,  3.16it/s]"
     ]
    },
    {
     "name": "stdout",
     "output_type": "stream",
     "text": [
      "Crawl comment page 0 success!!!\n",
      "Crawl comment page 1 success!!!\n",
      "Crawl comment for product 277444216\n",
      "Crawl comment page 0 success!!!\n"
     ]
    },
    {
     "name": "stderr",
     "output_type": "stream",
     "text": [
      " 63%|████████████████████████████████████████████████▊                             | 1252/2000 [25:38<12:53,  1.03s/it]"
     ]
    },
    {
     "name": "stdout",
     "output_type": "stream",
     "text": [
      "Crawl comment page 1 success!!!\n",
      "Crawl comment for product 276649996\n",
      "Crawl comment page 0 success!!!\n"
     ]
    },
    {
     "name": "stderr",
     "output_type": "stream",
     "text": [
      " 63%|████████████████████████████████████████████████▊                             | 1253/2000 [25:39<12:12,  1.02it/s]"
     ]
    },
    {
     "name": "stdout",
     "output_type": "stream",
     "text": [
      "Crawl comment page 1 success!!!\n",
      "Crawl comment for product 275840778\n",
      "Crawl comment page 0 success!!!\n"
     ]
    },
    {
     "name": "stderr",
     "output_type": "stream",
     "text": [
      " 63%|████████████████████████████████████████████████▉                             | 1254/2000 [25:40<09:20,  1.33it/s]"
     ]
    },
    {
     "name": "stdout",
     "output_type": "stream",
     "text": [
      "Crawl comment page 1 success!!!\n",
      "Crawl comment for product 275215658\n",
      "Crawl comment page 0 success!!!\n"
     ]
    },
    {
     "name": "stderr",
     "output_type": "stream",
     "text": [
      " 63%|████████████████████████████████████████████████▉                             | 1255/2000 [25:40<07:23,  1.68it/s]"
     ]
    },
    {
     "name": "stdout",
     "output_type": "stream",
     "text": [
      "Crawl comment page 1 success!!!\n",
      "Crawl comment for product 270224512\n",
      "Crawl comment page 0 success!!!\n"
     ]
    },
    {
     "name": "stderr",
     "output_type": "stream",
     "text": [
      " 63%|████████████████████████████████████████████████▉                             | 1256/2000 [25:40<06:30,  1.91it/s]"
     ]
    },
    {
     "name": "stdout",
     "output_type": "stream",
     "text": [
      "Crawl comment page 1 success!!!\n",
      "Crawl comment for product 263500714\n",
      "Crawl comment page 0 success!!!\n"
     ]
    },
    {
     "name": "stderr",
     "output_type": "stream",
     "text": [
      " 63%|█████████████████████████████████████████████████                             | 1257/2000 [25:42<12:56,  1.05s/it]"
     ]
    },
    {
     "name": "stdout",
     "output_type": "stream",
     "text": [
      "Crawl comment page 1 success!!!\n",
      "Crawl comment for product 212212206\n",
      "Crawl comment page 0 success!!!\n"
     ]
    },
    {
     "name": "stderr",
     "output_type": "stream",
     "text": [
      " 63%|█████████████████████████████████████████████████                             | 1258/2000 [25:45<17:42,  1.43s/it]"
     ]
    },
    {
     "name": "stdout",
     "output_type": "stream",
     "text": [
      "Crawl comment page 1 success!!!\n",
      "Crawl comment for product 199582064\n",
      "Crawl comment page 0 success!!!\n"
     ]
    },
    {
     "name": "stderr",
     "output_type": "stream",
     "text": [
      " 63%|█████████████████████████████████████████████████                             | 1259/2000 [25:46<15:19,  1.24s/it]"
     ]
    },
    {
     "name": "stdout",
     "output_type": "stream",
     "text": [
      "Crawl comment page 1 success!!!\n",
      "Crawl comment for product 191541149\n",
      "Crawl comment page 0 success!!!\n"
     ]
    },
    {
     "name": "stderr",
     "output_type": "stream",
     "text": [
      " 63%|█████████████████████████████████████████████████▏                            | 1260/2000 [25:46<11:36,  1.06it/s]"
     ]
    },
    {
     "name": "stdout",
     "output_type": "stream",
     "text": [
      "Crawl comment page 1 success!!!\n",
      "Crawl comment for product 185909442\n",
      "Crawl comment page 0 success!!!\n"
     ]
    },
    {
     "name": "stderr",
     "output_type": "stream",
     "text": [
      " 63%|█████████████████████████████████████████████████▏                            | 1261/2000 [25:48<15:27,  1.25s/it]"
     ]
    },
    {
     "name": "stdout",
     "output_type": "stream",
     "text": [
      "Crawl comment page 1 success!!!\n",
      "Crawl comment for product 182774477\n",
      "Crawl comment page 0 success!!!\n"
     ]
    },
    {
     "name": "stderr",
     "output_type": "stream",
     "text": [
      " 63%|█████████████████████████████████████████████████▏                            | 1262/2000 [25:49<15:37,  1.27s/it]"
     ]
    },
    {
     "name": "stdout",
     "output_type": "stream",
     "text": [
      "Crawl comment page 1 success!!!\n",
      "Crawl comment for product 161383826\n",
      "Crawl comment page 0 success!!!\n"
     ]
    },
    {
     "name": "stderr",
     "output_type": "stream",
     "text": [
      " 63%|█████████████████████████████████████████████████▎                            | 1263/2000 [25:51<18:43,  1.52s/it]"
     ]
    },
    {
     "name": "stdout",
     "output_type": "stream",
     "text": [
      "Crawl comment page 1 success!!!\n",
      "Crawl comment for product 157240665\n",
      "Crawl comment page 0 success!!!\n"
     ]
    },
    {
     "name": "stderr",
     "output_type": "stream",
     "text": [
      " 63%|█████████████████████████████████████████████████▎                            | 1264/2000 [25:53<21:35,  1.76s/it]"
     ]
    },
    {
     "name": "stdout",
     "output_type": "stream",
     "text": [
      "Crawl comment page 1 success!!!\n",
      "Crawl comment for product 154245455\n",
      "Crawl comment page 0 success!!!\n"
     ]
    },
    {
     "name": "stderr",
     "output_type": "stream",
     "text": [
      " 63%|█████████████████████████████████████████████████▎                            | 1265/2000 [25:55<20:36,  1.68s/it]"
     ]
    },
    {
     "name": "stdout",
     "output_type": "stream",
     "text": [
      "Crawl comment page 1 success!!!\n",
      "Crawl comment for product 120150394\n",
      "Crawl comment page 0 success!!!\n"
     ]
    },
    {
     "name": "stderr",
     "output_type": "stream",
     "text": [
      " 63%|█████████████████████████████████████████████████▎                            | 1266/2000 [25:56<17:08,  1.40s/it]"
     ]
    },
    {
     "name": "stdout",
     "output_type": "stream",
     "text": [
      "Crawl comment page 1 success!!!\n",
      "Crawl comment for product 111582631\n",
      "Crawl comment page 0 success!!!\n"
     ]
    },
    {
     "name": "stderr",
     "output_type": "stream",
     "text": [
      " 63%|█████████████████████████████████████████████████▍                            | 1267/2000 [25:57<18:08,  1.48s/it]"
     ]
    },
    {
     "name": "stdout",
     "output_type": "stream",
     "text": [
      "Crawl comment page 1 success!!!\n",
      "Crawl comment for product 111285050\n",
      "Crawl comment page 0 success!!!\n"
     ]
    },
    {
     "name": "stderr",
     "output_type": "stream",
     "text": [
      " 63%|█████████████████████████████████████████████████▍                            | 1268/2000 [25:59<18:43,  1.53s/it]"
     ]
    },
    {
     "name": "stdout",
     "output_type": "stream",
     "text": [
      "Crawl comment page 1 success!!!\n",
      "Crawl comment for product 90866359\n",
      "Crawl comment page 0 success!!!\n"
     ]
    },
    {
     "name": "stderr",
     "output_type": "stream",
     "text": [
      " 63%|█████████████████████████████████████████████████▍                            | 1269/2000 [26:02<21:59,  1.80s/it]"
     ]
    },
    {
     "name": "stdout",
     "output_type": "stream",
     "text": [
      "Crawl comment page 1 success!!!\n",
      "Crawl comment for product 75996801\n",
      "Crawl comment page 0 success!!!\n"
     ]
    },
    {
     "name": "stderr",
     "output_type": "stream",
     "text": [
      " 64%|█████████████████████████████████████████████████▌                            | 1270/2000 [26:04<23:10,  1.91s/it]"
     ]
    },
    {
     "name": "stdout",
     "output_type": "stream",
     "text": [
      "Crawl comment page 1 success!!!\n",
      "Crawl comment for product 74862932\n",
      "Crawl comment page 0 success!!!\n"
     ]
    },
    {
     "name": "stderr",
     "output_type": "stream",
     "text": [
      " 64%|█████████████████████████████████████████████████▌                            | 1271/2000 [26:05<20:22,  1.68s/it]"
     ]
    },
    {
     "name": "stdout",
     "output_type": "stream",
     "text": [
      "Crawl comment page 1 success!!!\n",
      "Crawl comment for product 69162891\n",
      "Crawl comment page 0 success!!!\n"
     ]
    },
    {
     "name": "stderr",
     "output_type": "stream",
     "text": [
      " 64%|█████████████████████████████████████████████████▌                            | 1272/2000 [26:06<18:11,  1.50s/it]"
     ]
    },
    {
     "name": "stdout",
     "output_type": "stream",
     "text": [
      "Crawl comment page 1 success!!!\n",
      "Crawl comment for product 66712456\n",
      "Crawl comment page 0 success!!!\n"
     ]
    },
    {
     "name": "stderr",
     "output_type": "stream",
     "text": [
      " 64%|█████████████████████████████████████████████████▋                            | 1273/2000 [26:07<17:20,  1.43s/it]"
     ]
    },
    {
     "name": "stdout",
     "output_type": "stream",
     "text": [
      "Crawl comment page 1 success!!!\n",
      "Crawl comment for product 66619715\n",
      "Crawl comment page 0 success!!!\n"
     ]
    },
    {
     "name": "stderr",
     "output_type": "stream",
     "text": [
      " 64%|█████████████████████████████████████████████████▋                            | 1274/2000 [26:09<17:29,  1.45s/it]"
     ]
    },
    {
     "name": "stdout",
     "output_type": "stream",
     "text": [
      "Crawl comment page 1 success!!!\n",
      "Crawl comment for product 24490036\n",
      "Crawl comment page 0 success!!!\n"
     ]
    },
    {
     "name": "stderr",
     "output_type": "stream",
     "text": [
      " 64%|█████████████████████████████████████████████████▋                            | 1275/2000 [26:10<16:14,  1.34s/it]"
     ]
    },
    {
     "name": "stdout",
     "output_type": "stream",
     "text": [
      "Crawl comment page 1 success!!!\n",
      "Crawl comment for product 13833466\n",
      "Crawl comment page 0 success!!!\n"
     ]
    },
    {
     "name": "stderr",
     "output_type": "stream",
     "text": [
      " 64%|█████████████████████████████████████████████████▊                            | 1276/2000 [26:11<15:18,  1.27s/it]"
     ]
    },
    {
     "name": "stdout",
     "output_type": "stream",
     "text": [
      "Crawl comment page 1 success!!!\n",
      "Crawl comment for product 8835131\n",
      "Crawl comment page 0 success!!!\n"
     ]
    },
    {
     "name": "stderr",
     "output_type": "stream",
     "text": [
      " 64%|█████████████████████████████████████████████████▊                            | 1277/2000 [26:13<16:58,  1.41s/it]"
     ]
    },
    {
     "name": "stdout",
     "output_type": "stream",
     "text": [
      "Crawl comment page 1 success!!!\n",
      "Crawl comment for product 8155348\n",
      "Crawl comment page 0 success!!!\n"
     ]
    },
    {
     "name": "stderr",
     "output_type": "stream",
     "text": [
      " 64%|█████████████████████████████████████████████████▊                            | 1278/2000 [26:14<17:32,  1.46s/it]"
     ]
    },
    {
     "name": "stdout",
     "output_type": "stream",
     "text": [
      "Crawl comment page 1 success!!!\n",
      "Crawl comment for product 7369223\n",
      "Crawl comment page 0 success!!!\n"
     ]
    },
    {
     "name": "stderr",
     "output_type": "stream",
     "text": [
      " 64%|█████████████████████████████████████████████████▉                            | 1279/2000 [26:16<19:10,  1.60s/it]"
     ]
    },
    {
     "name": "stdout",
     "output_type": "stream",
     "text": [
      "Crawl comment page 1 success!!!\n",
      "Crawl comment for product 3639597\n",
      "Crawl comment page 0 success!!!\n"
     ]
    },
    {
     "name": "stderr",
     "output_type": "stream",
     "text": [
      " 64%|█████████████████████████████████████████████████▉                            | 1281/2000 [26:19<17:30,  1.46s/it]"
     ]
    },
    {
     "name": "stdout",
     "output_type": "stream",
     "text": [
      "Crawl comment page 1 success!!!\n",
      "Crawl comment for product 278160055\n",
      "Crawl comment page 0 success!!!\n",
      "Crawl comment page 1 success!!!\n",
      "Crawl comment for product 278123447\n",
      "Crawl comment page 0 success!!!\n"
     ]
    },
    {
     "name": "stderr",
     "output_type": "stream",
     "text": [
      " 64%|██████████████████████████████████████████████████                            | 1283/2000 [26:20<09:28,  1.26it/s]"
     ]
    },
    {
     "name": "stdout",
     "output_type": "stream",
     "text": [
      "Crawl comment page 1 success!!!\n",
      "Crawl comment for product 278064365\n",
      "Crawl comment page 0 success!!!\n",
      "Crawl comment page 1 success!!!\n",
      "Crawl comment for product 277744663\n",
      "Crawl comment page 0 success!!!\n"
     ]
    },
    {
     "name": "stderr",
     "output_type": "stream",
     "text": [
      " 64%|██████████████████████████████████████████████████                            | 1285/2000 [26:20<07:01,  1.69it/s]"
     ]
    },
    {
     "name": "stdout",
     "output_type": "stream",
     "text": [
      "Crawl comment page 1 success!!!\n",
      "Crawl comment for product 276933744\n",
      "Crawl comment page 0 success!!!\n",
      "Crawl comment page 1 success!!!\n",
      "Crawl comment for product 275923492\n",
      "Crawl comment page 0 success!!!\n"
     ]
    },
    {
     "name": "stderr",
     "output_type": "stream",
     "text": [
      " 64%|██████████████████████████████████████████████████▏                           | 1286/2000 [26:22<11:12,  1.06it/s]"
     ]
    },
    {
     "name": "stdout",
     "output_type": "stream",
     "text": [
      "Crawl comment page 1 success!!!\n",
      "Crawl comment for product 274931586\n",
      "Crawl comment page 0 success!!!\n"
     ]
    },
    {
     "name": "stderr",
     "output_type": "stream",
     "text": [
      " 64%|██████████████████████████████████████████████████▏                           | 1287/2000 [26:26<19:39,  1.65s/it]"
     ]
    },
    {
     "name": "stdout",
     "output_type": "stream",
     "text": [
      "Crawl comment page 1 success!!!\n",
      "Crawl comment for product 274802547\n",
      "Crawl comment page 0 success!!!\n"
     ]
    },
    {
     "name": "stderr",
     "output_type": "stream",
     "text": [
      " 64%|██████████████████████████████████████████████████▏                           | 1288/2000 [26:27<18:43,  1.58s/it]"
     ]
    },
    {
     "name": "stdout",
     "output_type": "stream",
     "text": [
      "Crawl comment page 1 success!!!\n",
      "Crawl comment for product 274498228\n",
      "Crawl comment page 0 success!!!\n"
     ]
    },
    {
     "name": "stderr",
     "output_type": "stream",
     "text": [
      " 64%|██████████████████████████████████████████████████▎                           | 1290/2000 [26:29<13:38,  1.15s/it]"
     ]
    },
    {
     "name": "stdout",
     "output_type": "stream",
     "text": [
      "Crawl comment page 1 success!!!\n",
      "Crawl comment for product 273707449\n",
      "Crawl comment page 0 success!!!\n",
      "Crawl comment page 1 success!!!\n",
      "Crawl comment for product 273165484\n",
      "Crawl comment page 0 success!!!\n"
     ]
    },
    {
     "name": "stderr",
     "output_type": "stream",
     "text": [
      " 65%|██████████████████████████████████████████████████▎                           | 1291/2000 [26:31<17:10,  1.45s/it]"
     ]
    },
    {
     "name": "stdout",
     "output_type": "stream",
     "text": [
      "Crawl comment page 1 success!!!\n",
      "Crawl comment for product 271278938\n",
      "Crawl comment page 0 success!!!\n"
     ]
    },
    {
     "name": "stderr",
     "output_type": "stream",
     "text": [
      " 65%|██████████████████████████████████████████████████▍                           | 1293/2000 [26:33<13:24,  1.14s/it]"
     ]
    },
    {
     "name": "stdout",
     "output_type": "stream",
     "text": [
      "Crawl comment page 1 success!!!\n",
      "Crawl comment for product 263584201\n",
      "Crawl comment page 0 success!!!\n",
      "Crawl comment page 1 success!!!\n",
      "Crawl comment for product 253398071\n",
      "Crawl comment page 0 success!!!\n"
     ]
    },
    {
     "name": "stderr",
     "output_type": "stream",
     "text": [
      " 65%|██████████████████████████████████████████████████▍                           | 1294/2000 [26:36<19:36,  1.67s/it]"
     ]
    },
    {
     "name": "stdout",
     "output_type": "stream",
     "text": [
      "Crawl comment page 1 success!!!\n",
      "Crawl comment for product 242424688\n",
      "Crawl comment page 0 success!!!\n"
     ]
    },
    {
     "name": "stderr",
     "output_type": "stream",
     "text": [
      " 65%|██████████████████████████████████████████████████▌                           | 1295/2000 [26:39<24:10,  2.06s/it]"
     ]
    },
    {
     "name": "stdout",
     "output_type": "stream",
     "text": [
      "Crawl comment page 1 success!!!\n",
      "Crawl comment for product 204631110\n",
      "Crawl comment page 0 success!!!\n"
     ]
    },
    {
     "name": "stderr",
     "output_type": "stream",
     "text": [
      " 65%|██████████████████████████████████████████████████▌                           | 1296/2000 [26:39<19:15,  1.64s/it]"
     ]
    },
    {
     "name": "stdout",
     "output_type": "stream",
     "text": [
      "Crawl comment page 1 success!!!\n",
      "Crawl comment for product 202661687\n",
      "Crawl comment page 0 success!!!\n"
     ]
    },
    {
     "name": "stderr",
     "output_type": "stream",
     "text": [
      " 65%|██████████████████████████████████████████████████▌                           | 1297/2000 [26:43<25:33,  2.18s/it]"
     ]
    },
    {
     "name": "stdout",
     "output_type": "stream",
     "text": [
      "Crawl comment page 1 success!!!\n",
      "Crawl comment for product 187279375\n",
      "Crawl comment page 0 success!!!\n"
     ]
    },
    {
     "name": "stderr",
     "output_type": "stream",
     "text": [
      " 65%|██████████████████████████████████████████████████▌                           | 1298/2000 [26:47<32:25,  2.77s/it]"
     ]
    },
    {
     "name": "stdout",
     "output_type": "stream",
     "text": [
      "Crawl comment page 1 success!!!\n",
      "Crawl comment for product 185409035\n",
      "Crawl comment page 0 success!!!\n"
     ]
    },
    {
     "name": "stderr",
     "output_type": "stream",
     "text": [
      " 65%|██████████████████████████████████████████████████▋                           | 1299/2000 [26:48<27:04,  2.32s/it]"
     ]
    },
    {
     "name": "stdout",
     "output_type": "stream",
     "text": [
      "Crawl comment page 1 success!!!\n",
      "Crawl comment for product 170352966\n",
      "Crawl comment page 0 success!!!\n"
     ]
    },
    {
     "name": "stderr",
     "output_type": "stream",
     "text": [
      " 65%|██████████████████████████████████████████████████▋                           | 1300/2000 [26:51<28:19,  2.43s/it]"
     ]
    },
    {
     "name": "stdout",
     "output_type": "stream",
     "text": [
      "Crawl comment page 1 success!!!\n",
      "Crawl comment for product 147999778\n",
      "Crawl comment page 0 success!!!\n"
     ]
    },
    {
     "name": "stderr",
     "output_type": "stream",
     "text": [
      " 65%|██████████████████████████████████████████████████▋                           | 1301/2000 [26:53<27:48,  2.39s/it]"
     ]
    },
    {
     "name": "stdout",
     "output_type": "stream",
     "text": [
      "Crawl comment page 1 success!!!\n",
      "Crawl comment for product 141421099\n",
      "Crawl comment page 0 success!!!\n"
     ]
    },
    {
     "name": "stderr",
     "output_type": "stream",
     "text": [
      " 65%|██████████████████████████████████████████████████▊                           | 1302/2000 [26:58<36:55,  3.17s/it]"
     ]
    },
    {
     "name": "stdout",
     "output_type": "stream",
     "text": [
      "Crawl comment page 1 success!!!\n",
      "Crawl comment for product 132366467\n",
      "Crawl comment page 0 success!!!\n"
     ]
    },
    {
     "name": "stderr",
     "output_type": "stream",
     "text": [
      " 65%|██████████████████████████████████████████████████▊                           | 1303/2000 [27:00<30:51,  2.66s/it]"
     ]
    },
    {
     "name": "stdout",
     "output_type": "stream",
     "text": [
      "Crawl comment page 1 success!!!\n",
      "Crawl comment for product 105670440\n",
      "Crawl comment page 0 success!!!\n",
      "Crawl comment page 1 success!!!\n"
     ]
    },
    {
     "name": "stderr",
     "output_type": "stream",
     "text": [
      " 65%|██████████████████████████████████████████████████▊                           | 1304/2000 [27:00<23:31,  2.03s/it]"
     ]
    },
    {
     "name": "stdout",
     "output_type": "stream",
     "text": [
      "Crawl comment for product 103379147\n",
      "Crawl comment page 0 success!!!\n"
     ]
    },
    {
     "name": "stderr",
     "output_type": "stream",
     "text": [
      " 65%|██████████████████████████████████████████████████▉                           | 1305/2000 [27:02<22:45,  1.97s/it]"
     ]
    },
    {
     "name": "stdout",
     "output_type": "stream",
     "text": [
      "Crawl comment page 1 success!!!\n",
      "Crawl comment for product 82936273\n",
      "Crawl comment page 0 success!!!\n"
     ]
    },
    {
     "name": "stderr",
     "output_type": "stream",
     "text": [
      " 65%|██████████████████████████████████████████████████▉                           | 1306/2000 [27:04<22:24,  1.94s/it]"
     ]
    },
    {
     "name": "stdout",
     "output_type": "stream",
     "text": [
      "Crawl comment page 1 success!!!\n",
      "Crawl comment for product 80141519\n",
      "Crawl comment page 0 success!!!\n"
     ]
    },
    {
     "name": "stderr",
     "output_type": "stream",
     "text": [
      " 65%|██████████████████████████████████████████████████▉                           | 1307/2000 [27:06<22:05,  1.91s/it]"
     ]
    },
    {
     "name": "stdout",
     "output_type": "stream",
     "text": [
      "Crawl comment page 1 success!!!\n",
      "Crawl comment for product 78015053\n",
      "Crawl comment page 0 success!!!\n"
     ]
    },
    {
     "name": "stderr",
     "output_type": "stream",
     "text": [
      " 65%|███████████████████████████████████████████████████                           | 1308/2000 [27:08<24:12,  2.10s/it]"
     ]
    },
    {
     "name": "stdout",
     "output_type": "stream",
     "text": [
      "Crawl comment page 1 success!!!\n",
      "Crawl comment for product 66090079\n",
      "Crawl comment page 0 success!!!\n"
     ]
    },
    {
     "name": "stderr",
     "output_type": "stream",
     "text": [
      " 65%|███████████████████████████████████████████████████                           | 1309/2000 [27:11<27:25,  2.38s/it]"
     ]
    },
    {
     "name": "stdout",
     "output_type": "stream",
     "text": [
      "Crawl comment page 1 success!!!\n",
      "Crawl comment for product 47579026\n",
      "Crawl comment page 0 success!!!\n"
     ]
    },
    {
     "name": "stderr",
     "output_type": "stream",
     "text": [
      " 66%|███████████████████████████████████████████████████                           | 1310/2000 [27:12<21:21,  1.86s/it]"
     ]
    },
    {
     "name": "stdout",
     "output_type": "stream",
     "text": [
      "Crawl comment page 1 success!!!\n",
      "Crawl comment for product 47161889\n",
      "Crawl comment page 0 success!!!\n"
     ]
    },
    {
     "name": "stderr",
     "output_type": "stream",
     "text": [
      " 66%|███████████████████████████████████████████████████▏                          | 1311/2000 [27:14<20:57,  1.83s/it]"
     ]
    },
    {
     "name": "stdout",
     "output_type": "stream",
     "text": [
      "Crawl comment page 1 success!!!\n",
      "Crawl comment for product 36363381\n",
      "Crawl comment page 0 success!!!\n"
     ]
    },
    {
     "name": "stderr",
     "output_type": "stream",
     "text": [
      " 66%|███████████████████████████████████████████████████▏                          | 1312/2000 [27:15<20:13,  1.76s/it]"
     ]
    },
    {
     "name": "stdout",
     "output_type": "stream",
     "text": [
      "Crawl comment page 1 success!!!\n",
      "Crawl comment for product 31509726\n",
      "Crawl comment page 0 success!!!\n"
     ]
    },
    {
     "name": "stderr",
     "output_type": "stream",
     "text": [
      " 66%|███████████████████████████████████████████████████▏                          | 1313/2000 [27:18<21:53,  1.91s/it]"
     ]
    },
    {
     "name": "stdout",
     "output_type": "stream",
     "text": [
      "Crawl comment page 1 success!!!\n",
      "Crawl comment for product 22878271\n",
      "Crawl comment page 0 success!!!\n"
     ]
    },
    {
     "name": "stderr",
     "output_type": "stream",
     "text": [
      " 66%|███████████████████████████████████████████████████▏                          | 1314/2000 [27:19<19:16,  1.69s/it]"
     ]
    },
    {
     "name": "stdout",
     "output_type": "stream",
     "text": [
      "Crawl comment page 1 success!!!\n",
      "Crawl comment for product 10866297\n",
      "Crawl comment page 0 success!!!\n"
     ]
    },
    {
     "name": "stderr",
     "output_type": "stream",
     "text": [
      " 66%|███████████████████████████████████████████████████▎                          | 1315/2000 [27:22<23:26,  2.05s/it]"
     ]
    },
    {
     "name": "stdout",
     "output_type": "stream",
     "text": [
      "Crawl comment page 1 success!!!\n",
      "Crawl comment for product 10678954\n",
      "Crawl comment page 0 success!!!\n"
     ]
    },
    {
     "name": "stderr",
     "output_type": "stream",
     "text": [
      " 66%|███████████████████████████████████████████████████▎                          | 1316/2000 [27:24<25:14,  2.21s/it]"
     ]
    },
    {
     "name": "stdout",
     "output_type": "stream",
     "text": [
      "Crawl comment page 1 success!!!\n",
      "Crawl comment for product 10392851\n",
      "Crawl comment page 0 success!!!\n"
     ]
    },
    {
     "name": "stderr",
     "output_type": "stream",
     "text": [
      " 66%|███████████████████████████████████████████████████▎                          | 1317/2000 [27:26<22:50,  2.01s/it]"
     ]
    },
    {
     "name": "stdout",
     "output_type": "stream",
     "text": [
      "Crawl comment page 1 success!!!\n",
      "Crawl comment for product 6620863\n",
      "Crawl comment page 0 success!!!\n"
     ]
    },
    {
     "name": "stderr",
     "output_type": "stream",
     "text": [
      " 66%|███████████████████████████████████████████████████▍                          | 1318/2000 [27:28<24:21,  2.14s/it]"
     ]
    },
    {
     "name": "stdout",
     "output_type": "stream",
     "text": [
      "Crawl comment page 1 success!!!\n",
      "Crawl comment for product 638185\n",
      "Crawl comment page 0 success!!!\n"
     ]
    },
    {
     "name": "stderr",
     "output_type": "stream",
     "text": [
      " 66%|███████████████████████████████████████████████████▍                          | 1319/2000 [27:30<22:02,  1.94s/it]"
     ]
    },
    {
     "name": "stdout",
     "output_type": "stream",
     "text": [
      "Crawl comment page 1 success!!!\n",
      "Crawl comment for product 543197\n",
      "Crawl comment page 0 success!!!\n"
     ]
    },
    {
     "name": "stderr",
     "output_type": "stream",
     "text": [
      " 66%|███████████████████████████████████████████████████▌                          | 1322/2000 [27:31<09:37,  1.17it/s]"
     ]
    },
    {
     "name": "stdout",
     "output_type": "stream",
     "text": [
      "Crawl comment page 1 success!!!\n",
      "Crawl comment for product 278123443\n",
      "Crawl comment page 0 success!!!\n",
      "Crawl comment page 1 success!!!\n",
      "Crawl comment for product 278025896\n",
      "Crawl comment page 0 success!!!\n",
      "Crawl comment page 1 success!!!\n",
      "Crawl comment for product 277997202\n"
     ]
    },
    {
     "name": "stderr",
     "output_type": "stream",
     "text": [
      " 66%|███████████████████████████████████████████████████▌                          | 1323/2000 [27:31<07:07,  1.58it/s]"
     ]
    },
    {
     "name": "stdout",
     "output_type": "stream",
     "text": [
      "Crawl comment page 0 success!!!\n",
      "Crawl comment page 1 success!!!\n",
      "Crawl comment for product 277926262\n",
      "Crawl comment page 0 success!!!\n"
     ]
    },
    {
     "name": "stderr",
     "output_type": "stream",
     "text": [
      " 66%|███████████████████████████████████████████████████▋                          | 1325/2000 [27:31<04:32,  2.47it/s]"
     ]
    },
    {
     "name": "stdout",
     "output_type": "stream",
     "text": [
      "Crawl comment page 1 success!!!\n",
      "Crawl comment for product 277444558\n",
      "Crawl comment page 0 success!!!\n",
      "Crawl comment page 1 success!!!\n",
      "Crawl comment for product 277400562\n",
      "Crawl comment page 0 success!!!\n"
     ]
    },
    {
     "name": "stderr",
     "output_type": "stream",
     "text": [
      " 66%|███████████████████████████████████████████████████▊                          | 1327/2000 [27:32<04:26,  2.53it/s]"
     ]
    },
    {
     "name": "stdout",
     "output_type": "stream",
     "text": [
      "Crawl comment page 1 success!!!\n",
      "Crawl comment for product 277348578\n",
      "Crawl comment page 0 success!!!\n",
      "Crawl comment page 1 success!!!\n",
      "Crawl comment for product 276660934\n",
      "Crawl comment page 0 success!!!\n"
     ]
    },
    {
     "name": "stderr",
     "output_type": "stream",
     "text": [
      " 66%|███████████████████████████████████████████████████▊                          | 1328/2000 [27:33<07:08,  1.57it/s]"
     ]
    },
    {
     "name": "stdout",
     "output_type": "stream",
     "text": [
      "Crawl comment page 1 success!!!\n",
      "Crawl comment for product 276418968\n",
      "Crawl comment page 0 success!!!\n"
     ]
    },
    {
     "name": "stderr",
     "output_type": "stream",
     "text": [
      " 66%|███████████████████████████████████████████████████▊                          | 1329/2000 [27:37<16:07,  1.44s/it]"
     ]
    },
    {
     "name": "stdout",
     "output_type": "stream",
     "text": [
      "Crawl comment page 1 success!!!\n",
      "Crawl comment for product 276353084\n",
      "Crawl comment page 0 success!!!\n"
     ]
    },
    {
     "name": "stderr",
     "output_type": "stream",
     "text": [
      " 66%|███████████████████████████████████████████████████▊                          | 1330/2000 [27:38<15:28,  1.39s/it]"
     ]
    },
    {
     "name": "stdout",
     "output_type": "stream",
     "text": [
      "Crawl comment page 1 success!!!\n",
      "Crawl comment for product 275676838\n",
      "Crawl comment page 0 success!!!\n"
     ]
    },
    {
     "name": "stderr",
     "output_type": "stream",
     "text": [
      " 67%|███████████████████████████████████████████████████▉                          | 1331/2000 [27:38<12:02,  1.08s/it]"
     ]
    },
    {
     "name": "stdout",
     "output_type": "stream",
     "text": [
      "Crawl comment page 1 success!!!\n",
      "Crawl comment for product 275507365\n",
      "Crawl comment page 0 success!!!\n"
     ]
    },
    {
     "name": "stderr",
     "output_type": "stream",
     "text": [
      " 67%|███████████████████████████████████████████████████▉                          | 1332/2000 [27:38<09:08,  1.22it/s]"
     ]
    },
    {
     "name": "stdout",
     "output_type": "stream",
     "text": [
      "Crawl comment page 1 success!!!\n",
      "Crawl comment for product 275062854\n",
      "Crawl comment page 0 success!!!\n"
     ]
    },
    {
     "name": "stderr",
     "output_type": "stream",
     "text": [
      " 67%|███████████████████████████████████████████████████▉                          | 1333/2000 [27:40<12:10,  1.09s/it]"
     ]
    },
    {
     "name": "stdout",
     "output_type": "stream",
     "text": [
      "Crawl comment page 1 success!!!\n",
      "Crawl comment for product 274845354\n",
      "Crawl comment page 0 success!!!\n"
     ]
    },
    {
     "name": "stderr",
     "output_type": "stream",
     "text": [
      " 67%|████████████████████████████████████████████████████                          | 1334/2000 [27:44<21:07,  1.90s/it]"
     ]
    },
    {
     "name": "stdout",
     "output_type": "stream",
     "text": [
      "Crawl comment page 1 success!!!\n",
      "Crawl comment for product 273916353\n",
      "Crawl comment page 0 success!!!\n"
     ]
    },
    {
     "name": "stderr",
     "output_type": "stream",
     "text": [
      " 67%|████████████████████████████████████████████████████                          | 1335/2000 [27:44<16:07,  1.45s/it]"
     ]
    },
    {
     "name": "stdout",
     "output_type": "stream",
     "text": [
      "Crawl comment page 1 success!!!\n",
      "Crawl comment for product 272269839\n",
      "Crawl comment page 0 success!!!\n"
     ]
    },
    {
     "name": "stderr",
     "output_type": "stream",
     "text": [
      " 67%|████████████████████████████████████████████████████▏                         | 1337/2000 [27:47<14:10,  1.28s/it]"
     ]
    },
    {
     "name": "stdout",
     "output_type": "stream",
     "text": [
      "Crawl comment page 1 success!!!\n",
      "Crawl comment for product 271726963\n",
      "Crawl comment page 0 success!!!\n",
      "Crawl comment page 1 success!!!\n",
      "Crawl comment for product 270734386\n",
      "Crawl comment page 0 success!!!\n"
     ]
    },
    {
     "name": "stderr",
     "output_type": "stream",
     "text": [
      " 67%|████████████████████████████████████████████████████▏                         | 1338/2000 [27:50<18:47,  1.70s/it]"
     ]
    },
    {
     "name": "stdout",
     "output_type": "stream",
     "text": [
      "Crawl comment page 1 success!!!\n",
      "Crawl comment for product 260811707\n",
      "Crawl comment page 0 success!!!\n"
     ]
    },
    {
     "name": "stderr",
     "output_type": "stream",
     "text": [
      " 67%|████████████████████████████████████████████████████▏                         | 1339/2000 [27:51<18:21,  1.67s/it]"
     ]
    },
    {
     "name": "stdout",
     "output_type": "stream",
     "text": [
      "Crawl comment page 1 success!!!\n",
      "Crawl comment for product 219148748\n",
      "Crawl comment page 0 success!!!\n"
     ]
    },
    {
     "name": "stderr",
     "output_type": "stream",
     "text": [
      " 67%|████████████████████████████████████████████████████▎                         | 1340/2000 [27:55<25:53,  2.35s/it]"
     ]
    },
    {
     "name": "stdout",
     "output_type": "stream",
     "text": [
      "Crawl comment page 1 success!!!\n",
      "Crawl comment for product 206837303\n",
      "Crawl comment page 0 success!!!\n"
     ]
    },
    {
     "name": "stderr",
     "output_type": "stream",
     "text": [
      " 67%|████████████████████████████████████████████████████▎                         | 1341/2000 [27:57<24:33,  2.24s/it]"
     ]
    },
    {
     "name": "stdout",
     "output_type": "stream",
     "text": [
      "Crawl comment page 1 success!!!\n",
      "Crawl comment for product 197587865\n",
      "Crawl comment page 0 success!!!\n"
     ]
    },
    {
     "name": "stderr",
     "output_type": "stream",
     "text": [
      " 67%|████████████████████████████████████████████████████▎                         | 1342/2000 [27:59<22:36,  2.06s/it]"
     ]
    },
    {
     "name": "stdout",
     "output_type": "stream",
     "text": [
      "Crawl comment page 1 success!!!\n",
      "Crawl comment for product 189940724\n",
      "Crawl comment page 0 success!!!\n"
     ]
    },
    {
     "name": "stderr",
     "output_type": "stream",
     "text": [
      " 67%|████████████████████████████████████████████████████▍                         | 1343/2000 [28:01<21:43,  1.98s/it]"
     ]
    },
    {
     "name": "stdout",
     "output_type": "stream",
     "text": [
      "Crawl comment page 1 success!!!\n",
      "Crawl comment for product 181770296\n",
      "Crawl comment page 0 success!!!\n"
     ]
    },
    {
     "name": "stderr",
     "output_type": "stream",
     "text": [
      " 67%|████████████████████████████████████████████████████▍                         | 1344/2000 [28:02<20:38,  1.89s/it]"
     ]
    },
    {
     "name": "stdout",
     "output_type": "stream",
     "text": [
      "Crawl comment page 1 success!!!\n",
      "Crawl comment for product 157054862\n",
      "Crawl comment page 0 success!!!\n"
     ]
    },
    {
     "name": "stderr",
     "output_type": "stream",
     "text": [
      " 67%|████████████████████████████████████████████████████▍                         | 1345/2000 [28:04<20:30,  1.88s/it]"
     ]
    },
    {
     "name": "stdout",
     "output_type": "stream",
     "text": [
      "Crawl comment page 1 success!!!\n",
      "Crawl comment for product 145289356\n",
      "Crawl comment page 0 success!!!\n"
     ]
    },
    {
     "name": "stderr",
     "output_type": "stream",
     "text": [
      " 67%|████████████████████████████████████████████████████▍                         | 1346/2000 [28:05<18:16,  1.68s/it]"
     ]
    },
    {
     "name": "stdout",
     "output_type": "stream",
     "text": [
      "Crawl comment page 1 success!!!\n",
      "Crawl comment for product 104741661\n",
      "Crawl comment page 0 success!!!\n"
     ]
    },
    {
     "name": "stderr",
     "output_type": "stream",
     "text": [
      " 67%|████████████████████████████████████████████████████▌                         | 1347/2000 [28:07<17:07,  1.57s/it]"
     ]
    },
    {
     "name": "stdout",
     "output_type": "stream",
     "text": [
      "Crawl comment page 1 success!!!\n",
      "Crawl comment for product 74285820\n",
      "Crawl comment page 0 success!!!\n"
     ]
    },
    {
     "name": "stderr",
     "output_type": "stream",
     "text": [
      " 67%|████████████████████████████████████████████████████▌                         | 1348/2000 [28:08<16:40,  1.53s/it]"
     ]
    },
    {
     "name": "stdout",
     "output_type": "stream",
     "text": [
      "Crawl comment page 1 success!!!\n",
      "Crawl comment for product 73515859\n",
      "Crawl comment page 0 success!!!\n"
     ]
    },
    {
     "name": "stderr",
     "output_type": "stream",
     "text": [
      " 67%|████████████████████████████████████████████████████▌                         | 1349/2000 [28:09<14:57,  1.38s/it]"
     ]
    },
    {
     "name": "stdout",
     "output_type": "stream",
     "text": [
      "Crawl comment page 1 success!!!\n",
      "Crawl comment for product 51215567\n",
      "Crawl comment page 0 success!!!\n"
     ]
    },
    {
     "name": "stderr",
     "output_type": "stream",
     "text": [
      " 68%|████████████████████████████████████████████████████▋                         | 1350/2000 [28:10<14:21,  1.33s/it]"
     ]
    },
    {
     "name": "stdout",
     "output_type": "stream",
     "text": [
      "Crawl comment page 1 success!!!\n",
      "Crawl comment for product 50477553\n",
      "Crawl comment page 0 success!!!\n"
     ]
    },
    {
     "name": "stderr",
     "output_type": "stream",
     "text": [
      " 68%|████████████████████████████████████████████████████▋                         | 1351/2000 [28:13<17:54,  1.66s/it]"
     ]
    },
    {
     "name": "stdout",
     "output_type": "stream",
     "text": [
      "Crawl comment page 1 success!!!\n",
      "Crawl comment for product 29290768\n",
      "Crawl comment page 0 success!!!\n"
     ]
    },
    {
     "name": "stderr",
     "output_type": "stream",
     "text": [
      " 68%|████████████████████████████████████████████████████▋                         | 1352/2000 [28:15<20:25,  1.89s/it]"
     ]
    },
    {
     "name": "stdout",
     "output_type": "stream",
     "text": [
      "Crawl comment page 1 success!!!\n",
      "Crawl comment for product 19824204\n",
      "Crawl comment page 0 success!!!\n"
     ]
    },
    {
     "name": "stderr",
     "output_type": "stream",
     "text": [
      " 68%|████████████████████████████████████████████████████▊                         | 1353/2000 [28:18<21:54,  2.03s/it]"
     ]
    },
    {
     "name": "stdout",
     "output_type": "stream",
     "text": [
      "Crawl comment page 1 success!!!\n",
      "Crawl comment for product 19274771\n",
      "Crawl comment page 0 success!!!\n"
     ]
    },
    {
     "name": "stderr",
     "output_type": "stream",
     "text": [
      " 68%|████████████████████████████████████████████████████▊                         | 1354/2000 [28:20<23:47,  2.21s/it]"
     ]
    },
    {
     "name": "stdout",
     "output_type": "stream",
     "text": [
      "Crawl comment page 1 success!!!\n",
      "Crawl comment for product 14684312\n",
      "Crawl comment page 0 success!!!\n"
     ]
    },
    {
     "name": "stderr",
     "output_type": "stream",
     "text": [
      " 68%|████████████████████████████████████████████████████▊                         | 1355/2000 [28:23<24:47,  2.31s/it]"
     ]
    },
    {
     "name": "stdout",
     "output_type": "stream",
     "text": [
      "Crawl comment page 1 success!!!\n",
      "Crawl comment for product 11368965\n",
      "Crawl comment page 0 success!!!\n"
     ]
    },
    {
     "name": "stderr",
     "output_type": "stream",
     "text": [
      " 68%|████████████████████████████████████████████████████▉                         | 1356/2000 [28:24<21:44,  2.03s/it]"
     ]
    },
    {
     "name": "stdout",
     "output_type": "stream",
     "text": [
      "Crawl comment page 1 success!!!\n",
      "Crawl comment for product 5852521\n",
      "Crawl comment page 0 success!!!\n"
     ]
    },
    {
     "name": "stderr",
     "output_type": "stream",
     "text": [
      " 68%|████████████████████████████████████████████████████▉                         | 1357/2000 [28:28<26:40,  2.49s/it]"
     ]
    },
    {
     "name": "stdout",
     "output_type": "stream",
     "text": [
      "Crawl comment page 1 success!!!\n",
      "Crawl comment for product 2210143\n",
      "Crawl comment page 0 success!!!\n"
     ]
    },
    {
     "name": "stderr",
     "output_type": "stream",
     "text": [
      " 68%|████████████████████████████████████████████████████▉                         | 1358/2000 [28:30<25:50,  2.42s/it]"
     ]
    },
    {
     "name": "stdout",
     "output_type": "stream",
     "text": [
      "Crawl comment page 1 success!!!\n",
      "Crawl comment for product 488165\n",
      "Crawl comment page 0 success!!!\n"
     ]
    },
    {
     "name": "stderr",
     "output_type": "stream",
     "text": [
      " 68%|█████████████████████████████████████████████████████                         | 1359/2000 [28:31<22:43,  2.13s/it]"
     ]
    },
    {
     "name": "stdout",
     "output_type": "stream",
     "text": [
      "Crawl comment page 1 success!!!\n",
      "Crawl comment for product 453668\n",
      "Crawl comment page 0 success!!!\n"
     ]
    },
    {
     "name": "stderr",
     "output_type": "stream",
     "text": [
      " 68%|█████████████████████████████████████████████████████                         | 1361/2000 [28:35<19:23,  1.82s/it]"
     ]
    },
    {
     "name": "stdout",
     "output_type": "stream",
     "text": [
      "Crawl comment page 1 success!!!\n",
      "Crawl comment for product 278065955\n",
      "Crawl comment page 0 success!!!\n",
      "Crawl comment page 1 success!!!\n",
      "Crawl comment for product 278055559\n"
     ]
    },
    {
     "name": "stderr",
     "output_type": "stream",
     "text": [
      " 68%|█████████████████████████████████████████████████████                         | 1362/2000 [28:35<14:15,  1.34s/it]"
     ]
    },
    {
     "name": "stdout",
     "output_type": "stream",
     "text": [
      "Crawl comment page 0 success!!!\n",
      "Crawl comment page 1 success!!!\n",
      "Crawl comment for product 278038966\n",
      "Crawl comment page 0 success!!!\n"
     ]
    },
    {
     "name": "stderr",
     "output_type": "stream",
     "text": [
      " 68%|█████████████████████████████████████████████████████▏                        | 1363/2000 [28:35<10:20,  1.03it/s]"
     ]
    },
    {
     "name": "stdout",
     "output_type": "stream",
     "text": [
      "Crawl comment page 1 success!!!\n",
      "Crawl comment for product 278029333\n"
     ]
    },
    {
     "name": "stderr",
     "output_type": "stream",
     "text": [
      " 68%|█████████████████████████████████████████████████████▏                        | 1364/2000 [28:36<08:24,  1.26it/s]"
     ]
    },
    {
     "name": "stdout",
     "output_type": "stream",
     "text": [
      "Crawl comment page 0 success!!!\n",
      "Crawl comment page 1 success!!!\n",
      "Crawl comment for product 277592227\n"
     ]
    },
    {
     "name": "stderr",
     "output_type": "stream",
     "text": [
      " 68%|█████████████████████████████████████████████████████▏                        | 1365/2000 [28:36<06:32,  1.62it/s]"
     ]
    },
    {
     "name": "stdout",
     "output_type": "stream",
     "text": [
      "Crawl comment page 0 success!!!\n",
      "Crawl comment page 1 success!!!\n",
      "Crawl comment for product 277409592\n",
      "Crawl comment page 0 success!!!\n"
     ]
    },
    {
     "name": "stderr",
     "output_type": "stream",
     "text": [
      " 68%|█████████████████████████████████████████████████████▎                        | 1366/2000 [28:36<04:56,  2.14it/s]"
     ]
    },
    {
     "name": "stdout",
     "output_type": "stream",
     "text": [
      "Crawl comment page 1 success!!!\n",
      "Crawl comment for product 277357591\n",
      "Crawl comment page 0 success!!!\n"
     ]
    },
    {
     "name": "stderr",
     "output_type": "stream",
     "text": [
      " 68%|█████████████████████████████████████████████████████▎                        | 1368/2000 [28:39<08:10,  1.29it/s]"
     ]
    },
    {
     "name": "stdout",
     "output_type": "stream",
     "text": [
      "Crawl comment page 1 success!!!\n",
      "Crawl comment for product 277138921\n",
      "Crawl comment page 0 success!!!\n",
      "Crawl comment page 1 success!!!\n",
      "Crawl comment for product 277045427\n",
      "Crawl comment page 0 success!!!\n"
     ]
    },
    {
     "name": "stderr",
     "output_type": "stream",
     "text": [
      " 68%|█████████████████████████████████████████████████████▍                        | 1369/2000 [28:40<09:02,  1.16it/s]"
     ]
    },
    {
     "name": "stdout",
     "output_type": "stream",
     "text": [
      "Crawl comment page 1 success!!!\n",
      "Crawl comment for product 276944781\n",
      "Crawl comment page 0 success!!!\n"
     ]
    },
    {
     "name": "stderr",
     "output_type": "stream",
     "text": [
      " 69%|█████████████████████████████████████████████████████▍                        | 1371/2000 [28:42<08:25,  1.25it/s]"
     ]
    },
    {
     "name": "stdout",
     "output_type": "stream",
     "text": [
      "Crawl comment page 1 success!!!\n",
      "Crawl comment for product 276944424\n",
      "Crawl comment page 0 success!!!\n",
      "Crawl comment page 1 success!!!\n",
      "Crawl comment for product 276886135\n",
      "Crawl comment page 0 success!!!\n"
     ]
    },
    {
     "name": "stderr",
     "output_type": "stream",
     "text": [
      " 69%|█████████████████████████████████████████████████████▌                        | 1372/2000 [28:44<12:51,  1.23s/it]"
     ]
    },
    {
     "name": "stdout",
     "output_type": "stream",
     "text": [
      "Crawl comment page 1 success!!!\n",
      "Crawl comment for product 276851864\n"
     ]
    },
    {
     "name": "stderr",
     "output_type": "stream",
     "text": [
      " 69%|█████████████████████████████████████████████████████▌                        | 1373/2000 [28:44<10:13,  1.02it/s]"
     ]
    },
    {
     "name": "stdout",
     "output_type": "stream",
     "text": [
      "Crawl comment page 0 success!!!\n",
      "Crawl comment page 1 success!!!\n",
      "Crawl comment for product 276507439\n",
      "Crawl comment page 0 success!!!\n"
     ]
    },
    {
     "name": "stderr",
     "output_type": "stream",
     "text": [
      " 69%|█████████████████████████████████████████████████████▌                        | 1374/2000 [28:46<12:21,  1.19s/it]"
     ]
    },
    {
     "name": "stdout",
     "output_type": "stream",
     "text": [
      "Crawl comment page 1 success!!!\n",
      "Crawl comment for product 276106321\n",
      "Crawl comment page 0 success!!!\n"
     ]
    },
    {
     "name": "stderr",
     "output_type": "stream",
     "text": [
      " 69%|█████████████████████████████████████████████████████▋                        | 1375/2000 [28:48<16:02,  1.54s/it]"
     ]
    },
    {
     "name": "stdout",
     "output_type": "stream",
     "text": [
      "Crawl comment page 1 success!!!\n",
      "Crawl comment for product 275945830\n",
      "Crawl comment page 0 success!!!\n"
     ]
    },
    {
     "name": "stderr",
     "output_type": "stream",
     "text": [
      " 69%|█████████████████████████████████████████████████████▋                        | 1376/2000 [28:49<13:06,  1.26s/it]"
     ]
    },
    {
     "name": "stdout",
     "output_type": "stream",
     "text": [
      "Crawl comment page 1 success!!!\n",
      "Crawl comment for product 275918253\n",
      "Crawl comment page 0 success!!!\n"
     ]
    },
    {
     "name": "stderr",
     "output_type": "stream",
     "text": [
      " 69%|█████████████████████████████████████████████████████▋                        | 1377/2000 [28:51<14:44,  1.42s/it]"
     ]
    },
    {
     "name": "stdout",
     "output_type": "stream",
     "text": [
      "Crawl comment page 1 success!!!\n",
      "Crawl comment for product 275853510\n",
      "Crawl comment page 0 success!!!\n"
     ]
    },
    {
     "name": "stderr",
     "output_type": "stream",
     "text": [
      " 69%|█████████████████████████████████████████████████████▋                        | 1378/2000 [28:53<16:56,  1.63s/it]"
     ]
    },
    {
     "name": "stdout",
     "output_type": "stream",
     "text": [
      "Crawl comment page 1 success!!!\n",
      "Crawl comment for product 275210710\n",
      "Crawl comment page 0 success!!!\n"
     ]
    },
    {
     "name": "stderr",
     "output_type": "stream",
     "text": [
      " 69%|█████████████████████████████████████████████████████▊                        | 1379/2000 [28:55<18:39,  1.80s/it]"
     ]
    },
    {
     "name": "stdout",
     "output_type": "stream",
     "text": [
      "Crawl comment page 1 success!!!\n",
      "Crawl comment for product 274376748\n",
      "Crawl comment page 0 success!!!\n"
     ]
    },
    {
     "name": "stderr",
     "output_type": "stream",
     "text": [
      " 69%|█████████████████████████████████████████████████████▊                        | 1380/2000 [28:58<21:18,  2.06s/it]"
     ]
    },
    {
     "name": "stdout",
     "output_type": "stream",
     "text": [
      "Crawl comment page 1 success!!!\n",
      "Crawl comment for product 274069251\n",
      "Crawl comment page 0 success!!!\n"
     ]
    },
    {
     "name": "stderr",
     "output_type": "stream",
     "text": [
      " 69%|█████████████████████████████████████████████████████▊                        | 1381/2000 [28:59<19:07,  1.85s/it]"
     ]
    },
    {
     "name": "stdout",
     "output_type": "stream",
     "text": [
      "Crawl comment page 1 success!!!\n",
      "Crawl comment for product 249697050\n",
      "Crawl comment page 0 success!!!\n"
     ]
    },
    {
     "name": "stderr",
     "output_type": "stream",
     "text": [
      " 69%|█████████████████████████████████████████████████████▉                        | 1382/2000 [29:00<15:54,  1.54s/it]"
     ]
    },
    {
     "name": "stdout",
     "output_type": "stream",
     "text": [
      "Crawl comment page 1 success!!!\n",
      "Crawl comment for product 248789368\n",
      "Crawl comment page 0 success!!!\n"
     ]
    },
    {
     "name": "stderr",
     "output_type": "stream",
     "text": [
      " 69%|█████████████████████████████████████████████████████▉                        | 1383/2000 [29:01<13:40,  1.33s/it]"
     ]
    },
    {
     "name": "stdout",
     "output_type": "stream",
     "text": [
      "Crawl comment page 1 success!!!\n",
      "Crawl comment for product 247291828\n",
      "Crawl comment page 0 success!!!\n"
     ]
    },
    {
     "name": "stderr",
     "output_type": "stream",
     "text": [
      " 69%|█████████████████████████████████████████████████████▉                        | 1384/2000 [29:01<11:03,  1.08s/it]"
     ]
    },
    {
     "name": "stdout",
     "output_type": "stream",
     "text": [
      "Crawl comment page 1 success!!!\n",
      "Crawl comment for product 216090588\n",
      "Crawl comment page 0 success!!!\n"
     ]
    },
    {
     "name": "stderr",
     "output_type": "stream",
     "text": [
      " 69%|██████████████████████████████████████████████████████                        | 1385/2000 [29:03<14:08,  1.38s/it]"
     ]
    },
    {
     "name": "stdout",
     "output_type": "stream",
     "text": [
      "Crawl comment page 1 success!!!\n",
      "Crawl comment for product 214599046\n",
      "Crawl comment page 0 success!!!\n"
     ]
    },
    {
     "name": "stderr",
     "output_type": "stream",
     "text": [
      " 69%|██████████████████████████████████████████████████████                        | 1386/2000 [29:05<16:30,  1.61s/it]"
     ]
    },
    {
     "name": "stdout",
     "output_type": "stream",
     "text": [
      "Crawl comment page 1 success!!!\n",
      "Crawl comment for product 207475538\n",
      "Crawl comment page 0 success!!!\n"
     ]
    },
    {
     "name": "stderr",
     "output_type": "stream",
     "text": [
      " 69%|██████████████████████████████████████████████████████                        | 1387/2000 [29:08<18:28,  1.81s/it]"
     ]
    },
    {
     "name": "stdout",
     "output_type": "stream",
     "text": [
      "Crawl comment page 1 success!!!\n",
      "Crawl comment for product 203883775\n",
      "Crawl comment page 0 success!!!\n"
     ]
    },
    {
     "name": "stderr",
     "output_type": "stream",
     "text": [
      " 69%|██████████████████████████████████████████████████████▏                       | 1388/2000 [29:09<18:10,  1.78s/it]"
     ]
    },
    {
     "name": "stdout",
     "output_type": "stream",
     "text": [
      "Crawl comment page 1 success!!!\n",
      "Crawl comment for product 192909292\n",
      "Crawl comment page 0 success!!!\n"
     ]
    },
    {
     "name": "stderr",
     "output_type": "stream",
     "text": [
      " 69%|██████████████████████████████████████████████████████▏                       | 1389/2000 [29:12<21:00,  2.06s/it]"
     ]
    },
    {
     "name": "stdout",
     "output_type": "stream",
     "text": [
      "Crawl comment page 1 success!!!\n",
      "Crawl comment for product 173481363\n",
      "Crawl comment page 0 success!!!\n"
     ]
    },
    {
     "name": "stderr",
     "output_type": "stream",
     "text": [
      " 70%|██████████████████████████████████████████████████████▏                       | 1390/2000 [29:16<25:38,  2.52s/it]"
     ]
    },
    {
     "name": "stdout",
     "output_type": "stream",
     "text": [
      "Crawl comment page 1 success!!!\n",
      "Crawl comment for product 155370834\n",
      "Crawl comment page 0 success!!!\n"
     ]
    },
    {
     "name": "stderr",
     "output_type": "stream",
     "text": [
      " 70%|██████████████████████████████████████████████████████▏                       | 1391/2000 [29:17<20:41,  2.04s/it]"
     ]
    },
    {
     "name": "stdout",
     "output_type": "stream",
     "text": [
      "Crawl comment page 1 success!!!\n",
      "Crawl comment for product 111285062\n",
      "Crawl comment page 0 success!!!\n"
     ]
    },
    {
     "name": "stderr",
     "output_type": "stream",
     "text": [
      " 70%|██████████████████████████████████████████████████████▎                       | 1392/2000 [29:19<21:22,  2.11s/it]"
     ]
    },
    {
     "name": "stdout",
     "output_type": "stream",
     "text": [
      "Crawl comment page 1 success!!!\n",
      "Crawl comment for product 80657321\n",
      "Crawl comment page 0 success!!!\n"
     ]
    },
    {
     "name": "stderr",
     "output_type": "stream",
     "text": [
      " 70%|██████████████████████████████████████████████████████▎                       | 1393/2000 [29:21<20:26,  2.02s/it]"
     ]
    },
    {
     "name": "stdout",
     "output_type": "stream",
     "text": [
      "Crawl comment page 1 success!!!\n",
      "Crawl comment for product 77112144\n",
      "Crawl comment page 0 success!!!\n"
     ]
    },
    {
     "name": "stderr",
     "output_type": "stream",
     "text": [
      " 70%|██████████████████████████████████████████████████████▎                       | 1394/2000 [29:23<21:36,  2.14s/it]"
     ]
    },
    {
     "name": "stdout",
     "output_type": "stream",
     "text": [
      "Crawl comment page 1 success!!!\n",
      "Crawl comment for product 77109209\n",
      "Crawl comment page 0 success!!!\n"
     ]
    },
    {
     "name": "stderr",
     "output_type": "stream",
     "text": [
      " 70%|██████████████████████████████████████████████████████▍                       | 1395/2000 [29:26<25:04,  2.49s/it]"
     ]
    },
    {
     "name": "stdout",
     "output_type": "stream",
     "text": [
      "Crawl comment page 1 success!!!\n",
      "Crawl comment for product 55605170\n",
      "Crawl comment page 0 success!!!\n"
     ]
    },
    {
     "name": "stderr",
     "output_type": "stream",
     "text": [
      " 70%|██████████████████████████████████████████████████████▍                       | 1396/2000 [29:28<23:27,  2.33s/it]"
     ]
    },
    {
     "name": "stdout",
     "output_type": "stream",
     "text": [
      "Crawl comment page 1 success!!!\n",
      "Crawl comment for product 52805060\n",
      "Crawl comment page 0 success!!!\n"
     ]
    },
    {
     "name": "stderr",
     "output_type": "stream",
     "text": [
      " 70%|██████████████████████████████████████████████████████▍                       | 1397/2000 [29:31<24:00,  2.39s/it]"
     ]
    },
    {
     "name": "stdout",
     "output_type": "stream",
     "text": [
      "Crawl comment page 1 success!!!\n",
      "Crawl comment for product 52584834\n",
      "Crawl comment page 0 success!!!\n"
     ]
    },
    {
     "name": "stderr",
     "output_type": "stream",
     "text": [
      " 70%|██████████████████████████████████████████████████████▌                       | 1398/2000 [29:32<20:35,  2.05s/it]"
     ]
    },
    {
     "name": "stdout",
     "output_type": "stream",
     "text": [
      "Crawl comment page 1 success!!!\n",
      "Crawl comment for product 49883392\n",
      "Crawl comment page 0 success!!!\n"
     ]
    },
    {
     "name": "stderr",
     "output_type": "stream",
     "text": [
      " 70%|██████████████████████████████████████████████████████▌                       | 1399/2000 [29:35<23:00,  2.30s/it]"
     ]
    },
    {
     "name": "stdout",
     "output_type": "stream",
     "text": [
      "Crawl comment page 1 success!!!\n",
      "Crawl comment for product 44860547\n",
      "Crawl comment page 0 success!!!\n"
     ]
    },
    {
     "name": "stderr",
     "output_type": "stream",
     "text": [
      " 70%|██████████████████████████████████████████████████████▋                       | 1401/2000 [29:36<13:45,  1.38s/it]"
     ]
    },
    {
     "name": "stdout",
     "output_type": "stream",
     "text": [
      "Crawl comment page 1 success!!!\n",
      "Crawl comment for product 278052449\n",
      "Crawl comment page 0 success!!!\n",
      "Crawl comment page 1 success!!!\n",
      "Crawl comment for product 277995357\n",
      "Crawl comment page 0 success!!!\n"
     ]
    },
    {
     "name": "stderr",
     "output_type": "stream",
     "text": [
      " 70%|██████████████████████████████████████████████████████▋                       | 1403/2000 [29:38<09:54,  1.00it/s]"
     ]
    },
    {
     "name": "stdout",
     "output_type": "stream",
     "text": [
      "Crawl comment page 1 success!!!\n",
      "Crawl comment for product 277702259\n",
      "Crawl comment page 0 success!!!\n",
      "Crawl comment page 1 success!!!\n",
      "Crawl comment for product 277616012\n",
      "Crawl comment page 0 success!!!\n"
     ]
    },
    {
     "name": "stderr",
     "output_type": "stream",
     "text": [
      " 70%|██████████████████████████████████████████████████████▊                       | 1405/2000 [29:38<05:36,  1.77it/s]"
     ]
    },
    {
     "name": "stdout",
     "output_type": "stream",
     "text": [
      "Crawl comment page 1 success!!!\n",
      "Crawl comment for product 277600249\n",
      "Crawl comment page 0 success!!!\n",
      "Crawl comment page 1 success!!!\n",
      "Crawl comment for product 277554475\n"
     ]
    },
    {
     "name": "stderr",
     "output_type": "stream",
     "text": [
      " 70%|██████████████████████████████████████████████████████▊                       | 1406/2000 [29:38<04:15,  2.33it/s]"
     ]
    },
    {
     "name": "stdout",
     "output_type": "stream",
     "text": [
      "Crawl comment page 0 success!!!\n",
      "Crawl comment page 1 success!!!\n",
      "Crawl comment for product 277444540\n",
      "Crawl comment page 0 success!!!\n"
     ]
    },
    {
     "name": "stderr",
     "output_type": "stream",
     "text": [
      " 70%|██████████████████████████████████████████████████████▊                       | 1407/2000 [29:38<04:11,  2.35it/s]"
     ]
    },
    {
     "name": "stdout",
     "output_type": "stream",
     "text": [
      "Crawl comment page 1 success!!!\n",
      "Crawl comment for product 277357535\n",
      "Crawl comment page 0 success!!!\n"
     ]
    },
    {
     "name": "stderr",
     "output_type": "stream",
     "text": [
      " 70%|██████████████████████████████████████████████████████▉                       | 1409/2000 [29:41<07:34,  1.30it/s]"
     ]
    },
    {
     "name": "stdout",
     "output_type": "stream",
     "text": [
      "Crawl comment page 1 success!!!\n",
      "Crawl comment for product 276952779\n",
      "Crawl comment page 0 success!!!\n",
      "Crawl comment page 1 success!!!\n",
      "Crawl comment for product 276912320\n",
      "Crawl comment page 0 success!!!\n"
     ]
    },
    {
     "name": "stderr",
     "output_type": "stream",
     "text": [
      " 70%|██████████████████████████████████████████████████████▉                       | 1410/2000 [29:42<07:06,  1.38it/s]"
     ]
    },
    {
     "name": "stdout",
     "output_type": "stream",
     "text": [
      "Crawl comment page 1 success!!!\n",
      "Crawl comment for product 276411956\n",
      "Crawl comment page 0 success!!!\n"
     ]
    },
    {
     "name": "stderr",
     "output_type": "stream",
     "text": [
      " 71%|███████████████████████████████████████████████████████                       | 1411/2000 [29:42<06:01,  1.63it/s]"
     ]
    },
    {
     "name": "stdout",
     "output_type": "stream",
     "text": [
      "Crawl comment page 1 success!!!\n",
      "Crawl comment for product 275868849\n",
      "Crawl comment page 0 success!!!\n"
     ]
    },
    {
     "name": "stderr",
     "output_type": "stream",
     "text": [
      " 71%|███████████████████████████████████████████████████████                       | 1413/2000 [29:44<07:37,  1.28it/s]"
     ]
    },
    {
     "name": "stdout",
     "output_type": "stream",
     "text": [
      "Crawl comment page 1 success!!!\n",
      "Crawl comment for product 275573750\n",
      "Crawl comment page 0 success!!!\n",
      "Crawl comment page 1 success!!!\n",
      "Crawl comment for product 274826887\n",
      "Crawl comment page 0 success!!!\n"
     ]
    },
    {
     "name": "stderr",
     "output_type": "stream",
     "text": [
      " 71%|███████████████████████████████████████████████████████▏                      | 1414/2000 [29:46<11:29,  1.18s/it]"
     ]
    },
    {
     "name": "stdout",
     "output_type": "stream",
     "text": [
      "Crawl comment page 1 success!!!\n",
      "Crawl comment for product 274638593\n",
      "Crawl comment page 0 success!!!\n"
     ]
    },
    {
     "name": "stderr",
     "output_type": "stream",
     "text": [
      " 71%|███████████████████████████████████████████████████████▏                      | 1415/2000 [29:49<16:32,  1.70s/it]"
     ]
    },
    {
     "name": "stdout",
     "output_type": "stream",
     "text": [
      "Crawl comment page 1 success!!!\n",
      "Crawl comment for product 274069425\n",
      "Crawl comment page 0 success!!!\n"
     ]
    },
    {
     "name": "stderr",
     "output_type": "stream",
     "text": [
      " 71%|███████████████████████████████████████████████████████▏                      | 1416/2000 [29:52<20:31,  2.11s/it]"
     ]
    },
    {
     "name": "stdout",
     "output_type": "stream",
     "text": [
      "Crawl comment page 1 success!!!\n",
      "Crawl comment for product 272857824\n",
      "Crawl comment page 0 success!!!\n"
     ]
    },
    {
     "name": "stderr",
     "output_type": "stream",
     "text": [
      " 71%|███████████████████████████████████████████████████████▎                      | 1417/2000 [29:55<22:43,  2.34s/it]"
     ]
    },
    {
     "name": "stdout",
     "output_type": "stream",
     "text": [
      "Crawl comment page 1 success!!!\n",
      "Crawl comment for product 271317275\n",
      "Crawl comment page 0 success!!!\n"
     ]
    },
    {
     "name": "stderr",
     "output_type": "stream",
     "text": [
      " 71%|███████████████████████████████████████████████████████▎                      | 1418/2000 [29:57<22:11,  2.29s/it]"
     ]
    },
    {
     "name": "stdout",
     "output_type": "stream",
     "text": [
      "Crawl comment page 1 success!!!\n",
      "Crawl comment for product 263419926\n",
      "Crawl comment page 0 success!!!\n"
     ]
    },
    {
     "name": "stderr",
     "output_type": "stream",
     "text": [
      " 71%|███████████████████████████████████████████████████████▎                      | 1419/2000 [29:58<17:36,  1.82s/it]"
     ]
    },
    {
     "name": "stdout",
     "output_type": "stream",
     "text": [
      "Crawl comment page 1 success!!!\n",
      "Crawl comment for product 262811777\n",
      "Crawl comment page 0 success!!!\n"
     ]
    },
    {
     "name": "stderr",
     "output_type": "stream",
     "text": [
      " 71%|███████████████████████████████████████████████████████▍                      | 1420/2000 [29:59<15:03,  1.56s/it]"
     ]
    },
    {
     "name": "stdout",
     "output_type": "stream",
     "text": [
      "Crawl comment page 1 success!!!\n",
      "Crawl comment for product 242425015\n",
      "Crawl comment page 0 success!!!\n"
     ]
    },
    {
     "name": "stderr",
     "output_type": "stream",
     "text": [
      " 71%|███████████████████████████████████████████████████████▍                      | 1421/2000 [30:02<19:09,  1.99s/it]"
     ]
    },
    {
     "name": "stdout",
     "output_type": "stream",
     "text": [
      "Crawl comment page 1 success!!!\n",
      "Crawl comment for product 225236888\n",
      "Crawl comment page 0 success!!!\n"
     ]
    },
    {
     "name": "stderr",
     "output_type": "stream",
     "text": [
      " 71%|███████████████████████████████████████████████████████▍                      | 1422/2000 [30:03<15:18,  1.59s/it]"
     ]
    },
    {
     "name": "stdout",
     "output_type": "stream",
     "text": [
      "Crawl comment page 1 success!!!\n",
      "Crawl comment for product 216437675\n",
      "Crawl comment page 0 success!!!\n"
     ]
    },
    {
     "name": "stderr",
     "output_type": "stream",
     "text": [
      " 71%|███████████████████████████████████████████████████████▍                      | 1423/2000 [30:05<18:08,  1.89s/it]"
     ]
    },
    {
     "name": "stdout",
     "output_type": "stream",
     "text": [
      "Crawl comment page 1 success!!!\n",
      "Crawl comment for product 207841114\n",
      "Crawl comment page 0 success!!!\n"
     ]
    },
    {
     "name": "stderr",
     "output_type": "stream",
     "text": [
      " 71%|███████████████████████████████████████████████████████▌                      | 1424/2000 [30:07<17:54,  1.87s/it]"
     ]
    },
    {
     "name": "stdout",
     "output_type": "stream",
     "text": [
      "Crawl comment page 1 success!!!\n",
      "Crawl comment for product 205894405\n",
      "Crawl comment page 0 success!!!\n"
     ]
    },
    {
     "name": "stderr",
     "output_type": "stream",
     "text": [
      " 71%|███████████████████████████████████████████████████████▌                      | 1425/2000 [30:08<14:27,  1.51s/it]"
     ]
    },
    {
     "name": "stdout",
     "output_type": "stream",
     "text": [
      "Crawl comment page 1 success!!!\n",
      "Crawl comment for product 196932335\n",
      "Crawl comment page 0 success!!!\n"
     ]
    },
    {
     "name": "stderr",
     "output_type": "stream",
     "text": [
      " 71%|███████████████████████████████████████████████████████▌                      | 1426/2000 [30:10<15:44,  1.65s/it]"
     ]
    },
    {
     "name": "stdout",
     "output_type": "stream",
     "text": [
      "Crawl comment page 1 success!!!\n",
      "Crawl comment for product 195801645\n",
      "Crawl comment page 0 success!!!\n"
     ]
    },
    {
     "name": "stderr",
     "output_type": "stream",
     "text": [
      " 71%|███████████████████████████████████████████████████████▋                      | 1427/2000 [30:11<15:36,  1.64s/it]"
     ]
    },
    {
     "name": "stdout",
     "output_type": "stream",
     "text": [
      "Crawl comment page 1 success!!!\n",
      "Crawl comment for product 193895767\n",
      "Crawl comment page 0 success!!!\n"
     ]
    },
    {
     "name": "stderr",
     "output_type": "stream",
     "text": [
      " 71%|███████████████████████████████████████████████████████▋                      | 1428/2000 [30:12<13:26,  1.41s/it]"
     ]
    },
    {
     "name": "stdout",
     "output_type": "stream",
     "text": [
      "Crawl comment page 1 success!!!\n",
      "Crawl comment for product 192125806\n",
      "Crawl comment page 0 success!!!\n"
     ]
    },
    {
     "name": "stderr",
     "output_type": "stream",
     "text": [
      " 71%|███████████████████████████████████████████████████████▋                      | 1429/2000 [30:15<17:52,  1.88s/it]"
     ]
    },
    {
     "name": "stdout",
     "output_type": "stream",
     "text": [
      "Crawl comment page 1 success!!!\n",
      "Crawl comment for product 164921979\n",
      "Crawl comment page 0 success!!!\n"
     ]
    },
    {
     "name": "stderr",
     "output_type": "stream",
     "text": [
      " 72%|███████████████████████████████████████████████████████▊                      | 1430/2000 [30:16<15:11,  1.60s/it]"
     ]
    },
    {
     "name": "stdout",
     "output_type": "stream",
     "text": [
      "Crawl comment page 1 success!!!\n",
      "Crawl comment for product 140360874\n",
      "Crawl comment page 0 success!!!\n"
     ]
    },
    {
     "name": "stderr",
     "output_type": "stream",
     "text": [
      " 72%|███████████████████████████████████████████████████████▊                      | 1431/2000 [30:19<19:10,  2.02s/it]"
     ]
    },
    {
     "name": "stdout",
     "output_type": "stream",
     "text": [
      "Crawl comment page 1 success!!!\n",
      "Crawl comment for product 130997085\n",
      "Crawl comment page 0 success!!!\n"
     ]
    },
    {
     "name": "stderr",
     "output_type": "stream",
     "text": [
      " 72%|███████████████████████████████████████████████████████▊                      | 1432/2000 [30:21<19:55,  2.10s/it]"
     ]
    },
    {
     "name": "stdout",
     "output_type": "stream",
     "text": [
      "Crawl comment page 1 success!!!\n",
      "Crawl comment for product 93849128\n",
      "Crawl comment page 0 success!!!\n"
     ]
    },
    {
     "name": "stderr",
     "output_type": "stream",
     "text": [
      " 72%|███████████████████████████████████████████████████████▉                      | 1433/2000 [30:22<16:31,  1.75s/it]"
     ]
    },
    {
     "name": "stdout",
     "output_type": "stream",
     "text": [
      "Crawl comment page 1 success!!!\n",
      "Crawl comment for product 87226756\n",
      "Crawl comment page 0 success!!!\n"
     ]
    },
    {
     "name": "stderr",
     "output_type": "stream",
     "text": [
      " 72%|███████████████████████████████████████████████████████▉                      | 1434/2000 [30:25<18:12,  1.93s/it]"
     ]
    },
    {
     "name": "stdout",
     "output_type": "stream",
     "text": [
      "Crawl comment page 1 success!!!\n",
      "Crawl comment for product 75953557\n",
      "Crawl comment page 0 success!!!\n"
     ]
    },
    {
     "name": "stderr",
     "output_type": "stream",
     "text": [
      " 72%|███████████████████████████████████████████████████████▉                      | 1435/2000 [30:26<15:26,  1.64s/it]"
     ]
    },
    {
     "name": "stdout",
     "output_type": "stream",
     "text": [
      "Crawl comment page 1 success!!!\n",
      "Crawl comment for product 64451825\n",
      "Crawl comment page 0 success!!!\n"
     ]
    },
    {
     "name": "stderr",
     "output_type": "stream",
     "text": [
      " 72%|████████████████████████████████████████████████████████                      | 1436/2000 [30:26<12:56,  1.38s/it]"
     ]
    },
    {
     "name": "stdout",
     "output_type": "stream",
     "text": [
      "Crawl comment page 1 success!!!\n",
      "Crawl comment for product 54431361\n",
      "Crawl comment page 0 success!!!\n"
     ]
    },
    {
     "name": "stderr",
     "output_type": "stream",
     "text": [
      " 72%|████████████████████████████████████████████████████████                      | 1437/2000 [30:27<11:44,  1.25s/it]"
     ]
    },
    {
     "name": "stdout",
     "output_type": "stream",
     "text": [
      "Crawl comment page 1 success!!!\n",
      "Crawl comment for product 49549457\n",
      "Crawl comment page 0 success!!!\n"
     ]
    },
    {
     "name": "stderr",
     "output_type": "stream",
     "text": [
      " 72%|████████████████████████████████████████████████████████                      | 1438/2000 [30:29<14:17,  1.52s/it]"
     ]
    },
    {
     "name": "stdout",
     "output_type": "stream",
     "text": [
      "Crawl comment page 1 success!!!\n",
      "Crawl comment for product 12053550\n",
      "Crawl comment page 0 success!!!\n"
     ]
    },
    {
     "name": "stderr",
     "output_type": "stream",
     "text": [
      " 72%|████████████████████████████████████████████████████████                      | 1439/2000 [30:31<14:16,  1.53s/it]"
     ]
    },
    {
     "name": "stdout",
     "output_type": "stream",
     "text": [
      "Crawl comment page 1 success!!!\n",
      "Crawl comment for product 11856448\n",
      "Crawl comment page 0 success!!!\n"
     ]
    },
    {
     "name": "stderr",
     "output_type": "stream",
     "text": [
      " 72%|████████████████████████████████████████████████████████▏                     | 1440/2000 [30:32<13:01,  1.40s/it]"
     ]
    },
    {
     "name": "stdout",
     "output_type": "stream",
     "text": [
      "Crawl comment page 1 success!!!\n",
      "Crawl comment for product 278090771\n",
      "Crawl comment page 0 success!!!\n"
     ]
    },
    {
     "name": "stderr",
     "output_type": "stream",
     "text": [
      " 72%|████████████████████████████████████████████████████████▏                     | 1442/2000 [30:34<10:05,  1.08s/it]"
     ]
    },
    {
     "name": "stdout",
     "output_type": "stream",
     "text": [
      "Crawl comment page 1 success!!!\n",
      "Crawl comment for product 277993499\n",
      "Crawl comment page 0 success!!!\n",
      "Crawl comment page 1 success!!!\n",
      "Crawl comment for product 277621647\n",
      "Crawl comment page 0 success!!!\n"
     ]
    },
    {
     "name": "stderr",
     "output_type": "stream",
     "text": [
      " 72%|████████████████████████████████████████████████████████▎                     | 1444/2000 [30:34<05:35,  1.65it/s]"
     ]
    },
    {
     "name": "stdout",
     "output_type": "stream",
     "text": [
      "Crawl comment page 1 success!!!\n",
      "Crawl comment for product 277597809\n",
      "Crawl comment page 0 success!!!\n",
      "Crawl comment page 1 success!!!\n",
      "Crawl comment for product 277447087\n",
      "Crawl comment page 0 success!!!\n"
     ]
    },
    {
     "name": "stderr",
     "output_type": "stream",
     "text": [
      " 72%|████████████████████████████████████████████████████████▍                     | 1446/2000 [30:35<04:13,  2.19it/s]"
     ]
    },
    {
     "name": "stdout",
     "output_type": "stream",
     "text": [
      "Crawl comment page 1 success!!!\n",
      "Crawl comment for product 277400773\n",
      "Crawl comment page 0 success!!!\n",
      "Crawl comment page 1 success!!!\n",
      "Crawl comment for product 277397107\n",
      "Crawl comment page 0 success!!!\n"
     ]
    },
    {
     "name": "stderr",
     "output_type": "stream",
     "text": [
      " 72%|████████████████████████████████████████████████████████▍                     | 1447/2000 [30:35<04:17,  2.15it/s]"
     ]
    },
    {
     "name": "stdout",
     "output_type": "stream",
     "text": [
      "Crawl comment page 1 success!!!\n",
      "Crawl comment for product 277165894\n",
      "Crawl comment page 0 success!!!\n"
     ]
    },
    {
     "name": "stderr",
     "output_type": "stream",
     "text": [
      " 72%|████████████████████████████████████████████████████████▌                     | 1449/2000 [30:37<05:17,  1.73it/s]"
     ]
    },
    {
     "name": "stdout",
     "output_type": "stream",
     "text": [
      "Crawl comment page 1 success!!!\n",
      "Crawl comment for product 277019980\n",
      "Crawl comment page 0 success!!!\n",
      "Crawl comment page 1 success!!!\n",
      "Crawl comment for product 276919300\n",
      "Crawl comment page 0 success!!!\n"
     ]
    },
    {
     "name": "stderr",
     "output_type": "stream",
     "text": [
      " 72%|████████████████████████████████████████████████████████▌                     | 1450/2000 [30:38<07:04,  1.29it/s]"
     ]
    },
    {
     "name": "stdout",
     "output_type": "stream",
     "text": [
      "Crawl comment page 1 success!!!\n",
      "Crawl comment for product 276895359\n",
      "Crawl comment page 0 success!!!\n"
     ]
    },
    {
     "name": "stderr",
     "output_type": "stream",
     "text": [
      " 73%|████████████████████████████████████████████████████████▋                     | 1452/2000 [30:40<06:19,  1.44it/s]"
     ]
    },
    {
     "name": "stdout",
     "output_type": "stream",
     "text": [
      "Crawl comment page 1 success!!!\n",
      "Crawl comment for product 276330917\n",
      "Crawl comment page 0 success!!!\n",
      "Crawl comment page 1 success!!!\n",
      "Crawl comment for product 275569214\n"
     ]
    },
    {
     "name": "stderr",
     "output_type": "stream",
     "text": [
      " 73%|████████████████████████████████████████████████████████▋                     | 1453/2000 [30:40<04:47,  1.90it/s]"
     ]
    },
    {
     "name": "stdout",
     "output_type": "stream",
     "text": [
      "Crawl comment page 0 success!!!\n",
      "Crawl comment page 1 success!!!\n",
      "Crawl comment for product 275335272\n",
      "Crawl comment page 0 success!!!\n"
     ]
    },
    {
     "name": "stderr",
     "output_type": "stream",
     "text": [
      " 73%|████████████████████████████████████████████████████████▋                     | 1455/2000 [30:43<08:23,  1.08it/s]"
     ]
    },
    {
     "name": "stdout",
     "output_type": "stream",
     "text": [
      "Crawl comment page 1 success!!!\n",
      "Crawl comment for product 274947628\n",
      "Crawl comment page 0 success!!!\n",
      "Crawl comment page 1 success!!!\n",
      "Crawl comment for product 273844978\n",
      "Crawl comment page 0 success!!!\n"
     ]
    },
    {
     "name": "stderr",
     "output_type": "stream",
     "text": [
      " 73%|████████████████████████████████████████████████████████▊                     | 1456/2000 [30:45<10:33,  1.16s/it]"
     ]
    },
    {
     "name": "stdout",
     "output_type": "stream",
     "text": [
      "Crawl comment page 1 success!!!\n",
      "Crawl comment for product 262662804\n",
      "Crawl comment page 0 success!!!\n"
     ]
    },
    {
     "name": "stderr",
     "output_type": "stream",
     "text": [
      " 73%|████████████████████████████████████████████████████████▊                     | 1457/2000 [30:48<16:35,  1.83s/it]"
     ]
    },
    {
     "name": "stdout",
     "output_type": "stream",
     "text": [
      "Crawl comment page 1 success!!!\n",
      "Crawl comment for product 260811306\n",
      "Crawl comment page 0 success!!!\n"
     ]
    },
    {
     "name": "stderr",
     "output_type": "stream",
     "text": [
      " 73%|████████████████████████████████████████████████████████▊                     | 1458/2000 [30:52<20:54,  2.31s/it]"
     ]
    },
    {
     "name": "stdout",
     "output_type": "stream",
     "text": [
      "Crawl comment page 1 success!!!\n",
      "Crawl comment for product 252857451\n",
      "Crawl comment page 0 success!!!\n"
     ]
    },
    {
     "name": "stderr",
     "output_type": "stream",
     "text": [
      " 73%|████████████████████████████████████████████████████████▉                     | 1459/2000 [30:55<22:51,  2.54s/it]"
     ]
    },
    {
     "name": "stdout",
     "output_type": "stream",
     "text": [
      "Crawl comment page 1 success!!!\n",
      "Crawl comment for product 252385478\n",
      "Crawl comment page 0 success!!!\n"
     ]
    },
    {
     "name": "stderr",
     "output_type": "stream",
     "text": [
      " 73%|████████████████████████████████████████████████████████▉                     | 1460/2000 [30:55<17:48,  1.98s/it]"
     ]
    },
    {
     "name": "stdout",
     "output_type": "stream",
     "text": [
      "Crawl comment page 1 success!!!\n",
      "Crawl comment for product 249875509\n",
      "Crawl comment page 0 success!!!\n"
     ]
    },
    {
     "name": "stderr",
     "output_type": "stream",
     "text": [
      " 73%|████████████████████████████████████████████████████████▉                     | 1461/2000 [30:57<16:01,  1.78s/it]"
     ]
    },
    {
     "name": "stdout",
     "output_type": "stream",
     "text": [
      "Crawl comment page 1 success!!!\n",
      "Crawl comment for product 208198125\n",
      "Crawl comment page 0 success!!!\n"
     ]
    },
    {
     "name": "stderr",
     "output_type": "stream",
     "text": [
      " 73%|█████████████████████████████████████████████████████████                     | 1462/2000 [30:59<16:51,  1.88s/it]"
     ]
    },
    {
     "name": "stdout",
     "output_type": "stream",
     "text": [
      "Crawl comment page 1 success!!!\n",
      "Crawl comment for product 207841197\n",
      "Crawl comment page 0 success!!!\n"
     ]
    },
    {
     "name": "stderr",
     "output_type": "stream",
     "text": [
      " 73%|█████████████████████████████████████████████████████████                     | 1463/2000 [31:01<18:31,  2.07s/it]"
     ]
    },
    {
     "name": "stdout",
     "output_type": "stream",
     "text": [
      "Crawl comment page 1 success!!!\n",
      "Crawl comment for product 203923084\n",
      "Crawl comment page 0 success!!!\n"
     ]
    },
    {
     "name": "stderr",
     "output_type": "stream",
     "text": [
      " 73%|█████████████████████████████████████████████████████████                     | 1464/2000 [31:04<21:41,  2.43s/it]"
     ]
    },
    {
     "name": "stdout",
     "output_type": "stream",
     "text": [
      "Crawl comment page 1 success!!!\n",
      "Crawl comment for product 196515739\n",
      "Crawl comment page 0 success!!!\n"
     ]
    },
    {
     "name": "stderr",
     "output_type": "stream",
     "text": [
      " 73%|█████████████████████████████████████████████████████████▏                    | 1465/2000 [31:06<18:54,  2.12s/it]"
     ]
    },
    {
     "name": "stdout",
     "output_type": "stream",
     "text": [
      "Crawl comment page 1 success!!!\n",
      "Crawl comment for product 187824619\n",
      "Crawl comment page 0 success!!!\n"
     ]
    },
    {
     "name": "stderr",
     "output_type": "stream",
     "text": [
      " 73%|█████████████████████████████████████████████████████████▏                    | 1466/2000 [31:09<21:36,  2.43s/it]"
     ]
    },
    {
     "name": "stdout",
     "output_type": "stream",
     "text": [
      "Crawl comment page 1 success!!!\n",
      "Crawl comment for product 138226289\n",
      "Crawl comment page 0 success!!!\n"
     ]
    },
    {
     "name": "stderr",
     "output_type": "stream",
     "text": [
      " 73%|█████████████████████████████████████████████████████████▏                    | 1467/2000 [31:11<19:35,  2.21s/it]"
     ]
    },
    {
     "name": "stdout",
     "output_type": "stream",
     "text": [
      "Crawl comment page 1 success!!!\n",
      "Crawl comment for product 129355968\n",
      "Crawl comment page 0 success!!!\n"
     ]
    },
    {
     "name": "stderr",
     "output_type": "stream",
     "text": [
      " 73%|█████████████████████████████████████████████████████████▎                    | 1468/2000 [31:12<16:52,  1.90s/it]"
     ]
    },
    {
     "name": "stdout",
     "output_type": "stream",
     "text": [
      "Crawl comment page 1 success!!!\n",
      "Crawl comment for product 113530800\n",
      "Crawl comment page 0 success!!!\n"
     ]
    },
    {
     "name": "stderr",
     "output_type": "stream",
     "text": [
      " 73%|█████████████████████████████████████████████████████████▎                    | 1469/2000 [31:14<17:47,  2.01s/it]"
     ]
    },
    {
     "name": "stdout",
     "output_type": "stream",
     "text": [
      "Crawl comment page 1 success!!!\n",
      "Crawl comment for product 104314401\n",
      "Crawl comment page 0 success!!!\n"
     ]
    },
    {
     "name": "stderr",
     "output_type": "stream",
     "text": [
      " 74%|█████████████████████████████████████████████████████████▎                    | 1470/2000 [31:16<18:36,  2.11s/it]"
     ]
    },
    {
     "name": "stdout",
     "output_type": "stream",
     "text": [
      "Crawl comment page 1 success!!!\n",
      "Crawl comment for product 93734071\n",
      "Crawl comment page 0 success!!!\n"
     ]
    },
    {
     "name": "stderr",
     "output_type": "stream",
     "text": [
      " 74%|█████████████████████████████████████████████████████████▎                    | 1471/2000 [31:17<15:37,  1.77s/it]"
     ]
    },
    {
     "name": "stdout",
     "output_type": "stream",
     "text": [
      "Crawl comment page 1 success!!!\n",
      "Crawl comment for product 91986410\n",
      "Crawl comment page 0 success!!!\n"
     ]
    },
    {
     "name": "stderr",
     "output_type": "stream",
     "text": [
      " 74%|█████████████████████████████████████████████████████████▍                    | 1472/2000 [31:19<16:16,  1.85s/it]"
     ]
    },
    {
     "name": "stdout",
     "output_type": "stream",
     "text": [
      "Crawl comment page 1 success!!!\n",
      "Crawl comment for product 72667834\n",
      "Crawl comment page 0 success!!!\n"
     ]
    },
    {
     "name": "stderr",
     "output_type": "stream",
     "text": [
      " 74%|█████████████████████████████████████████████████████████▍                    | 1473/2000 [31:22<17:44,  2.02s/it]"
     ]
    },
    {
     "name": "stdout",
     "output_type": "stream",
     "text": [
      "Crawl comment page 1 success!!!\n",
      "Crawl comment for product 71072209\n",
      "Crawl comment page 0 success!!!\n"
     ]
    },
    {
     "name": "stderr",
     "output_type": "stream",
     "text": [
      " 74%|█████████████████████████████████████████████████████████▍                    | 1474/2000 [31:24<18:00,  2.05s/it]"
     ]
    },
    {
     "name": "stdout",
     "output_type": "stream",
     "text": [
      "Crawl comment page 1 success!!!\n",
      "Crawl comment for product 55119185\n",
      "Crawl comment page 0 success!!!\n"
     ]
    },
    {
     "name": "stderr",
     "output_type": "stream",
     "text": [
      " 74%|█████████████████████████████████████████████████████████▌                    | 1475/2000 [31:26<17:38,  2.02s/it]"
     ]
    },
    {
     "name": "stdout",
     "output_type": "stream",
     "text": [
      "Crawl comment page 1 success!!!\n",
      "Crawl comment for product 52329763\n",
      "Crawl comment page 0 success!!!\n"
     ]
    },
    {
     "name": "stderr",
     "output_type": "stream",
     "text": [
      " 74%|█████████████████████████████████████████████████████████▌                    | 1476/2000 [31:28<17:24,  1.99s/it]"
     ]
    },
    {
     "name": "stdout",
     "output_type": "stream",
     "text": [
      "Crawl comment page 1 success!!!\n",
      "Crawl comment for product 44433397\n",
      "Crawl comment page 0 success!!!\n"
     ]
    },
    {
     "name": "stderr",
     "output_type": "stream",
     "text": [
      " 74%|█████████████████████████████████████████████████████████▌                    | 1477/2000 [31:30<18:31,  2.13s/it]"
     ]
    },
    {
     "name": "stdout",
     "output_type": "stream",
     "text": [
      "Crawl comment page 1 success!!!\n",
      "Crawl comment for product 33492447\n",
      "Crawl comment page 0 success!!!\n"
     ]
    },
    {
     "name": "stderr",
     "output_type": "stream",
     "text": [
      " 74%|█████████████████████████████████████████████████████████▋                    | 1478/2000 [31:32<17:05,  1.96s/it]"
     ]
    },
    {
     "name": "stdout",
     "output_type": "stream",
     "text": [
      "Crawl comment page 1 success!!!\n",
      "Crawl comment for product 6807847\n",
      "Crawl comment page 0 success!!!\n"
     ]
    },
    {
     "name": "stderr",
     "output_type": "stream",
     "text": [
      " 74%|█████████████████████████████████████████████████████████▋                    | 1479/2000 [31:34<17:05,  1.97s/it]"
     ]
    },
    {
     "name": "stdout",
     "output_type": "stream",
     "text": [
      "Crawl comment page 1 success!!!\n",
      "Crawl comment for product 997529\n",
      "Crawl comment page 0 success!!!\n"
     ]
    },
    {
     "name": "stderr",
     "output_type": "stream",
     "text": [
      " 74%|█████████████████████████████████████████████████████████▊                    | 1481/2000 [31:36<13:02,  1.51s/it]"
     ]
    },
    {
     "name": "stdout",
     "output_type": "stream",
     "text": [
      "Crawl comment page 1 success!!!\n",
      "Crawl comment for product 278165363\n",
      "Crawl comment page 0 success!!!\n",
      "Crawl comment page 1 success!!!\n",
      "Crawl comment for product 278149443\n",
      "Crawl comment page 0 success!!!\n"
     ]
    },
    {
     "name": "stderr",
     "output_type": "stream",
     "text": [
      " 74%|█████████████████████████████████████████████████████████▊                    | 1483/2000 [31:37<07:01,  1.23it/s]"
     ]
    },
    {
     "name": "stdout",
     "output_type": "stream",
     "text": [
      "Crawl comment page 1 success!!!\n",
      "Crawl comment for product 278098972\n",
      "Crawl comment page 0 success!!!\n",
      "Crawl comment page 1 success!!!\n",
      "Crawl comment for product 278090709\n",
      "Crawl comment page 0 success!!!\n"
     ]
    },
    {
     "name": "stderr",
     "output_type": "stream",
     "text": [
      " 74%|█████████████████████████████████████████████████████████▉                    | 1485/2000 [31:37<04:07,  2.08it/s]"
     ]
    },
    {
     "name": "stdout",
     "output_type": "stream",
     "text": [
      "Crawl comment page 1 success!!!\n",
      "Crawl comment for product 278073999\n",
      "Crawl comment page 0 success!!!\n",
      "Crawl comment page 1 success!!!\n",
      "Crawl comment for product 278063754\n"
     ]
    },
    {
     "name": "stderr",
     "output_type": "stream",
     "text": [
      " 74%|█████████████████████████████████████████████████████████▉                    | 1486/2000 [31:37<03:24,  2.51it/s]"
     ]
    },
    {
     "name": "stdout",
     "output_type": "stream",
     "text": [
      "Crawl comment page 0 success!!!\n",
      "Crawl comment page 1 success!!!\n",
      "Crawl comment for product 278017770\n",
      "Crawl comment page 0 success!!!\n"
     ]
    },
    {
     "name": "stderr",
     "output_type": "stream",
     "text": [
      " 74%|██████████████████████████████████████████████████████████                    | 1488/2000 [31:38<02:18,  3.71it/s]"
     ]
    },
    {
     "name": "stdout",
     "output_type": "stream",
     "text": [
      "Crawl comment page 1 success!!!\n",
      "Crawl comment for product 277967046\n",
      "Crawl comment page 0 success!!!\n",
      "Crawl comment page 1 success!!!\n",
      "Crawl comment for product 277963727\n"
     ]
    },
    {
     "name": "stderr",
     "output_type": "stream",
     "text": [
      " 74%|██████████████████████████████████████████████████████████                    | 1490/2000 [31:38<01:38,  5.18it/s]"
     ]
    },
    {
     "name": "stdout",
     "output_type": "stream",
     "text": [
      "Crawl comment page 0 success!!!\n",
      "Crawl comment page 1 success!!!\n",
      "Crawl comment for product 277963726\n",
      "Crawl comment page 0 success!!!\n",
      "Crawl comment page 1 success!!!\n",
      "Crawl comment for product 277836869\n"
     ]
    },
    {
     "name": "stderr",
     "output_type": "stream",
     "text": [
      " 75%|██████████████████████████████████████████████████████████▏                   | 1491/2000 [31:38<01:33,  5.44it/s]"
     ]
    },
    {
     "name": "stdout",
     "output_type": "stream",
     "text": [
      "Crawl comment page 0 success!!!\n",
      "Crawl comment page 1 success!!!\n",
      "Crawl comment for product 277228776\n",
      "Crawl comment page 0 success!!!\n"
     ]
    },
    {
     "name": "stderr",
     "output_type": "stream",
     "text": [
      " 75%|██████████████████████████████████████████████████████████▏                   | 1492/2000 [31:39<03:27,  2.45it/s]"
     ]
    },
    {
     "name": "stdout",
     "output_type": "stream",
     "text": [
      "Crawl comment page 1 success!!!\n",
      "Crawl comment for product 276976868\n",
      "Crawl comment page 0 success!!!\n"
     ]
    },
    {
     "name": "stderr",
     "output_type": "stream",
     "text": [
      " 75%|██████████████████████████████████████████████████████████▏                   | 1493/2000 [31:39<03:00,  2.81it/s]"
     ]
    },
    {
     "name": "stdout",
     "output_type": "stream",
     "text": [
      "Crawl comment page 1 success!!!\n",
      "Crawl comment for product 276968644\n",
      "Crawl comment page 0 success!!!\n"
     ]
    },
    {
     "name": "stderr",
     "output_type": "stream",
     "text": [
      " 75%|██████████████████████████████████████████████████████████▎                   | 1495/2000 [31:40<02:52,  2.92it/s]"
     ]
    },
    {
     "name": "stdout",
     "output_type": "stream",
     "text": [
      "Crawl comment page 1 success!!!\n",
      "Crawl comment for product 276684423\n",
      "Crawl comment page 0 success!!!\n",
      "Crawl comment page 1 success!!!\n",
      "Crawl comment for product 275986374\n",
      "Crawl comment page 0 success!!!\n"
     ]
    },
    {
     "name": "stderr",
     "output_type": "stream",
     "text": [
      " 75%|██████████████████████████████████████████████████████████▎                   | 1496/2000 [31:41<03:41,  2.28it/s]"
     ]
    },
    {
     "name": "stdout",
     "output_type": "stream",
     "text": [
      "Crawl comment page 1 success!!!\n",
      "Crawl comment for product 275576878\n",
      "Crawl comment page 0 success!!!\n"
     ]
    },
    {
     "name": "stderr",
     "output_type": "stream",
     "text": [
      " 75%|██████████████████████████████████████████████████████████▍                   | 1497/2000 [31:43<07:44,  1.08it/s]"
     ]
    },
    {
     "name": "stdout",
     "output_type": "stream",
     "text": [
      "Crawl comment page 1 success!!!\n",
      "Crawl comment for product 275354839\n",
      "Crawl comment page 0 success!!!\n"
     ]
    },
    {
     "name": "stderr",
     "output_type": "stream",
     "text": [
      " 75%|██████████████████████████████████████████████████████████▍                   | 1499/2000 [31:43<05:18,  1.57it/s]"
     ]
    },
    {
     "name": "stdout",
     "output_type": "stream",
     "text": [
      "Crawl comment page 1 success!!!\n",
      "Crawl comment for product 274913159\n",
      "Crawl comment page 0 success!!!\n",
      "Crawl comment page 1 success!!!\n",
      "Crawl comment for product 274458940\n",
      "Crawl comment page 0 success!!!\n"
     ]
    },
    {
     "name": "stderr",
     "output_type": "stream",
     "text": [
      " 75%|██████████████████████████████████████████████████████████▌                   | 1500/2000 [31:46<09:50,  1.18s/it]"
     ]
    },
    {
     "name": "stdout",
     "output_type": "stream",
     "text": [
      "Crawl comment page 1 success!!!\n",
      "Crawl comment for product 272349551\n",
      "Crawl comment page 0 success!!!\n"
     ]
    },
    {
     "name": "stderr",
     "output_type": "stream",
     "text": [
      " 75%|██████████████████████████████████████████████████████████▌                   | 1501/2000 [31:49<13:41,  1.65s/it]"
     ]
    },
    {
     "name": "stdout",
     "output_type": "stream",
     "text": [
      "Crawl comment page 1 success!!!\n",
      "Crawl comment for product 271913926\n"
     ]
    },
    {
     "name": "stderr",
     "output_type": "stream",
     "text": [
      " 75%|██████████████████████████████████████████████████████████▌                   | 1502/2000 [31:49<10:28,  1.26s/it]"
     ]
    },
    {
     "name": "stdout",
     "output_type": "stream",
     "text": [
      "Crawl comment page 0 success!!!\n",
      "Crawl comment page 1 success!!!\n",
      "Crawl comment for product 206840682\n",
      "Crawl comment page 0 success!!!\n"
     ]
    },
    {
     "name": "stderr",
     "output_type": "stream",
     "text": [
      " 75%|██████████████████████████████████████████████████████████▌                   | 1503/2000 [31:50<10:35,  1.28s/it]"
     ]
    },
    {
     "name": "stdout",
     "output_type": "stream",
     "text": [
      "Crawl comment page 1 success!!!\n",
      "Crawl comment for product 199728540\n",
      "Crawl comment page 0 success!!!\n"
     ]
    },
    {
     "name": "stderr",
     "output_type": "stream",
     "text": [
      " 75%|██████████████████████████████████████████████████████████▋                   | 1504/2000 [31:51<09:05,  1.10s/it]"
     ]
    },
    {
     "name": "stdout",
     "output_type": "stream",
     "text": [
      "Crawl comment page 1 success!!!\n",
      "Crawl comment for product 192889318\n",
      "Crawl comment page 0 success!!!\n"
     ]
    },
    {
     "name": "stderr",
     "output_type": "stream",
     "text": [
      " 75%|██████████████████████████████████████████████████████████▋                   | 1505/2000 [31:51<06:55,  1.19it/s]"
     ]
    },
    {
     "name": "stdout",
     "output_type": "stream",
     "text": [
      "Crawl comment page 1 success!!!\n",
      "Crawl comment for product 187827443\n",
      "Crawl comment page 0 success!!!\n"
     ]
    },
    {
     "name": "stderr",
     "output_type": "stream",
     "text": [
      " 75%|██████████████████████████████████████████████████████████▋                   | 1506/2000 [31:53<09:47,  1.19s/it]"
     ]
    },
    {
     "name": "stdout",
     "output_type": "stream",
     "text": [
      "Crawl comment page 1 success!!!\n",
      "Crawl comment for product 179063535\n",
      "Crawl comment page 0 success!!!\n"
     ]
    },
    {
     "name": "stderr",
     "output_type": "stream",
     "text": [
      " 75%|██████████████████████████████████████████████████████████▊                   | 1507/2000 [31:55<12:15,  1.49s/it]"
     ]
    },
    {
     "name": "stdout",
     "output_type": "stream",
     "text": [
      "Crawl comment page 1 success!!!\n",
      "Crawl comment for product 178483666\n",
      "Crawl comment page 0 success!!!\n"
     ]
    },
    {
     "name": "stderr",
     "output_type": "stream",
     "text": [
      " 75%|██████████████████████████████████████████████████████████▊                   | 1508/2000 [31:57<13:05,  1.60s/it]"
     ]
    },
    {
     "name": "stdout",
     "output_type": "stream",
     "text": [
      "Crawl comment page 1 success!!!\n",
      "Crawl comment for product 160488878\n",
      "Crawl comment page 0 success!!!\n"
     ]
    },
    {
     "name": "stderr",
     "output_type": "stream",
     "text": [
      " 75%|██████████████████████████████████████████████████████████▊                   | 1509/2000 [31:59<13:47,  1.69s/it]"
     ]
    },
    {
     "name": "stdout",
     "output_type": "stream",
     "text": [
      "Crawl comment page 1 success!!!\n",
      "Crawl comment for product 132366458\n",
      "Crawl comment page 0 success!!!\n"
     ]
    },
    {
     "name": "stderr",
     "output_type": "stream",
     "text": [
      " 76%|██████████████████████████████████████████████████████████▉                   | 1510/2000 [32:02<15:50,  1.94s/it]"
     ]
    },
    {
     "name": "stdout",
     "output_type": "stream",
     "text": [
      "Crawl comment page 1 success!!!\n",
      "Crawl comment for product 100947274\n",
      "Crawl comment page 0 success!!!\n"
     ]
    },
    {
     "name": "stderr",
     "output_type": "stream",
     "text": [
      " 76%|██████████████████████████████████████████████████████████▉                   | 1511/2000 [32:03<14:25,  1.77s/it]"
     ]
    },
    {
     "name": "stdout",
     "output_type": "stream",
     "text": [
      "Crawl comment page 1 success!!!\n",
      "Crawl comment for product 77149524\n",
      "Crawl comment page 0 success!!!\n"
     ]
    },
    {
     "name": "stderr",
     "output_type": "stream",
     "text": [
      " 76%|██████████████████████████████████████████████████████████▉                   | 1512/2000 [32:04<13:12,  1.62s/it]"
     ]
    },
    {
     "name": "stdout",
     "output_type": "stream",
     "text": [
      "Crawl comment page 1 success!!!\n",
      "Crawl comment for product 75813201\n",
      "Crawl comment page 0 success!!!\n"
     ]
    },
    {
     "name": "stderr",
     "output_type": "stream",
     "text": [
      " 76%|███████████████████████████████████████████████████████████                   | 1513/2000 [32:06<12:08,  1.50s/it]"
     ]
    },
    {
     "name": "stdout",
     "output_type": "stream",
     "text": [
      "Crawl comment page 1 success!!!\n",
      "Crawl comment for product 72308265\n",
      "Crawl comment page 0 success!!!\n"
     ]
    },
    {
     "name": "stderr",
     "output_type": "stream",
     "text": [
      " 76%|███████████████████████████████████████████████████████████                   | 1514/2000 [32:08<15:32,  1.92s/it]"
     ]
    },
    {
     "name": "stdout",
     "output_type": "stream",
     "text": [
      "Crawl comment page 1 success!!!\n",
      "Crawl comment for product 44911510\n",
      "Crawl comment page 0 success!!!\n"
     ]
    },
    {
     "name": "stderr",
     "output_type": "stream",
     "text": [
      " 76%|███████████████████████████████████████████████████████████                   | 1515/2000 [32:09<13:01,  1.61s/it]"
     ]
    },
    {
     "name": "stdout",
     "output_type": "stream",
     "text": [
      "Crawl comment page 1 success!!!\n",
      "Crawl comment for product 43665704\n",
      "Crawl comment page 0 success!!!\n"
     ]
    },
    {
     "name": "stderr",
     "output_type": "stream",
     "text": [
      " 76%|███████████████████████████████████████████████████████████                   | 1516/2000 [32:10<11:41,  1.45s/it]"
     ]
    },
    {
     "name": "stdout",
     "output_type": "stream",
     "text": [
      "Crawl comment page 1 success!!!\n",
      "Crawl comment for product 11336581\n",
      "Crawl comment page 0 success!!!\n"
     ]
    },
    {
     "name": "stderr",
     "output_type": "stream",
     "text": [
      " 76%|███████████████████████████████████████████████████████████▏                  | 1517/2000 [32:13<13:18,  1.65s/it]"
     ]
    },
    {
     "name": "stdout",
     "output_type": "stream",
     "text": [
      "Crawl comment page 1 success!!!\n",
      "Crawl comment for product 10397241\n",
      "Crawl comment page 0 success!!!\n"
     ]
    },
    {
     "name": "stderr",
     "output_type": "stream",
     "text": [
      " 76%|███████████████████████████████████████████████████████████▏                  | 1518/2000 [32:15<14:31,  1.81s/it]"
     ]
    },
    {
     "name": "stdout",
     "output_type": "stream",
     "text": [
      "Crawl comment page 1 success!!!\n",
      "Crawl comment for product 7034499\n",
      "Crawl comment page 0 success!!!\n"
     ]
    },
    {
     "name": "stderr",
     "output_type": "stream",
     "text": [
      " 76%|███████████████████████████████████████████████████████████▏                  | 1519/2000 [32:16<13:27,  1.68s/it]"
     ]
    },
    {
     "name": "stdout",
     "output_type": "stream",
     "text": [
      "Crawl comment page 1 success!!!\n",
      "Crawl comment for product 5154511\n",
      "Crawl comment page 0 success!!!\n"
     ]
    },
    {
     "name": "stderr",
     "output_type": "stream",
     "text": [
      " 76%|███████████████████████████████████████████████████████████▎                  | 1521/2000 [32:18<09:20,  1.17s/it]"
     ]
    },
    {
     "name": "stdout",
     "output_type": "stream",
     "text": [
      "Crawl comment page 1 success!!!\n",
      "Crawl comment for product 278160116\n",
      "Crawl comment page 0 success!!!\n",
      "Crawl comment page 1 success!!!\n",
      "Crawl comment for product 278147083\n"
     ]
    },
    {
     "name": "stderr",
     "output_type": "stream",
     "text": [
      " 76%|███████████████████████████████████████████████████████████▍                  | 1523/2000 [32:18<05:21,  1.48it/s]"
     ]
    },
    {
     "name": "stdout",
     "output_type": "stream",
     "text": [
      "Crawl comment page 0 success!!!\n",
      "Crawl comment page 1 success!!!\n",
      "Crawl comment for product 278058658\n",
      "Crawl comment page 0 success!!!\n",
      "Crawl comment page 1 success!!!\n",
      "Crawl comment for product 278058198\n",
      "Crawl comment page 0 success!!!\n"
     ]
    },
    {
     "name": "stderr",
     "output_type": "stream",
     "text": [
      " 76%|███████████████████████████████████████████████████████████▍                  | 1525/2000 [32:18<03:08,  2.51it/s]"
     ]
    },
    {
     "name": "stdout",
     "output_type": "stream",
     "text": [
      "Crawl comment page 1 success!!!\n",
      "Crawl comment for product 278049067\n",
      "Crawl comment page 0 success!!!\n",
      "Crawl comment page 1 success!!!\n",
      "Crawl comment for product 277827115\n"
     ]
    },
    {
     "name": "stderr",
     "output_type": "stream",
     "text": [
      " 76%|███████████████████████████████████████████████████████████▌                  | 1527/2000 [32:19<01:57,  4.01it/s]"
     ]
    },
    {
     "name": "stdout",
     "output_type": "stream",
     "text": [
      "Crawl comment page 0 success!!!\n",
      "Crawl comment page 1 success!!!\n",
      "Crawl comment for product 277596931\n",
      "Crawl comment page 0 success!!!\n",
      "Crawl comment page 1 success!!!\n",
      "Crawl comment for product 277570083\n"
     ]
    },
    {
     "name": "stderr",
     "output_type": "stream",
     "text": [
      " 76%|███████████████████████████████████████████████████████████▌                  | 1528/2000 [32:19<01:37,  4.83it/s]"
     ]
    },
    {
     "name": "stdout",
     "output_type": "stream",
     "text": [
      "Crawl comment page 0 success!!!\n",
      "Crawl comment page 1 success!!!\n",
      "Crawl comment for product 277539447\n",
      "Crawl comment page 0 success!!!\n"
     ]
    },
    {
     "name": "stderr",
     "output_type": "stream",
     "text": [
      " 76%|███████████████████████████████████████████████████████████▋                  | 1530/2000 [32:19<01:36,  4.87it/s]"
     ]
    },
    {
     "name": "stdout",
     "output_type": "stream",
     "text": [
      "Crawl comment page 1 success!!!\n",
      "Crawl comment for product 277135732\n",
      "Crawl comment page 0 success!!!\n",
      "Crawl comment page 1 success!!!\n",
      "Crawl comment for product 276563039\n",
      "Crawl comment page 0 success!!!\n"
     ]
    },
    {
     "name": "stderr",
     "output_type": "stream",
     "text": [
      " 77%|███████████████████████████████████████████████████████████▋                  | 1532/2000 [32:21<03:29,  2.24it/s]"
     ]
    },
    {
     "name": "stdout",
     "output_type": "stream",
     "text": [
      "Crawl comment page 1 success!!!\n",
      "Crawl comment for product 276257666\n",
      "Crawl comment page 0 success!!!\n",
      "Crawl comment page 1 success!!!\n",
      "Crawl comment for product 274365135\n",
      "Crawl comment page 0 success!!!\n"
     ]
    },
    {
     "name": "stderr",
     "output_type": "stream",
     "text": [
      " 77%|███████████████████████████████████████████████████████████▊                  | 1533/2000 [32:21<04:01,  1.93it/s]"
     ]
    },
    {
     "name": "stdout",
     "output_type": "stream",
     "text": [
      "Crawl comment page 1 success!!!\n",
      "Crawl comment for product 273531017\n",
      "Crawl comment page 0 success!!!\n"
     ]
    },
    {
     "name": "stderr",
     "output_type": "stream",
     "text": [
      " 77%|███████████████████████████████████████████████████████████▊                  | 1535/2000 [32:25<07:32,  1.03it/s]"
     ]
    },
    {
     "name": "stdout",
     "output_type": "stream",
     "text": [
      "Crawl comment page 1 success!!!\n",
      "Crawl comment for product 273406970\n",
      "Crawl comment page 0 success!!!\n",
      "Crawl comment page 1 success!!!\n",
      "Crawl comment for product 272517925\n",
      "Crawl comment page 0 success!!!\n"
     ]
    },
    {
     "name": "stderr",
     "output_type": "stream",
     "text": [
      " 77%|███████████████████████████████████████████████████████████▉                  | 1536/2000 [32:28<12:39,  1.64s/it]"
     ]
    },
    {
     "name": "stdout",
     "output_type": "stream",
     "text": [
      "Crawl comment page 1 success!!!\n",
      "Crawl comment for product 272188850\n",
      "Crawl comment page 0 success!!!\n"
     ]
    },
    {
     "name": "stderr",
     "output_type": "stream",
     "text": [
      " 77%|███████████████████████████████████████████████████████████▉                  | 1537/2000 [32:32<16:58,  2.20s/it]"
     ]
    },
    {
     "name": "stdout",
     "output_type": "stream",
     "text": [
      "Crawl comment page 1 success!!!\n",
      "Crawl comment for product 270744149\n",
      "Crawl comment page 0 success!!!\n"
     ]
    },
    {
     "name": "stderr",
     "output_type": "stream",
     "text": [
      " 77%|███████████████████████████████████████████████████████████▉                  | 1538/2000 [32:32<12:55,  1.68s/it]"
     ]
    },
    {
     "name": "stdout",
     "output_type": "stream",
     "text": [
      "Crawl comment page 1 success!!!\n",
      "Crawl comment for product 253284237\n",
      "Crawl comment page 0 success!!!\n"
     ]
    },
    {
     "name": "stderr",
     "output_type": "stream",
     "text": [
      " 77%|████████████████████████████████████████████████████████████                  | 1539/2000 [32:33<11:23,  1.48s/it]"
     ]
    },
    {
     "name": "stdout",
     "output_type": "stream",
     "text": [
      "Crawl comment page 1 success!!!\n",
      "Crawl comment for product 249876834\n",
      "Crawl comment page 0 success!!!\n"
     ]
    },
    {
     "name": "stderr",
     "output_type": "stream",
     "text": [
      " 77%|████████████████████████████████████████████████████████████                  | 1540/2000 [32:34<09:19,  1.22s/it]"
     ]
    },
    {
     "name": "stdout",
     "output_type": "stream",
     "text": [
      "Crawl comment page 1 success!!!\n",
      "Crawl comment for product 208560326\n",
      "Crawl comment page 0 success!!!\n"
     ]
    },
    {
     "name": "stderr",
     "output_type": "stream",
     "text": [
      " 77%|████████████████████████████████████████████████████████████                  | 1541/2000 [32:36<11:34,  1.51s/it]"
     ]
    },
    {
     "name": "stdout",
     "output_type": "stream",
     "text": [
      "Crawl comment page 1 success!!!\n",
      "Crawl comment for product 207968695\n",
      "Crawl comment page 0 success!!!\n"
     ]
    },
    {
     "name": "stderr",
     "output_type": "stream",
     "text": [
      " 77%|██████████████████████████████████████████████████████████▌                 | 1542/2000 [33:01<1:05:14,  8.55s/it]"
     ]
    },
    {
     "name": "stdout",
     "output_type": "stream",
     "text": [
      "Crawl comment page 1 success!!!\n",
      "Crawl comment for product 195624198\n",
      "Crawl comment page 0 success!!!\n"
     ]
    },
    {
     "name": "stderr",
     "output_type": "stream",
     "text": [
      " 77%|████████████████████████████████████████████████████████████▏                 | 1543/2000 [33:05<54:34,  7.16s/it]"
     ]
    },
    {
     "name": "stdout",
     "output_type": "stream",
     "text": [
      "Crawl comment page 1 success!!!\n",
      "Crawl comment for product 192124406\n",
      "Crawl comment page 0 success!!!\n"
     ]
    },
    {
     "name": "stderr",
     "output_type": "stream",
     "text": [
      " 77%|████████████████████████████████████████████████████████████▏                 | 1544/2000 [33:06<41:41,  5.49s/it]"
     ]
    },
    {
     "name": "stdout",
     "output_type": "stream",
     "text": [
      "Crawl comment page 1 success!!!\n",
      "Crawl comment for product 178093810\n",
      "Crawl comment page 0 success!!!\n"
     ]
    },
    {
     "name": "stderr",
     "output_type": "stream",
     "text": [
      " 77%|████████████████████████████████████████████████████████████▎                 | 1545/2000 [33:07<30:37,  4.04s/it]"
     ]
    },
    {
     "name": "stdout",
     "output_type": "stream",
     "text": [
      "Crawl comment page 1 success!!!\n",
      "Crawl comment for product 176550321\n",
      "Crawl comment page 0 success!!!\n"
     ]
    },
    {
     "name": "stderr",
     "output_type": "stream",
     "text": [
      " 77%|████████████████████████████████████████████████████████████▎                 | 1546/2000 [33:08<24:44,  3.27s/it]"
     ]
    },
    {
     "name": "stdout",
     "output_type": "stream",
     "text": [
      "Crawl comment page 1 success!!!\n",
      "Crawl comment for product 174215347\n",
      "Crawl comment page 0 success!!!\n"
     ]
    },
    {
     "name": "stderr",
     "output_type": "stream",
     "text": [
      " 77%|████████████████████████████████████████████████████████████▎                 | 1547/2000 [33:10<21:07,  2.80s/it]"
     ]
    },
    {
     "name": "stdout",
     "output_type": "stream",
     "text": [
      "Crawl comment page 1 success!!!\n",
      "Crawl comment for product 174038756\n",
      "Crawl comment page 0 success!!!\n"
     ]
    },
    {
     "name": "stderr",
     "output_type": "stream",
     "text": [
      " 77%|████████████████████████████████████████████████████████████▎                 | 1548/2000 [33:11<16:50,  2.24s/it]"
     ]
    },
    {
     "name": "stdout",
     "output_type": "stream",
     "text": [
      "Crawl comment page 1 success!!!\n",
      "Crawl comment for product 173515430\n",
      "Crawl comment page 0 success!!!\n"
     ]
    },
    {
     "name": "stderr",
     "output_type": "stream",
     "text": [
      " 77%|████████████████████████████████████████████████████████████▍                 | 1549/2000 [33:14<19:09,  2.55s/it]"
     ]
    },
    {
     "name": "stdout",
     "output_type": "stream",
     "text": [
      "Crawl comment page 1 success!!!\n",
      "Crawl comment for product 160269952\n",
      "Crawl comment page 0 success!!!\n"
     ]
    },
    {
     "name": "stderr",
     "output_type": "stream",
     "text": [
      " 78%|████████████████████████████████████████████████████████████▍                 | 1550/2000 [33:18<21:26,  2.86s/it]"
     ]
    },
    {
     "name": "stdout",
     "output_type": "stream",
     "text": [
      "Crawl comment page 1 success!!!\n",
      "Crawl comment for product 77665388\n",
      "Crawl comment page 0 success!!!\n"
     ]
    },
    {
     "name": "stderr",
     "output_type": "stream",
     "text": [
      " 78%|████████████████████████████████████████████████████████████▍                 | 1551/2000 [33:19<17:29,  2.34s/it]"
     ]
    },
    {
     "name": "stdout",
     "output_type": "stream",
     "text": [
      "Crawl comment page 1 success!!!\n",
      "Crawl comment for product 75615273\n",
      "Crawl comment page 0 success!!!\n"
     ]
    },
    {
     "name": "stderr",
     "output_type": "stream",
     "text": [
      " 78%|████████████████████████████████████████████████████████████▌                 | 1552/2000 [33:21<17:23,  2.33s/it]"
     ]
    },
    {
     "name": "stdout",
     "output_type": "stream",
     "text": [
      "Crawl comment page 1 success!!!\n",
      "Crawl comment for product 73878873\n",
      "Crawl comment page 0 success!!!\n"
     ]
    },
    {
     "name": "stderr",
     "output_type": "stream",
     "text": [
      " 78%|████████████████████████████████████████████████████████████▌                 | 1553/2000 [33:24<17:06,  2.30s/it]"
     ]
    },
    {
     "name": "stdout",
     "output_type": "stream",
     "text": [
      "Crawl comment page 1 success!!!\n",
      "Crawl comment for product 73125816\n",
      "Crawl comment page 0 success!!!\n"
     ]
    },
    {
     "name": "stderr",
     "output_type": "stream",
     "text": [
      " 78%|████████████████████████████████████████████████████████████▌                 | 1554/2000 [33:25<14:48,  1.99s/it]"
     ]
    },
    {
     "name": "stdout",
     "output_type": "stream",
     "text": [
      "Crawl comment page 1 success!!!\n",
      "Crawl comment for product 66698344\n",
      "Crawl comment page 0 success!!!\n"
     ]
    },
    {
     "name": "stderr",
     "output_type": "stream",
     "text": [
      " 78%|████████████████████████████████████████████████████████████▋                 | 1555/2000 [33:26<13:56,  1.88s/it]"
     ]
    },
    {
     "name": "stdout",
     "output_type": "stream",
     "text": [
      "Crawl comment page 1 success!!!\n",
      "Crawl comment for product 64451967\n",
      "Crawl comment page 0 success!!!\n"
     ]
    },
    {
     "name": "stderr",
     "output_type": "stream",
     "text": [
      " 78%|████████████████████████████████████████████████████████████▋                 | 1556/2000 [33:27<10:36,  1.43s/it]"
     ]
    },
    {
     "name": "stdout",
     "output_type": "stream",
     "text": [
      "Crawl comment page 1 success!!!\n",
      "Crawl comment for product 49904794\n",
      "Crawl comment page 0 success!!!\n"
     ]
    },
    {
     "name": "stderr",
     "output_type": "stream",
     "text": [
      " 78%|████████████████████████████████████████████████████████████▋                 | 1557/2000 [33:28<10:39,  1.44s/it]"
     ]
    },
    {
     "name": "stdout",
     "output_type": "stream",
     "text": [
      "Crawl comment page 1 success!!!\n",
      "Crawl comment for product 3408327\n",
      "Crawl comment page 0 success!!!\n"
     ]
    },
    {
     "name": "stderr",
     "output_type": "stream",
     "text": [
      " 78%|████████████████████████████████████████████████████████████▊                 | 1558/2000 [33:30<12:12,  1.66s/it]"
     ]
    },
    {
     "name": "stdout",
     "output_type": "stream",
     "text": [
      "Crawl comment page 1 success!!!\n",
      "Crawl comment for product 1667493\n",
      "Crawl comment page 0 success!!!\n"
     ]
    },
    {
     "name": "stderr",
     "output_type": "stream",
     "text": [
      " 78%|████████████████████████████████████████████████████████████▊                 | 1559/2000 [33:31<09:14,  1.26s/it]"
     ]
    },
    {
     "name": "stdout",
     "output_type": "stream",
     "text": [
      "Crawl comment page 1 success!!!\n",
      "Crawl comment for product 555504\n",
      "Crawl comment page 0 success!!!\n"
     ]
    },
    {
     "name": "stderr",
     "output_type": "stream",
     "text": [
      " 78%|████████████████████████████████████████████████████████████▉                 | 1561/2000 [33:34<10:03,  1.37s/it]"
     ]
    },
    {
     "name": "stdout",
     "output_type": "stream",
     "text": [
      "Crawl comment page 1 success!!!\n",
      "Crawl comment for product 278029053\n",
      "Crawl comment page 0 success!!!\n",
      "Crawl comment page 1 success!!!\n",
      "Crawl comment for product 277973490\n"
     ]
    },
    {
     "name": "stderr",
     "output_type": "stream",
     "text": [
      " 78%|████████████████████████████████████████████████████████████▉                 | 1562/2000 [33:34<07:22,  1.01s/it]"
     ]
    },
    {
     "name": "stdout",
     "output_type": "stream",
     "text": [
      "Crawl comment page 0 success!!!\n",
      "Crawl comment page 1 success!!!\n",
      "Crawl comment for product 277750390\n",
      "Crawl comment page 0 success!!!\n"
     ]
    },
    {
     "name": "stderr",
     "output_type": "stream",
     "text": [
      " 78%|████████████████████████████████████████████████████████████▉                 | 1563/2000 [33:36<08:40,  1.19s/it]"
     ]
    },
    {
     "name": "stdout",
     "output_type": "stream",
     "text": [
      "Crawl comment page 1 success!!!\n",
      "Crawl comment for product 277599510\n",
      "Crawl comment page 0 success!!!\n"
     ]
    },
    {
     "name": "stderr",
     "output_type": "stream",
     "text": [
      " 78%|████████████████████████████████████████████████████████████▉                 | 1564/2000 [33:37<07:28,  1.03s/it]"
     ]
    },
    {
     "name": "stdout",
     "output_type": "stream",
     "text": [
      "Crawl comment page 1 success!!!\n",
      "Crawl comment for product 277281568\n",
      "Crawl comment page 0 success!!!\n"
     ]
    },
    {
     "name": "stderr",
     "output_type": "stream",
     "text": [
      " 78%|█████████████████████████████████████████████████████████████                 | 1565/2000 [33:38<07:58,  1.10s/it]"
     ]
    },
    {
     "name": "stdout",
     "output_type": "stream",
     "text": [
      "Crawl comment page 1 success!!!\n",
      "Crawl comment for product 277253394\n",
      "Crawl comment page 0 success!!!\n"
     ]
    },
    {
     "name": "stderr",
     "output_type": "stream",
     "text": [
      " 78%|█████████████████████████████████████████████████████████████                 | 1566/2000 [33:40<09:14,  1.28s/it]"
     ]
    },
    {
     "name": "stdout",
     "output_type": "stream",
     "text": [
      "Crawl comment page 1 success!!!\n",
      "Crawl comment for product 277228145\n",
      "Crawl comment page 0 success!!!\n"
     ]
    },
    {
     "name": "stderr",
     "output_type": "stream",
     "text": [
      " 78%|█████████████████████████████████████████████████████████████                 | 1567/2000 [33:41<08:28,  1.17s/it]"
     ]
    },
    {
     "name": "stdout",
     "output_type": "stream",
     "text": [
      "Crawl comment page 1 success!!!\n",
      "Crawl comment for product 277028379\n",
      "Crawl comment page 0 success!!!\n"
     ]
    },
    {
     "name": "stderr",
     "output_type": "stream",
     "text": [
      " 78%|█████████████████████████████████████████████████████████████▏                | 1568/2000 [33:41<06:33,  1.10it/s]"
     ]
    },
    {
     "name": "stdout",
     "output_type": "stream",
     "text": [
      "Crawl comment page 1 success!!!\n",
      "Crawl comment for product 276860231\n",
      "Crawl comment page 0 success!!!\n"
     ]
    },
    {
     "name": "stderr",
     "output_type": "stream",
     "text": [
      " 78%|█████████████████████████████████████████████████████████████▏                | 1569/2000 [33:43<09:09,  1.27s/it]"
     ]
    },
    {
     "name": "stdout",
     "output_type": "stream",
     "text": [
      "Crawl comment page 1 success!!!\n",
      "Crawl comment for product 276688548\n",
      "Crawl comment page 0 success!!!\n"
     ]
    },
    {
     "name": "stderr",
     "output_type": "stream",
     "text": [
      " 78%|█████████████████████████████████████████████████████████████▏                | 1570/2000 [33:44<08:10,  1.14s/it]"
     ]
    },
    {
     "name": "stdout",
     "output_type": "stream",
     "text": [
      "Crawl comment page 1 success!!!\n",
      "Crawl comment for product 276649427\n",
      "Crawl comment page 0 success!!!\n"
     ]
    },
    {
     "name": "stderr",
     "output_type": "stream",
     "text": [
      " 79%|█████████████████████████████████████████████████████████████▎                | 1572/2000 [33:45<05:10,  1.38it/s]"
     ]
    },
    {
     "name": "stdout",
     "output_type": "stream",
     "text": [
      "Crawl comment page 1 success!!!\n",
      "Crawl comment for product 276526887\n",
      "Crawl comment page 0 success!!!\n",
      "Crawl comment page 1 success!!!\n",
      "Crawl comment for product 276477771\n",
      "Crawl comment page 0 success!!!\n"
     ]
    },
    {
     "name": "stderr",
     "output_type": "stream",
     "text": [
      " 79%|█████████████████████████████████████████████████████████████▍                | 1574/2000 [33:48<07:23,  1.04s/it]"
     ]
    },
    {
     "name": "stdout",
     "output_type": "stream",
     "text": [
      "Crawl comment page 1 success!!!\n",
      "Crawl comment for product 276420229\n",
      "Crawl comment page 0 success!!!\n",
      "Crawl comment page 1 success!!!\n",
      "Crawl comment for product 276396477\n",
      "Crawl comment page 0 success!!!\n"
     ]
    },
    {
     "name": "stderr",
     "output_type": "stream",
     "text": [
      " 79%|█████████████████████████████████████████████████████████████▍                | 1575/2000 [33:50<08:57,  1.26s/it]"
     ]
    },
    {
     "name": "stdout",
     "output_type": "stream",
     "text": [
      "Crawl comment page 1 success!!!\n",
      "Crawl comment for product 276375291\n",
      "Crawl comment page 0 success!!!\n"
     ]
    },
    {
     "name": "stderr",
     "output_type": "stream",
     "text": [
      " 79%|█████████████████████████████████████████████████████████████▍                | 1576/2000 [33:50<07:29,  1.06s/it]"
     ]
    },
    {
     "name": "stdout",
     "output_type": "stream",
     "text": [
      "Crawl comment page 1 success!!!\n",
      "Crawl comment for product 275903077\n",
      "Crawl comment page 0 success!!!\n"
     ]
    },
    {
     "name": "stderr",
     "output_type": "stream",
     "text": [
      " 79%|█████████████████████████████████████████████████████████████▌                | 1577/2000 [33:50<05:52,  1.20it/s]"
     ]
    },
    {
     "name": "stdout",
     "output_type": "stream",
     "text": [
      "Crawl comment page 1 success!!!\n",
      "Crawl comment for product 275900071\n",
      "Crawl comment page 0 success!!!\n"
     ]
    },
    {
     "name": "stderr",
     "output_type": "stream",
     "text": [
      " 79%|█████████████████████████████████████████████████████████████▌                | 1578/2000 [33:53<08:24,  1.20s/it]"
     ]
    },
    {
     "name": "stdout",
     "output_type": "stream",
     "text": [
      "Crawl comment page 1 success!!!\n",
      "Crawl comment for product 274315608\n",
      "Crawl comment page 0 success!!!\n"
     ]
    },
    {
     "name": "stderr",
     "output_type": "stream",
     "text": [
      " 79%|█████████████████████████████████████████████████████████████▌                | 1579/2000 [33:55<11:56,  1.70s/it]"
     ]
    },
    {
     "name": "stdout",
     "output_type": "stream",
     "text": [
      "Crawl comment page 1 success!!!\n",
      "Crawl comment for product 274118146\n",
      "Crawl comment page 0 success!!!\n"
     ]
    },
    {
     "name": "stderr",
     "output_type": "stream",
     "text": [
      " 79%|█████████████████████████████████████████████████████████████▌                | 1580/2000 [33:56<09:35,  1.37s/it]"
     ]
    },
    {
     "name": "stdout",
     "output_type": "stream",
     "text": [
      "Crawl comment page 1 success!!!\n",
      "Crawl comment for product 272521996\n",
      "Crawl comment page 0 success!!!\n"
     ]
    },
    {
     "name": "stderr",
     "output_type": "stream",
     "text": [
      " 79%|█████████████████████████████████████████████████████████████▋                | 1581/2000 [33:56<07:17,  1.04s/it]"
     ]
    },
    {
     "name": "stdout",
     "output_type": "stream",
     "text": [
      "Crawl comment page 1 success!!!\n",
      "Crawl comment for product 262477177\n",
      "Crawl comment page 0 success!!!\n"
     ]
    },
    {
     "name": "stderr",
     "output_type": "stream",
     "text": [
      " 79%|█████████████████████████████████████████████████████████████▋                | 1582/2000 [34:00<13:22,  1.92s/it]"
     ]
    },
    {
     "name": "stdout",
     "output_type": "stream",
     "text": [
      "Crawl comment page 1 success!!!\n",
      "Crawl comment for product 251772885\n",
      "Crawl comment page 0 success!!!\n"
     ]
    },
    {
     "name": "stderr",
     "output_type": "stream",
     "text": [
      " 79%|█████████████████████████████████████████████████████████████▋                | 1583/2000 [34:01<11:05,  1.60s/it]"
     ]
    },
    {
     "name": "stdout",
     "output_type": "stream",
     "text": [
      "Crawl comment page 1 success!!!\n",
      "Crawl comment for product 248930292\n",
      "Crawl comment page 0 success!!!\n"
     ]
    },
    {
     "name": "stderr",
     "output_type": "stream",
     "text": [
      " 79%|█████████████████████████████████████████████████████████████▊                | 1584/2000 [34:03<11:59,  1.73s/it]"
     ]
    },
    {
     "name": "stdout",
     "output_type": "stream",
     "text": [
      "Crawl comment page 1 success!!!\n",
      "Crawl comment for product 248544481\n",
      "Crawl comment page 0 success!!!\n"
     ]
    },
    {
     "name": "stderr",
     "output_type": "stream",
     "text": [
      " 79%|█████████████████████████████████████████████████████████████▊                | 1585/2000 [34:04<09:54,  1.43s/it]"
     ]
    },
    {
     "name": "stdout",
     "output_type": "stream",
     "text": [
      "Crawl comment page 1 success!!!\n",
      "Crawl comment for product 181122317\n",
      "Crawl comment page 0 success!!!\n"
     ]
    },
    {
     "name": "stderr",
     "output_type": "stream",
     "text": [
      " 79%|█████████████████████████████████████████████████████████████▊                | 1586/2000 [34:05<09:43,  1.41s/it]"
     ]
    },
    {
     "name": "stdout",
     "output_type": "stream",
     "text": [
      "Crawl comment page 1 success!!!\n",
      "Crawl comment for product 178294073\n",
      "Crawl comment page 0 success!!!\n"
     ]
    },
    {
     "name": "stderr",
     "output_type": "stream",
     "text": [
      " 79%|█████████████████████████████████████████████████████████████▉                | 1587/2000 [34:10<16:04,  2.33s/it]"
     ]
    },
    {
     "name": "stdout",
     "output_type": "stream",
     "text": [
      "Crawl comment page 1 success!!!\n",
      "Crawl comment for product 170298038\n",
      "Crawl comment page 0 success!!!\n"
     ]
    },
    {
     "name": "stderr",
     "output_type": "stream",
     "text": [
      " 79%|█████████████████████████████████████████████████████████████▉                | 1588/2000 [34:12<15:35,  2.27s/it]"
     ]
    },
    {
     "name": "stdout",
     "output_type": "stream",
     "text": [
      "Crawl comment page 1 success!!!\n",
      "Crawl comment for product 132355740\n",
      "Crawl comment page 0 success!!!\n"
     ]
    },
    {
     "name": "stderr",
     "output_type": "stream",
     "text": [
      " 79%|█████████████████████████████████████████████████████████████▉                | 1589/2000 [34:13<14:08,  2.07s/it]"
     ]
    },
    {
     "name": "stdout",
     "output_type": "stream",
     "text": [
      "Crawl comment page 1 success!!!\n",
      "Crawl comment for product 106863963\n",
      "Crawl comment page 0 success!!!\n"
     ]
    },
    {
     "name": "stderr",
     "output_type": "stream",
     "text": [
      " 80%|██████████████████████████████████████████████████████████████                | 1590/2000 [34:17<16:44,  2.45s/it]"
     ]
    },
    {
     "name": "stdout",
     "output_type": "stream",
     "text": [
      "Crawl comment page 1 success!!!\n",
      "Crawl comment for product 104268048\n",
      "Crawl comment page 0 success!!!\n"
     ]
    },
    {
     "name": "stderr",
     "output_type": "stream",
     "text": [
      " 80%|██████████████████████████████████████████████████████████████                | 1591/2000 [34:17<12:20,  1.81s/it]"
     ]
    },
    {
     "name": "stdout",
     "output_type": "stream",
     "text": [
      "Crawl comment page 1 success!!!\n",
      "Crawl comment for product 95218447\n",
      "Crawl comment page 0 success!!!\n"
     ]
    },
    {
     "name": "stderr",
     "output_type": "stream",
     "text": [
      " 80%|██████████████████████████████████████████████████████████████                | 1592/2000 [34:19<11:46,  1.73s/it]"
     ]
    },
    {
     "name": "stdout",
     "output_type": "stream",
     "text": [
      "Crawl comment page 1 success!!!\n",
      "Crawl comment for product 78975610\n",
      "Crawl comment page 0 success!!!\n"
     ]
    },
    {
     "name": "stderr",
     "output_type": "stream",
     "text": [
      " 80%|██████████████████████████████████████████████████████████████▏               | 1593/2000 [34:20<11:26,  1.69s/it]"
     ]
    },
    {
     "name": "stdout",
     "output_type": "stream",
     "text": [
      "Crawl comment page 1 success!!!\n",
      "Crawl comment for product 63473605\n",
      "Crawl comment page 0 success!!!\n"
     ]
    },
    {
     "name": "stderr",
     "output_type": "stream",
     "text": [
      " 80%|██████████████████████████████████████████████████████████████▏               | 1594/2000 [34:22<11:23,  1.68s/it]"
     ]
    },
    {
     "name": "stdout",
     "output_type": "stream",
     "text": [
      "Crawl comment page 1 success!!!\n",
      "Crawl comment for product 52788074\n",
      "Crawl comment page 0 success!!!\n"
     ]
    },
    {
     "name": "stderr",
     "output_type": "stream",
     "text": [
      " 80%|██████████████████████████████████████████████████████████████▏               | 1595/2000 [34:24<11:23,  1.69s/it]"
     ]
    },
    {
     "name": "stdout",
     "output_type": "stream",
     "text": [
      "Crawl comment page 1 success!!!\n",
      "Crawl comment for product 52611842\n",
      "Crawl comment page 0 success!!!\n"
     ]
    },
    {
     "name": "stderr",
     "output_type": "stream",
     "text": [
      " 80%|██████████████████████████████████████████████████████████████▏               | 1596/2000 [34:26<12:54,  1.92s/it]"
     ]
    },
    {
     "name": "stdout",
     "output_type": "stream",
     "text": [
      "Crawl comment page 1 success!!!\n",
      "Crawl comment for product 48210097\n",
      "Crawl comment page 0 success!!!\n"
     ]
    },
    {
     "name": "stderr",
     "output_type": "stream",
     "text": [
      " 80%|██████████████████████████████████████████████████████████████▎               | 1597/2000 [34:28<12:36,  1.88s/it]"
     ]
    },
    {
     "name": "stdout",
     "output_type": "stream",
     "text": [
      "Crawl comment page 1 success!!!\n",
      "Crawl comment for product 39909003\n",
      "Crawl comment page 0 success!!!\n"
     ]
    },
    {
     "name": "stderr",
     "output_type": "stream",
     "text": [
      " 80%|██████████████████████████████████████████████████████████████▎               | 1598/2000 [34:30<13:26,  2.01s/it]"
     ]
    },
    {
     "name": "stdout",
     "output_type": "stream",
     "text": [
      "Crawl comment page 1 success!!!\n",
      "Crawl comment for product 544731\n",
      "Crawl comment page 0 success!!!\n"
     ]
    },
    {
     "name": "stderr",
     "output_type": "stream",
     "text": [
      " 80%|██████████████████████████████████████████████████████████████▎               | 1599/2000 [34:32<13:09,  1.97s/it]"
     ]
    },
    {
     "name": "stdout",
     "output_type": "stream",
     "text": [
      "Crawl comment page 1 success!!!\n",
      "Crawl comment for product 405634\n",
      "Crawl comment page 0 success!!!\n"
     ]
    },
    {
     "name": "stderr",
     "output_type": "stream",
     "text": [
      " 80%|██████████████████████████████████████████████████████████████▍               | 1601/2000 [34:34<09:18,  1.40s/it]"
     ]
    },
    {
     "name": "stdout",
     "output_type": "stream",
     "text": [
      "Crawl comment page 1 success!!!\n",
      "Crawl comment for product 278095713\n",
      "Crawl comment page 0 success!!!\n",
      "Crawl comment page 1 success!!!\n",
      "Crawl comment for product 278000472\n"
     ]
    },
    {
     "name": "stderr",
     "output_type": "stream",
     "text": [
      " 80%|██████████████████████████████████████████████████████████████▍               | 1602/2000 [34:34<06:55,  1.04s/it]"
     ]
    },
    {
     "name": "stdout",
     "output_type": "stream",
     "text": [
      "Crawl comment page 0 success!!!\n",
      "Crawl comment page 1 success!!!\n",
      "Crawl comment for product 277967016\n"
     ]
    },
    {
     "name": "stderr",
     "output_type": "stream",
     "text": [
      " 80%|██████████████████████████████████████████████████████████████▌               | 1603/2000 [34:35<05:22,  1.23it/s]"
     ]
    },
    {
     "name": "stdout",
     "output_type": "stream",
     "text": [
      "Crawl comment page 0 success!!!\n",
      "Crawl comment page 1 success!!!\n",
      "Crawl comment for product 277919973\n"
     ]
    },
    {
     "name": "stderr",
     "output_type": "stream",
     "text": [
      " 80%|██████████████████████████████████████████████████████████████▌               | 1604/2000 [34:35<04:05,  1.61it/s]"
     ]
    },
    {
     "name": "stdout",
     "output_type": "stream",
     "text": [
      "Crawl comment page 0 success!!!\n",
      "Crawl comment page 1 success!!!\n",
      "Crawl comment for product 277914972\n",
      "Crawl comment page 0 success!!!\n"
     ]
    },
    {
     "name": "stderr",
     "output_type": "stream",
     "text": [
      " 80%|██████████████████████████████████████████████████████████████▌               | 1605/2000 [34:35<03:09,  2.08it/s]"
     ]
    },
    {
     "name": "stdout",
     "output_type": "stream",
     "text": [
      "Crawl comment page 1 success!!!\n",
      "Crawl comment for product 277816164\n",
      "Crawl comment page 0 success!!!\n"
     ]
    },
    {
     "name": "stderr",
     "output_type": "stream",
     "text": [
      " 80%|██████████████████████████████████████████████████████████████▋               | 1606/2000 [34:35<02:40,  2.45it/s]"
     ]
    },
    {
     "name": "stdout",
     "output_type": "stream",
     "text": [
      "Crawl comment page 1 success!!!\n",
      "Crawl comment for product 277744865\n",
      "Crawl comment page 0 success!!!\n"
     ]
    },
    {
     "name": "stderr",
     "output_type": "stream",
     "text": [
      " 80%|██████████████████████████████████████████████████████████████▋               | 1608/2000 [34:36<02:22,  2.75it/s]"
     ]
    },
    {
     "name": "stdout",
     "output_type": "stream",
     "text": [
      "Crawl comment page 1 success!!!\n",
      "Crawl comment for product 276840993\n",
      "Crawl comment page 0 success!!!\n",
      "Crawl comment page 1 success!!!\n",
      "Crawl comment for product 276649438\n",
      "Crawl comment page 0 success!!!\n"
     ]
    },
    {
     "name": "stderr",
     "output_type": "stream",
     "text": [
      " 80%|██████████████████████████████████████████████████████████████▊               | 1609/2000 [34:37<03:39,  1.78it/s]"
     ]
    },
    {
     "name": "stdout",
     "output_type": "stream",
     "text": [
      "Crawl comment page 1 success!!!\n",
      "Crawl comment for product 275613236\n",
      "Crawl comment page 0 success!!!\n"
     ]
    },
    {
     "name": "stderr",
     "output_type": "stream",
     "text": [
      " 80%|██████████████████████████████████████████████████████████████▊               | 1610/2000 [34:40<09:19,  1.43s/it]"
     ]
    },
    {
     "name": "stdout",
     "output_type": "stream",
     "text": [
      "Crawl comment page 1 success!!!\n",
      "Crawl comment for product 275591035\n",
      "Crawl comment page 0 success!!!\n"
     ]
    },
    {
     "name": "stderr",
     "output_type": "stream",
     "text": [
      " 81%|██████████████████████████████████████████████████████████████▊               | 1611/2000 [34:41<07:02,  1.09s/it]"
     ]
    },
    {
     "name": "stdout",
     "output_type": "stream",
     "text": [
      "Crawl comment page 1 success!!!\n",
      "Crawl comment for product 275278631\n",
      "Crawl comment page 0 success!!!\n"
     ]
    },
    {
     "name": "stderr",
     "output_type": "stream",
     "text": [
      " 81%|██████████████████████████████████████████████████████████████▊               | 1612/2000 [34:43<09:25,  1.46s/it]"
     ]
    },
    {
     "name": "stdout",
     "output_type": "stream",
     "text": [
      "Crawl comment page 1 success!!!\n",
      "Crawl comment for product 275215840\n"
     ]
    },
    {
     "name": "stderr",
     "output_type": "stream",
     "text": [
      " 81%|██████████████████████████████████████████████████████████████▉               | 1613/2000 [34:43<07:24,  1.15s/it]"
     ]
    },
    {
     "name": "stdout",
     "output_type": "stream",
     "text": [
      "Crawl comment page 0 success!!!\n",
      "Crawl comment page 1 success!!!\n",
      "Crawl comment for product 275043092\n",
      "Crawl comment page 0 success!!!\n"
     ]
    },
    {
     "name": "stderr",
     "output_type": "stream",
     "text": [
      " 81%|██████████████████████████████████████████████████████████████▉               | 1614/2000 [34:46<09:47,  1.52s/it]"
     ]
    },
    {
     "name": "stdout",
     "output_type": "stream",
     "text": [
      "Crawl comment page 1 success!!!\n",
      "Crawl comment for product 274455492\n"
     ]
    },
    {
     "name": "stderr",
     "output_type": "stream",
     "text": [
      " 81%|██████████████████████████████████████████████████████████████▉               | 1615/2000 [34:46<07:39,  1.19s/it]"
     ]
    },
    {
     "name": "stdout",
     "output_type": "stream",
     "text": [
      "Crawl comment page 0 success!!!\n",
      "Crawl comment page 1 success!!!\n",
      "Crawl comment for product 273046864\n",
      "Crawl comment page 0 success!!!\n"
     ]
    },
    {
     "name": "stderr",
     "output_type": "stream",
     "text": [
      " 81%|███████████████████████████████████████████████████████████████               | 1616/2000 [34:48<09:36,  1.50s/it]"
     ]
    },
    {
     "name": "stdout",
     "output_type": "stream",
     "text": [
      "Crawl comment page 1 success!!!\n",
      "Crawl comment for product 271585607\n",
      "Crawl comment page 0 success!!!\n"
     ]
    },
    {
     "name": "stderr",
     "output_type": "stream",
     "text": [
      " 81%|███████████████████████████████████████████████████████████████               | 1617/2000 [34:49<07:25,  1.16s/it]"
     ]
    },
    {
     "name": "stdout",
     "output_type": "stream",
     "text": [
      "Crawl comment page 1 success!!!\n",
      "Crawl comment for product 271414259\n",
      "Crawl comment page 0 success!!!\n"
     ]
    },
    {
     "name": "stderr",
     "output_type": "stream",
     "text": [
      " 81%|███████████████████████████████████████████████████████████████               | 1618/2000 [34:51<09:28,  1.49s/it]"
     ]
    },
    {
     "name": "stdout",
     "output_type": "stream",
     "text": [
      "Crawl comment page 1 success!!!\n",
      "Crawl comment for product 270742918\n",
      "Crawl comment page 0 success!!!\n"
     ]
    },
    {
     "name": "stderr",
     "output_type": "stream",
     "text": [
      " 81%|███████████████████████████████████████████████████████████████▏              | 1619/2000 [34:51<07:18,  1.15s/it]"
     ]
    },
    {
     "name": "stdout",
     "output_type": "stream",
     "text": [
      "Crawl comment page 1 success!!!\n",
      "Crawl comment for product 247566100\n",
      "Crawl comment page 0 success!!!\n"
     ]
    },
    {
     "name": "stderr",
     "output_type": "stream",
     "text": [
      " 81%|███████████████████████████████████████████████████████████████▏              | 1620/2000 [34:52<06:07,  1.04it/s]"
     ]
    },
    {
     "name": "stdout",
     "output_type": "stream",
     "text": [
      "Crawl comment page 1 success!!!\n",
      "Crawl comment for product 202796284\n",
      "Crawl comment page 0 success!!!\n"
     ]
    },
    {
     "name": "stderr",
     "output_type": "stream",
     "text": [
      " 81%|███████████████████████████████████████████████████████████████▏              | 1621/2000 [34:54<07:56,  1.26s/it]"
     ]
    },
    {
     "name": "stdout",
     "output_type": "stream",
     "text": [
      "Crawl comment page 1 success!!!\n",
      "Crawl comment for product 198707246\n",
      "Crawl comment page 0 success!!!\n"
     ]
    },
    {
     "name": "stderr",
     "output_type": "stream",
     "text": [
      " 81%|███████████████████████████████████████████████████████████████▎              | 1622/2000 [34:57<11:12,  1.78s/it]"
     ]
    },
    {
     "name": "stdout",
     "output_type": "stream",
     "text": [
      "Crawl comment page 1 success!!!\n",
      "Crawl comment for product 193512319\n",
      "Crawl comment page 0 success!!!\n"
     ]
    },
    {
     "name": "stderr",
     "output_type": "stream",
     "text": [
      " 81%|███████████████████████████████████████████████████████████████▎              | 1623/2000 [34:57<08:58,  1.43s/it]"
     ]
    },
    {
     "name": "stdout",
     "output_type": "stream",
     "text": [
      "Crawl comment page 1 success!!!\n",
      "Crawl comment for product 190843397\n",
      "Crawl comment page 0 success!!!\n"
     ]
    },
    {
     "name": "stderr",
     "output_type": "stream",
     "text": [
      " 81%|███████████████████████████████████████████████████████████████▎              | 1624/2000 [34:58<07:52,  1.26s/it]"
     ]
    },
    {
     "name": "stdout",
     "output_type": "stream",
     "text": [
      "Crawl comment page 1 success!!!\n",
      "Crawl comment for product 178483637\n",
      "Crawl comment page 0 success!!!\n"
     ]
    },
    {
     "name": "stderr",
     "output_type": "stream",
     "text": [
      " 81%|███████████████████████████████████████████████████████████████▍              | 1625/2000 [35:00<08:12,  1.31s/it]"
     ]
    },
    {
     "name": "stdout",
     "output_type": "stream",
     "text": [
      "Crawl comment page 1 success!!!\n",
      "Crawl comment for product 176909246\n",
      "Crawl comment page 0 success!!!\n"
     ]
    },
    {
     "name": "stderr",
     "output_type": "stream",
     "text": [
      " 81%|███████████████████████████████████████████████████████████████▍              | 1626/2000 [35:02<10:02,  1.61s/it]"
     ]
    },
    {
     "name": "stdout",
     "output_type": "stream",
     "text": [
      "Crawl comment page 1 success!!!\n",
      "Crawl comment for product 175433178\n",
      "Crawl comment page 0 success!!!\n"
     ]
    },
    {
     "name": "stderr",
     "output_type": "stream",
     "text": [
      " 81%|███████████████████████████████████████████████████████████████▍              | 1627/2000 [35:03<08:18,  1.34s/it]"
     ]
    },
    {
     "name": "stdout",
     "output_type": "stream",
     "text": [
      "Crawl comment page 1 success!!!\n",
      "Crawl comment for product 112825941\n",
      "Crawl comment page 0 success!!!\n"
     ]
    },
    {
     "name": "stderr",
     "output_type": "stream",
     "text": [
      " 81%|███████████████████████████████████████████████████████████████▍              | 1628/2000 [35:05<09:53,  1.60s/it]"
     ]
    },
    {
     "name": "stdout",
     "output_type": "stream",
     "text": [
      "Crawl comment page 1 success!!!\n",
      "Crawl comment for product 111285054\n",
      "Crawl comment page 0 success!!!\n"
     ]
    },
    {
     "name": "stderr",
     "output_type": "stream",
     "text": [
      " 81%|███████████████████████████████████████████████████████████████▌              | 1629/2000 [35:06<09:15,  1.50s/it]"
     ]
    },
    {
     "name": "stdout",
     "output_type": "stream",
     "text": [
      "Crawl comment page 1 success!!!\n",
      "Crawl comment for product 104074997\n",
      "Crawl comment page 0 success!!!\n"
     ]
    },
    {
     "name": "stderr",
     "output_type": "stream",
     "text": [
      " 82%|███████████████████████████████████████████████████████████████▌              | 1630/2000 [35:08<09:40,  1.57s/it]"
     ]
    },
    {
     "name": "stdout",
     "output_type": "stream",
     "text": [
      "Crawl comment page 1 success!!!\n",
      "Crawl comment for product 103640412\n",
      "Crawl comment page 0 success!!!\n"
     ]
    },
    {
     "name": "stderr",
     "output_type": "stream",
     "text": [
      " 82%|███████████████████████████████████████████████████████████████▌              | 1631/2000 [35:10<11:07,  1.81s/it]"
     ]
    },
    {
     "name": "stdout",
     "output_type": "stream",
     "text": [
      "Crawl comment page 1 success!!!\n",
      "Crawl comment for product 77105730\n",
      "Crawl comment page 0 success!!!\n"
     ]
    },
    {
     "name": "stderr",
     "output_type": "stream",
     "text": [
      " 82%|███████████████████████████████████████████████████████████████▋              | 1632/2000 [35:12<10:55,  1.78s/it]"
     ]
    },
    {
     "name": "stdout",
     "output_type": "stream",
     "text": [
      "Crawl comment page 1 success!!!\n",
      "Crawl comment for product 50884654\n",
      "Crawl comment page 0 success!!!\n"
     ]
    },
    {
     "name": "stderr",
     "output_type": "stream",
     "text": [
      " 82%|███████████████████████████████████████████████████████████████▋              | 1633/2000 [35:14<10:27,  1.71s/it]"
     ]
    },
    {
     "name": "stdout",
     "output_type": "stream",
     "text": [
      "Crawl comment page 1 success!!!\n",
      "Crawl comment for product 33492492\n",
      "Crawl comment page 0 success!!!\n"
     ]
    },
    {
     "name": "stderr",
     "output_type": "stream",
     "text": [
      " 82%|███████████████████████████████████████████████████████████████▋              | 1634/2000 [35:14<07:54,  1.30s/it]"
     ]
    },
    {
     "name": "stdout",
     "output_type": "stream",
     "text": [
      "Crawl comment page 1 success!!!\n",
      "Crawl comment for product 16422556\n",
      "Crawl comment page 0 success!!!\n"
     ]
    },
    {
     "name": "stderr",
     "output_type": "stream",
     "text": [
      " 82%|███████████████████████████████████████████████████████████████▊              | 1635/2000 [35:21<18:06,  2.98s/it]"
     ]
    },
    {
     "name": "stdout",
     "output_type": "stream",
     "text": [
      "Crawl comment page 1 success!!!\n",
      "Crawl comment for product 15362455\n",
      "Crawl comment page 0 success!!!\n"
     ]
    },
    {
     "name": "stderr",
     "output_type": "stream",
     "text": [
      " 82%|███████████████████████████████████████████████████████████████▊              | 1636/2000 [35:22<14:03,  2.32s/it]"
     ]
    },
    {
     "name": "stdout",
     "output_type": "stream",
     "text": [
      "Crawl comment page 1 success!!!\n",
      "Crawl comment for product 11122712\n",
      "Crawl comment page 0 success!!!\n"
     ]
    },
    {
     "name": "stderr",
     "output_type": "stream",
     "text": [
      " 82%|███████████████████████████████████████████████████████████████▊              | 1637/2000 [35:25<15:25,  2.55s/it]"
     ]
    },
    {
     "name": "stdout",
     "output_type": "stream",
     "text": [
      "Crawl comment page 1 success!!!\n",
      "Crawl comment for product 7821998\n",
      "Crawl comment page 0 success!!!\n"
     ]
    },
    {
     "name": "stderr",
     "output_type": "stream",
     "text": [
      " 82%|███████████████████████████████████████████████████████████████▉              | 1638/2000 [35:27<15:41,  2.60s/it]"
     ]
    },
    {
     "name": "stdout",
     "output_type": "stream",
     "text": [
      "Crawl comment page 1 success!!!\n",
      "Crawl comment for product 1864759\n",
      "Crawl comment page 0 success!!!\n"
     ]
    },
    {
     "name": "stderr",
     "output_type": "stream",
     "text": [
      " 82%|███████████████████████████████████████████████████████████████▉              | 1639/2000 [35:29<13:57,  2.32s/it]"
     ]
    },
    {
     "name": "stdout",
     "output_type": "stream",
     "text": [
      "Crawl comment page 1 success!!!\n",
      "Crawl comment for product 1734377\n",
      "Crawl comment page 0 success!!!\n"
     ]
    },
    {
     "name": "stderr",
     "output_type": "stream",
     "text": [
      " 82%|███████████████████████████████████████████████████████████████▉              | 1640/2000 [35:30<12:15,  2.04s/it]"
     ]
    },
    {
     "name": "stdout",
     "output_type": "stream",
     "text": [
      "Crawl comment page 1 success!!!\n",
      "Crawl comment for product 278230651\n",
      "Crawl comment page 0 success!!!\n"
     ]
    },
    {
     "name": "stderr",
     "output_type": "stream",
     "text": [
      " 82%|███████████████████████████████████████████████████████████████▉              | 1641/2000 [35:33<13:56,  2.33s/it]"
     ]
    },
    {
     "name": "stdout",
     "output_type": "stream",
     "text": [
      "Crawl comment page 1 success!!!\n",
      "Crawl comment for product 278108564\n",
      "Crawl comment page 0 success!!!\n"
     ]
    },
    {
     "name": "stderr",
     "output_type": "stream",
     "text": [
      " 82%|████████████████████████████████████████████████████████████████              | 1643/2000 [35:34<07:24,  1.24s/it]"
     ]
    },
    {
     "name": "stdout",
     "output_type": "stream",
     "text": [
      "Crawl comment page 1 success!!!\n",
      "Crawl comment for product 278069491\n",
      "Crawl comment page 0 success!!!\n",
      "Crawl comment page 1 success!!!\n",
      "Crawl comment for product 278044727\n"
     ]
    },
    {
     "name": "stderr",
     "output_type": "stream",
     "text": [
      " 82%|████████████████████████████████████████████████████████████████              | 1644/2000 [35:34<05:31,  1.08it/s]"
     ]
    },
    {
     "name": "stdout",
     "output_type": "stream",
     "text": [
      "Crawl comment page 0 success!!!\n",
      "Crawl comment page 1 success!!!\n",
      "Crawl comment for product 277997095\n",
      "Crawl comment page 0 success!!!\n"
     ]
    },
    {
     "name": "stderr",
     "output_type": "stream",
     "text": [
      " 82%|████████████████████████████████████████████████████████████████▏             | 1646/2000 [35:34<03:06,  1.90it/s]"
     ]
    },
    {
     "name": "stdout",
     "output_type": "stream",
     "text": [
      "Crawl comment page 1 success!!!\n",
      "Crawl comment for product 277963699\n",
      "Crawl comment page 0 success!!!\n",
      "Crawl comment page 1 success!!!\n",
      "Crawl comment for product 277938212\n"
     ]
    },
    {
     "name": "stderr",
     "output_type": "stream",
     "text": [
      " 82%|████████████████████████████████████████████████████████████████▏             | 1647/2000 [35:35<02:31,  2.33it/s]"
     ]
    },
    {
     "name": "stdout",
     "output_type": "stream",
     "text": [
      "Crawl comment page 0 success!!!\n",
      "Crawl comment page 1 success!!!\n",
      "Crawl comment for product 277871084\n",
      "Crawl comment page 0 success!!!\n"
     ]
    },
    {
     "name": "stderr",
     "output_type": "stream",
     "text": [
      " 82%|████████████████████████████████████████████████████████████████▎             | 1649/2000 [35:35<01:42,  3.43it/s]"
     ]
    },
    {
     "name": "stdout",
     "output_type": "stream",
     "text": [
      "Crawl comment page 1 success!!!\n",
      "Crawl comment for product 277779459\n",
      "Crawl comment page 0 success!!!\n",
      "Crawl comment page 1 success!!!\n",
      "Crawl comment for product 277621885\n",
      "Crawl comment page 0 success!!!\n"
     ]
    },
    {
     "name": "stderr",
     "output_type": "stream",
     "text": [
      " 82%|████████████████████████████████████████████████████████████████▎             | 1650/2000 [35:35<01:23,  4.20it/s]"
     ]
    },
    {
     "name": "stdout",
     "output_type": "stream",
     "text": [
      "Crawl comment page 1 success!!!\n",
      "Crawl comment for product 276829543\n",
      "Crawl comment page 0 success!!!\n"
     ]
    },
    {
     "name": "stderr",
     "output_type": "stream",
     "text": [
      " 83%|████████████████████████████████████████████████████████████████▍             | 1651/2000 [35:37<03:38,  1.60it/s]"
     ]
    },
    {
     "name": "stdout",
     "output_type": "stream",
     "text": [
      "Crawl comment page 1 success!!!\n",
      "Crawl comment for product 276155364\n",
      "Crawl comment page 0 success!!!\n"
     ]
    },
    {
     "name": "stderr",
     "output_type": "stream",
     "text": [
      " 83%|████████████████████████████████████████████████████████████████▍             | 1652/2000 [35:37<03:00,  1.93it/s]"
     ]
    },
    {
     "name": "stdout",
     "output_type": "stream",
     "text": [
      "Crawl comment page 1 success!!!\n",
      "Crawl comment for product 275927640\n",
      "Crawl comment page 0 success!!!\n"
     ]
    },
    {
     "name": "stderr",
     "output_type": "stream",
     "text": [
      " 83%|████████████████████████████████████████████████████████████████▍             | 1653/2000 [35:38<04:42,  1.23it/s]"
     ]
    },
    {
     "name": "stdout",
     "output_type": "stream",
     "text": [
      "Crawl comment page 1 success!!!\n",
      "Crawl comment for product 275612568\n",
      "Crawl comment page 0 success!!!\n"
     ]
    },
    {
     "name": "stderr",
     "output_type": "stream",
     "text": [
      " 83%|████████████████████████████████████████████████████████████████▌             | 1654/2000 [35:39<04:37,  1.25it/s]"
     ]
    },
    {
     "name": "stdout",
     "output_type": "stream",
     "text": [
      "Crawl comment page 1 success!!!\n",
      "Crawl comment for product 275243821\n",
      "Crawl comment page 0 success!!!\n"
     ]
    },
    {
     "name": "stderr",
     "output_type": "stream",
     "text": [
      " 83%|████████████████████████████████████████████████████████████████▌             | 1655/2000 [35:42<07:31,  1.31s/it]"
     ]
    },
    {
     "name": "stdout",
     "output_type": "stream",
     "text": [
      "Crawl comment page 1 success!!!\n",
      "Crawl comment for product 274247757\n",
      "Crawl comment page 0 success!!!\n"
     ]
    },
    {
     "name": "stderr",
     "output_type": "stream",
     "text": [
      " 83%|████████████████████████████████████████████████████████████████▌             | 1656/2000 [35:43<08:23,  1.46s/it]"
     ]
    },
    {
     "name": "stdout",
     "output_type": "stream",
     "text": [
      "Crawl comment page 1 success!!!\n",
      "Crawl comment for product 274118060\n",
      "Crawl comment page 0 success!!!\n"
     ]
    },
    {
     "name": "stderr",
     "output_type": "stream",
     "text": [
      " 83%|████████████████████████████████████████████████████████████████▌             | 1657/2000 [35:44<06:37,  1.16s/it]"
     ]
    },
    {
     "name": "stdout",
     "output_type": "stream",
     "text": [
      "Crawl comment page 1 success!!!\n",
      "Crawl comment for product 273454626\n",
      "Crawl comment page 0 success!!!\n"
     ]
    },
    {
     "name": "stderr",
     "output_type": "stream",
     "text": [
      " 83%|████████████████████████████████████████████████████████████████▋             | 1658/2000 [35:46<07:32,  1.32s/it]"
     ]
    },
    {
     "name": "stdout",
     "output_type": "stream",
     "text": [
      "Crawl comment page 1 success!!!\n",
      "Crawl comment for product 273386450\n",
      "Crawl comment page 0 success!!!\n"
     ]
    },
    {
     "name": "stderr",
     "output_type": "stream",
     "text": [
      " 83%|████████████████████████████████████████████████████████████████▋             | 1659/2000 [35:47<07:12,  1.27s/it]"
     ]
    },
    {
     "name": "stdout",
     "output_type": "stream",
     "text": [
      "Crawl comment page 1 success!!!\n",
      "Crawl comment for product 264016445\n",
      "Crawl comment page 0 success!!!\n"
     ]
    },
    {
     "name": "stderr",
     "output_type": "stream",
     "text": [
      " 83%|████████████████████████████████████████████████████████████████▊             | 1661/2000 [35:47<04:24,  1.28it/s]"
     ]
    },
    {
     "name": "stdout",
     "output_type": "stream",
     "text": [
      "Crawl comment page 1 success!!!\n",
      "Crawl comment for product 253475264\n",
      "Crawl comment page 0 success!!!\n",
      "Crawl comment page 1 success!!!\n",
      "Crawl comment for product 200852591\n",
      "Crawl comment page 0 success!!!\n"
     ]
    },
    {
     "name": "stderr",
     "output_type": "stream",
     "text": [
      " 83%|████████████████████████████████████████████████████████████████▊             | 1662/2000 [35:50<07:24,  1.32s/it]"
     ]
    },
    {
     "name": "stdout",
     "output_type": "stream",
     "text": [
      "Crawl comment page 1 success!!!\n",
      "Crawl comment for product 195573547\n",
      "Crawl comment page 0 success!!!\n"
     ]
    },
    {
     "name": "stderr",
     "output_type": "stream",
     "text": [
      " 83%|████████████████████████████████████████████████████████████████▊             | 1663/2000 [35:51<06:11,  1.10s/it]"
     ]
    },
    {
     "name": "stdout",
     "output_type": "stream",
     "text": [
      "Crawl comment page 1 success!!!\n",
      "Crawl comment for product 195306005\n",
      "Crawl comment page 0 success!!!\n"
     ]
    },
    {
     "name": "stderr",
     "output_type": "stream",
     "text": [
      " 83%|████████████████████████████████████████████████████████████████▉             | 1664/2000 [35:53<08:39,  1.55s/it]"
     ]
    },
    {
     "name": "stdout",
     "output_type": "stream",
     "text": [
      "Crawl comment page 1 success!!!\n",
      "Crawl comment for product 195291936\n",
      "Crawl comment page 0 success!!!\n"
     ]
    },
    {
     "name": "stderr",
     "output_type": "stream",
     "text": [
      " 83%|████████████████████████████████████████████████████████████████▉             | 1665/2000 [35:56<10:30,  1.88s/it]"
     ]
    },
    {
     "name": "stdout",
     "output_type": "stream",
     "text": [
      "Crawl comment page 1 success!!!\n",
      "Crawl comment for product 191782162\n",
      "Crawl comment page 0 success!!!\n"
     ]
    },
    {
     "name": "stderr",
     "output_type": "stream",
     "text": [
      " 83%|████████████████████████████████████████████████████████████████▉             | 1666/2000 [35:58<10:47,  1.94s/it]"
     ]
    },
    {
     "name": "stdout",
     "output_type": "stream",
     "text": [
      "Crawl comment page 1 success!!!\n",
      "Crawl comment for product 190702835\n",
      "Crawl comment page 0 success!!!\n"
     ]
    },
    {
     "name": "stderr",
     "output_type": "stream",
     "text": [
      " 83%|█████████████████████████████████████████████████████████████████             | 1668/2000 [36:00<07:54,  1.43s/it]"
     ]
    },
    {
     "name": "stdout",
     "output_type": "stream",
     "text": [
      "Crawl comment page 1 success!!!\n",
      "Crawl comment for product 176078273\n",
      "Crawl comment page 0 success!!!\n",
      "Crawl comment page 1 success!!!\n",
      "Crawl comment for product 170094972\n",
      "Crawl comment page 0 success!!!\n"
     ]
    },
    {
     "name": "stderr",
     "output_type": "stream",
     "text": [
      " 83%|█████████████████████████████████████████████████████████████████             | 1669/2000 [36:02<07:58,  1.45s/it]"
     ]
    },
    {
     "name": "stdout",
     "output_type": "stream",
     "text": [
      "Crawl comment page 1 success!!!\n",
      "Crawl comment for product 136941163\n",
      "Crawl comment page 0 success!!!\n"
     ]
    },
    {
     "name": "stderr",
     "output_type": "stream",
     "text": [
      " 84%|█████████████████████████████████████████████████████████████████▏            | 1670/2000 [36:03<07:51,  1.43s/it]"
     ]
    },
    {
     "name": "stdout",
     "output_type": "stream",
     "text": [
      "Crawl comment page 1 success!!!\n",
      "Crawl comment for product 126474205\n",
      "Crawl comment page 0 success!!!\n"
     ]
    },
    {
     "name": "stderr",
     "output_type": "stream",
     "text": [
      " 84%|█████████████████████████████████████████████████████████████████▏            | 1671/2000 [36:06<10:04,  1.84s/it]"
     ]
    },
    {
     "name": "stdout",
     "output_type": "stream",
     "text": [
      "Crawl comment page 1 success!!!\n",
      "Crawl comment for product 96012924\n",
      "Crawl comment page 0 success!!!\n"
     ]
    },
    {
     "name": "stderr",
     "output_type": "stream",
     "text": [
      " 84%|█████████████████████████████████████████████████████████████████▏            | 1672/2000 [36:07<08:52,  1.62s/it]"
     ]
    },
    {
     "name": "stdout",
     "output_type": "stream",
     "text": [
      "Crawl comment page 1 success!!!\n",
      "Crawl comment for product 82996522\n",
      "Crawl comment page 0 success!!!\n"
     ]
    },
    {
     "name": "stderr",
     "output_type": "stream",
     "text": [
      " 84%|█████████████████████████████████████████████████████████████████▏            | 1673/2000 [36:09<10:16,  1.89s/it]"
     ]
    },
    {
     "name": "stdout",
     "output_type": "stream",
     "text": [
      "Crawl comment page 1 success!!!\n",
      "Crawl comment for product 82041440\n",
      "Crawl comment page 0 success!!!\n"
     ]
    },
    {
     "name": "stderr",
     "output_type": "stream",
     "text": [
      " 84%|█████████████████████████████████████████████████████████████████▎            | 1674/2000 [36:11<10:35,  1.95s/it]"
     ]
    },
    {
     "name": "stdout",
     "output_type": "stream",
     "text": [
      "Crawl comment page 1 success!!!\n",
      "Crawl comment for product 67060012\n",
      "Crawl comment page 0 success!!!\n"
     ]
    },
    {
     "name": "stderr",
     "output_type": "stream",
     "text": [
      " 84%|█████████████████████████████████████████████████████████████████▎            | 1675/2000 [36:14<10:48,  2.00s/it]"
     ]
    },
    {
     "name": "stdout",
     "output_type": "stream",
     "text": [
      "Crawl comment page 1 success!!!\n",
      "Crawl comment for product 65443438\n",
      "Crawl comment page 0 success!!!\n"
     ]
    },
    {
     "name": "stderr",
     "output_type": "stream",
     "text": [
      " 84%|█████████████████████████████████████████████████████████████████▎            | 1676/2000 [36:15<10:09,  1.88s/it]"
     ]
    },
    {
     "name": "stdout",
     "output_type": "stream",
     "text": [
      "Crawl comment page 1 success!!!\n",
      "Crawl comment for product 36399672\n",
      "Crawl comment page 0 success!!!\n"
     ]
    },
    {
     "name": "stderr",
     "output_type": "stream",
     "text": [
      " 84%|█████████████████████████████████████████████████████████████████▍            | 1677/2000 [36:17<10:16,  1.91s/it]"
     ]
    },
    {
     "name": "stdout",
     "output_type": "stream",
     "text": [
      "Crawl comment page 1 success!!!\n",
      "Crawl comment for product 31568245\n",
      "Crawl comment page 0 success!!!\n"
     ]
    },
    {
     "name": "stderr",
     "output_type": "stream",
     "text": [
      " 84%|█████████████████████████████████████████████████████████████████▍            | 1678/2000 [36:19<09:47,  1.83s/it]"
     ]
    },
    {
     "name": "stdout",
     "output_type": "stream",
     "text": [
      "Crawl comment page 1 success!!!\n",
      "Crawl comment for product 10281626\n",
      "Crawl comment page 0 success!!!\n"
     ]
    },
    {
     "name": "stderr",
     "output_type": "stream",
     "text": [
      " 84%|█████████████████████████████████████████████████████████████████▍            | 1679/2000 [36:20<08:26,  1.58s/it]"
     ]
    },
    {
     "name": "stdout",
     "output_type": "stream",
     "text": [
      "Crawl comment page 1 success!!!\n",
      "Crawl comment for product 7125307\n",
      "Crawl comment page 0 success!!!\n"
     ]
    },
    {
     "name": "stderr",
     "output_type": "stream",
     "text": [
      " 84%|█████████████████████████████████████████████████████████████████▌            | 1680/2000 [36:22<09:10,  1.72s/it]"
     ]
    },
    {
     "name": "stdout",
     "output_type": "stream",
     "text": [
      "Crawl comment page 1 success!!!\n",
      "Crawl comment for product 277998016\n",
      "Crawl comment page 0 success!!!\n"
     ]
    },
    {
     "name": "stderr",
     "output_type": "stream",
     "text": [
      " 84%|█████████████████████████████████████████████████████████████████▌            | 1682/2000 [36:23<06:14,  1.18s/it]"
     ]
    },
    {
     "name": "stdout",
     "output_type": "stream",
     "text": [
      "Crawl comment page 1 success!!!\n",
      "Crawl comment for product 277923300\n",
      "Crawl comment page 0 success!!!\n",
      "Crawl comment page 1 success!!!\n",
      "Crawl comment for product 276943631\n"
     ]
    },
    {
     "name": "stderr",
     "output_type": "stream",
     "text": [
      " 84%|█████████████████████████████████████████████████████████████████▋            | 1683/2000 [36:24<04:48,  1.10it/s]"
     ]
    },
    {
     "name": "stdout",
     "output_type": "stream",
     "text": [
      "Crawl comment page 0 success!!!\n",
      "Crawl comment page 1 success!!!\n",
      "Crawl comment for product 276833106\n",
      "Crawl comment page 0 success!!!\n"
     ]
    },
    {
     "name": "stderr",
     "output_type": "stream",
     "text": [
      " 84%|█████████████████████████████████████████████████████████████████▋            | 1685/2000 [36:25<04:26,  1.18it/s]"
     ]
    },
    {
     "name": "stdout",
     "output_type": "stream",
     "text": [
      "Crawl comment page 1 success!!!\n",
      "Crawl comment for product 276800037\n",
      "Crawl comment page 0 success!!!\n",
      "Crawl comment page 1 success!!!\n",
      "Crawl comment for product 276679003\n",
      "Crawl comment page 0 success!!!\n"
     ]
    },
    {
     "name": "stderr",
     "output_type": "stream",
     "text": [
      " 84%|█████████████████████████████████████████████████████████████████▊            | 1687/2000 [36:26<02:27,  2.12it/s]"
     ]
    },
    {
     "name": "stdout",
     "output_type": "stream",
     "text": [
      "Crawl comment page 1 success!!!\n",
      "Crawl comment for product 276657645\n",
      "Crawl comment page 0 success!!!\n",
      "Crawl comment page 1 success!!!\n",
      "Crawl comment for product 276302840\n",
      "Crawl comment page 0 success!!!\n"
     ]
    },
    {
     "name": "stderr",
     "output_type": "stream",
     "text": [
      " 84%|█████████████████████████████████████████████████████████████████▊            | 1688/2000 [36:26<02:50,  1.83it/s]"
     ]
    },
    {
     "name": "stdout",
     "output_type": "stream",
     "text": [
      "Crawl comment page 1 success!!!\n",
      "Crawl comment for product 276231113\n",
      "Crawl comment page 0 success!!!\n"
     ]
    },
    {
     "name": "stderr",
     "output_type": "stream",
     "text": [
      " 84%|█████████████████████████████████████████████████████████████████▉            | 1690/2000 [36:28<02:51,  1.81it/s]"
     ]
    },
    {
     "name": "stdout",
     "output_type": "stream",
     "text": [
      "Crawl comment page 1 success!!!\n",
      "Crawl comment for product 275776616\n",
      "Crawl comment page 0 success!!!\n",
      "Crawl comment page 1 success!!!\n",
      "Crawl comment for product 275611539\n"
     ]
    },
    {
     "name": "stderr",
     "output_type": "stream",
     "text": [
      " 85%|█████████████████████████████████████████████████████████████████▉            | 1691/2000 [36:28<02:24,  2.14it/s]"
     ]
    },
    {
     "name": "stdout",
     "output_type": "stream",
     "text": [
      "Crawl comment page 0 success!!!\n",
      "Crawl comment page 1 success!!!\n",
      "Crawl comment for product 274932357\n"
     ]
    },
    {
     "name": "stderr",
     "output_type": "stream",
     "text": [
      " 85%|█████████████████████████████████████████████████████████████████▉            | 1692/2000 [36:28<02:21,  2.18it/s]"
     ]
    },
    {
     "name": "stdout",
     "output_type": "stream",
     "text": [
      "Crawl comment page 0 success!!!\n",
      "Crawl comment page 1 success!!!\n",
      "Crawl comment for product 274529453\n",
      "Crawl comment page 0 success!!!\n"
     ]
    },
    {
     "name": "stderr",
     "output_type": "stream",
     "text": [
      " 85%|██████████████████████████████████████████████████████████████████            | 1693/2000 [36:31<05:35,  1.09s/it]"
     ]
    },
    {
     "name": "stdout",
     "output_type": "stream",
     "text": [
      "Crawl comment page 1 success!!!\n",
      "Crawl comment for product 273822788\n",
      "Crawl comment page 0 success!!!\n"
     ]
    },
    {
     "name": "stderr",
     "output_type": "stream",
     "text": [
      " 85%|██████████████████████████████████████████████████████████████████            | 1694/2000 [36:33<07:11,  1.41s/it]"
     ]
    },
    {
     "name": "stdout",
     "output_type": "stream",
     "text": [
      "Crawl comment page 1 success!!!\n",
      "Crawl comment for product 273621275\n",
      "Crawl comment page 0 success!!!\n"
     ]
    },
    {
     "name": "stderr",
     "output_type": "stream",
     "text": [
      " 85%|██████████████████████████████████████████████████████████████████            | 1695/2000 [36:35<08:32,  1.68s/it]"
     ]
    },
    {
     "name": "stdout",
     "output_type": "stream",
     "text": [
      "Crawl comment page 1 success!!!\n",
      "Crawl comment for product 272447079\n",
      "Crawl comment page 0 success!!!\n"
     ]
    },
    {
     "name": "stderr",
     "output_type": "stream",
     "text": [
      " 85%|██████████████████████████████████████████████████████████████████▏           | 1696/2000 [36:37<08:32,  1.68s/it]"
     ]
    },
    {
     "name": "stdout",
     "output_type": "stream",
     "text": [
      "Crawl comment page 1 success!!!\n",
      "Crawl comment for product 270224487\n",
      "Crawl comment page 0 success!!!\n"
     ]
    },
    {
     "name": "stderr",
     "output_type": "stream",
     "text": [
      " 85%|██████████████████████████████████████████████████████████████████▏           | 1697/2000 [36:37<06:26,  1.28s/it]"
     ]
    },
    {
     "name": "stdout",
     "output_type": "stream",
     "text": [
      "Crawl comment page 1 success!!!\n",
      "Crawl comment for product 262590907\n",
      "Crawl comment page 0 success!!!\n"
     ]
    },
    {
     "name": "stderr",
     "output_type": "stream",
     "text": [
      " 85%|██████████████████████████████████████████████████████████████████▏           | 1698/2000 [36:40<08:31,  1.69s/it]"
     ]
    },
    {
     "name": "stdout",
     "output_type": "stream",
     "text": [
      "Crawl comment page 1 success!!!\n",
      "Crawl comment for product 260811361\n",
      "Crawl comment page 0 success!!!\n"
     ]
    },
    {
     "name": "stderr",
     "output_type": "stream",
     "text": [
      " 85%|██████████████████████████████████████████████████████████████████▎           | 1699/2000 [36:41<07:46,  1.55s/it]"
     ]
    },
    {
     "name": "stdout",
     "output_type": "stream",
     "text": [
      "Crawl comment page 1 success!!!\n",
      "Crawl comment for product 212330085\n",
      "Crawl comment page 0 success!!!\n"
     ]
    },
    {
     "name": "stderr",
     "output_type": "stream",
     "text": [
      " 85%|██████████████████████████████████████████████████████████████████▎           | 1700/2000 [36:43<08:12,  1.64s/it]"
     ]
    },
    {
     "name": "stdout",
     "output_type": "stream",
     "text": [
      "Crawl comment page 1 success!!!\n",
      "Crawl comment for product 210145959\n",
      "Crawl comment page 0 success!!!\n"
     ]
    },
    {
     "name": "stderr",
     "output_type": "stream",
     "text": [
      " 85%|██████████████████████████████████████████████████████████████████▎           | 1701/2000 [36:45<08:45,  1.76s/it]"
     ]
    },
    {
     "name": "stdout",
     "output_type": "stream",
     "text": [
      "Crawl comment page 1 success!!!\n",
      "Crawl comment for product 204806201\n",
      "Crawl comment page 0 success!!!\n"
     ]
    },
    {
     "name": "stderr",
     "output_type": "stream",
     "text": [
      " 85%|██████████████████████████████████████████████████████████████████▍           | 1702/2000 [36:47<08:14,  1.66s/it]"
     ]
    },
    {
     "name": "stdout",
     "output_type": "stream",
     "text": [
      "Crawl comment page 1 success!!!\n",
      "Crawl comment for product 198787061\n",
      "Crawl comment page 0 success!!!\n"
     ]
    },
    {
     "name": "stderr",
     "output_type": "stream",
     "text": [
      " 85%|██████████████████████████████████████████████████████████████████▍           | 1703/2000 [36:48<07:54,  1.60s/it]"
     ]
    },
    {
     "name": "stdout",
     "output_type": "stream",
     "text": [
      "Crawl comment page 1 success!!!\n",
      "Crawl comment for product 196411147\n",
      "Crawl comment page 0 success!!!\n"
     ]
    },
    {
     "name": "stderr",
     "output_type": "stream",
     "text": [
      " 85%|██████████████████████████████████████████████████████████████████▍           | 1704/2000 [36:51<10:05,  2.04s/it]"
     ]
    },
    {
     "name": "stdout",
     "output_type": "stream",
     "text": [
      "Crawl comment page 1 success!!!\n",
      "Crawl comment for product 185067342\n",
      "Crawl comment page 0 success!!!\n"
     ]
    },
    {
     "name": "stderr",
     "output_type": "stream",
     "text": [
      " 85%|██████████████████████████████████████████████████████████████████▍           | 1705/2000 [36:53<09:25,  1.92s/it]"
     ]
    },
    {
     "name": "stdout",
     "output_type": "stream",
     "text": [
      "Crawl comment page 1 success!!!\n",
      "Crawl comment for product 183553202\n",
      "Crawl comment page 0 success!!!\n"
     ]
    },
    {
     "name": "stderr",
     "output_type": "stream",
     "text": [
      " 85%|██████████████████████████████████████████████████████████████████▌           | 1706/2000 [36:53<07:32,  1.54s/it]"
     ]
    },
    {
     "name": "stdout",
     "output_type": "stream",
     "text": [
      "Crawl comment page 1 success!!!\n",
      "Crawl comment for product 174444166\n",
      "Crawl comment page 0 success!!!\n"
     ]
    },
    {
     "name": "stderr",
     "output_type": "stream",
     "text": [
      " 85%|██████████████████████████████████████████████████████████████████▌           | 1707/2000 [36:56<08:34,  1.75s/it]"
     ]
    },
    {
     "name": "stdout",
     "output_type": "stream",
     "text": [
      "Crawl comment page 1 success!!!\n",
      "Crawl comment for product 165851518\n",
      "Crawl comment page 0 success!!!\n"
     ]
    },
    {
     "name": "stderr",
     "output_type": "stream",
     "text": [
      " 85%|██████████████████████████████████████████████████████████████████▌           | 1708/2000 [36:56<06:57,  1.43s/it]"
     ]
    },
    {
     "name": "stdout",
     "output_type": "stream",
     "text": [
      "Crawl comment page 1 success!!!\n",
      "Crawl comment for product 80142837\n",
      "Crawl comment page 0 success!!!\n"
     ]
    },
    {
     "name": "stderr",
     "output_type": "stream",
     "text": [
      " 85%|██████████████████████████████████████████████████████████████████▋           | 1709/2000 [36:59<08:42,  1.79s/it]"
     ]
    },
    {
     "name": "stdout",
     "output_type": "stream",
     "text": [
      "Crawl comment page 1 success!!!\n",
      "Crawl comment for product 72202103\n",
      "Crawl comment page 0 success!!!\n"
     ]
    },
    {
     "name": "stderr",
     "output_type": "stream",
     "text": [
      " 86%|██████████████████████████████████████████████████████████████████▋           | 1710/2000 [37:04<13:02,  2.70s/it]"
     ]
    },
    {
     "name": "stdout",
     "output_type": "stream",
     "text": [
      "Crawl comment page 1 success!!!\n",
      "Crawl comment for product 69219919\n",
      "Crawl comment page 0 success!!!\n"
     ]
    },
    {
     "name": "stderr",
     "output_type": "stream",
     "text": [
      " 86%|██████████████████████████████████████████████████████████████████▋           | 1711/2000 [37:07<14:11,  2.95s/it]"
     ]
    },
    {
     "name": "stdout",
     "output_type": "stream",
     "text": [
      "Crawl comment page 1 success!!!\n",
      "Crawl comment for product 67712887\n",
      "Crawl comment page 0 success!!!\n"
     ]
    },
    {
     "name": "stderr",
     "output_type": "stream",
     "text": [
      " 86%|██████████████████████████████████████████████████████████████████▊           | 1712/2000 [37:10<13:28,  2.81s/it]"
     ]
    },
    {
     "name": "stdout",
     "output_type": "stream",
     "text": [
      "Crawl comment page 1 success!!!\n",
      "Crawl comment for product 56750844\n",
      "Crawl comment page 0 success!!!\n"
     ]
    },
    {
     "name": "stderr",
     "output_type": "stream",
     "text": [
      " 86%|██████████████████████████████████████████████████████████████████▊           | 1713/2000 [37:12<12:10,  2.55s/it]"
     ]
    },
    {
     "name": "stdout",
     "output_type": "stream",
     "text": [
      "Crawl comment page 1 success!!!\n",
      "Crawl comment for product 51491977\n",
      "Crawl comment page 0 success!!!\n"
     ]
    },
    {
     "name": "stderr",
     "output_type": "stream",
     "text": [
      " 86%|██████████████████████████████████████████████████████████████████▊           | 1714/2000 [37:15<13:15,  2.78s/it]"
     ]
    },
    {
     "name": "stdout",
     "output_type": "stream",
     "text": [
      "Crawl comment page 1 success!!!\n",
      "Crawl comment for product 45327515\n",
      "Crawl comment page 0 success!!!\n"
     ]
    },
    {
     "name": "stderr",
     "output_type": "stream",
     "text": [
      " 86%|██████████████████████████████████████████████████████████████████▉           | 1715/2000 [37:16<10:59,  2.31s/it]"
     ]
    },
    {
     "name": "stdout",
     "output_type": "stream",
     "text": [
      "Crawl comment page 1 success!!!\n",
      "Crawl comment for product 4059695\n",
      "Crawl comment page 0 success!!!\n"
     ]
    },
    {
     "name": "stderr",
     "output_type": "stream",
     "text": [
      " 86%|██████████████████████████████████████████████████████████████████▉           | 1716/2000 [37:18<10:36,  2.24s/it]"
     ]
    },
    {
     "name": "stdout",
     "output_type": "stream",
     "text": [
      "Crawl comment page 1 success!!!\n",
      "Crawl comment for product 1938895\n",
      "Crawl comment page 0 success!!!\n"
     ]
    },
    {
     "name": "stderr",
     "output_type": "stream",
     "text": [
      " 86%|██████████████████████████████████████████████████████████████████▉           | 1717/2000 [37:20<10:09,  2.15s/it]"
     ]
    },
    {
     "name": "stdout",
     "output_type": "stream",
     "text": [
      "Crawl comment page 1 success!!!\n",
      "Crawl comment for product 1337733\n",
      "Crawl comment page 0 success!!!\n"
     ]
    },
    {
     "name": "stderr",
     "output_type": "stream",
     "text": [
      " 86%|███████████████████████████████████████████████████████████████████           | 1718/2000 [37:22<09:11,  1.95s/it]"
     ]
    },
    {
     "name": "stdout",
     "output_type": "stream",
     "text": [
      "Crawl comment page 1 success!!!\n",
      "Crawl comment for product 704294\n",
      "Crawl comment page 0 success!!!\n"
     ]
    },
    {
     "name": "stderr",
     "output_type": "stream",
     "text": [
      " 86%|███████████████████████████████████████████████████████████████████           | 1719/2000 [37:23<07:53,  1.68s/it]"
     ]
    },
    {
     "name": "stdout",
     "output_type": "stream",
     "text": [
      "Crawl comment page 1 success!!!\n",
      "Crawl comment for product 385268\n",
      "Crawl comment page 0 success!!!\n"
     ]
    },
    {
     "name": "stderr",
     "output_type": "stream",
     "text": [
      " 86%|███████████████████████████████████████████████████████████████████           | 1720/2000 [37:25<08:13,  1.76s/it]"
     ]
    },
    {
     "name": "stdout",
     "output_type": "stream",
     "text": [
      "Crawl comment page 1 success!!!\n",
      "Crawl comment for product 278117594\n",
      "Crawl comment page 0 success!!!\n"
     ]
    },
    {
     "name": "stderr",
     "output_type": "stream",
     "text": [
      " 86%|███████████████████████████████████████████████████████████████████▏          | 1722/2000 [37:27<06:28,  1.40s/it]"
     ]
    },
    {
     "name": "stdout",
     "output_type": "stream",
     "text": [
      "Crawl comment page 1 success!!!\n",
      "Crawl comment for product 278111429\n",
      "Crawl comment page 0 success!!!\n",
      "Crawl comment page 1 success!!!\n",
      "Crawl comment for product 278029327\n"
     ]
    },
    {
     "name": "stderr",
     "output_type": "stream",
     "text": [
      " 86%|███████████████████████████████████████████████████████████████████▏          | 1724/2000 [37:28<03:24,  1.35it/s]"
     ]
    },
    {
     "name": "stdout",
     "output_type": "stream",
     "text": [
      "Crawl comment page 0 success!!!\n",
      "Crawl comment page 1 success!!!\n",
      "Crawl comment for product 278000704\n",
      "Crawl comment page 0 success!!!\n",
      "Crawl comment page 1 success!!!\n",
      "Crawl comment for product 277963732\n"
     ]
    },
    {
     "name": "stderr",
     "output_type": "stream",
     "text": [
      " 86%|███████████████████████████████████████████████████████████████████▎          | 1725/2000 [37:28<02:35,  1.77it/s]"
     ]
    },
    {
     "name": "stdout",
     "output_type": "stream",
     "text": [
      "Crawl comment page 0 success!!!\n",
      "Crawl comment page 1 success!!!\n",
      "Crawl comment for product 277775027\n",
      "Crawl comment page 0 success!!!\n"
     ]
    },
    {
     "name": "stderr",
     "output_type": "stream",
     "text": [
      " 86%|███████████████████████████████████████████████████████████████████▎          | 1727/2000 [37:30<03:20,  1.36it/s]"
     ]
    },
    {
     "name": "stdout",
     "output_type": "stream",
     "text": [
      "Crawl comment page 1 success!!!\n",
      "Crawl comment for product 277750399\n",
      "Crawl comment page 0 success!!!\n",
      "Crawl comment page 1 success!!!\n",
      "Crawl comment for product 277520857\n"
     ]
    },
    {
     "name": "stderr",
     "output_type": "stream",
     "text": [
      " 86%|███████████████████████████████████████████████████████████████████▍          | 1728/2000 [37:30<02:42,  1.68it/s]"
     ]
    },
    {
     "name": "stdout",
     "output_type": "stream",
     "text": [
      "Crawl comment page 0 success!!!\n",
      "Crawl comment page 1 success!!!\n",
      "Crawl comment for product 277490106\n",
      "Crawl comment page 0 success!!!\n"
     ]
    },
    {
     "name": "stderr",
     "output_type": "stream",
     "text": [
      " 86%|███████████████████████████████████████████████████████████████████▍          | 1730/2000 [37:31<02:08,  2.11it/s]"
     ]
    },
    {
     "name": "stdout",
     "output_type": "stream",
     "text": [
      "Crawl comment page 1 success!!!\n",
      "Crawl comment for product 277481897\n",
      "Crawl comment page 0 success!!!\n",
      "Crawl comment page 1 success!!!\n",
      "Crawl comment for product 277228103\n",
      "Crawl comment page 0 success!!!\n"
     ]
    },
    {
     "name": "stderr",
     "output_type": "stream",
     "text": [
      " 87%|███████████████████████████████████████████████████████████████████▌          | 1731/2000 [37:31<01:38,  2.72it/s]"
     ]
    },
    {
     "name": "stdout",
     "output_type": "stream",
     "text": [
      "Crawl comment page 1 success!!!\n",
      "Crawl comment for product 277004603\n",
      "Crawl comment page 0 success!!!\n"
     ]
    },
    {
     "name": "stderr",
     "output_type": "stream",
     "text": [
      " 87%|███████████████████████████████████████████████████████████████████▌          | 1732/2000 [37:31<01:31,  2.92it/s]"
     ]
    },
    {
     "name": "stdout",
     "output_type": "stream",
     "text": [
      "Crawl comment page 1 success!!!\n",
      "Crawl comment for product 276981105\n",
      "Crawl comment page 0 success!!!\n"
     ]
    },
    {
     "name": "stderr",
     "output_type": "stream",
     "text": [
      " 87%|███████████████████████████████████████████████████████████████████▌          | 1733/2000 [37:32<01:53,  2.36it/s]"
     ]
    },
    {
     "name": "stdout",
     "output_type": "stream",
     "text": [
      "Crawl comment page 1 success!!!\n",
      "Crawl comment for product 276718105\n",
      "Crawl comment page 0 success!!!\n"
     ]
    },
    {
     "name": "stderr",
     "output_type": "stream",
     "text": [
      " 87%|███████████████████████████████████████████████████████████████████▋          | 1734/2000 [37:33<02:11,  2.02it/s]"
     ]
    },
    {
     "name": "stdout",
     "output_type": "stream",
     "text": [
      "Crawl comment page 1 success!!!\n",
      "Crawl comment for product 276641306\n",
      "Crawl comment page 0 success!!!\n"
     ]
    },
    {
     "name": "stderr",
     "output_type": "stream",
     "text": [
      " 87%|███████████████████████████████████████████████████████████████████▋          | 1735/2000 [37:33<02:18,  1.91it/s]"
     ]
    },
    {
     "name": "stdout",
     "output_type": "stream",
     "text": [
      "Crawl comment page 1 success!!!\n",
      "Crawl comment for product 276598456\n",
      "Crawl comment page 0 success!!!\n"
     ]
    },
    {
     "name": "stderr",
     "output_type": "stream",
     "text": [
      " 87%|███████████████████████████████████████████████████████████████████▋          | 1736/2000 [37:34<02:22,  1.85it/s]"
     ]
    },
    {
     "name": "stdout",
     "output_type": "stream",
     "text": [
      "Crawl comment page 1 success!!!\n",
      "Crawl comment for product 273732354\n",
      "Crawl comment page 0 success!!!\n"
     ]
    },
    {
     "name": "stderr",
     "output_type": "stream",
     "text": [
      " 87%|███████████████████████████████████████████████████████████████████▋          | 1737/2000 [37:34<02:38,  1.66it/s]"
     ]
    },
    {
     "name": "stdout",
     "output_type": "stream",
     "text": [
      "Crawl comment page 1 success!!!\n",
      "Crawl comment for product 273418280\n",
      "Crawl comment page 0 success!!!\n"
     ]
    },
    {
     "name": "stderr",
     "output_type": "stream",
     "text": [
      " 87%|███████████████████████████████████████████████████████████████████▊          | 1738/2000 [37:36<04:11,  1.04it/s]"
     ]
    },
    {
     "name": "stdout",
     "output_type": "stream",
     "text": [
      "Crawl comment page 1 success!!!\n",
      "Crawl comment for product 273029241\n",
      "Crawl comment page 0 success!!!\n"
     ]
    },
    {
     "name": "stderr",
     "output_type": "stream",
     "text": [
      " 87%|███████████████████████████████████████████████████████████████████▊          | 1739/2000 [37:39<05:50,  1.34s/it]"
     ]
    },
    {
     "name": "stdout",
     "output_type": "stream",
     "text": [
      "Crawl comment page 1 success!!!\n",
      "Crawl comment for product 271972239\n",
      "Crawl comment page 0 success!!!\n"
     ]
    },
    {
     "name": "stderr",
     "output_type": "stream",
     "text": [
      " 87%|███████████████████████████████████████████████████████████████████▊          | 1740/2000 [37:40<06:33,  1.51s/it]"
     ]
    },
    {
     "name": "stdout",
     "output_type": "stream",
     "text": [
      "Crawl comment page 1 success!!!\n",
      "Crawl comment for product 271516872\n",
      "Crawl comment page 0 success!!!\n"
     ]
    },
    {
     "name": "stderr",
     "output_type": "stream",
     "text": [
      " 87%|███████████████████████████████████████████████████████████████████▉          | 1742/2000 [37:43<05:53,  1.37s/it]"
     ]
    },
    {
     "name": "stdout",
     "output_type": "stream",
     "text": [
      "Crawl comment page 1 success!!!\n",
      "Crawl comment for product 270797315\n",
      "Crawl comment page 0 success!!!\n",
      "Crawl comment page 1 success!!!\n",
      "Crawl comment for product 270768957\n",
      "Crawl comment page 0 success!!!\n"
     ]
    },
    {
     "name": "stderr",
     "output_type": "stream",
     "text": [
      " 87%|███████████████████████████████████████████████████████████████████▉          | 1743/2000 [37:46<06:59,  1.63s/it]"
     ]
    },
    {
     "name": "stdout",
     "output_type": "stream",
     "text": [
      "Crawl comment page 1 success!!!\n",
      "Crawl comment for product 270745659\n",
      "Crawl comment page 0 success!!!\n"
     ]
    },
    {
     "name": "stderr",
     "output_type": "stream",
     "text": [
      " 87%|████████████████████████████████████████████████████████████████████          | 1744/2000 [37:49<09:26,  2.21s/it]"
     ]
    },
    {
     "name": "stdout",
     "output_type": "stream",
     "text": [
      "Crawl comment page 1 success!!!\n",
      "Crawl comment for product 270662041\n",
      "Crawl comment page 0 success!!!\n"
     ]
    },
    {
     "name": "stderr",
     "output_type": "stream",
     "text": [
      " 87%|████████████████████████████████████████████████████████████████████          | 1745/2000 [37:52<09:46,  2.30s/it]"
     ]
    },
    {
     "name": "stdout",
     "output_type": "stream",
     "text": [
      "Crawl comment page 1 success!!!\n",
      "Crawl comment for product 217696325\n",
      "Crawl comment page 0 success!!!\n"
     ]
    },
    {
     "name": "stderr",
     "output_type": "stream",
     "text": [
      " 87%|████████████████████████████████████████████████████████████████████          | 1746/2000 [37:55<10:43,  2.53s/it]"
     ]
    },
    {
     "name": "stdout",
     "output_type": "stream",
     "text": [
      "Crawl comment page 1 success!!!\n",
      "Crawl comment for product 212213018\n",
      "Crawl comment page 0 success!!!\n"
     ]
    },
    {
     "name": "stderr",
     "output_type": "stream",
     "text": [
      " 87%|████████████████████████████████████████████████████████████████████▏         | 1747/2000 [37:57<09:55,  2.35s/it]"
     ]
    },
    {
     "name": "stdout",
     "output_type": "stream",
     "text": [
      "Crawl comment page 1 success!!!\n",
      "Crawl comment for product 204051994\n",
      "Crawl comment page 0 success!!!\n"
     ]
    },
    {
     "name": "stderr",
     "output_type": "stream",
     "text": [
      " 87%|████████████████████████████████████████████████████████████████████▏         | 1748/2000 [37:59<09:22,  2.23s/it]"
     ]
    },
    {
     "name": "stdout",
     "output_type": "stream",
     "text": [
      "Crawl comment page 1 success!!!\n",
      "Crawl comment for product 199112637\n",
      "Crawl comment page 0 success!!!\n"
     ]
    },
    {
     "name": "stderr",
     "output_type": "stream",
     "text": [
      " 88%|████████████████████████████████████████████████████████████████████▎         | 1750/2000 [37:59<04:59,  1.20s/it]"
     ]
    },
    {
     "name": "stdout",
     "output_type": "stream",
     "text": [
      "Crawl comment page 1 success!!!\n",
      "Crawl comment for product 193512256\n",
      "Crawl comment page 0 success!!!\n",
      "Crawl comment page 1 success!!!\n",
      "Crawl comment for product 165150439\n",
      "Crawl comment page 0 success!!!\n"
     ]
    },
    {
     "name": "stderr",
     "output_type": "stream",
     "text": [
      " 88%|████████████████████████████████████████████████████████████████████▎         | 1751/2000 [38:01<06:07,  1.48s/it]"
     ]
    },
    {
     "name": "stdout",
     "output_type": "stream",
     "text": [
      "Crawl comment page 1 success!!!\n",
      "Crawl comment for product 159484590\n",
      "Crawl comment page 0 success!!!\n"
     ]
    },
    {
     "name": "stderr",
     "output_type": "stream",
     "text": [
      " 88%|████████████████████████████████████████████████████████████████████▎         | 1752/2000 [38:03<06:18,  1.53s/it]"
     ]
    },
    {
     "name": "stdout",
     "output_type": "stream",
     "text": [
      "Crawl comment page 1 success!!!\n",
      "Crawl comment for product 157432540\n",
      "Crawl comment page 0 success!!!\n"
     ]
    },
    {
     "name": "stderr",
     "output_type": "stream",
     "text": [
      " 88%|████████████████████████████████████████████████████████████████████▎         | 1753/2000 [38:04<06:14,  1.52s/it]"
     ]
    },
    {
     "name": "stdout",
     "output_type": "stream",
     "text": [
      "Crawl comment page 1 success!!!\n",
      "Crawl comment for product 155463021\n",
      "Crawl comment page 0 success!!!\n"
     ]
    },
    {
     "name": "stderr",
     "output_type": "stream",
     "text": [
      " 88%|████████████████████████████████████████████████████████████████████▍         | 1754/2000 [38:06<06:48,  1.66s/it]"
     ]
    },
    {
     "name": "stdout",
     "output_type": "stream",
     "text": [
      "Crawl comment page 1 success!!!\n",
      "Crawl comment for product 54748899\n",
      "Crawl comment page 0 success!!!\n"
     ]
    },
    {
     "name": "stderr",
     "output_type": "stream",
     "text": [
      " 88%|████████████████████████████████████████████████████████████████████▍         | 1755/2000 [38:12<11:08,  2.73s/it]"
     ]
    },
    {
     "name": "stdout",
     "output_type": "stream",
     "text": [
      "Crawl comment page 1 success!!!\n",
      "Crawl comment for product 10379317\n",
      "Crawl comment page 0 success!!!\n"
     ]
    },
    {
     "name": "stderr",
     "output_type": "stream",
     "text": [
      " 88%|████████████████████████████████████████████████████████████████████▍         | 1756/2000 [38:13<09:06,  2.24s/it]"
     ]
    },
    {
     "name": "stdout",
     "output_type": "stream",
     "text": [
      "Crawl comment page 1 success!!!\n",
      "Crawl comment for product 10075761\n",
      "Crawl comment page 0 success!!!\n"
     ]
    },
    {
     "name": "stderr",
     "output_type": "stream",
     "text": [
      " 88%|████████████████████████████████████████████████████████████████████▌         | 1757/2000 [38:15<09:17,  2.30s/it]"
     ]
    },
    {
     "name": "stdout",
     "output_type": "stream",
     "text": [
      "Crawl comment page 1 success!!!\n",
      "Crawl comment for product 9687416\n",
      "Crawl comment page 0 success!!!\n"
     ]
    },
    {
     "name": "stderr",
     "output_type": "stream",
     "text": [
      " 88%|████████████████████████████████████████████████████████████████████▌         | 1758/2000 [38:16<07:54,  1.96s/it]"
     ]
    },
    {
     "name": "stdout",
     "output_type": "stream",
     "text": [
      "Crawl comment page 1 success!!!\n",
      "Crawl comment for product 5067169\n",
      "Crawl comment page 0 success!!!\n"
     ]
    },
    {
     "name": "stderr",
     "output_type": "stream",
     "text": [
      " 88%|████████████████████████████████████████████████████████████████████▌         | 1759/2000 [38:18<07:23,  1.84s/it]"
     ]
    },
    {
     "name": "stdout",
     "output_type": "stream",
     "text": [
      "Crawl comment page 1 success!!!\n",
      "Crawl comment for product 381234\n",
      "Crawl comment page 0 success!!!\n"
     ]
    },
    {
     "name": "stderr",
     "output_type": "stream",
     "text": [
      " 88%|████████████████████████████████████████████████████████████████████▋         | 1761/2000 [38:20<05:17,  1.33s/it]"
     ]
    },
    {
     "name": "stdout",
     "output_type": "stream",
     "text": [
      "Crawl comment page 1 success!!!\n",
      "Crawl comment for product 278101832\n",
      "Crawl comment page 0 success!!!\n",
      "Crawl comment page 1 success!!!\n",
      "Crawl comment for product 278054925\n",
      "Crawl comment page 0 success!!!\n"
     ]
    },
    {
     "name": "stderr",
     "output_type": "stream",
     "text": [
      " 88%|████████████████████████████████████████████████████████████████████▋         | 1762/2000 [38:20<03:49,  1.04it/s]"
     ]
    },
    {
     "name": "stdout",
     "output_type": "stream",
     "text": [
      "Crawl comment page 1 success!!!\n",
      "Crawl comment for product 277923368\n",
      "Crawl comment page 0 success!!!\n"
     ]
    },
    {
     "name": "stderr",
     "output_type": "stream",
     "text": [
      " 88%|████████████████████████████████████████████████████████████████████▊         | 1764/2000 [38:20<02:12,  1.79it/s]"
     ]
    },
    {
     "name": "stdout",
     "output_type": "stream",
     "text": [
      "Crawl comment page 1 success!!!\n",
      "Crawl comment for product 277918880\n",
      "Crawl comment page 0 success!!!\n",
      "Crawl comment page 1 success!!!\n",
      "Crawl comment for product 277587062\n"
     ]
    },
    {
     "name": "stderr",
     "output_type": "stream",
     "text": [
      " 88%|████████████████████████████████████████████████████████████████████▊         | 1765/2000 [38:21<01:53,  2.06it/s]"
     ]
    },
    {
     "name": "stdout",
     "output_type": "stream",
     "text": [
      "Crawl comment page 0 success!!!\n",
      "Crawl comment page 1 success!!!\n",
      "Crawl comment for product 277519792\n",
      "Crawl comment page 0 success!!!\n"
     ]
    },
    {
     "name": "stderr",
     "output_type": "stream",
     "text": [
      " 88%|████████████████████████████████████████████████████████████████████▉         | 1767/2000 [38:21<01:08,  3.42it/s]"
     ]
    },
    {
     "name": "stdout",
     "output_type": "stream",
     "text": [
      "Crawl comment page 1 success!!!\n",
      "Crawl comment for product 277444779\n",
      "Crawl comment page 0 success!!!\n",
      "Crawl comment page 1 success!!!\n",
      "Crawl comment for product 277408897\n",
      "Crawl comment page 0 success!!!\n"
     ]
    },
    {
     "name": "stderr",
     "output_type": "stream",
     "text": [
      " 88%|████████████████████████████████████████████████████████████████████▉         | 1769/2000 [38:21<00:51,  4.47it/s]"
     ]
    },
    {
     "name": "stdout",
     "output_type": "stream",
     "text": [
      "Crawl comment page 1 success!!!\n",
      "Crawl comment for product 277396067\n",
      "Crawl comment page 0 success!!!\n",
      "Crawl comment page 1 success!!!\n",
      "Crawl comment for product 277379031\n"
     ]
    },
    {
     "name": "stderr",
     "output_type": "stream",
     "text": [
      " 88%|█████████████████████████████████████████████████████████████████████         | 1770/2000 [38:21<00:44,  5.14it/s]"
     ]
    },
    {
     "name": "stdout",
     "output_type": "stream",
     "text": [
      "Crawl comment page 0 success!!!\n",
      "Crawl comment page 1 success!!!\n",
      "Crawl comment for product 277342803\n",
      "Crawl comment page 0 success!!!\n"
     ]
    },
    {
     "name": "stderr",
     "output_type": "stream",
     "text": [
      " 89%|█████████████████████████████████████████████████████████████████████         | 1771/2000 [38:21<00:45,  5.07it/s]"
     ]
    },
    {
     "name": "stdout",
     "output_type": "stream",
     "text": [
      "Crawl comment page 1 success!!!\n",
      "Crawl comment for product 276583972\n",
      "Crawl comment page 0 success!!!\n"
     ]
    },
    {
     "name": "stderr",
     "output_type": "stream",
     "text": [
      " 89%|█████████████████████████████████████████████████████████████████████▏        | 1773/2000 [38:22<01:08,  3.33it/s]"
     ]
    },
    {
     "name": "stdout",
     "output_type": "stream",
     "text": [
      "Crawl comment page 1 success!!!\n",
      "Crawl comment for product 275606431\n",
      "Crawl comment page 0 success!!!\n",
      "Crawl comment page 1 success!!!\n",
      "Crawl comment for product 275591032\n"
     ]
    },
    {
     "name": "stderr",
     "output_type": "stream",
     "text": [
      " 89%|█████████████████████████████████████████████████████████████████████▏        | 1774/2000 [38:23<01:01,  3.69it/s]"
     ]
    },
    {
     "name": "stdout",
     "output_type": "stream",
     "text": [
      "Crawl comment page 0 success!!!\n",
      "Crawl comment page 1 success!!!\n",
      "Crawl comment for product 275524304\n",
      "Crawl comment page 0 success!!!\n"
     ]
    },
    {
     "name": "stderr",
     "output_type": "stream",
     "text": [
      " 89%|█████████████████████████████████████████████████████████████████████▎        | 1776/2000 [38:24<01:24,  2.66it/s]"
     ]
    },
    {
     "name": "stdout",
     "output_type": "stream",
     "text": [
      "Crawl comment page 1 success!!!\n",
      "Crawl comment for product 275303862\n",
      "Crawl comment page 0 success!!!\n",
      "Crawl comment page 1 success!!!\n",
      "Crawl comment for product 274923683\n",
      "Crawl comment page 0 success!!!\n"
     ]
    },
    {
     "name": "stderr",
     "output_type": "stream",
     "text": [
      " 89%|█████████████████████████████████████████████████████████████████████▎        | 1777/2000 [38:24<01:06,  3.35it/s]"
     ]
    },
    {
     "name": "stdout",
     "output_type": "stream",
     "text": [
      "Crawl comment page 1 success!!!\n",
      "Crawl comment for product 274828145\n",
      "Crawl comment page 0 success!!!\n"
     ]
    },
    {
     "name": "stderr",
     "output_type": "stream",
     "text": [
      " 89%|█████████████████████████████████████████████████████████████████████▎        | 1778/2000 [38:25<01:47,  2.07it/s]"
     ]
    },
    {
     "name": "stdout",
     "output_type": "stream",
     "text": [
      "Crawl comment page 1 success!!!\n",
      "Crawl comment for product 271950431\n",
      "Crawl comment page 0 success!!!\n"
     ]
    },
    {
     "name": "stderr",
     "output_type": "stream",
     "text": [
      " 89%|█████████████████████████████████████████████████████████████████████▍        | 1779/2000 [38:27<04:14,  1.15s/it]"
     ]
    },
    {
     "name": "stdout",
     "output_type": "stream",
     "text": [
      "Crawl comment page 1 success!!!\n",
      "Crawl comment for product 270625950\n"
     ]
    },
    {
     "name": "stderr",
     "output_type": "stream",
     "text": [
      " 89%|█████████████████████████████████████████████████████████████████████▍        | 1780/2000 [38:28<03:23,  1.08it/s]"
     ]
    },
    {
     "name": "stdout",
     "output_type": "stream",
     "text": [
      "Crawl comment page 0 success!!!\n",
      "Crawl comment page 1 success!!!\n",
      "Crawl comment for product 270052945\n"
     ]
    },
    {
     "name": "stderr",
     "output_type": "stream",
     "text": [
      " 89%|█████████████████████████████████████████████████████████████████████▍        | 1781/2000 [38:28<02:28,  1.47it/s]"
     ]
    },
    {
     "name": "stdout",
     "output_type": "stream",
     "text": [
      "Crawl comment page 0 success!!!\n",
      "Crawl comment page 1 success!!!\n",
      "Crawl comment for product 269323661\n",
      "Crawl comment page 0 success!!!\n"
     ]
    },
    {
     "name": "stderr",
     "output_type": "stream",
     "text": [
      " 89%|█████████████████████████████████████████████████████████████████████▌        | 1783/2000 [38:31<03:31,  1.03it/s]"
     ]
    },
    {
     "name": "stdout",
     "output_type": "stream",
     "text": [
      "Crawl comment page 1 success!!!\n",
      "Crawl comment for product 261975731\n",
      "Crawl comment page 0 success!!!\n",
      "Crawl comment page 1 success!!!\n",
      "Crawl comment for product 253148102\n"
     ]
    },
    {
     "name": "stderr",
     "output_type": "stream",
     "text": [
      " 89%|█████████████████████████████████████████████████████████████████████▌        | 1784/2000 [38:31<02:35,  1.39it/s]"
     ]
    },
    {
     "name": "stdout",
     "output_type": "stream",
     "text": [
      "Crawl comment page 0 success!!!\n",
      "Crawl comment page 1 success!!!\n",
      "Crawl comment for product 225911485\n"
     ]
    },
    {
     "name": "stderr",
     "output_type": "stream",
     "text": [
      " 89%|█████████████████████████████████████████████████████████████████████▌        | 1785/2000 [38:31<02:14,  1.60it/s]"
     ]
    },
    {
     "name": "stdout",
     "output_type": "stream",
     "text": [
      "Crawl comment page 0 success!!!\n",
      "Crawl comment page 1 success!!!\n",
      "Crawl comment for product 216124178\n",
      "Crawl comment page 0 success!!!\n"
     ]
    },
    {
     "name": "stderr",
     "output_type": "stream",
     "text": [
      " 89%|█████████████████████████████████████████████████████████████████████▋        | 1786/2000 [38:33<03:33,  1.00it/s]"
     ]
    },
    {
     "name": "stdout",
     "output_type": "stream",
     "text": [
      "Crawl comment page 1 success!!!\n",
      "Crawl comment for product 200779122\n",
      "Crawl comment page 0 success!!!\n"
     ]
    },
    {
     "name": "stderr",
     "output_type": "stream",
     "text": [
      " 89%|█████████████████████████████████████████████████████████████████████▋        | 1787/2000 [38:35<04:38,  1.31s/it]"
     ]
    },
    {
     "name": "stdout",
     "output_type": "stream",
     "text": [
      "Crawl comment page 1 success!!!\n",
      "Crawl comment for product 181699664\n",
      "Crawl comment page 0 success!!!\n"
     ]
    },
    {
     "name": "stderr",
     "output_type": "stream",
     "text": [
      " 89%|█████████████████████████████████████████████████████████████████████▋        | 1788/2000 [38:37<04:46,  1.35s/it]"
     ]
    },
    {
     "name": "stdout",
     "output_type": "stream",
     "text": [
      "Crawl comment page 1 success!!!\n",
      "Crawl comment for product 171137376\n",
      "Crawl comment page 0 success!!!\n"
     ]
    },
    {
     "name": "stderr",
     "output_type": "stream",
     "text": [
      " 89%|█████████████████████████████████████████████████████████████████████▊        | 1789/2000 [38:39<05:40,  1.61s/it]"
     ]
    },
    {
     "name": "stdout",
     "output_type": "stream",
     "text": [
      "Crawl comment page 1 success!!!\n",
      "Crawl comment for product 160759005\n",
      "Crawl comment page 0 success!!!\n"
     ]
    },
    {
     "name": "stderr",
     "output_type": "stream",
     "text": [
      " 90%|█████████████████████████████████████████████████████████████████████▊        | 1790/2000 [38:41<06:17,  1.80s/it]"
     ]
    },
    {
     "name": "stdout",
     "output_type": "stream",
     "text": [
      "Crawl comment page 1 success!!!\n",
      "Crawl comment for product 158235745\n",
      "Crawl comment page 0 success!!!\n"
     ]
    },
    {
     "name": "stderr",
     "output_type": "stream",
     "text": [
      " 90%|█████████████████████████████████████████████████████████████████████▊        | 1791/2000 [38:44<07:01,  2.02s/it]"
     ]
    },
    {
     "name": "stdout",
     "output_type": "stream",
     "text": [
      "Crawl comment page 1 success!!!\n",
      "Crawl comment for product 143226165\n",
      "Crawl comment page 0 success!!!\n"
     ]
    },
    {
     "name": "stderr",
     "output_type": "stream",
     "text": [
      " 90%|█████████████████████████████████████████████████████████████████████▉        | 1792/2000 [38:45<06:21,  1.84s/it]"
     ]
    },
    {
     "name": "stdout",
     "output_type": "stream",
     "text": [
      "Crawl comment page 1 success!!!\n",
      "Crawl comment for product 134605025\n",
      "Crawl comment page 0 success!!!\n"
     ]
    },
    {
     "name": "stderr",
     "output_type": "stream",
     "text": [
      " 90%|█████████████████████████████████████████████████████████████████████▉        | 1793/2000 [38:46<05:38,  1.63s/it]"
     ]
    },
    {
     "name": "stdout",
     "output_type": "stream",
     "text": [
      "Crawl comment page 1 success!!!\n",
      "Crawl comment for product 100382935\n",
      "Crawl comment page 0 success!!!\n"
     ]
    },
    {
     "name": "stderr",
     "output_type": "stream",
     "text": [
      " 90%|█████████████████████████████████████████████████████████████████████▉        | 1794/2000 [38:47<05:02,  1.47s/it]"
     ]
    },
    {
     "name": "stdout",
     "output_type": "stream",
     "text": [
      "Crawl comment page 1 success!!!\n",
      "Crawl comment for product 88089876\n",
      "Crawl comment page 0 success!!!\n"
     ]
    },
    {
     "name": "stderr",
     "output_type": "stream",
     "text": [
      " 90%|██████████████████████████████████████████████████████████████████████        | 1795/2000 [38:49<05:03,  1.48s/it]"
     ]
    },
    {
     "name": "stdout",
     "output_type": "stream",
     "text": [
      "Crawl comment page 1 success!!!\n",
      "Crawl comment for product 47161879\n",
      "Crawl comment page 0 success!!!\n"
     ]
    },
    {
     "name": "stderr",
     "output_type": "stream",
     "text": [
      " 90%|██████████████████████████████████████████████████████████████████████        | 1796/2000 [38:51<06:08,  1.80s/it]"
     ]
    },
    {
     "name": "stdout",
     "output_type": "stream",
     "text": [
      "Crawl comment page 1 success!!!\n",
      "Crawl comment for product 38265901\n",
      "Crawl comment page 0 success!!!\n"
     ]
    },
    {
     "name": "stderr",
     "output_type": "stream",
     "text": [
      " 90%|██████████████████████████████████████████████████████████████████████        | 1797/2000 [38:54<06:24,  1.89s/it]"
     ]
    },
    {
     "name": "stdout",
     "output_type": "stream",
     "text": [
      "Crawl comment page 1 success!!!\n",
      "Crawl comment for product 8835135\n",
      "Crawl comment page 0 success!!!\n"
     ]
    },
    {
     "name": "stderr",
     "output_type": "stream",
     "text": [
      " 90%|██████████████████████████████████████████████████████████████████████        | 1798/2000 [38:55<05:29,  1.63s/it]"
     ]
    },
    {
     "name": "stdout",
     "output_type": "stream",
     "text": [
      "Crawl comment page 1 success!!!\n",
      "Crawl comment for product 486206\n",
      "Crawl comment page 0 success!!!\n"
     ]
    },
    {
     "name": "stderr",
     "output_type": "stream",
     "text": [
      " 90%|██████████████████████████████████████████████████████████████████████▏       | 1799/2000 [38:55<04:36,  1.38s/it]"
     ]
    },
    {
     "name": "stdout",
     "output_type": "stream",
     "text": [
      "Crawl comment page 1 success!!!\n",
      "Crawl comment for product 446365\n",
      "Crawl comment page 0 success!!!\n"
     ]
    },
    {
     "name": "stderr",
     "output_type": "stream",
     "text": [
      " 90%|██████████████████████████████████████████████████████████████████████▏       | 1800/2000 [38:56<03:55,  1.18s/it]"
     ]
    },
    {
     "name": "stdout",
     "output_type": "stream",
     "text": [
      "Crawl comment page 1 success!!!\n",
      "Crawl comment for product 278160712\n",
      "Crawl comment page 0 success!!!\n"
     ]
    },
    {
     "name": "stderr",
     "output_type": "stream",
     "text": [
      " 90%|██████████████████████████████████████████████████████████████████████▎       | 1802/2000 [38:58<03:22,  1.02s/it]"
     ]
    },
    {
     "name": "stdout",
     "output_type": "stream",
     "text": [
      "Crawl comment page 1 success!!!\n",
      "Crawl comment for product 278058440\n",
      "Crawl comment page 0 success!!!\n",
      "Crawl comment page 1 success!!!\n",
      "Crawl comment for product 277971311\n",
      "Crawl comment page 0 success!!!\n"
     ]
    },
    {
     "name": "stderr",
     "output_type": "stream",
     "text": [
      " 90%|██████████████████████████████████████████████████████████████████████▎       | 1803/2000 [38:58<02:30,  1.31it/s]"
     ]
    },
    {
     "name": "stdout",
     "output_type": "stream",
     "text": [
      "Crawl comment page 1 success!!!\n",
      "Crawl comment for product 277921751\n"
     ]
    },
    {
     "name": "stderr",
     "output_type": "stream",
     "text": [
      " 90%|██████████████████████████████████████████████████████████████████████▎       | 1804/2000 [38:59<02:09,  1.51it/s]"
     ]
    },
    {
     "name": "stdout",
     "output_type": "stream",
     "text": [
      "Crawl comment page 0 success!!!\n",
      "Crawl comment page 1 success!!!\n",
      "Crawl comment for product 277808996\n"
     ]
    },
    {
     "name": "stderr",
     "output_type": "stream",
     "text": [
      " 90%|██████████████████████████████████████████████████████████████████████▍       | 1805/2000 [38:59<01:42,  1.90it/s]"
     ]
    },
    {
     "name": "stdout",
     "output_type": "stream",
     "text": [
      "Crawl comment page 0 success!!!\n",
      "Crawl comment page 1 success!!!\n",
      "Crawl comment for product 277521845\n",
      "Crawl comment page 0 success!!!\n"
     ]
    },
    {
     "name": "stderr",
     "output_type": "stream",
     "text": [
      " 90%|██████████████████████████████████████████████████████████████████████▍       | 1806/2000 [39:00<01:49,  1.77it/s]"
     ]
    },
    {
     "name": "stdout",
     "output_type": "stream",
     "text": [
      "Crawl comment page 1 success!!!\n",
      "Crawl comment for product 277497340\n",
      "Crawl comment page 0 success!!!\n"
     ]
    },
    {
     "name": "stderr",
     "output_type": "stream",
     "text": [
      " 90%|██████████████████████████████████████████████████████████████████████▌       | 1808/2000 [39:00<01:29,  2.14it/s]"
     ]
    },
    {
     "name": "stdout",
     "output_type": "stream",
     "text": [
      "Crawl comment page 1 success!!!\n",
      "Crawl comment for product 277228155\n",
      "Crawl comment page 0 success!!!\n",
      "Crawl comment page 1 success!!!\n",
      "Crawl comment for product 276583961\n",
      "Crawl comment page 0 success!!!\n"
     ]
    },
    {
     "name": "stderr",
     "output_type": "stream",
     "text": [
      " 90%|██████████████████████████████████████████████████████████████████████▌       | 1810/2000 [39:03<02:09,  1.46it/s]"
     ]
    },
    {
     "name": "stdout",
     "output_type": "stream",
     "text": [
      "Crawl comment page 1 success!!!\n",
      "Crawl comment for product 275949066\n",
      "Crawl comment page 0 success!!!\n",
      "Crawl comment page 1 success!!!\n",
      "Crawl comment for product 274807853\n",
      "Crawl comment page 0 success!!!\n"
     ]
    },
    {
     "name": "stderr",
     "output_type": "stream",
     "text": [
      " 91%|██████████████████████████████████████████████████████████████████████▋       | 1811/2000 [39:05<04:01,  1.28s/it]"
     ]
    },
    {
     "name": "stdout",
     "output_type": "stream",
     "text": [
      "Crawl comment page 1 success!!!\n",
      "Crawl comment for product 274761775\n",
      "Crawl comment page 0 success!!!\n"
     ]
    },
    {
     "name": "stderr",
     "output_type": "stream",
     "text": [
      " 91%|██████████████████████████████████████████████████████████████████████▋       | 1812/2000 [39:06<03:25,  1.09s/it]"
     ]
    },
    {
     "name": "stdout",
     "output_type": "stream",
     "text": [
      "Crawl comment page 1 success!!!\n",
      "Crawl comment for product 274545439\n",
      "Crawl comment page 0 success!!!\n"
     ]
    },
    {
     "name": "stderr",
     "output_type": "stream",
     "text": [
      " 91%|██████████████████████████████████████████████████████████████████████▋       | 1813/2000 [39:10<06:28,  2.08s/it]"
     ]
    },
    {
     "name": "stdout",
     "output_type": "stream",
     "text": [
      "Crawl comment page 1 success!!!\n",
      "Crawl comment for product 274544396\n",
      "Crawl comment page 0 success!!!\n"
     ]
    },
    {
     "name": "stderr",
     "output_type": "stream",
     "text": [
      " 91%|██████████████████████████████████████████████████████████████████████▋       | 1814/2000 [39:11<05:11,  1.68s/it]"
     ]
    },
    {
     "name": "stdout",
     "output_type": "stream",
     "text": [
      "Crawl comment page 1 success!!!\n",
      "Crawl comment for product 273823282\n",
      "Crawl comment page 0 success!!!\n"
     ]
    },
    {
     "name": "stderr",
     "output_type": "stream",
     "text": [
      " 91%|██████████████████████████████████████████████████████████████████████▊       | 1815/2000 [39:12<04:29,  1.46s/it]"
     ]
    },
    {
     "name": "stdout",
     "output_type": "stream",
     "text": [
      "Crawl comment page 1 success!!!\n",
      "Crawl comment for product 271414262\n",
      "Crawl comment page 0 success!!!\n"
     ]
    },
    {
     "name": "stderr",
     "output_type": "stream",
     "text": [
      " 91%|██████████████████████████████████████████████████████████████████████▊       | 1816/2000 [39:15<05:51,  1.91s/it]"
     ]
    },
    {
     "name": "stdout",
     "output_type": "stream",
     "text": [
      "Crawl comment page 1 success!!!\n",
      "Crawl comment for product 270744256\n",
      "Crawl comment page 0 success!!!\n"
     ]
    },
    {
     "name": "stderr",
     "output_type": "stream",
     "text": [
      " 91%|██████████████████████████████████████████████████████████████████████▊       | 1817/2000 [39:15<04:21,  1.43s/it]"
     ]
    },
    {
     "name": "stdout",
     "output_type": "stream",
     "text": [
      "Crawl comment page 1 success!!!\n",
      "Crawl comment for product 263512956\n",
      "Crawl comment page 0 success!!!\n"
     ]
    },
    {
     "name": "stderr",
     "output_type": "stream",
     "text": [
      " 91%|██████████████████████████████████████████████████████████████████████▉       | 1818/2000 [39:16<03:49,  1.26s/it]"
     ]
    },
    {
     "name": "stdout",
     "output_type": "stream",
     "text": [
      "Crawl comment page 1 success!!!\n",
      "Crawl comment for product 253129523\n",
      "Crawl comment page 0 success!!!\n"
     ]
    },
    {
     "name": "stderr",
     "output_type": "stream",
     "text": [
      " 91%|██████████████████████████████████████████████████████████████████████▉       | 1819/2000 [39:17<03:45,  1.25s/it]"
     ]
    },
    {
     "name": "stdout",
     "output_type": "stream",
     "text": [
      "Crawl comment page 1 success!!!\n",
      "Crawl comment for product 249935654\n",
      "Crawl comment page 0 success!!!\n"
     ]
    },
    {
     "name": "stderr",
     "output_type": "stream",
     "text": [
      " 91%|██████████████████████████████████████████████████████████████████████▉       | 1820/2000 [39:18<02:57,  1.01it/s]"
     ]
    },
    {
     "name": "stdout",
     "output_type": "stream",
     "text": [
      "Crawl comment page 1 success!!!\n",
      "Crawl comment for product 205010302\n",
      "Crawl comment page 0 success!!!\n"
     ]
    },
    {
     "name": "stderr",
     "output_type": "stream",
     "text": [
      " 91%|███████████████████████████████████████████████████████████████████████       | 1821/2000 [39:19<03:40,  1.23s/it]"
     ]
    },
    {
     "name": "stdout",
     "output_type": "stream",
     "text": [
      "Crawl comment page 1 success!!!\n",
      "Crawl comment for product 202179736\n",
      "Crawl comment page 0 success!!!\n"
     ]
    },
    {
     "name": "stderr",
     "output_type": "stream",
     "text": [
      " 91%|███████████████████████████████████████████████████████████████████████       | 1822/2000 [39:21<04:19,  1.46s/it]"
     ]
    },
    {
     "name": "stdout",
     "output_type": "stream",
     "text": [
      "Crawl comment page 1 success!!!\n",
      "Crawl comment for product 195283065\n",
      "Crawl comment page 0 success!!!\n"
     ]
    },
    {
     "name": "stderr",
     "output_type": "stream",
     "text": [
      " 91%|███████████████████████████████████████████████████████████████████████       | 1823/2000 [39:22<03:28,  1.18s/it]"
     ]
    },
    {
     "name": "stdout",
     "output_type": "stream",
     "text": [
      "Crawl comment page 1 success!!!\n",
      "Crawl comment for product 179063553\n",
      "Crawl comment page 0 success!!!\n"
     ]
    },
    {
     "name": "stderr",
     "output_type": "stream",
     "text": [
      " 91%|███████████████████████████████████████████████████████████████████████▏      | 1824/2000 [39:23<03:38,  1.24s/it]"
     ]
    },
    {
     "name": "stdout",
     "output_type": "stream",
     "text": [
      "Crawl comment page 1 success!!!\n",
      "Crawl comment for product 158641027\n",
      "Crawl comment page 0 success!!!\n"
     ]
    },
    {
     "name": "stderr",
     "output_type": "stream",
     "text": [
      " 91%|███████████████████████████████████████████████████████████████████████▏      | 1825/2000 [39:25<04:11,  1.44s/it]"
     ]
    },
    {
     "name": "stdout",
     "output_type": "stream",
     "text": [
      "Crawl comment page 1 success!!!\n",
      "Crawl comment for product 138107483\n",
      "Crawl comment page 0 success!!!\n"
     ]
    },
    {
     "name": "stderr",
     "output_type": "stream",
     "text": [
      " 91%|███████████████████████████████████████████████████████████████████████▏      | 1826/2000 [39:27<04:27,  1.54s/it]"
     ]
    },
    {
     "name": "stdout",
     "output_type": "stream",
     "text": [
      "Crawl comment page 1 success!!!\n",
      "Crawl comment for product 132366463\n",
      "Crawl comment page 0 success!!!\n"
     ]
    },
    {
     "name": "stderr",
     "output_type": "stream",
     "text": [
      " 91%|███████████████████████████████████████████████████████████████████████▎      | 1827/2000 [39:29<04:51,  1.68s/it]"
     ]
    },
    {
     "name": "stdout",
     "output_type": "stream",
     "text": [
      "Crawl comment page 1 success!!!\n",
      "Crawl comment for product 95997783\n",
      "Crawl comment page 0 success!!!\n"
     ]
    },
    {
     "name": "stderr",
     "output_type": "stream",
     "text": [
      " 91%|███████████████████████████████████████████████████████████████████████▎      | 1828/2000 [39:33<06:51,  2.39s/it]"
     ]
    },
    {
     "name": "stdout",
     "output_type": "stream",
     "text": [
      "Crawl comment page 1 success!!!\n",
      "Crawl comment for product 90480255\n",
      "Crawl comment page 0 success!!!\n"
     ]
    },
    {
     "name": "stderr",
     "output_type": "stream",
     "text": [
      " 91%|███████████████████████████████████████████████████████████████████████▎      | 1829/2000 [39:35<06:27,  2.26s/it]"
     ]
    },
    {
     "name": "stdout",
     "output_type": "stream",
     "text": [
      "Crawl comment page 1 success!!!\n",
      "Crawl comment for product 68330624\n",
      "Crawl comment page 0 success!!!\n"
     ]
    },
    {
     "name": "stderr",
     "output_type": "stream",
     "text": [
      " 92%|███████████████████████████████████████████████████████████████████████▎      | 1830/2000 [39:37<05:48,  2.05s/it]"
     ]
    },
    {
     "name": "stdout",
     "output_type": "stream",
     "text": [
      "Crawl comment page 1 success!!!\n",
      "Crawl comment for product 57595572\n",
      "Crawl comment page 0 success!!!\n"
     ]
    },
    {
     "name": "stderr",
     "output_type": "stream",
     "text": [
      " 92%|███████████████████████████████████████████████████████████████████████▍      | 1831/2000 [39:39<05:57,  2.12s/it]"
     ]
    },
    {
     "name": "stdout",
     "output_type": "stream",
     "text": [
      "Crawl comment page 1 success!!!\n",
      "Crawl comment for product 53720978\n",
      "Crawl comment page 0 success!!!\n"
     ]
    },
    {
     "name": "stderr",
     "output_type": "stream",
     "text": [
      " 92%|███████████████████████████████████████████████████████████████████████▍      | 1832/2000 [39:41<05:44,  2.05s/it]"
     ]
    },
    {
     "name": "stdout",
     "output_type": "stream",
     "text": [
      "Crawl comment page 1 success!!!\n",
      "Crawl comment for product 50475521\n",
      "Crawl comment page 0 success!!!\n"
     ]
    },
    {
     "name": "stderr",
     "output_type": "stream",
     "text": [
      " 92%|███████████████████████████████████████████████████████████████████████▍      | 1833/2000 [39:42<05:08,  1.85s/it]"
     ]
    },
    {
     "name": "stdout",
     "output_type": "stream",
     "text": [
      "Crawl comment page 1 success!!!\n",
      "Crawl comment for product 49002497\n",
      "Crawl comment page 0 success!!!\n"
     ]
    },
    {
     "name": "stderr",
     "output_type": "stream",
     "text": [
      " 92%|███████████████████████████████████████████████████████████████████████▌      | 1834/2000 [39:44<04:57,  1.79s/it]"
     ]
    },
    {
     "name": "stdout",
     "output_type": "stream",
     "text": [
      "Crawl comment page 1 success!!!\n",
      "Crawl comment for product 48629535\n",
      "Crawl comment page 0 success!!!\n"
     ]
    },
    {
     "name": "stderr",
     "output_type": "stream",
     "text": [
      " 92%|███████████████████████████████████████████████████████████████████████▌      | 1835/2000 [39:46<05:11,  1.89s/it]"
     ]
    },
    {
     "name": "stdout",
     "output_type": "stream",
     "text": [
      "Crawl comment page 1 success!!!\n",
      "Crawl comment for product 22881852\n",
      "Crawl comment page 0 success!!!\n"
     ]
    },
    {
     "name": "stderr",
     "output_type": "stream",
     "text": [
      " 92%|███████████████████████████████████████████████████████████████████████▌      | 1836/2000 [39:49<05:50,  2.14s/it]"
     ]
    },
    {
     "name": "stdout",
     "output_type": "stream",
     "text": [
      "Crawl comment page 1 success!!!\n",
      "Crawl comment for product 19588948\n",
      "Crawl comment page 0 success!!!\n"
     ]
    },
    {
     "name": "stderr",
     "output_type": "stream",
     "text": [
      " 92%|███████████████████████████████████████████████████████████████████████▋      | 1837/2000 [39:50<05:16,  1.94s/it]"
     ]
    },
    {
     "name": "stdout",
     "output_type": "stream",
     "text": [
      "Crawl comment page 1 success!!!\n",
      "Crawl comment for product 17881046\n",
      "Crawl comment page 0 success!!!\n"
     ]
    },
    {
     "name": "stderr",
     "output_type": "stream",
     "text": [
      " 92%|███████████████████████████████████████████████████████████████████████▋      | 1838/2000 [39:51<04:34,  1.70s/it]"
     ]
    },
    {
     "name": "stdout",
     "output_type": "stream",
     "text": [
      "Crawl comment page 1 success!!!\n",
      "Crawl comment for product 14684952\n",
      "Crawl comment page 0 success!!!\n"
     ]
    },
    {
     "name": "stderr",
     "output_type": "stream",
     "text": [
      " 92%|███████████████████████████████████████████████████████████████████████▋      | 1839/2000 [39:53<04:39,  1.74s/it]"
     ]
    },
    {
     "name": "stdout",
     "output_type": "stream",
     "text": [
      "Crawl comment page 1 success!!!\n",
      "Crawl comment for product 1892769\n",
      "Crawl comment page 0 success!!!\n"
     ]
    },
    {
     "name": "stderr",
     "output_type": "stream",
     "text": [
      " 92%|███████████████████████████████████████████████████████████████████████▊      | 1841/2000 [39:54<02:58,  1.12s/it]"
     ]
    },
    {
     "name": "stdout",
     "output_type": "stream",
     "text": [
      "Crawl comment page 1 success!!!\n",
      "Crawl comment for product 278123460\n",
      "Crawl comment page 0 success!!!\n",
      "Crawl comment page 1 success!!!\n",
      "Crawl comment for product 278050759\n"
     ]
    },
    {
     "name": "stderr",
     "output_type": "stream",
     "text": [
      " 92%|███████████████████████████████████████████████████████████████████████▉      | 1843/2000 [39:55<01:35,  1.64it/s]"
     ]
    },
    {
     "name": "stdout",
     "output_type": "stream",
     "text": [
      "Crawl comment page 0 success!!!\n",
      "Crawl comment page 1 success!!!\n",
      "Crawl comment for product 278049060\n",
      "Crawl comment page 0 success!!!\n",
      "Crawl comment page 1 success!!!\n",
      "Crawl comment for product 278031024\n"
     ]
    },
    {
     "name": "stderr",
     "output_type": "stream",
     "text": [
      " 92%|███████████████████████████████████████████████████████████████████████▉      | 1845/2000 [39:55<00:58,  2.63it/s]"
     ]
    },
    {
     "name": "stdout",
     "output_type": "stream",
     "text": [
      "Crawl comment page 0 success!!!\n",
      "Crawl comment page 1 success!!!\n",
      "Crawl comment for product 277838087\n",
      "Crawl comment page 0 success!!!\n",
      "Crawl comment page 1 success!!!\n",
      "Crawl comment for product 277827106\n"
     ]
    },
    {
     "name": "stderr",
     "output_type": "stream",
     "text": [
      " 92%|███████████████████████████████████████████████████████████████████████▉      | 1846/2000 [39:55<00:46,  3.35it/s]"
     ]
    },
    {
     "name": "stdout",
     "output_type": "stream",
     "text": [
      "Crawl comment page 0 success!!!\n",
      "Crawl comment page 1 success!!!\n",
      "Crawl comment for product 277545494\n",
      "Crawl comment page 0 success!!!\n"
     ]
    },
    {
     "name": "stderr",
     "output_type": "stream",
     "text": [
      " 92%|████████████████████████████████████████████████████████████████████████      | 1848/2000 [39:56<00:41,  3.63it/s]"
     ]
    },
    {
     "name": "stdout",
     "output_type": "stream",
     "text": [
      "Crawl comment page 1 success!!!\n",
      "Crawl comment for product 277526011\n",
      "Crawl comment page 0 success!!!\n",
      "Crawl comment page 1 success!!!\n",
      "Crawl comment for product 277348561\n",
      "Crawl comment page 0 success!!!\n"
     ]
    },
    {
     "name": "stderr",
     "output_type": "stream",
     "text": [
      " 92%|████████████████████████████████████████████████████████████████████████      | 1849/2000 [39:56<00:36,  4.15it/s]"
     ]
    },
    {
     "name": "stdout",
     "output_type": "stream",
     "text": [
      "Crawl comment page 1 success!!!\n",
      "Crawl comment for product 276944139\n",
      "Crawl comment page 0 success!!!\n"
     ]
    },
    {
     "name": "stderr",
     "output_type": "stream",
     "text": [
      " 92%|████████████████████████████████████████████████████████████████████████▏     | 1850/2000 [39:57<01:42,  1.46it/s]"
     ]
    },
    {
     "name": "stdout",
     "output_type": "stream",
     "text": [
      "Crawl comment page 1 success!!!\n",
      "Crawl comment for product 276504681\n",
      "Crawl comment page 0 success!!!\n"
     ]
    },
    {
     "name": "stderr",
     "output_type": "stream",
     "text": [
      " 93%|████████████████████████████████████████████████████████████████████████▏     | 1852/2000 [39:58<01:23,  1.78it/s]"
     ]
    },
    {
     "name": "stdout",
     "output_type": "stream",
     "text": [
      "Crawl comment page 1 success!!!\n",
      "Crawl comment for product 275878746\n",
      "Crawl comment page 0 success!!!\n",
      "Crawl comment page 1 success!!!\n",
      "Crawl comment for product 275512143\n"
     ]
    },
    {
     "name": "stderr",
     "output_type": "stream",
     "text": [
      " 93%|████████████████████████████████████████████████████████████████████████▎     | 1853/2000 [39:59<01:15,  1.95it/s]"
     ]
    },
    {
     "name": "stdout",
     "output_type": "stream",
     "text": [
      "Crawl comment page 0 success!!!\n",
      "Crawl comment page 1 success!!!\n",
      "Crawl comment for product 275429511\n",
      "Crawl comment page 0 success!!!\n"
     ]
    },
    {
     "name": "stderr",
     "output_type": "stream",
     "text": [
      " 93%|████████████████████████████████████████████████████████████████████████▎     | 1854/2000 [40:00<01:27,  1.67it/s]"
     ]
    },
    {
     "name": "stdout",
     "output_type": "stream",
     "text": [
      "Crawl comment page 1 success!!!\n",
      "Crawl comment for product 274964846\n",
      "Crawl comment page 0 success!!!\n"
     ]
    },
    {
     "name": "stderr",
     "output_type": "stream",
     "text": [
      " 93%|████████████████████████████████████████████████████████████████████████▍     | 1856/2000 [40:00<01:08,  2.09it/s]"
     ]
    },
    {
     "name": "stdout",
     "output_type": "stream",
     "text": [
      "Crawl comment page 1 success!!!\n",
      "Crawl comment for product 274771453\n",
      "Crawl comment page 0 success!!!\n",
      "Crawl comment page 1 success!!!\n",
      "Crawl comment for product 274612423\n",
      "Crawl comment page 0 success!!!\n"
     ]
    },
    {
     "name": "stderr",
     "output_type": "stream",
     "text": [
      " 93%|████████████████████████████████████████████████████████████████████████▍     | 1857/2000 [40:03<02:32,  1.07s/it]"
     ]
    },
    {
     "name": "stdout",
     "output_type": "stream",
     "text": [
      "Crawl comment page 1 success!!!\n",
      "Crawl comment for product 274171942\n",
      "Crawl comment page 0 success!!!\n"
     ]
    },
    {
     "name": "stderr",
     "output_type": "stream",
     "text": [
      " 93%|████████████████████████████████████████████████████████████████████████▍     | 1858/2000 [40:06<04:02,  1.71s/it]"
     ]
    },
    {
     "name": "stdout",
     "output_type": "stream",
     "text": [
      "Crawl comment page 1 success!!!\n",
      "Crawl comment for product 273978119\n"
     ]
    },
    {
     "name": "stderr",
     "output_type": "stream",
     "text": [
      " 93%|████████████████████████████████████████████████████████████████████████▌     | 1859/2000 [40:07<03:14,  1.38s/it]"
     ]
    },
    {
     "name": "stdout",
     "output_type": "stream",
     "text": [
      "Crawl comment page 0 success!!!\n",
      "Crawl comment page 1 success!!!\n",
      "Crawl comment for product 273346856\n",
      "Crawl comment page 0 success!!!\n"
     ]
    },
    {
     "name": "stderr",
     "output_type": "stream",
     "text": [
      " 93%|████████████████████████████████████████████████████████████████████████▌     | 1861/2000 [40:10<03:09,  1.36s/it]"
     ]
    },
    {
     "name": "stdout",
     "output_type": "stream",
     "text": [
      "Crawl comment page 1 success!!!\n",
      "Crawl comment for product 271450201\n",
      "Crawl comment page 0 success!!!\n",
      "Crawl comment page 1 success!!!\n",
      "Crawl comment for product 270708741\n",
      "Crawl comment page 0 success!!!\n"
     ]
    },
    {
     "name": "stderr",
     "output_type": "stream",
     "text": [
      " 93%|████████████████████████████████████████████████████████████████████████▌     | 1862/2000 [40:10<02:30,  1.09s/it]"
     ]
    },
    {
     "name": "stdout",
     "output_type": "stream",
     "text": [
      "Crawl comment page 1 success!!!\n",
      "Crawl comment for product 243056941\n",
      "Crawl comment page 0 success!!!\n"
     ]
    },
    {
     "name": "stderr",
     "output_type": "stream",
     "text": [
      " 93%|████████████████████████████████████████████████████████████████████████▋     | 1863/2000 [40:11<02:23,  1.05s/it]"
     ]
    },
    {
     "name": "stdout",
     "output_type": "stream",
     "text": [
      "Crawl comment page 1 success!!!\n",
      "Crawl comment for product 181938702\n",
      "Crawl comment page 0 success!!!\n"
     ]
    },
    {
     "name": "stderr",
     "output_type": "stream",
     "text": [
      " 93%|████████████████████████████████████████████████████████████████████████▋     | 1864/2000 [40:12<02:02,  1.11it/s]"
     ]
    },
    {
     "name": "stdout",
     "output_type": "stream",
     "text": [
      "Crawl comment page 1 success!!!\n",
      "Crawl comment for product 176560456\n",
      "Crawl comment page 0 success!!!\n"
     ]
    },
    {
     "name": "stderr",
     "output_type": "stream",
     "text": [
      " 93%|████████████████████████████████████████████████████████████████████████▋     | 1865/2000 [40:14<02:34,  1.14s/it]"
     ]
    },
    {
     "name": "stdout",
     "output_type": "stream",
     "text": [
      "Crawl comment page 1 success!!!\n",
      "Crawl comment for product 146223395\n",
      "Crawl comment page 0 success!!!\n"
     ]
    },
    {
     "name": "stderr",
     "output_type": "stream",
     "text": [
      " 93%|████████████████████████████████████████████████████████████████████████▊     | 1866/2000 [40:16<03:23,  1.52s/it]"
     ]
    },
    {
     "name": "stdout",
     "output_type": "stream",
     "text": [
      "Crawl comment page 1 success!!!\n",
      "Crawl comment for product 139979518\n",
      "Crawl comment page 0 success!!!\n"
     ]
    },
    {
     "name": "stderr",
     "output_type": "stream",
     "text": [
      " 93%|████████████████████████████████████████████████████████████████████████▊     | 1867/2000 [40:17<03:09,  1.42s/it]"
     ]
    },
    {
     "name": "stdout",
     "output_type": "stream",
     "text": [
      "Crawl comment page 1 success!!!\n",
      "Crawl comment for product 80141516\n",
      "Crawl comment page 0 success!!!\n"
     ]
    },
    {
     "name": "stderr",
     "output_type": "stream",
     "text": [
      " 93%|████████████████████████████████████████████████████████████████████████▊     | 1868/2000 [40:19<03:04,  1.40s/it]"
     ]
    },
    {
     "name": "stdout",
     "output_type": "stream",
     "text": [
      "Crawl comment page 1 success!!!\n",
      "Crawl comment for product 69644748\n",
      "Crawl comment page 0 success!!!\n"
     ]
    },
    {
     "name": "stderr",
     "output_type": "stream",
     "text": [
      " 93%|████████████████████████████████████████████████████████████████████████▉     | 1869/2000 [40:20<03:07,  1.43s/it]"
     ]
    },
    {
     "name": "stdout",
     "output_type": "stream",
     "text": [
      "Crawl comment page 1 success!!!\n",
      "Crawl comment for product 56908132\n",
      "Crawl comment page 0 success!!!\n"
     ]
    },
    {
     "name": "stderr",
     "output_type": "stream",
     "text": [
      " 94%|████████████████████████████████████████████████████████████████████████▉     | 1870/2000 [40:21<03:01,  1.40s/it]"
     ]
    },
    {
     "name": "stdout",
     "output_type": "stream",
     "text": [
      "Crawl comment page 1 success!!!\n",
      "Crawl comment for product 50516615\n",
      "Crawl comment page 0 success!!!\n"
     ]
    },
    {
     "name": "stderr",
     "output_type": "stream",
     "text": [
      " 94%|████████████████████████████████████████████████████████████████████████▉     | 1871/2000 [40:23<03:10,  1.47s/it]"
     ]
    },
    {
     "name": "stdout",
     "output_type": "stream",
     "text": [
      "Crawl comment page 1 success!!!\n",
      "Crawl comment for product 22725442\n",
      "Crawl comment page 0 success!!!\n"
     ]
    },
    {
     "name": "stderr",
     "output_type": "stream",
     "text": [
      " 94%|█████████████████████████████████████████████████████████████████████████     | 1872/2000 [40:25<03:37,  1.70s/it]"
     ]
    },
    {
     "name": "stdout",
     "output_type": "stream",
     "text": [
      "Crawl comment page 1 success!!!\n",
      "Crawl comment for product 22634335\n",
      "Crawl comment page 0 success!!!\n"
     ]
    },
    {
     "name": "stderr",
     "output_type": "stream",
     "text": [
      " 94%|█████████████████████████████████████████████████████████████████████████     | 1873/2000 [40:27<03:56,  1.86s/it]"
     ]
    },
    {
     "name": "stdout",
     "output_type": "stream",
     "text": [
      "Crawl comment page 1 success!!!\n",
      "Crawl comment for product 19662184\n",
      "Crawl comment page 0 success!!!\n"
     ]
    },
    {
     "name": "stderr",
     "output_type": "stream",
     "text": [
      " 94%|█████████████████████████████████████████████████████████████████████████     | 1874/2000 [40:29<03:39,  1.75s/it]"
     ]
    },
    {
     "name": "stdout",
     "output_type": "stream",
     "text": [
      "Crawl comment page 1 success!!!\n",
      "Crawl comment for product 14683301\n",
      "Crawl comment page 0 success!!!\n"
     ]
    },
    {
     "name": "stderr",
     "output_type": "stream",
     "text": [
      " 94%|█████████████████████████████████████████████████████████████████████████▏    | 1875/2000 [40:30<03:23,  1.63s/it]"
     ]
    },
    {
     "name": "stdout",
     "output_type": "stream",
     "text": [
      "Crawl comment page 1 success!!!\n",
      "Crawl comment for product 7371485\n",
      "Crawl comment page 0 success!!!\n"
     ]
    },
    {
     "name": "stderr",
     "output_type": "stream",
     "text": [
      " 94%|█████████████████████████████████████████████████████████████████████████▏    | 1876/2000 [40:32<03:13,  1.56s/it]"
     ]
    },
    {
     "name": "stdout",
     "output_type": "stream",
     "text": [
      "Crawl comment page 1 success!!!\n",
      "Crawl comment for product 5502737\n",
      "Crawl comment page 0 success!!!\n"
     ]
    },
    {
     "name": "stderr",
     "output_type": "stream",
     "text": [
      " 94%|█████████████████████████████████████████████████████████████████████████▏    | 1877/2000 [40:33<03:05,  1.51s/it]"
     ]
    },
    {
     "name": "stdout",
     "output_type": "stream",
     "text": [
      "Crawl comment page 1 success!!!\n",
      "Crawl comment for product 3608621\n",
      "Crawl comment page 0 success!!!\n"
     ]
    },
    {
     "name": "stderr",
     "output_type": "stream",
     "text": [
      " 94%|█████████████████████████████████████████████████████████████████████████▏    | 1878/2000 [40:35<03:25,  1.68s/it]"
     ]
    },
    {
     "name": "stdout",
     "output_type": "stream",
     "text": [
      "Crawl comment page 1 success!!!\n",
      "Crawl comment for product 857347\n",
      "Crawl comment page 0 success!!!\n"
     ]
    },
    {
     "name": "stderr",
     "output_type": "stream",
     "text": [
      " 94%|█████████████████████████████████████████████████████████████████████████▎    | 1879/2000 [40:36<03:04,  1.53s/it]"
     ]
    },
    {
     "name": "stdout",
     "output_type": "stream",
     "text": [
      "Crawl comment page 1 success!!!\n",
      "Crawl comment for product 604295\n",
      "Crawl comment page 0 success!!!\n"
     ]
    },
    {
     "name": "stderr",
     "output_type": "stream",
     "text": [
      " 94%|█████████████████████████████████████████████████████████████████████████▎    | 1881/2000 [40:39<02:43,  1.37s/it]"
     ]
    },
    {
     "name": "stdout",
     "output_type": "stream",
     "text": [
      "Crawl comment page 1 success!!!\n",
      "Crawl comment for product 278160075\n",
      "Crawl comment page 0 success!!!\n",
      "Crawl comment page 1 success!!!\n",
      "Crawl comment for product 278149445\n",
      "Crawl comment page 0 success!!!\n"
     ]
    },
    {
     "name": "stderr",
     "output_type": "stream",
     "text": [
      " 94%|█████████████████████████████████████████████████████████████████████████▍    | 1883/2000 [40:40<01:26,  1.35it/s]"
     ]
    },
    {
     "name": "stdout",
     "output_type": "stream",
     "text": [
      "Crawl comment page 1 success!!!\n",
      "Crawl comment for product 278029054\n",
      "Crawl comment page 0 success!!!\n",
      "Crawl comment page 1 success!!!\n",
      "Crawl comment for product 277764301\n",
      "Crawl comment page 0 success!!!\n"
     ]
    },
    {
     "name": "stderr",
     "output_type": "stream",
     "text": [
      " 94%|█████████████████████████████████████████████████████████████████████████▌    | 1885/2000 [40:40<00:48,  2.38it/s]"
     ]
    },
    {
     "name": "stdout",
     "output_type": "stream",
     "text": [
      "Crawl comment page 1 success!!!\n",
      "Crawl comment for product 277761255\n",
      "Crawl comment page 0 success!!!\n",
      "Crawl comment page 1 success!!!\n",
      "Crawl comment for product 277410869\n",
      "Crawl comment page 0 success!!!\n"
     ]
    },
    {
     "name": "stderr",
     "output_type": "stream",
     "text": [
      " 94%|█████████████████████████████████████████████████████████████████████████▌    | 1887/2000 [40:40<00:41,  2.73it/s]"
     ]
    },
    {
     "name": "stdout",
     "output_type": "stream",
     "text": [
      "Crawl comment page 1 success!!!\n",
      "Crawl comment for product 277379395\n",
      "Crawl comment page 0 success!!!\n",
      "Crawl comment page 1 success!!!\n",
      "Crawl comment for product 276809893\n",
      "Crawl comment page 0 success!!!\n"
     ]
    },
    {
     "name": "stderr",
     "output_type": "stream",
     "text": [
      " 94%|█████████████████████████████████████████████████████████████████████████▋    | 1889/2000 [40:43<01:11,  1.55it/s]"
     ]
    },
    {
     "name": "stdout",
     "output_type": "stream",
     "text": [
      "Crawl comment page 1 success!!!\n",
      "Crawl comment for product 276414798\n",
      "Crawl comment page 0 success!!!\n",
      "Crawl comment page 1 success!!!\n",
      "Crawl comment for product 276139927\n",
      "Crawl comment page 0 success!!!\n"
     ]
    },
    {
     "name": "stderr",
     "output_type": "stream",
     "text": [
      " 94%|█████████████████████████████████████████████████████████████████████████▋    | 1890/2000 [40:44<01:37,  1.13it/s]"
     ]
    },
    {
     "name": "stdout",
     "output_type": "stream",
     "text": [
      "Crawl comment page 1 success!!!\n",
      "Crawl comment for product 276113033\n",
      "Crawl comment page 0 success!!!\n"
     ]
    },
    {
     "name": "stderr",
     "output_type": "stream",
     "text": [
      " 95%|█████████████████████████████████████████████████████████████████████████▊    | 1892/2000 [40:46<01:21,  1.32it/s]"
     ]
    },
    {
     "name": "stdout",
     "output_type": "stream",
     "text": [
      "Crawl comment page 1 success!!!\n",
      "Crawl comment for product 275583031\n",
      "Crawl comment page 0 success!!!\n",
      "Crawl comment page 1 success!!!\n",
      "Crawl comment for product 275300164\n",
      "Crawl comment page 0 success!!!\n"
     ]
    },
    {
     "name": "stderr",
     "output_type": "stream",
     "text": [
      " 95%|█████████████████████████████████████████████████████████████████████████▊    | 1893/2000 [40:46<01:00,  1.78it/s]"
     ]
    },
    {
     "name": "stdout",
     "output_type": "stream",
     "text": [
      "Crawl comment page 1 success!!!\n",
      "Crawl comment for product 275268296\n",
      "Crawl comment page 0 success!!!\n"
     ]
    },
    {
     "name": "stderr",
     "output_type": "stream",
     "text": [
      " 95%|█████████████████████████████████████████████████████████████████████████▊    | 1894/2000 [40:47<01:11,  1.47it/s]"
     ]
    },
    {
     "name": "stdout",
     "output_type": "stream",
     "text": [
      "Crawl comment page 1 success!!!\n",
      "Crawl comment for product 274063779\n",
      "Crawl comment page 0 success!!!\n"
     ]
    },
    {
     "name": "stderr",
     "output_type": "stream",
     "text": [
      " 95%|█████████████████████████████████████████████████████████████████████████▉    | 1896/2000 [40:47<00:43,  2.38it/s]"
     ]
    },
    {
     "name": "stdout",
     "output_type": "stream",
     "text": [
      "Crawl comment page 1 success!!!\n",
      "Crawl comment for product 273161048\n",
      "Crawl comment page 0 success!!!\n",
      "Crawl comment page 1 success!!!\n",
      "Crawl comment for product 273119477\n",
      "Crawl comment page 0 success!!!\n"
     ]
    },
    {
     "name": "stderr",
     "output_type": "stream",
     "text": [
      " 95%|██████████████████████████████████████████████████████████████████████████    | 1898/2000 [40:48<00:46,  2.18it/s]"
     ]
    },
    {
     "name": "stdout",
     "output_type": "stream",
     "text": [
      "Crawl comment page 1 success!!!\n",
      "Crawl comment for product 271510636\n",
      "Crawl comment page 0 success!!!\n",
      "Crawl comment page 1 success!!!\n",
      "Crawl comment for product 271265668\n",
      "Crawl comment page 0 success!!!\n"
     ]
    },
    {
     "name": "stderr",
     "output_type": "stream",
     "text": [
      " 95%|██████████████████████████████████████████████████████████████████████████    | 1899/2000 [40:48<00:36,  2.80it/s]"
     ]
    },
    {
     "name": "stdout",
     "output_type": "stream",
     "text": [
      "Crawl comment page 1 success!!!\n",
      "Crawl comment for product 270700157\n",
      "Crawl comment page 0 success!!!\n"
     ]
    },
    {
     "name": "stderr",
     "output_type": "stream",
     "text": [
      " 95%|██████████████████████████████████████████████████████████████████████████    | 1900/2000 [40:49<00:36,  2.73it/s]"
     ]
    },
    {
     "name": "stdout",
     "output_type": "stream",
     "text": [
      "Crawl comment page 1 success!!!\n",
      "Crawl comment for product 270224431\n",
      "Crawl comment page 0 success!!!\n"
     ]
    },
    {
     "name": "stderr",
     "output_type": "stream",
     "text": [
      " 95%|██████████████████████████████████████████████████████████████████████████▏   | 1901/2000 [40:49<00:32,  3.08it/s]"
     ]
    },
    {
     "name": "stdout",
     "output_type": "stream",
     "text": [
      "Crawl comment page 1 success!!!\n",
      "Crawl comment for product 253365659\n",
      "Crawl comment page 0 success!!!\n"
     ]
    },
    {
     "name": "stderr",
     "output_type": "stream",
     "text": [
      " 95%|██████████████████████████████████████████████████████████████████████████▏   | 1902/2000 [40:50<00:50,  1.96it/s]"
     ]
    },
    {
     "name": "stdout",
     "output_type": "stream",
     "text": [
      "Crawl comment page 1 success!!!\n",
      "Crawl comment for product 199040299\n",
      "Crawl comment page 0 success!!!\n"
     ]
    },
    {
     "name": "stderr",
     "output_type": "stream",
     "text": [
      " 95%|██████████████████████████████████████████████████████████████████████████▏   | 1903/2000 [40:52<01:27,  1.11it/s]"
     ]
    },
    {
     "name": "stdout",
     "output_type": "stream",
     "text": [
      "Crawl comment page 1 success!!!\n",
      "Crawl comment for product 197597246\n",
      "Crawl comment page 0 success!!!\n"
     ]
    },
    {
     "name": "stderr",
     "output_type": "stream",
     "text": [
      " 95%|██████████████████████████████████████████████████████████████████████████▎   | 1904/2000 [40:53<01:49,  1.14s/it]"
     ]
    },
    {
     "name": "stdout",
     "output_type": "stream",
     "text": [
      "Crawl comment page 1 success!!!\n",
      "Crawl comment for product 186290824\n",
      "Crawl comment page 0 success!!!\n"
     ]
    },
    {
     "name": "stderr",
     "output_type": "stream",
     "text": [
      " 95%|██████████████████████████████████████████████████████████████████████████▎   | 1905/2000 [40:56<02:29,  1.57s/it]"
     ]
    },
    {
     "name": "stdout",
     "output_type": "stream",
     "text": [
      "Crawl comment page 1 success!!!\n",
      "Crawl comment for product 185232569\n",
      "Crawl comment page 0 success!!!\n"
     ]
    },
    {
     "name": "stderr",
     "output_type": "stream",
     "text": [
      " 95%|██████████████████████████████████████████████████████████████████████████▎   | 1906/2000 [40:59<03:17,  2.10s/it]"
     ]
    },
    {
     "name": "stdout",
     "output_type": "stream",
     "text": [
      "Crawl comment page 1 success!!!\n",
      "Crawl comment for product 178502501\n",
      "Crawl comment page 0 success!!!\n"
     ]
    },
    {
     "name": "stderr",
     "output_type": "stream",
     "text": [
      " 95%|██████████████████████████████████████████████████████████████████████████▎   | 1907/2000 [41:01<03:06,  2.01s/it]"
     ]
    },
    {
     "name": "stdout",
     "output_type": "stream",
     "text": [
      "Crawl comment page 1 success!!!\n",
      "Crawl comment for product 139730394\n",
      "Crawl comment page 0 success!!!\n"
     ]
    },
    {
     "name": "stderr",
     "output_type": "stream",
     "text": [
      " 95%|██████████████████████████████████████████████████████████████████████████▍   | 1908/2000 [41:02<02:41,  1.75s/it]"
     ]
    },
    {
     "name": "stdout",
     "output_type": "stream",
     "text": [
      "Crawl comment page 1 success!!!\n",
      "Crawl comment for product 112110014\n",
      "Crawl comment page 0 success!!!\n"
     ]
    },
    {
     "name": "stderr",
     "output_type": "stream",
     "text": [
      " 95%|██████████████████████████████████████████████████████████████████████████▍   | 1909/2000 [41:04<02:49,  1.87s/it]"
     ]
    },
    {
     "name": "stdout",
     "output_type": "stream",
     "text": [
      "Crawl comment page 1 success!!!\n",
      "Crawl comment for product 108710274\n",
      "Crawl comment page 0 success!!!\n"
     ]
    },
    {
     "name": "stderr",
     "output_type": "stream",
     "text": [
      " 96%|██████████████████████████████████████████████████████████████████████████▍   | 1910/2000 [41:08<03:28,  2.32s/it]"
     ]
    },
    {
     "name": "stdout",
     "output_type": "stream",
     "text": [
      "Crawl comment page 1 success!!!\n",
      "Crawl comment for product 80141527\n",
      "Crawl comment page 0 success!!!\n"
     ]
    },
    {
     "name": "stderr",
     "output_type": "stream",
     "text": [
      " 96%|██████████████████████████████████████████████████████████████████████████▌   | 1911/2000 [41:10<03:34,  2.41s/it]"
     ]
    },
    {
     "name": "stdout",
     "output_type": "stream",
     "text": [
      "Crawl comment page 1 success!!!\n",
      "Crawl comment for product 72199563\n",
      "Crawl comment page 0 success!!!\n"
     ]
    },
    {
     "name": "stderr",
     "output_type": "stream",
     "text": [
      " 96%|██████████████████████████████████████████████████████████████████████████▌   | 1912/2000 [41:12<03:10,  2.17s/it]"
     ]
    },
    {
     "name": "stdout",
     "output_type": "stream",
     "text": [
      "Crawl comment page 1 success!!!\n",
      "Crawl comment for product 36996379\n",
      "Crawl comment page 0 success!!!\n"
     ]
    },
    {
     "name": "stderr",
     "output_type": "stream",
     "text": [
      " 96%|██████████████████████████████████████████████████████████████████████████▌   | 1913/2000 [41:13<02:31,  1.74s/it]"
     ]
    },
    {
     "name": "stdout",
     "output_type": "stream",
     "text": [
      "Crawl comment page 1 success!!!\n",
      "Crawl comment for product 21032159\n",
      "Crawl comment page 0 success!!!\n"
     ]
    },
    {
     "name": "stderr",
     "output_type": "stream",
     "text": [
      " 96%|██████████████████████████████████████████████████████████████████████████▋   | 1914/2000 [41:15<02:34,  1.79s/it]"
     ]
    },
    {
     "name": "stdout",
     "output_type": "stream",
     "text": [
      "Crawl comment page 1 success!!!\n",
      "Crawl comment for product 15634596\n",
      "Crawl comment page 0 success!!!\n"
     ]
    },
    {
     "name": "stderr",
     "output_type": "stream",
     "text": [
      " 96%|██████████████████████████████████████████████████████████████████████████▋   | 1915/2000 [41:16<02:10,  1.54s/it]"
     ]
    },
    {
     "name": "stdout",
     "output_type": "stream",
     "text": [
      "Crawl comment page 1 success!!!\n",
      "Crawl comment for product 11194574\n",
      "Crawl comment page 0 success!!!\n"
     ]
    },
    {
     "name": "stderr",
     "output_type": "stream",
     "text": [
      " 96%|██████████████████████████████████████████████████████████████████████████▋   | 1916/2000 [41:18<02:32,  1.81s/it]"
     ]
    },
    {
     "name": "stdout",
     "output_type": "stream",
     "text": [
      "Crawl comment page 1 success!!!\n",
      "Crawl comment for product 8307669\n",
      "Crawl comment page 0 success!!!\n"
     ]
    },
    {
     "name": "stderr",
     "output_type": "stream",
     "text": [
      " 96%|██████████████████████████████████████████████████████████████████████████▊   | 1917/2000 [41:19<02:21,  1.70s/it]"
     ]
    },
    {
     "name": "stdout",
     "output_type": "stream",
     "text": [
      "Crawl comment page 1 success!!!\n",
      "Crawl comment for product 5904643\n",
      "Crawl comment page 0 success!!!\n"
     ]
    },
    {
     "name": "stderr",
     "output_type": "stream",
     "text": [
      " 96%|██████████████████████████████████████████████████████████████████████████▊   | 1918/2000 [41:20<02:00,  1.47s/it]"
     ]
    },
    {
     "name": "stdout",
     "output_type": "stream",
     "text": [
      "Crawl comment page 1 success!!!\n",
      "Crawl comment for product 4940237\n",
      "Crawl comment page 0 success!!!\n"
     ]
    },
    {
     "name": "stderr",
     "output_type": "stream",
     "text": [
      " 96%|██████████████████████████████████████████████████████████████████████████▊   | 1919/2000 [41:22<02:11,  1.62s/it]"
     ]
    },
    {
     "name": "stdout",
     "output_type": "stream",
     "text": [
      "Crawl comment page 1 success!!!\n",
      "Crawl comment for product 455302\n",
      "Crawl comment page 0 success!!!\n"
     ]
    },
    {
     "name": "stderr",
     "output_type": "stream",
     "text": [
      " 96%|██████████████████████████████████████████████████████████████████████████▉   | 1920/2000 [41:23<01:47,  1.34s/it]"
     ]
    },
    {
     "name": "stdout",
     "output_type": "stream",
     "text": [
      "Crawl comment page 1 success!!!\n",
      "Crawl comment for product 278090763\n",
      "Crawl comment page 0 success!!!\n"
     ]
    },
    {
     "name": "stderr",
     "output_type": "stream",
     "text": [
      " 96%|██████████████████████████████████████████████████████████████████████████▉   | 1922/2000 [41:25<01:25,  1.09s/it]"
     ]
    },
    {
     "name": "stdout",
     "output_type": "stream",
     "text": [
      "Crawl comment page 1 success!!!\n",
      "Crawl comment for product 278037722\n",
      "Crawl comment page 0 success!!!\n",
      "Crawl comment page 1 success!!!\n",
      "Crawl comment for product 278031014\n"
     ]
    },
    {
     "name": "stderr",
     "output_type": "stream",
     "text": [
      " 96%|██████████████████████████████████████████████████████████████████████████▉   | 1923/2000 [41:25<01:03,  1.21it/s]"
     ]
    },
    {
     "name": "stdout",
     "output_type": "stream",
     "text": [
      "Crawl comment page 0 success!!!\n",
      "Crawl comment page 1 success!!!\n",
      "Crawl comment for product 278023718\n",
      "Crawl comment page 0 success!!!\n"
     ]
    },
    {
     "name": "stderr",
     "output_type": "stream",
     "text": [
      " 96%|███████████████████████████████████████████████████████████████████████████   | 1925/2000 [41:25<00:35,  2.11it/s]"
     ]
    },
    {
     "name": "stdout",
     "output_type": "stream",
     "text": [
      "Crawl comment page 1 success!!!\n",
      "Crawl comment for product 277946326\n",
      "Crawl comment page 0 success!!!\n",
      "Crawl comment page 1 success!!!\n",
      "Crawl comment for product 277859874\n",
      "Crawl comment page 0 success!!!\n"
     ]
    },
    {
     "name": "stderr",
     "output_type": "stream",
     "text": [
      " 96%|███████████████████████████████████████████████████████████████████████████▏  | 1927/2000 [41:26<00:23,  3.15it/s]"
     ]
    },
    {
     "name": "stdout",
     "output_type": "stream",
     "text": [
      "Crawl comment page 1 success!!!\n",
      "Crawl comment for product 277599514\n",
      "Crawl comment page 0 success!!!\n",
      "Crawl comment page 1 success!!!\n",
      "Crawl comment for product 277348449\n",
      "Crawl comment page 0 success!!!\n"
     ]
    },
    {
     "name": "stderr",
     "output_type": "stream",
     "text": [
      " 96%|███████████████████████████████████████████████████████████████████████████▏  | 1928/2000 [41:27<00:31,  2.25it/s]"
     ]
    },
    {
     "name": "stdout",
     "output_type": "stream",
     "text": [
      "Crawl comment page 1 success!!!\n",
      "Crawl comment for product 276953243\n",
      "Crawl comment page 0 success!!!\n"
     ]
    },
    {
     "name": "stderr",
     "output_type": "stream",
     "text": [
      " 96%|███████████████████████████████████████████████████████████████████████████▏  | 1929/2000 [41:27<00:27,  2.62it/s]"
     ]
    },
    {
     "name": "stdout",
     "output_type": "stream",
     "text": [
      "Crawl comment page 1 success!!!\n",
      "Crawl comment for product 276862285\n",
      "Crawl comment page 0 success!!!\n"
     ]
    },
    {
     "name": "stderr",
     "output_type": "stream",
     "text": [
      " 96%|███████████████████████████████████████████████████████████████████████████▎  | 1930/2000 [41:28<00:51,  1.36it/s]"
     ]
    },
    {
     "name": "stdout",
     "output_type": "stream",
     "text": [
      "Crawl comment page 1 success!!!\n",
      "Crawl comment for product 276546963\n",
      "Crawl comment page 0 success!!!\n"
     ]
    },
    {
     "name": "stderr",
     "output_type": "stream",
     "text": [
      " 97%|███████████████████████████████████████████████████████████████████████████▎  | 1932/2000 [41:31<00:58,  1.16it/s]"
     ]
    },
    {
     "name": "stdout",
     "output_type": "stream",
     "text": [
      "Crawl comment page 1 success!!!\n",
      "Crawl comment for product 276502039\n",
      "Crawl comment page 0 success!!!\n",
      "Crawl comment page 1 success!!!\n",
      "Crawl comment for product 276353075\n",
      "Crawl comment page 0 success!!!\n"
     ]
    },
    {
     "name": "stderr",
     "output_type": "stream",
     "text": [
      " 97%|███████████████████████████████████████████████████████████████████████████▍  | 1933/2000 [41:34<01:39,  1.48s/it]"
     ]
    },
    {
     "name": "stdout",
     "output_type": "stream",
     "text": [
      "Crawl comment page 1 success!!!\n",
      "Crawl comment for product 275946537\n",
      "Crawl comment page 0 success!!!\n"
     ]
    },
    {
     "name": "stderr",
     "output_type": "stream",
     "text": [
      " 97%|███████████████████████████████████████████████████████████████████████████▍  | 1934/2000 [41:34<01:14,  1.13s/it]"
     ]
    },
    {
     "name": "stdout",
     "output_type": "stream",
     "text": [
      "Crawl comment page 1 success!!!\n",
      "Crawl comment for product 275904178\n",
      "Crawl comment page 0 success!!!\n"
     ]
    },
    {
     "name": "stderr",
     "output_type": "stream",
     "text": [
      " 97%|███████████████████████████████████████████████████████████████████████████▍  | 1935/2000 [41:34<00:57,  1.13it/s]"
     ]
    },
    {
     "name": "stdout",
     "output_type": "stream",
     "text": [
      "Crawl comment page 1 success!!!\n",
      "Crawl comment for product 275882938\n",
      "Crawl comment page 0 success!!!\n"
     ]
    },
    {
     "name": "stderr",
     "output_type": "stream",
     "text": [
      " 97%|███████████████████████████████████████████████████████████████████████████▌  | 1936/2000 [41:35<01:02,  1.02it/s]"
     ]
    },
    {
     "name": "stdout",
     "output_type": "stream",
     "text": [
      "Crawl comment page 1 success!!!\n",
      "Crawl comment for product 273219497\n",
      "Crawl comment page 0 success!!!\n"
     ]
    },
    {
     "name": "stderr",
     "output_type": "stream",
     "text": [
      " 97%|███████████████████████████████████████████████████████████████████████████▌  | 1937/2000 [41:38<01:26,  1.37s/it]"
     ]
    },
    {
     "name": "stdout",
     "output_type": "stream",
     "text": [
      "Crawl comment page 1 success!!!\n",
      "Crawl comment for product 271495367\n",
      "Crawl comment page 0 success!!!\n"
     ]
    },
    {
     "name": "stderr",
     "output_type": "stream",
     "text": [
      " 97%|███████████████████████████████████████████████████████████████████████████▌  | 1938/2000 [41:41<01:53,  1.84s/it]"
     ]
    },
    {
     "name": "stdout",
     "output_type": "stream",
     "text": [
      "Crawl comment page 1 success!!!\n",
      "Crawl comment for product 270660559\n",
      "Crawl comment page 0 success!!!\n"
     ]
    },
    {
     "name": "stderr",
     "output_type": "stream",
     "text": [
      " 97%|███████████████████████████████████████████████████████████████████████████▌  | 1939/2000 [41:42<01:46,  1.75s/it]"
     ]
    },
    {
     "name": "stdout",
     "output_type": "stream",
     "text": [
      "Crawl comment page 1 success!!!\n",
      "Crawl comment for product 270469914\n",
      "Crawl comment page 0 success!!!\n"
     ]
    },
    {
     "name": "stderr",
     "output_type": "stream",
     "text": [
      " 97%|███████████████████████████████████████████████████████████████████████████▋  | 1940/2000 [41:44<01:43,  1.73s/it]"
     ]
    },
    {
     "name": "stdout",
     "output_type": "stream",
     "text": [
      "Crawl comment page 1 success!!!\n",
      "Crawl comment for product 270304509\n",
      "Crawl comment page 0 success!!!\n"
     ]
    },
    {
     "name": "stderr",
     "output_type": "stream",
     "text": [
      " 97%|███████████████████████████████████████████████████████████████████████████▋  | 1941/2000 [41:46<01:41,  1.72s/it]"
     ]
    },
    {
     "name": "stdout",
     "output_type": "stream",
     "text": [
      "Crawl comment page 1 success!!!\n",
      "Crawl comment for product 269946656\n",
      "Crawl comment page 0 success!!!\n"
     ]
    },
    {
     "name": "stderr",
     "output_type": "stream",
     "text": [
      " 97%|███████████████████████████████████████████████████████████████████████████▋  | 1942/2000 [41:46<01:22,  1.43s/it]"
     ]
    },
    {
     "name": "stdout",
     "output_type": "stream",
     "text": [
      "Crawl comment page 1 success!!!\n",
      "Crawl comment for product 245787155\n",
      "Crawl comment page 0 success!!!\n"
     ]
    },
    {
     "name": "stderr",
     "output_type": "stream",
     "text": [
      " 97%|███████████████████████████████████████████████████████████████████████████▊  | 1943/2000 [41:48<01:27,  1.54s/it]"
     ]
    },
    {
     "name": "stdout",
     "output_type": "stream",
     "text": [
      "Crawl comment page 1 success!!!\n",
      "Crawl comment for product 197380769\n",
      "Crawl comment page 0 success!!!\n"
     ]
    },
    {
     "name": "stderr",
     "output_type": "stream",
     "text": [
      " 97%|███████████████████████████████████████████████████████████████████████████▊  | 1944/2000 [41:49<01:07,  1.21s/it]"
     ]
    },
    {
     "name": "stdout",
     "output_type": "stream",
     "text": [
      "Crawl comment page 1 success!!!\n",
      "Crawl comment for product 197263858\n",
      "Crawl comment page 0 success!!!\n"
     ]
    },
    {
     "name": "stderr",
     "output_type": "stream",
     "text": [
      " 97%|███████████████████████████████████████████████████████████████████████████▊  | 1945/2000 [41:52<01:39,  1.81s/it]"
     ]
    },
    {
     "name": "stdout",
     "output_type": "stream",
     "text": [
      "Crawl comment page 1 success!!!\n",
      "Crawl comment for product 192737090\n",
      "Crawl comment page 0 success!!!\n"
     ]
    },
    {
     "name": "stderr",
     "output_type": "stream",
     "text": [
      " 97%|███████████████████████████████████████████████████████████████████████████▉  | 1946/2000 [41:53<01:21,  1.50s/it]"
     ]
    },
    {
     "name": "stdout",
     "output_type": "stream",
     "text": [
      "Crawl comment page 1 success!!!\n",
      "Crawl comment for product 186290791\n",
      "Crawl comment page 0 success!!!\n"
     ]
    },
    {
     "name": "stderr",
     "output_type": "stream",
     "text": [
      " 97%|███████████████████████████████████████████████████████████████████████████▉  | 1947/2000 [41:55<01:32,  1.74s/it]"
     ]
    },
    {
     "name": "stdout",
     "output_type": "stream",
     "text": [
      "Crawl comment page 1 success!!!\n",
      "Crawl comment for product 168559524\n",
      "Crawl comment page 0 success!!!\n"
     ]
    },
    {
     "name": "stderr",
     "output_type": "stream",
     "text": [
      " 97%|███████████████████████████████████████████████████████████████████████████▉  | 1948/2000 [41:56<01:27,  1.68s/it]"
     ]
    },
    {
     "name": "stdout",
     "output_type": "stream",
     "text": [
      "Crawl comment page 1 success!!!\n",
      "Crawl comment for product 155463025\n",
      "Crawl comment page 0 success!!!\n"
     ]
    },
    {
     "name": "stderr",
     "output_type": "stream",
     "text": [
      " 97%|████████████████████████████████████████████████████████████████████████████  | 1949/2000 [41:58<01:26,  1.69s/it]"
     ]
    },
    {
     "name": "stdout",
     "output_type": "stream",
     "text": [
      "Crawl comment page 1 success!!!\n",
      "Crawl comment for product 106362865\n",
      "Crawl comment page 0 success!!!\n"
     ]
    },
    {
     "name": "stderr",
     "output_type": "stream",
     "text": [
      " 98%|████████████████████████████████████████████████████████████████████████████  | 1950/2000 [41:59<01:10,  1.41s/it]"
     ]
    },
    {
     "name": "stdout",
     "output_type": "stream",
     "text": [
      "Crawl comment page 1 success!!!\n",
      "Crawl comment for product 94712781\n",
      "Crawl comment page 0 success!!!\n"
     ]
    },
    {
     "name": "stderr",
     "output_type": "stream",
     "text": [
      " 98%|████████████████████████████████████████████████████████████████████████████  | 1951/2000 [42:00<00:59,  1.22s/it]"
     ]
    },
    {
     "name": "stdout",
     "output_type": "stream",
     "text": [
      "Crawl comment page 1 success!!!\n",
      "Crawl comment for product 86517373\n",
      "Crawl comment page 0 success!!!\n"
     ]
    },
    {
     "name": "stderr",
     "output_type": "stream",
     "text": [
      " 98%|████████████████████████████████████████████████████████████████████████████▏ | 1952/2000 [42:02<01:09,  1.45s/it]"
     ]
    },
    {
     "name": "stdout",
     "output_type": "stream",
     "text": [
      "Crawl comment page 1 success!!!\n",
      "Crawl comment for product 53974339\n",
      "Crawl comment page 0 success!!!\n"
     ]
    },
    {
     "name": "stderr",
     "output_type": "stream",
     "text": [
      " 98%|████████████████████████████████████████████████████████████████████████████▏ | 1953/2000 [42:03<01:00,  1.29s/it]"
     ]
    },
    {
     "name": "stdout",
     "output_type": "stream",
     "text": [
      "Crawl comment page 1 success!!!\n",
      "Crawl comment for product 53532186\n",
      "Crawl comment page 0 success!!!\n"
     ]
    },
    {
     "name": "stderr",
     "output_type": "stream",
     "text": [
      " 98%|████████████████████████████████████████████████████████████████████████████▏ | 1954/2000 [42:06<01:25,  1.86s/it]"
     ]
    },
    {
     "name": "stdout",
     "output_type": "stream",
     "text": [
      "Crawl comment page 1 success!!!\n",
      "Crawl comment for product 53434797\n",
      "Crawl comment page 0 success!!!\n"
     ]
    },
    {
     "name": "stderr",
     "output_type": "stream",
     "text": [
      " 98%|████████████████████████████████████████████████████████████████████████████▏ | 1955/2000 [42:12<02:26,  3.25s/it]"
     ]
    },
    {
     "name": "stdout",
     "output_type": "stream",
     "text": [
      "Crawl comment page 1 success!!!\n",
      "Crawl comment for product 48629547\n",
      "Crawl comment page 0 success!!!\n"
     ]
    },
    {
     "name": "stderr",
     "output_type": "stream",
     "text": [
      " 98%|████████████████████████████████████████████████████████████████████████████▎ | 1956/2000 [42:15<02:23,  3.25s/it]"
     ]
    },
    {
     "name": "stdout",
     "output_type": "stream",
     "text": [
      "Crawl comment page 1 success!!!\n",
      "Crawl comment for product 20870115\n",
      "Crawl comment page 0 success!!!\n"
     ]
    },
    {
     "name": "stderr",
     "output_type": "stream",
     "text": [
      " 98%|████████████████████████████████████████████████████████████████████████████▎ | 1957/2000 [42:18<02:05,  2.91s/it]"
     ]
    },
    {
     "name": "stdout",
     "output_type": "stream",
     "text": [
      "Crawl comment page 1 success!!!\n",
      "Crawl comment for product 14053722\n",
      "Crawl comment page 0 success!!!\n"
     ]
    },
    {
     "name": "stderr",
     "output_type": "stream",
     "text": [
      " 98%|████████████████████████████████████████████████████████████████████████████▎ | 1958/2000 [42:19<01:48,  2.59s/it]"
     ]
    },
    {
     "name": "stdout",
     "output_type": "stream",
     "text": [
      "Crawl comment page 1 success!!!\n",
      "Crawl comment for product 13967742\n",
      "Crawl comment page 0 success!!!\n"
     ]
    },
    {
     "name": "stderr",
     "output_type": "stream",
     "text": [
      " 98%|████████████████████████████████████████████████████████████████████████████▍ | 1959/2000 [42:22<01:46,  2.59s/it]"
     ]
    },
    {
     "name": "stdout",
     "output_type": "stream",
     "text": [
      "Crawl comment page 1 success!!!\n",
      "Crawl comment for product 11078646\n",
      "Crawl comment page 0 success!!!\n"
     ]
    },
    {
     "name": "stderr",
     "output_type": "stream",
     "text": [
      " 98%|████████████████████████████████████████████████████████████████████████████▍ | 1961/2000 [42:23<01:01,  1.57s/it]"
     ]
    },
    {
     "name": "stdout",
     "output_type": "stream",
     "text": [
      "Crawl comment page 1 success!!!\n",
      "Crawl comment for product 278160111\n",
      "Crawl comment page 0 success!!!\n",
      "Crawl comment page 1 success!!!\n",
      "Crawl comment for product 278154893\n",
      "Crawl comment page 0 success!!!\n"
     ]
    },
    {
     "name": "stderr",
     "output_type": "stream",
     "text": [
      " 98%|████████████████████████████████████████████████████████████████████████████▌ | 1963/2000 [42:24<00:30,  1.21it/s]"
     ]
    },
    {
     "name": "stdout",
     "output_type": "stream",
     "text": [
      "Crawl comment page 1 success!!!\n",
      "Crawl comment for product 278122175\n",
      "Crawl comment page 0 success!!!\n",
      "Crawl comment page 1 success!!!\n",
      "Crawl comment for product 278058598\n",
      "Crawl comment page 0 success!!!\n"
     ]
    },
    {
     "name": "stderr",
     "output_type": "stream",
     "text": [
      " 98%|████████████████████████████████████████████████████████████████████████████▋ | 1965/2000 [42:24<00:16,  2.08it/s]"
     ]
    },
    {
     "name": "stdout",
     "output_type": "stream",
     "text": [
      "Crawl comment page 1 success!!!\n",
      "Crawl comment for product 278035379\n",
      "Crawl comment page 0 success!!!\n",
      "Crawl comment page 1 success!!!\n",
      "Crawl comment for product 278011206\n"
     ]
    },
    {
     "name": "stderr",
     "output_type": "stream",
     "text": [
      " 98%|████████████████████████████████████████████████████████████████████████████▋ | 1967/2000 [42:24<00:09,  3.33it/s]"
     ]
    },
    {
     "name": "stdout",
     "output_type": "stream",
     "text": [
      "Crawl comment page 0 success!!!\n",
      "Crawl comment page 1 success!!!\n",
      "Crawl comment for product 278003909\n",
      "Crawl comment page 0 success!!!\n",
      "Crawl comment page 1 success!!!\n",
      "Crawl comment for product 277943057\n"
     ]
    },
    {
     "name": "stderr",
     "output_type": "stream",
     "text": [
      " 98%|████████████████████████████████████████████████████████████████████████████▊ | 1969/2000 [42:24<00:06,  4.91it/s]"
     ]
    },
    {
     "name": "stdout",
     "output_type": "stream",
     "text": [
      "Crawl comment page 0 success!!!\n",
      "Crawl comment page 1 success!!!\n",
      "Crawl comment for product 277742025\n",
      "Crawl comment page 0 success!!!\n",
      "Crawl comment page 1 success!!!\n",
      "Crawl comment for product 277685200\n"
     ]
    },
    {
     "name": "stderr",
     "output_type": "stream",
     "text": [
      " 98%|████████████████████████████████████████████████████████████████████████████▊ | 1970/2000 [42:25<00:06,  4.66it/s]"
     ]
    },
    {
     "name": "stdout",
     "output_type": "stream",
     "text": [
      "Crawl comment page 0 success!!!\n",
      "Crawl comment page 1 success!!!\n",
      "Crawl comment for product 277438611\n",
      "Crawl comment page 0 success!!!\n"
     ]
    },
    {
     "name": "stderr",
     "output_type": "stream",
     "text": [
      " 99%|████████████████████████████████████████████████████████████████████████████▊ | 1971/2000 [42:27<00:22,  1.32it/s]"
     ]
    },
    {
     "name": "stdout",
     "output_type": "stream",
     "text": [
      "Crawl comment page 1 success!!!\n",
      "Crawl comment for product 277357548\n",
      "Crawl comment page 0 success!!!\n"
     ]
    },
    {
     "name": "stderr",
     "output_type": "stream",
     "text": [
      " 99%|████████████████████████████████████████████████████████████████████████████▉ | 1972/2000 [42:29<00:33,  1.18s/it]"
     ]
    },
    {
     "name": "stdout",
     "output_type": "stream",
     "text": [
      "Crawl comment page 1 success!!!\n",
      "Crawl comment for product 276840998\n"
     ]
    },
    {
     "name": "stderr",
     "output_type": "stream",
     "text": [
      " 99%|████████████████████████████████████████████████████████████████████████████▉ | 1973/2000 [42:29<00:25,  1.07it/s]"
     ]
    },
    {
     "name": "stdout",
     "output_type": "stream",
     "text": [
      "Crawl comment page 0 success!!!\n",
      "Crawl comment page 1 success!!!\n",
      "Crawl comment for product 276077659\n",
      "Crawl comment page 0 success!!!\n"
     ]
    },
    {
     "name": "stderr",
     "output_type": "stream",
     "text": [
      " 99%|████████████████████████████████████████████████████████████████████████████▉ | 1974/2000 [42:30<00:22,  1.15it/s]"
     ]
    },
    {
     "name": "stdout",
     "output_type": "stream",
     "text": [
      "Crawl comment page 1 success!!!\n",
      "Crawl comment for product 275875006\n",
      "Crawl comment page 0 success!!!\n"
     ]
    },
    {
     "name": "stderr",
     "output_type": "stream",
     "text": [
      " 99%|█████████████████████████████████████████████████████████████████████████████ | 1975/2000 [42:31<00:22,  1.13it/s]"
     ]
    },
    {
     "name": "stdout",
     "output_type": "stream",
     "text": [
      "Crawl comment page 1 success!!!\n",
      "Crawl comment for product 275703757\n",
      "Crawl comment page 0 success!!!\n"
     ]
    },
    {
     "name": "stderr",
     "output_type": "stream",
     "text": [
      " 99%|█████████████████████████████████████████████████████████████████████████████ | 1976/2000 [42:33<00:29,  1.22s/it]"
     ]
    },
    {
     "name": "stdout",
     "output_type": "stream",
     "text": [
      "Crawl comment page 1 success!!!\n",
      "Crawl comment for product 275263310\n",
      "Crawl comment page 0 success!!!\n"
     ]
    },
    {
     "name": "stderr",
     "output_type": "stream",
     "text": [
      " 99%|█████████████████████████████████████████████████████████████████████████████ | 1977/2000 [42:33<00:23,  1.01s/it]"
     ]
    },
    {
     "name": "stdout",
     "output_type": "stream",
     "text": [
      "Crawl comment page 1 success!!!\n",
      "Crawl comment for product 274777339\n",
      "Crawl comment page 0 success!!!\n"
     ]
    },
    {
     "name": "stderr",
     "output_type": "stream",
     "text": [
      " 99%|█████████████████████████████████████████████████████████████████████████████▏| 1978/2000 [42:34<00:18,  1.16it/s]"
     ]
    },
    {
     "name": "stdout",
     "output_type": "stream",
     "text": [
      "Crawl comment page 1 success!!!\n",
      "Crawl comment for product 274545766\n",
      "Crawl comment page 0 success!!!\n"
     ]
    },
    {
     "name": "stderr",
     "output_type": "stream",
     "text": [
      " 99%|█████████████████████████████████████████████████████████████████████████████▏| 1979/2000 [42:36<00:23,  1.12s/it]"
     ]
    },
    {
     "name": "stdout",
     "output_type": "stream",
     "text": [
      "Crawl comment page 1 success!!!\n",
      "Crawl comment for product 273476653\n",
      "Crawl comment page 0 success!!!\n"
     ]
    },
    {
     "name": "stderr",
     "output_type": "stream",
     "text": [
      " 99%|█████████████████████████████████████████████████████████████████████████████▏| 1980/2000 [42:38<00:27,  1.38s/it]"
     ]
    },
    {
     "name": "stdout",
     "output_type": "stream",
     "text": [
      "Crawl comment page 1 success!!!\n",
      "Crawl comment for product 273401813\n",
      "Crawl comment page 0 success!!!\n"
     ]
    },
    {
     "name": "stderr",
     "output_type": "stream",
     "text": [
      " 99%|█████████████████████████████████████████████████████████████████████████████▎| 1981/2000 [42:39<00:27,  1.46s/it]"
     ]
    },
    {
     "name": "stdout",
     "output_type": "stream",
     "text": [
      "Crawl comment page 1 success!!!\n",
      "Crawl comment for product 273375302\n",
      "Crawl comment page 0 success!!!\n"
     ]
    },
    {
     "name": "stderr",
     "output_type": "stream",
     "text": [
      " 99%|█████████████████████████████████████████████████████████████████████████████▎| 1982/2000 [42:41<00:25,  1.44s/it]"
     ]
    },
    {
     "name": "stdout",
     "output_type": "stream",
     "text": [
      "Crawl comment page 1 success!!!\n",
      "Crawl comment for product 272471109\n",
      "Crawl comment page 0 success!!!\n"
     ]
    },
    {
     "name": "stderr",
     "output_type": "stream",
     "text": [
      " 99%|█████████████████████████████████████████████████████████████████████████████▎| 1983/2000 [42:44<00:32,  1.92s/it]"
     ]
    },
    {
     "name": "stdout",
     "output_type": "stream",
     "text": [
      "Crawl comment page 1 success!!!\n",
      "Crawl comment for product 269992031\n",
      "Crawl comment page 0 success!!!\n"
     ]
    },
    {
     "name": "stderr",
     "output_type": "stream",
     "text": [
      " 99%|█████████████████████████████████████████████████████████████████████████████▍| 1984/2000 [42:46<00:34,  2.14s/it]"
     ]
    },
    {
     "name": "stdout",
     "output_type": "stream",
     "text": [
      "Crawl comment page 1 success!!!\n",
      "Crawl comment for product 263402406\n",
      "Crawl comment page 0 success!!!\n"
     ]
    },
    {
     "name": "stderr",
     "output_type": "stream",
     "text": [
      " 99%|█████████████████████████████████████████████████████████████████████████████▍| 1985/2000 [42:47<00:25,  1.71s/it]"
     ]
    },
    {
     "name": "stdout",
     "output_type": "stream",
     "text": [
      "Crawl comment page 1 success!!!\n",
      "Crawl comment for product 247858749\n",
      "Crawl comment page 0 success!!!\n"
     ]
    },
    {
     "name": "stderr",
     "output_type": "stream",
     "text": [
      " 99%|█████████████████████████████████████████████████████████████████████████████▍| 1986/2000 [42:49<00:25,  1.84s/it]"
     ]
    },
    {
     "name": "stdout",
     "output_type": "stream",
     "text": [
      "Crawl comment page 1 success!!!\n",
      "Crawl comment for product 245769554\n",
      "Crawl comment page 0 success!!!\n"
     ]
    },
    {
     "name": "stderr",
     "output_type": "stream",
     "text": [
      " 99%|█████████████████████████████████████████████████████████████████████████████▍| 1987/2000 [42:52<00:29,  2.24s/it]"
     ]
    },
    {
     "name": "stdout",
     "output_type": "stream",
     "text": [
      "Crawl comment page 1 success!!!\n",
      "Crawl comment for product 241899722\n",
      "Crawl comment page 0 success!!!\n"
     ]
    },
    {
     "name": "stderr",
     "output_type": "stream",
     "text": [
      " 99%|█████████████████████████████████████████████████████████████████████████████▌| 1988/2000 [42:54<00:24,  2.06s/it]"
     ]
    },
    {
     "name": "stdout",
     "output_type": "stream",
     "text": [
      "Crawl comment page 1 success!!!\n",
      "Crawl comment for product 212992705\n",
      "Crawl comment page 0 success!!!\n"
     ]
    },
    {
     "name": "stderr",
     "output_type": "stream",
     "text": [
      "100%|█████████████████████████████████████████████████████████████████████████████▌| 1990/2000 [42:56<00:14,  1.47s/it]"
     ]
    },
    {
     "name": "stdout",
     "output_type": "stream",
     "text": [
      "Crawl comment page 1 success!!!\n",
      "Crawl comment for product 197380634\n",
      "Crawl comment page 0 success!!!\n",
      "Crawl comment page 1 success!!!\n",
      "Crawl comment for product 171556602\n",
      "Crawl comment page 0 success!!!\n"
     ]
    },
    {
     "name": "stderr",
     "output_type": "stream",
     "text": [
      "100%|█████████████████████████████████████████████████████████████████████████████▋| 1991/2000 [42:59<00:15,  1.76s/it]"
     ]
    },
    {
     "name": "stdout",
     "output_type": "stream",
     "text": [
      "Crawl comment page 1 success!!!\n",
      "Crawl comment for product 69764541\n",
      "Crawl comment page 0 success!!!\n"
     ]
    },
    {
     "name": "stderr",
     "output_type": "stream",
     "text": [
      "100%|█████████████████████████████████████████████████████████████████████████████▋| 1992/2000 [43:01<00:15,  1.95s/it]"
     ]
    },
    {
     "name": "stdout",
     "output_type": "stream",
     "text": [
      "Crawl comment page 1 success!!!\n",
      "Crawl comment for product 51923651\n",
      "Crawl comment page 0 success!!!\n"
     ]
    },
    {
     "name": "stderr",
     "output_type": "stream",
     "text": [
      "100%|█████████████████████████████████████████████████████████████████████████████▋| 1993/2000 [43:02<00:12,  1.75s/it]"
     ]
    },
    {
     "name": "stdout",
     "output_type": "stream",
     "text": [
      "Crawl comment page 1 success!!!\n",
      "Crawl comment for product 51244265\n",
      "Crawl comment page 0 success!!!\n"
     ]
    },
    {
     "name": "stderr",
     "output_type": "stream",
     "text": [
      "100%|█████████████████████████████████████████████████████████████████████████████▊| 1994/2000 [43:04<00:10,  1.78s/it]"
     ]
    },
    {
     "name": "stdout",
     "output_type": "stream",
     "text": [
      "Crawl comment page 1 success!!!\n",
      "Crawl comment for product 46332551\n",
      "Crawl comment page 0 success!!!\n"
     ]
    },
    {
     "name": "stderr",
     "output_type": "stream",
     "text": [
      "100%|█████████████████████████████████████████████████████████████████████████████▊| 1995/2000 [43:05<00:08,  1.65s/it]"
     ]
    },
    {
     "name": "stdout",
     "output_type": "stream",
     "text": [
      "Crawl comment page 1 success!!!\n",
      "Crawl comment for product 44976191\n",
      "Crawl comment page 0 success!!!\n"
     ]
    },
    {
     "name": "stderr",
     "output_type": "stream",
     "text": [
      "100%|█████████████████████████████████████████████████████████████████████████████▊| 1996/2000 [43:08<00:07,  1.84s/it]"
     ]
    },
    {
     "name": "stdout",
     "output_type": "stream",
     "text": [
      "Crawl comment page 1 success!!!\n",
      "Crawl comment for product 16564402\n",
      "Crawl comment page 0 success!!!\n"
     ]
    },
    {
     "name": "stderr",
     "output_type": "stream",
     "text": [
      "100%|█████████████████████████████████████████████████████████████████████████████▉| 1997/2000 [43:09<00:04,  1.56s/it]"
     ]
    },
    {
     "name": "stdout",
     "output_type": "stream",
     "text": [
      "Crawl comment page 1 success!!!\n",
      "Crawl comment for product 7435679\n",
      "Crawl comment page 0 success!!!\n"
     ]
    },
    {
     "name": "stderr",
     "output_type": "stream",
     "text": [
      "100%|█████████████████████████████████████████████████████████████████████████████▉| 1998/2000 [43:09<00:02,  1.18s/it]"
     ]
    },
    {
     "name": "stdout",
     "output_type": "stream",
     "text": [
      "Crawl comment page 1 success!!!\n",
      "Crawl comment for product 2987219\n",
      "Crawl comment page 0 success!!!\n"
     ]
    },
    {
     "name": "stderr",
     "output_type": "stream",
     "text": [
      "100%|█████████████████████████████████████████████████████████████████████████████▉| 1999/2000 [43:11<00:01,  1.48s/it]"
     ]
    },
    {
     "name": "stdout",
     "output_type": "stream",
     "text": [
      "Crawl comment page 1 success!!!\n",
      "Crawl comment for product 2732719\n",
      "Crawl comment page 0 success!!!\n"
     ]
    },
    {
     "name": "stderr",
     "output_type": "stream",
     "text": [
      "100%|██████████████████████████████████████████████████████████████████████████████| 2000/2000 [43:13<00:00,  1.30s/it]"
     ]
    },
    {
     "name": "stdout",
     "output_type": "stream",
     "text": [
      "Crawl comment page 1 success!!!\n"
     ]
    },
    {
     "name": "stderr",
     "output_type": "stream",
     "text": [
      "\n"
     ]
    }
   ],
   "source": [
    "import requests\n",
    "import pandas as pd\n",
    "import time\n",
    "import random\n",
    "from tqdm import tqdm\n",
    "\n",
    "cookies = {\n",
    "    \"TOKENS\": '{\"access_token\":\"Yf1SuH2k97AyxZwv3j6XoPbqTlEOe5Va\"}',\n",
    "    \"_trackity\": \"b0ef16a8-5c2b-913c-d726-f7a2d27877de\",\n",
    "    \"delivery_zone\": \"Vk4wMzkwMDYwMDE=\",\n",
    "    \"_ga\": \"GA1.1.308782401.1751617699\",\n",
    "    \"_gcl_au\": \"1.1.1629245045.1751617703\",\n",
    "    \"_tt_enable_cookie\": \"1\",\n",
    "    \"_ttp\": \"01JZA8T3SXNPDK7Y5TX5G7AA32_.tt.1\",\n",
    "    \"_fbp\": \"fb.1.1751617704185.463071932767523372\",\n",
    "    \"tiki_client_id\": \"308782401.1751617699\",\n",
    "    \"ttcsid\": \"1751622499113::wjsqYRQ6mcpGeeOxtvzW.2.1751624431007\",\n",
    "    \"ttcsid_D031T03C77UFNM54TPR0\": \"1751617703745::atQypbGT-M6sMvx6dGRe.1.1751624431297\",\n",
    "    \"amp_99d374\": \"gDO5xYHC-gUenVuCuToOdr...1iva8ptnq.1ivaf7ece.a5.aq.kv\",\n",
    "    \"_ga_S9GLR1RQFJ\": \"GS2.1.s1751622499$o2$g1$t1751624450$j41$l0$h0\"\n",
    "}\n",
    "\n",
    "headers = {\n",
    "    \"User-Agent\": \"Mozilla/5.0 (Windows NT 10.0; Win64; x64) AppleWebKit/537.36 (KHTML, like Gecko) Chrome/137.0.0.0 Safari/537.36\",\n",
    "    \"x-guest-token\": \"Yf1SuH2k97AyxZwv3j6XoPbqTlEOe5Va\",\n",
    "    \"Referer\": \"https://tiki.vn/ba-dua-tre-va-nguoi-thu-thu-tot-bung-p277997247.html?spid=277997248\",\n",
    "    \"Accept\": \"application/json, text/plain, */*\",\n",
    "    \"Accept-Language\": \"en,vi;q=0.9,zh-CN;q=0.8,zh;q=0.7\",\n",
    "    \"Connection\": \"keep-alive\"\n",
    "}\n",
    "\n",
    "params = {\n",
    "    'product_id': '74021317',\n",
    "    'sort': 'score|desc,id|desc,stars|all',\n",
    "    'page': '1',\n",
    "    'limit': '10',\n",
    "    'include': 'comments'\n",
    "}\n",
    "\n",
    "def comment_parser(json):\n",
    "    d = dict()\n",
    "    d['id'] = json.get(id)\n",
    "    d['comment_id'] = json.get('comment_id')\n",
    "    d['title'] = json.get('title')\n",
    "    d['thank_count'] = json.get('thank_count')\n",
    "    d['customer_id']  = json.get('customer_id')\n",
    "    d['rating'] = json.get('rating')\n",
    "    d['content'] = json.get('content')\n",
    "    return d\n",
    "\n",
    "\n",
    "df_id = pd.read_csv('product_id.csv')\n",
    "p_ids = df_id.id.to_list()\n",
    "result = []\n",
    "for pid in tqdm(p_ids, total=len(p_ids)):\n",
    "    params['product_id'] = pid\n",
    "    print('Crawl comment for product {}'.format(pid))\n",
    "    for i in range(2):\n",
    "        params['page'] = i\n",
    "        response = session.get('https://tiki.vn/api/v2/reviews', headers=headers, params=params, cookies=cookies)\n",
    "        if response.status_code == 200:\n",
    "            print('Crawl comment page {} success!!!'.format(i))\n",
    "            for comment in response.json().get('data'):\n",
    "                result.append(comment_parser(comment))\n",
    "df_comment = pd.DataFrame(result)\n",
    "df_comment.to_csv('comments.csv', index=False)"
   ]
  },
  {
   "cell_type": "code",
   "execution_count": 9,
   "id": "fa57638b-998b-481e-95aa-fdc18e2bd5f0",
   "metadata": {},
   "outputs": [
    {
     "name": "stdout",
     "output_type": "stream",
     "text": [
      "OpenSSL 3.0.16 11 Feb 2025\n",
      "2.32.4\n"
     ]
    }
   ],
   "source": [
    "import ssl, requests\n",
    "print(ssl.OPENSSL_VERSION)    # nên thấy version ≥ 1.0.1\n",
    "print(requests.__version__)   # nên thấy requests ≥ 2.20"
   ]
  },
  {
   "cell_type": "code",
   "execution_count": 11,
   "id": "d494a579-55c0-454d-a60b-ef280665cc7f",
   "metadata": {},
   "outputs": [
    {
     "name": "stderr",
     "output_type": "stream",
     "text": [
      "C:\\Users\\PC\\AppData\\Local\\Temp\\ipykernel_27816\\3853864514.py:11: DeprecationWarning: ssl.OP_NO_SSL*/ssl.OP_NO_TLS* options are deprecated\n",
      "  ctx.options |= ssl.OP_NO_TLSv1 | ssl.OP_NO_TLSv1_1\n"
     ]
    }
   ],
   "source": [
    "import ssl\n",
    "import requests\n",
    "from urllib3.poolmanager import PoolManager\n",
    "from requests.adapters import HTTPAdapter\n",
    "\n",
    "class TLSv1_2HttpAdapter(HTTPAdapter):\n",
    "    \"\"\"Adapter ép urllib3 chỉ dùng TLSv1.2 trở lên.\"\"\"\n",
    "    def init_poolmanager(self, connections, maxsize, block=False, **pool_kwargs):\n",
    "        ctx = ssl.create_default_context()\n",
    "        # Khóa TLSv1.0 và TLSv1.1\n",
    "        ctx.options |= ssl.OP_NO_TLSv1 | ssl.OP_NO_TLSv1_1\n",
    "        self.poolmanager = PoolManager(\n",
    "            num_pools=connections,\n",
    "            maxsize=maxsize,\n",
    "            block=block,\n",
    "            ssl_context=ctx,\n",
    "            **pool_kwargs\n",
    "        )\n",
    "\n",
    "# Tạo session và mount adapter\n",
    "session = requests.Session()\n",
    "session.mount(\"https://\", TLSv1_2HttpAdapter())\n",
    "\n",
    "# Ví dụ gọi API với session thay vì requests.get\n",
    "url = \"https://tiki.vn/api/v2/reviews\"\n",
    "resp = session.get(url, headers=headers, params=params, cookies=cookies, timeout=10)\n",
    "resp.raise_for_status()\n",
    "data = resp.json()"
   ]
  },
  {
   "cell_type": "code",
   "execution_count": null,
   "id": "a6632303-b884-40f5-9340-5557474ec49e",
   "metadata": {},
   "outputs": [],
   "source": []
  }
 ],
 "metadata": {
  "kernelspec": {
   "display_name": "Python [conda env:base] *",
   "language": "python",
   "name": "conda-base-py"
  },
  "language_info": {
   "codemirror_mode": {
    "name": "ipython",
    "version": 3
   },
   "file_extension": ".py",
   "mimetype": "text/x-python",
   "name": "python",
   "nbconvert_exporter": "python",
   "pygments_lexer": "ipython3",
   "version": "3.12.7"
  }
 },
 "nbformat": 4,
 "nbformat_minor": 5
}
